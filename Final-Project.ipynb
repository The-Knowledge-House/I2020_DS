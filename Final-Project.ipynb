{
 "cells": [
  {
   "cell_type": "markdown",
   "metadata": {},
   "source": [
    "<div style=\"background: #000;\n",
    "            color: #FFF;\n",
    "            margin: 0px 0px 10px 0px;\n",
    "            padding: 50px 0px 20px 0px;\n",
    "\">\n",
    "    <h1 style=\"font-weight: bold;\"><center>Final Project Deliverable</center></h1>\n",
    "    <p><center></center></p>\n",
    "</div>\n",
    "\n",
    "\n",
    "__For your final project, you will need to:__\n",
    "1. Scrape data of significance, clean it up to extract the specific data you need.\n",
    "2. Automate the process of storing it in your database. \n",
    "3. Create a flask application that will make our database accessible from the web and deploy it.\n",
    "\n",
    "__Parts 1 and 2 should already be completed__ (see week-10-project and week-12-project).\n",
    "\n",
    "__Part 3 is as described below:__\n",
    "\n",
    "To complete your final project, we need to finish setting up our flask web application and deploy it to a SAAS provider as opposed to setting up our own linux server and doing the devops ourselves. \n",
    "\n",
    "Your flask application will needs to: \n",
    "* contain proper configs (`SECRET_KEY` and `SQLALCHEMY_DATABASE_URI`).\n",
    "* contain a database model that both your scraping script and the flask application uses.\n",
    "* contain at least two routes (one providing an HTML response and the other a JSON response).\n",
    "* your HTML response should be rendering a jinja template.\n",
    "\n",
    "You should also try to do the following:\n",
    "* customize your flask HTML views to display your data and to provide links to your API (JSON views).\n",
    "* demonstrate your understanding of the concepts we've discussed by integrating any of the things we covered.\n",
    "* make your project portfolio worthy by cleaning up your code and making the views something you'd want to show a possible employer.\n",
    "\n",
    "Once your flask application (and scraping script) runs without issue on your local machine, deploy your application to either Heroku or PythonAnywhere using the instructions from the lab section of our week 13 classes. As always, feel free to reach out to teaching staff via slack if help is needed.\n",
    "\n",
    "When completed, submit the following:\n",
    "* a link to your github repo\n",
    "* a link to your live web application\n",
    "\n",
    "Use this as an example of what your project should look like: https://github.com/Mholliday6611/Anime-Example\n",
    "\n",
    "__Grading rubric:__\n",
    "* Setting up a script that scrapes a significant amount of data (please slack for clarification of this if needed). __[40%]__\n",
    "* Setting up a flask application that runs without error meeting the above requirements. __[40%]__\n",
    "* Deploying your web application to Heroku or PythonAnywhere that shows the data you scraped. __[20%]__\n"
   ]
  },
  {
   "cell_type": "code",
   "execution_count": null,
   "metadata": {},
   "outputs": [],
   "source": []
  }
 ],
 "metadata": {
  "kernelspec": {
   "display_name": "Python 3",
   "language": "python",
   "name": "python3"
  },
  "language_info": {
   "codemirror_mode": {
    "name": "ipython",
    "version": 3
   },
   "file_extension": ".py",
   "mimetype": "text/x-python",
   "name": "python",
   "nbconvert_exporter": "python",
   "pygments_lexer": "ipython3",
   "version": "3.9.0"
  }
 },
 "nbformat": 4,
 "nbformat_minor": 4
}
