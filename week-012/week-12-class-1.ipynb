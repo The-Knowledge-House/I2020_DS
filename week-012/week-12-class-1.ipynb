{
 "cells": [
  {
   "cell_type": "markdown",
   "metadata": {},
   "source": [
    "<div style=\"background: #000;\n",
    "            color: #FFF;\n",
    "            margin: 0px;\n",
    "                padding: 10px 0px 20px 0px;\n",
    "            text-align: center; \n",
    "                \">\n",
    "    <h1>Week 12 - Class 1 - 11/30</h1>\n",
    "</div>\n",
    "\n",
    "## Objectives for this week:"
   ]
  },
  {
   "cell_type": "markdown",
   "metadata": {},
   "source": [
    "* Integrating models in views\n",
    "* Connecting our database to our API\n",
    "* Deploying our web applications"
   ]
  },
  {
   "cell_type": "markdown",
   "metadata": {},
   "source": [
    "Today's objective:\n",
    "* Integrating models in views\n",
    "* Connecting our database to our API"
   ]
  },
  {
   "cell_type": "markdown",
   "metadata": {},
   "source": [
    "<div style=\"background: #000;\n",
    "            color: #FFF;\n",
    "            margin: 0px;\n",
    "                padding: 10px 0px 20px 0px;\n",
    "            text-align: center; \n",
    "                \">\n",
    "    <h1>Week 11 Homework</h1>\n",
    "</div>"
   ]
  },
  {
   "cell_type": "markdown",
   "metadata": {},
   "source": [
    "# Exercise 1\n",
    "\n",
    "Please complete the follow:"
   ]
  },
  {
   "cell_type": "markdown",
   "metadata": {},
   "source": [
    "# a.\n",
    "\n",
    "Edit the following cell so only unique numbers are stored in variable `s`"
   ]
  },
  {
   "cell_type": "code",
   "execution_count": null,
   "metadata": {},
   "outputs": [],
   "source": [
    "s = [9,4,5,6,3,4,7,8,10,22,5,6,9,23]\n",
    "\n",
    "s = None \n",
    "\n",
    "assert(s == [3, 4, 5, 6, 7, 8, 9, 10, 22, 23])"
   ]
  },
  {
   "cell_type": "markdown",
   "metadata": {},
   "source": [
    "# b.\n",
    "\n",
    "Convert the following two lists into a dictionary where the keys are the letters and the values are the corresponding numbers. Assign the dictionary to variable `d`"
   ]
  },
  {
   "cell_type": "code",
   "execution_count": null,
   "metadata": {},
   "outputs": [],
   "source": [
    "import string\n",
    "\n",
    "s = [i for i in string.ascii_letters]\n",
    "j = [i for i in range(1,27)]\n",
    "\n",
    "d = None # replace the \"None\"\n",
    "\n",
    "assert( d == {'a': 1,'b': 2,'c': 3,'d': 4,'e': 5,'f': 6,\n",
    "        'g': 7,'h': 8,'i': 9,'j': 10,'k': 11,'l': 12,\n",
    "        'm': 13,'n': 14,'o': 15,'p': 16,'q': 17,'r': 18,\n",
    "        's': 19,'t': 20,'u': 21,'v': 22,'w': 23,'x': 24,\n",
    "        'y': 25,'z': 26})"
   ]
  },
  {
   "cell_type": "markdown",
   "metadata": {},
   "source": [
    "# c.\n",
    "\n",
    "Switch the values of the following two variables."
   ]
  },
  {
   "cell_type": "code",
   "execution_count": null,
   "metadata": {},
   "outputs": [],
   "source": [
    "s,t = 0, 1\n",
    "# insert solution below this comment\n",
    "t,s = s,t\n",
    "\n",
    "assert(s==1)\n",
    "assert(t==0)"
   ]
  },
  {
   "cell_type": "markdown",
   "metadata": {},
   "source": [
    "# Practice problems for our assessment:\n"
   ]
  },
  {
   "cell_type": "markdown",
   "metadata": {},
   "source": [
    "# Exercise 1\n",
    "\n",
    "Given the array nums, for each nums[i] find out how many numbers in the array are smaller than it. That is, for each nums[i] you have to count the number of valid j's such that j != i and nums[j] < nums[i].\n",
    "\n",
    "Return the answer in an array.\n",
    "\n",
    "Example 1:\n",
    "```\n",
    "Input: nums = [8,1,2,2,3]\n",
    "Output: [4,0,1,1,3]\n",
    "Explanation: \n",
    "For nums[0]=8 there exist four smaller numbers than it (1, 2, 2 and 3). \n",
    "For nums[1]=1 does not exist any smaller number than it.\n",
    "For nums[2]=2 there exist one smaller number than it (1). \n",
    "For nums[3]=2 there exist one smaller number than it (1). \n",
    "For nums[4]=3 there exist three smaller numbers than it (1, 2 and 2).\n",
    "```\n",
    "Example 2:\n",
    "```\n",
    "Input: nums = [6,5,4,8]\n",
    "Output: [2,1,0,3]\n",
    "```\n",
    "Example 3:\n",
    "```\n",
    "Input: nums = [7,7,7,7]\n",
    "Output: [0,0,0,0]\n",
    "```\n"
   ]
  },
  {
   "cell_type": "code",
   "execution_count": 4,
   "metadata": {},
   "outputs": [],
   "source": [
    "def func(num):\n",
    "    return num"
   ]
  },
  {
   "cell_type": "code",
   "execution_count": 4,
   "metadata": {},
   "outputs": [
    {
     "name": "stdout",
     "output_type": "stream",
     "text": [
      "solution is incorrect\n"
     ]
    }
   ],
   "source": [
    "try:\n",
    "    assert(func([8,1,2,2,3]) == [4,0,1,1,3])\n",
    "    assert(func([6,5,4,8]) == [2,1,0,3])\n",
    "    assert(func([7,7,7,7]) == [0,0,0,0])\n",
    "    print(\"solution is correct\")\n",
    "except:\n",
    "    print(\"solution is incorrect\")"
   ]
  },
  {
   "cell_type": "markdown",
   "metadata": {},
   "source": [
    "# Algorithms and Data Structures:\n",
    "\n",
    "### Linked Lists\n",
    "\n",
    "A linked list is a linear collection of data elements whose order is not given by their physical placement in memory. Instead, each element points to the next. It is a data structure consisting of nodes which together represent a sequence. In it's most basic form, each node contains: data and a reference (in other words, a link).\n",
    "\n"
   ]
  },
  {
   "cell_type": "code",
   "execution_count": null,
   "metadata": {},
   "outputs": [],
   "source": [
    "%load_ext tutormagic"
   ]
  },
  {
   "cell_type": "code",
   "execution_count": null,
   "metadata": {},
   "outputs": [],
   "source": [
    "%%tutor --lang python3 -k\n",
    "\n",
    "class Node:\n",
    "    def __init__(self, data=None):\n",
    "        self.data = data\n",
    "        self.next = None\n",
    "        \n",
    "class LinkedList:\n",
    "    def __init__(self):\n",
    "        self.tail = None\n",
    "        self.head = None\n",
    "        self.count = 0\n",
    "        \n",
    "    def iterate_items(self):\n",
    "        current_item = self.head\n",
    "        while current_item:\n",
    "            val = current_item.data\n",
    "            current_item = current_item.next\n",
    "            yield val\n",
    "            \n",
    "    def append(self, data=None):\n",
    "        node = Node(data)\n",
    "        if self.tail:\n",
    "            self.tail.next = node\n",
    "            self.tail = node\n",
    "        else:\n",
    "            self.tail = node\n",
    "            self.head = node\n",
    "        self.count += 1\n",
    "        \n",
    "items = LinkedList()\n",
    "items.append('HTML')\n",
    "items.append('CSS')\n",
    "items.append('Javascript')\n",
    "items.append('Python')\n",
    "items.count\n",
    "items"
   ]
  },
  {
   "cell_type": "code",
   "execution_count": null,
   "metadata": {},
   "outputs": [],
   "source": [
    "for val in items.iterate_items():\n",
    "    print(val)\n",
    "        "
   ]
  },
  {
   "cell_type": "code",
   "execution_count": null,
   "metadata": {},
   "outputs": [],
   "source": [
    "s = items.iterate_items()"
   ]
  },
  {
   "cell_type": "code",
   "execution_count": null,
   "metadata": {},
   "outputs": [],
   "source": [
    "next(s)"
   ]
  },
  {
   "cell_type": "code",
   "execution_count": null,
   "metadata": {},
   "outputs": [],
   "source": [
    "list(items.iterate_items())"
   ]
  },
  {
   "cell_type": "markdown",
   "metadata": {},
   "source": [
    "### Queues\n",
    "\n"
   ]
  },
  {
   "cell_type": "code",
   "execution_count": 27,
   "metadata": {},
   "outputs": [
    {
     "name": "stdout",
     "output_type": "stream",
     "text": [
      "listing all:\n",
      "['Person1', 'Person2', 'Person3', 'Person4']\n",
      "popping first:\n",
      "<node - Person1>\n",
      "listing remaining:\n",
      "['Person2', 'Person3', 'Person4']\n"
     ]
    },
    {
     "data": {
      "text/plain": [
       "<node - Person2>"
      ]
     },
     "execution_count": 27,
     "metadata": {},
     "output_type": "execute_result"
    }
   ],
   "source": [
    "class Node:\n",
    "    def __init__(self, data=None):\n",
    "        self.data = data\n",
    "        self.next = None\n",
    "        self.previous = None\n",
    "    \n",
    "    def __repr__(self):\n",
    "        return f\"<node - {self.data}>\"\n",
    "        \n",
    "class Queue:\n",
    "    def __init__(self):\n",
    "        self.tail = None\n",
    "        self.head = None\n",
    "        self.count = 0\n",
    "        \n",
    "    def iterate_items(self):\n",
    "        current_item = self.head\n",
    "        while current_item:\n",
    "            val = current_item.data\n",
    "            current_item = current_item.next\n",
    "            yield val\n",
    "            \n",
    "    def append(self, data=None):\n",
    "        node = Node(data)\n",
    "        if self.tail:\n",
    "            tail = self.tail\n",
    "            tail.next = node\n",
    "            self.tail = node\n",
    "            self.tail.previous = tail\n",
    "        else:\n",
    "            self.tail = node\n",
    "            self.head = node\n",
    "        self.count += 1\n",
    "        \n",
    "    def pop(self):\n",
    "        if self.head:\n",
    "            old_head = self.head\n",
    "            new_head = self.head.next\n",
    "            old_head.next = None\n",
    "            new_head.previous = None\n",
    "            self.head = new_head\n",
    "        return old_head\n",
    "        \n",
    "line = Queue()\n",
    "line.append('Person1')\n",
    "line.append('Person2')\n",
    "line.append('Person3')\n",
    "line.append('Person4')\n",
    "line.count\n",
    "print(\"listing all:\")\n",
    "print(list(line.iterate_items()))\n",
    "print(\"popping first:\")\n",
    "print(line.pop())\n",
    "print(\"listing remaining:\")\n",
    "print(list(line.iterate_items()))\n",
    "line.head"
   ]
  },
  {
   "cell_type": "markdown",
   "metadata": {},
   "source": [
    "# Protecting our views through authentication"
   ]
  },
  {
   "cell_type": "markdown",
   "metadata": {},
   "source": [
    "### Using flask-login\n",
    "\n",
    "Flask-Login provides user session management for Flask. It handles the common tasks of logging in, logging out, and remembering your users’ sessions over extended periods of time.\n",
    "\n",
    "It will:\n",
    "* Store the active user’s ID in the session, and let you log them in and out easily.\n",
    "* Let you restrict views to logged-in (or logged-out) users.\n",
    "* Handle the normally-tricky “remember me” functionality.\n",
    "* Help protect your users’ sessions from being stolen by cookie thieves.\n",
    "* Possibly integrate with Flask-Principal or other authorization extensions later on.\n",
    "\n",
    "However, it does not:\n",
    "* Impose a particular database or other storage method on you. You are entirely in charge of how the user is loaded.\n",
    "* Restrict you to using usernames and passwords, OpenIDs, or any other method of authenticating.\n",
    "* Handle permissions beyond “logged in or not.”\n",
    "* Handle user registration or account recovery.\n",
    "\n",
    "\n",
    "Docs: https://flask-login.readthedocs.io/en/latest/"
   ]
  },
  {
   "cell_type": "markdown",
   "metadata": {},
   "source": [
    "We start with our typical flask application:\n",
    "    \n",
    "Inside `app.py`:"
   ]
  },
  {
   "cell_type": "code",
   "execution_count": null,
   "metadata": {},
   "outputs": [],
   "source": [
    "#!/usr/bin/env python\n",
    "# encoding: utf-8\n",
    "\n",
    "import json\n",
    "\n",
    "from flask import Flask, request, jsonify\n",
    "from flask_login import (current_user, LoginManager,\n",
    "                             login_user, logout_user,\n",
    "                             login_required)\n",
    "from flask_sqlalchemy import SQLAlchemy\n",
    "\n",
    "\n",
    "app = Flask(__name__)\n",
    "app.config['SQLALCHEMY_DATABASE_URI'] = 'sqlite:///your-db-name.db'\n",
    "app.secret_key = 'some key'\n",
    "\n",
    "db = SQLAlchemy(app)\n",
    "\n",
    "login_manager = LoginManager(app)\n",
    "login_manager.login_view = 'login'\n",
    "\n",
    "class User(db.Model):\n",
    "    id = db.Column(db.Integer, primary_key=True)\n",
    "    username = db.Column(db.String(255), nullable=False)\n",
    "    password = db.Column(db.String(255), nullable=False)\n",
    "\n",
    "    def to_json(self):\n",
    "        return {\"username\": self.username, \"password\": self.password}\n",
    "    \n",
    "    def is_authenticated(self):\n",
    "        return True\n",
    "    \n",
    "    def is_active(self):\n",
    "        return True\n",
    "    \n",
    "    def is_anonymous(self):\n",
    "        return False\n",
    "    \n",
    "    def get_id(self):\n",
    "        return str(self.id)\n",
    "\n",
    "@login_manager.user_loader\n",
    "def load_user(user_id):\n",
    "    return User.objects(id=user_id).first()\n",
    "\n",
    "@app.route('/login', methods=['POST'])\n",
    "def login():\n",
    "    info = json.loads(request.data)\n",
    "    username = info.get('username', 'guest')\n",
    "    password = info.get('password', '')\n",
    "    user = User.objects(name=username,\n",
    "                        password=password).first()\n",
    "    if user:\n",
    "        login_user(user)\n",
    "        return jsonify(user.to_json())\n",
    "    else:\n",
    "        return jsonify({\"status\": 401,\n",
    "                        \"reason\": \"Username or Password Error\"})\n",
    "\n",
    "@app.route('/logout', methods=['POST'])\n",
    "def logout():\n",
    "    logout_user()\n",
    "    return jsonify(**{'result': 200,\n",
    "                      'data': {'message': 'logout success'}})\n",
    "\n",
    "@app.route('/user_info', methods=['POST'])\n",
    "def user_info():\n",
    "    if current_user.is_authenticated:\n",
    "        resp = {\"result\": 200,\n",
    "                \"data\": current_user.to_json()}\n",
    "    else:\n",
    "        resp = {\"result\": 401,\n",
    "                \"data\": {\"message\": \"user no login\"}}\n",
    "    return jsonify(**resp)\n",
    "\n",
    "@app.route('/', methods=['GET'])\n",
    "def query_records():\n",
    "    name = request.args.get('name')\n",
    "    user = User.objects(name=name).first()\n",
    "    if not user:\n",
    "        return jsonify({'error': 'data not found'})\n",
    "    else:\n",
    "        return jsonify(user.to_json())\n",
    "\n",
    "@app.route('/', methods=['PUT'])\n",
    "@login_required\n",
    "def create_record():\n",
    "    record = json.loads(request.data)\n",
    "    user = User(name=record['name'],\n",
    "                password=record['password'],\n",
    "                email=record['email'])\n",
    "    user.save()\n",
    "    return jsonify(user.to_json())\n",
    "\n",
    "@app.route('/', methods=['POST'])\n",
    "@login_required\n",
    "def update_record():\n",
    "    record = json.loads(request.data)\n",
    "    user = User.objects(name=record['name']).first()\n",
    "    if not user:\n",
    "        return jsonify({'error': 'data not found'})\n",
    "    else:\n",
    "        user.update(email=record['email'],\n",
    "                    password=record['password'])\n",
    "    return jsonify(user.to_json())\n",
    "\n",
    "@app.route('/', methods=['DELETE'])\n",
    "@login_required\n",
    "def delte_record():\n",
    "    record = json.loads(request.data)\n",
    "    user = User.objects(name=record['name']).first()\n",
    "    if not user:\n",
    "        return jsonify({'error': 'data not found'})\n",
    "    else:\n",
    "        user.delete()\n",
    "    return jsonify(user.to_json())\n",
    "\n",
    "if __name__ == \"__main__\":\n",
    "    db.drop_all()\n",
    "    db.create_all()\n",
    "    app.run(port=8080, debug=True)"
   ]
  },
  {
   "cell_type": "markdown",
   "metadata": {},
   "source": [
    "### Using flask-httpauth\n",
    "\n",
    "flask-httpauth allows you to set HTTP Basic Authentication and Bearer authenticatoin to protect your routes. \n",
    "\n",
    "docs: https://flask-httpauth.readthedocs.io/en/latest/"
   ]
  },
  {
   "cell_type": "markdown",
   "metadata": {},
   "source": [
    "### HTTP Basic Auth\n",
    "\n",
    "Requires a username/password passed with request.\n",
    "\n",
    "http://httpbin.org/basic-auth/sd/sd\n",
    "\n",
    "Example code:"
   ]
  },
  {
   "cell_type": "code",
   "execution_count": null,
   "metadata": {},
   "outputs": [],
   "source": [
    "from flask import Flask\n",
    "from flask_httpauth import HTTPBasicAuth\n",
    "from werkzeug.security import generate_password_hash, check_password_hash\n",
    "\n",
    "app = Flask(__name__)\n",
    "auth = HTTPBasicAuth()\n",
    "\n",
    "users = {\n",
    "    \"john\": generate_password_hash(\"hello\"),\n",
    "    \"susan\": generate_password_hash(\"bye\")\n",
    "}\n",
    "\n",
    "@auth.verify_password\n",
    "def verify_password(username, password):\n",
    "    if username in users and \\\n",
    "            check_password_hash(users.get(username), password):\n",
    "        return username\n",
    "\n",
    "@app.route('/')\n",
    "@auth.login_required\n",
    "def index():\n",
    "    return \"Hello, {}!\".format(auth.current_user())\n",
    "\n",
    "if __name__ == '__main__':\n",
    "    app.run()"
   ]
  },
  {
   "cell_type": "markdown",
   "metadata": {},
   "source": [
    "### Bearer Authentication\n",
    "\n",
    "Bearer Authentication allows anyone bearing an auth token to access protected routes. Useful for API use where you may not want to have the end-user (most commonly a developer) to go through a log in procedure to access a route. Instead they just pass their bearer token with their requests."
   ]
  },
  {
   "cell_type": "code",
   "execution_count": null,
   "metadata": {},
   "outputs": [],
   "source": [
    "from flask import Flask, g\n",
    "from flask_httpauth import HTTPTokenAuth\n",
    "\n",
    "app = Flask(__name__)\n",
    "auth = HTTPTokenAuth(scheme='Bearer')\n",
    "\n",
    "tokens = {\n",
    "    \"secret-token-1\": \"john\",\n",
    "    \"secret-token-2\": \"susan\"\n",
    "}\n",
    "\n",
    "@auth.verify_token\n",
    "def verify_token(token):\n",
    "    if token in tokens:\n",
    "        return tokens[token]\n",
    "\n",
    "@app.route('/')\n",
    "@auth.login_required\n",
    "def index():\n",
    "    return \"Hello, {}!\".format(auth.current_user())\n",
    "\n",
    "if __name__ == '__main__':\n",
    "    app.run()"
   ]
  },
  {
   "cell_type": "markdown",
   "metadata": {},
   "source": [
    "# Week 11 Lab 1\n"
   ]
  },
  {
   "cell_type": "markdown",
   "metadata": {},
   "source": [
    "### Exercise (no submission required)\n",
    "\n",
    "Work on your project. Set up a model (table) in flask-sqlalchemy that will contain your data. Connect it to your `import_script.py` file so that when you run the script, your data is stored in the database."
   ]
  },
  {
   "cell_type": "code",
   "execution_count": null,
   "metadata": {},
   "outputs": [],
   "source": []
  }
 ],
 "metadata": {
  "kernelspec": {
   "display_name": "Python 3",
   "language": "python",
   "name": "python3"
  },
  "language_info": {
   "codemirror_mode": {
    "name": "ipython",
    "version": 3
   },
   "file_extension": ".py",
   "mimetype": "text/x-python",
   "name": "python",
   "nbconvert_exporter": "python",
   "pygments_lexer": "ipython3",
   "version": "3.8.6"
  }
 },
 "nbformat": 4,
 "nbformat_minor": 4
}
