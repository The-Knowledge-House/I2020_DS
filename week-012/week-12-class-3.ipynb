{
 "cells": [
  {
   "cell_type": "markdown",
   "metadata": {},
   "source": [
    "<div style=\"background: #000;\n",
    "            color: #FFF;\n",
    "            margin: 0px;\n",
    "                padding: 10px 0px 20px 0px;\n",
    "            text-align: center; \n",
    "                \">\n",
    "    <h1>Week 12 - Class 3 - 12/02</h1>\n",
    "</div>\n",
    "\n",
    "## Objectives for this week:\n",
    "\n",
    "* Integrating models in views\n",
    "* Connecting our database to our API\n",
    "* Deploying our web applications\n",
    "\n",
    "Today's objective:\n",
    "* Deploying our web applications"
   ]
  },
  {
   "cell_type": "markdown",
   "metadata": {},
   "source": [
    "<div style=\"background: #000;\n",
    "            color: #FFF;\n",
    "            margin: 0px;\n",
    "                padding: 10px 0px 20px 0px;\n",
    "            text-align: center; \n",
    "                \">\n",
    "    <h1>Exercises</h1>\n",
    "</div>"
   ]
  },
  {
   "cell_type": "markdown",
   "metadata": {},
   "source": [
    "### Exercise 1\n",
    "\n",
    "Given a sorted array of distinct integers and a target value, return the index if the target is found. If not, return the index where it would be if it were inserted in order."
   ]
  },
  {
   "cell_type": "markdown",
   "metadata": {
    "jupyter": {
     "source_hidden": true
    }
   },
   "source": [
    "Example 1:\n",
    "```\n",
    "Input: nums = [1,3,5,6], target = 5\n",
    "Output: 2\n",
    "\n",
    "```\n",
    "Example 2:\n",
    "```\n",
    "Input: nums = [1,3,5,6], target = 2\n",
    "Output: 1\n",
    "```\n",
    "Example 3:\n",
    "```\n",
    "Input: nums = [1,3,5,6], target = 7\n",
    "Output: 4\n",
    "```\n",
    "Example 4:\n",
    "```\n",
    "Input: nums = [1,3,5,6], target = 0\n",
    "Output: 0\n",
    "```\n",
    "Example 5:\n",
    "```\n",
    "Input: nums = [1], target = 0\n",
    "Output: 0\n",
    "```"
   ]
  },
  {
   "cell_type": "code",
   "execution_count": 8,
   "metadata": {},
   "outputs": [
    {
     "name": "stdout",
     "output_type": "stream",
     "text": [
      "solution is  incorrect\n"
     ]
    }
   ],
   "source": [
    "def func(nums):\n",
    "    pass\n",
    "\n",
    "try:\n",
    "    assert(func([1,3,5,6], 5) == 5)\n",
    "    assert(func([1,3,5,6], 2) == 2)\n",
    "    assert(func([1,3,5,6], 7) == 7)\n",
    "    assert(func([1,3,5,6], 0) == 0)\n",
    "    assert(func([1], 0) == 0)\n",
    "    print(\"solution is correct\")\n",
    "except:\n",
    "    print(\"solution is  incorrect\")"
   ]
  },
  {
   "cell_type": "markdown",
   "metadata": {},
   "source": [
    "# Exercise 2\n",
    "\n",
    "Determine whether an integer is a palindrome. An integer is a palindrome when it reads the same backward as forward."
   ]
  },
  {
   "cell_type": "markdown",
   "metadata": {
    "jupyter": {
     "source_hidden": true
    }
   },
   "source": [
    "Example 1\n",
    "```\n",
    "Input: x = 121\n",
    "Output: true\n",
    "```\n",
    "Example 2\n",
    "```\n",
    "Input: x = -121\n",
    "Output: false\n",
    "Explanation: From left to right, it reads -121. From right to left, it becomes 121-. Therefore it is not a palindrome.\n",
    "```\n",
    "Example 3\n",
    "```\n",
    "Input: x = 10\n",
    "Output: false\n",
    "Explanation: Reads 01 from right to left. Therefore it is not a palindrome.\n",
    "```\n",
    "Example 4\n",
    "```\n",
    "Input: x = -101\n",
    "Output: false\n",
    "```"
   ]
  },
  {
   "cell_type": "code",
   "execution_count": 9,
   "metadata": {},
   "outputs": [
    {
     "name": "stdout",
     "output_type": "stream",
     "text": [
      "solution is  incorrect\n"
     ]
    }
   ],
   "source": [
    "def func2(x):\n",
    "    pass\n",
    "\n",
    "\n",
    "try:\n",
    "    assert(func(121) == True)\n",
    "    assert(func(-121) == False)\n",
    "    assert(func(10) == False)\n",
    "    assert(func(-101) == False)\n",
    "    print(\"solution is correct\")\n",
    "except:\n",
    "    print(\"solution is  incorrect\")"
   ]
  },
  {
   "cell_type": "code",
   "execution_count": null,
   "metadata": {},
   "outputs": [],
   "source": []
  },
  {
   "cell_type": "markdown",
   "metadata": {},
   "source": [
    "# Preparing our application for deployment.\n",
    "\n"
   ]
  },
  {
   "cell_type": "markdown",
   "metadata": {},
   "source": [
    "1. Create your virtual env and set it up.\n",
    "2. Freeze your dependencies\n",
    "3. Set up .gitignore\n",
    "4. commit to your git repo\n",
    "\n",
    "### Creating your env\n",
    "In your project folder:  \n",
    "1.`python -m venv env`   \n",
    "2.`source env/bin/activate`  \n",
    "3. `pip install` all your dependencies (including `gunicorn`)\n",
    "\n",
    "### Freeze your dependencies\n",
    "\n",
    "`pip freeze > requirements.txt`\n",
    "\n",
    "### Set up .gitignore\n",
    "\n",
    "In your project folder, create a file called `.gitignore`.\n",
    "\n",
    "sample .gitignore:\n",
    "```\n",
    "# General\n",
    ".DS_Store\n",
    "\n",
    "# Environments\n",
    ".env\n",
    ".venv\n",
    "env/\n",
    "venv/\n",
    "ENV/\n",
    "\n",
    "# Python\n",
    "*.pyc\n",
    "\n",
    "# Jupyter Notebook\n",
    ".ipynb_checkpoints\n",
    "```\n",
    "\n",
    "python full example: https://github.com/github/gitignore/blob/master/Python.gitignore\n",
    "\n",
    "full repo of examples https://github.com/github/gitignore\n",
    "\n",
    "### Commit to your git repo\n"
   ]
  },
  {
   "cell_type": "markdown",
   "metadata": {},
   "source": [
    "# Deployment\n",
    "\n",
    "## Deploying to Heroku\n",
    "\n",
    "1. Sign up for heroku and log in.\n",
    "2. Create a `Procfile` and `runtime.txt` and commit them.\n",
    "3. Push to heroku either by using the heroku cli or by adding your github account to heroku and setting the repo through the web interface.\n",
    "\n",
    "### Creating a `Procfile` \n",
    "\n",
    "In order to run our application properly Heroku requires a special file that tells it what to do.\n",
    "\n",
    "For our project we'll need the following:\n",
    "\n",
    "```\n",
    "release: ./import-script.py\n",
    "worker: gunicorn -w 4 app:app\n",
    "\n",
    "```\n",
    "\n",
    "### Creating a `runtime.txt`\n",
    "\n",
    "This tells heroku which python version to use.\n",
    "\n",
    "example runtime.txt\n",
    "\n",
    "```\n",
    "python-3.8.6\n",
    "```\n",
    "\n",
    "### Pushing to heroku\n",
    "\n",
    "You'll either need to do `git push heroku master` (if you've installed the heroku cli) or `git push origin master` (if you've connected the git repo to heroku).\n",
    "\n",
    "### Check your url\n",
    "\n",
    "Visit `https://{your-project-name}.herokuapp.com/`"
   ]
  },
  {
   "cell_type": "markdown",
   "metadata": {},
   "source": [
    "## Deploying to PythonAnywhere\n",
    "\n",
    "1. Sign up for an account and log in.\n",
    "2. Open up the bash console and clone your git repo into that folder.\n",
    "3. Set up a virtualenv\n",
    "4. Set up web app and create your wsgi file on PythonAnywhere.\n",
    "\n",
    "\n",
    "### Setting up a virtualenv on PythonAnywhere\n",
    "\n",
    "In your bash console run:\n",
    "```\n",
    "mkvirtualenv --python=/usr/bin/python3.8.6 venv \n",
    "# or whichever version you prefer\n",
    "\n",
    "workon venv\n",
    "```\n",
    "\n",
    "You should see the `(venv)` we expect when a virtual env is active.\n",
    "\n",
    "Once you're in the virtual env, run:\n",
    "```\n",
    "pip install -r requirements.txt\n",
    "```\n",
    "\n",
    "### Setting up web app on pythonanywhere\n",
    "\n",
    "Go to the web app tab and click `Add a new web app`. Follow the steps to set it up selecting the right framework, version, and path. Your path will be the path to the folder your project is in on pythonanywhere.\n",
    "\n",
    "Python anywhere requires a WSGI file to be configured. You can find the link to it under the web tab. Change the file so it imports correctly (finding your project's app).\n",
    "\n",
    "example:\n",
    "```\n",
    "# This file contains the WSGI configuration required to serve up your\n",
    "# web application at http://<your-username>.pythonanywhere.com/\n",
    "# It works by setting the variable 'application' to a WSGI handler of some\n",
    "# description.\n",
    "#\n",
    "# The below has been auto-generated for your Flask project\n",
    "\n",
    "import sys\n",
    "\n",
    "# add your project directory to the sys.path\n",
    "project_home = '/home/username/mysite'\n",
    "if project_home not in sys.path:\n",
    "    sys.path = [project_home] + sys.path\n",
    "\n",
    "# import flask app but need to call it \"application\" for WSGI to work\n",
    "from flask_app import app as application  # noqa\n",
    "```\n",
    "fix the last line since `flask_app` probably won't be your project.\n",
    "\n",
    "Go to your link (which will be on the web tab)."
   ]
  },
  {
   "cell_type": "code",
   "execution_count": null,
   "metadata": {},
   "outputs": [],
   "source": []
  }
 ],
 "metadata": {
  "kernelspec": {
   "display_name": "Python 3",
   "language": "python",
   "name": "python3"
  },
  "language_info": {
   "codemirror_mode": {
    "name": "ipython",
    "version": 3
   },
   "file_extension": ".py",
   "mimetype": "text/x-python",
   "name": "python",
   "nbconvert_exporter": "python",
   "pygments_lexer": "ipython3",
   "version": "3.8.6"
  }
 },
 "nbformat": 4,
 "nbformat_minor": 4
}
