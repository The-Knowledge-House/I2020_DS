{
 "cells": [
  {
   "cell_type": "markdown",
   "id": "proprietary-muslim",
   "metadata": {},
   "source": [
    "<div style=\"background: #000;\n",
    "            color: #FFF;\n",
    "            margin: 0px;\n",
    "            margin-bottom: 10px;\n",
    "            padding: 10px 0px 20px 0px;\n",
    "            text-align: center; \n",
    "                \">\n",
    "    <h1>Week 32 Lab</h1> \n",
    "    <h3>05/12/21</h3>\n",
    "</div>"
   ]
  },
  {
   "cell_type": "markdown",
   "id": "original-ceiling",
   "metadata": {},
   "source": [
    "Create the most interesting bokeh chart(s) you can and embed it into a very simple django (or optionally, flask) application. Submit your link to the git repo containing this code as your lab submission. Class will vote on best submission and winner will receive a special prize. "
   ]
  }
 ],
 "metadata": {
  "kernelspec": {
   "display_name": "Python 3",
   "language": "python",
   "name": "python3"
  },
  "language_info": {
   "codemirror_mode": {
    "name": "ipython",
    "version": 3
   },
   "file_extension": ".py",
   "mimetype": "text/x-python",
   "name": "python",
   "nbconvert_exporter": "python",
   "pygments_lexer": "ipython3",
   "version": "3.9.1"
  }
 },
 "nbformat": 4,
 "nbformat_minor": 5
}
