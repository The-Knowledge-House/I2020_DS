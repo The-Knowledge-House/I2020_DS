{
 "cells": [
  {
   "cell_type": "markdown",
   "metadata": {},
   "source": [
    "<div style=\"background: #000;\n",
    "            color: #FFF;\n",
    "            margin: 0px;\n",
    "                padding: 10px 0px 20px 0px;\n",
    "            text-align: center; \n",
    "                \">\n",
    "    <span style=\"margin-left: -15px;\"><img src=\"https://tkhv2-static.s3.amazonaws.com/static-final/assets/img/sec_logo2sec.png\"></img></span>\n",
    "    <h2 style=\"margin: 0; padding: 0;\">Data Science Fellowship</h2>\n",
    "    <h1 style=\"padding: 2220px 210px -30px 0px;\">Week 14 - Class 3 - 01/06</h1>\n",
    "</div>"
   ]
  },
  {
   "cell_type": "markdown",
   "metadata": {},
   "source": [
    "## Objectives for this week:\n",
    "* Introduction to Data Science\n",
    "* Introduction to Statistical Analysis\n",
    "* Statistical Libraries in Python\n",
    "\n",
    "## Todays Agenda\n",
    "* [Code Challenge](#code)\n",
    "* [Algorithms](#algo)\n",
    "* [Numpy](#nump)"
   ]
  },
  {
   "cell_type": "markdown",
   "metadata": {},
   "source": [
    "<a href=\"#\" id=\"algo\"></a>\n",
    "<div style=\"background: #000;\n",
    "            color: #FFF;\n",
    "            margin: 0px;\n",
    "                padding: 10px 0px 20px 0px;\n",
    "            text-align: center; \n",
    "                \">\n",
    "    <h1 style=\"padding: 2220px 210px -30px 0px;\">Code Challenge</h1>\n",
    "</div>"
   ]
  },
  {
   "cell_type": "markdown",
   "metadata": {},
   "source": [
    "Given two strings `a` and `b`, find the length of the __longest uncommon subsequence__ between them.\n",
    "\n",
    "A __subsequence__ of a string `s` is a string that can be obtained after deleting any number of characters from `s`. For example, `\"abc\"` is a subsequence of `\"aebdc\"` because you can delete the underlined characters in `\"aebdc\"` to get \"abc\". Other subsequences of `\"aebdc\"` include `\"aebdc\"`, `\"aeb\"`, and `\"\"` (empty string).\n",
    "\n",
    "An __uncommon subsequence__ between two strings is a string that is a __subsequence of one but not the other__.\n",
    "\n",
    "Return the length of the __longest uncommon subsequence__ between `a` and `b`. If the longest uncommon subsequence doesn't exist, return `-1`.\n",
    "\n",
    "__Example 1:__\n",
    "\n",
    "__Input:__ `a = \"aba\", b = \"cdc\"`  \n",
    "__Output:__ `3`  \n",
    "__Explanation:__ One longest uncommon subsequence is \"aba\" because \"aba\" is a subsequence of \"aba\" but not \"cdc\".  \n",
    "Note that \"cdc\" is also a longest uncommon subsequence.\n",
    "\n",
    "__Example 2:__\n",
    "\n",
    "__Input:__ `a = \"aaa\", b = \"bbb\"`  \n",
    "__Output:__ `3`  \n",
    "__Explanation:__ The longest uncommon subsequences are \"aaa\" and \"bbb\".\n",
    "\n",
    "__Example 3:__\n",
    "\n",
    "__Input:__ `a = \"aaa\", b = \"aaa\"`  \n",
    "__Output:__ `-1`  \n",
    "__Explanation:__ Every subsequence of string a is also a subsequence of string b. Similarly, every subsequence of string b is also a subsequence of string a.\n",
    "\n",
    "__Constraints:__\n",
    "* `1 <= a.length, b.length <= 100`\n",
    "* `a` and `b` consist of lower-case English letters.\n"
   ]
  },
  {
   "cell_type": "code",
   "execution_count": null,
   "metadata": {},
   "outputs": [],
   "source": [
    "def code_challenge(a,b):\n",
    "    pass\n",
    "\n",
    "try:\n",
    "    assert(code_challenge(\"aba\", \"cdc\") == 3)\n",
    "    assert(code_challenge(\"aaa\", \"bbb\") == 3)\n",
    "    assert(code_challenge(\"aaa\", \"aaa\") == -1)\n",
    "    print(\"solution is correct\")\n",
    "except:\n",
    "    print(\"solution is incorrect\")\n",
    "    "
   ]
  },
  {
   "cell_type": "markdown",
   "metadata": {},
   "source": [
    "<a href=\"#\" id=\"algo\"></a>\n",
    "<div style=\"background: #000;\n",
    "            color: #FFF;\n",
    "            margin: 0px;\n",
    "                padding: 10px 0px 20px 0px;\n",
    "            text-align: center; \n",
    "                \">\n",
    "    <h1 style=\"padding: 2220px 210px -30px 0px;\">Algorithms</h1>\n",
    "</div>"
   ]
  },
  {
   "cell_type": "code",
   "execution_count": null,
   "metadata": {},
   "outputs": [],
   "source": [
    "#%%tutor --lang python3 -k\n",
    "\n",
    "class Node:\n",
    "    def __init__(self, data=None):\n",
    "        self.data = data\n",
    "        self.next = None\n",
    "        \n",
    "class LinkedList:\n",
    "    def __init__(self):\n",
    "        self.tail = None\n",
    "        self.head = None\n",
    "        self.count = 0\n",
    "        \n",
    "    def iterate_items(self):\n",
    "        current_item = self.head\n",
    "        while current_item:\n",
    "            val = current_item.data\n",
    "            current_item = current_item.next\n",
    "            yield val\n",
    "            \n",
    "    def append(self, data=None):\n",
    "        node = Node(data)\n",
    "        if self.tail:\n",
    "            self.tail.next = node\n",
    "            self.tail = node\n",
    "        else:\n",
    "            self.tail = node\n",
    "            self.head = node\n",
    "        self.count += 1\n",
    "        \n",
    "    def get(self, location=0):\n",
    "        current_item = self.head\n",
    "        counter = 0\n",
    "        while current_item:\n",
    "            val = current_item.data\n",
    "            if counter == location:\n",
    "                return val\n",
    "            current_item = current_item.next\n",
    "            counter += 1\n",
    "        return f\"not found\"\n",
    "        \n",
    "    def set(self,location=0, val=None):\n",
    "        current_item = self.head\n",
    "        counter = 0\n",
    "        while current_item:\n",
    "            if counter == location:\n",
    "                current_item.data = val\n",
    "                return True\n",
    "            current_item = current_item.next\n",
    "            counter += 1\n",
    "        return f\"not found\"\n",
    "    \n",
    "    def pop(self, location=None):\n",
    "        if not location:\n",
    "            location = self.count - 1\n",
    "        current_item = self.head\n",
    "        counter = 0\n",
    "        while current_item:\n",
    "            if counter == location - 1:\n",
    "                to_delete = current_item.next\n",
    "                if to_delete.next == None:\n",
    "                    self.tail = current_item\n",
    "                    current_item.next = None\n",
    "                    return to_delete\n",
    "                else:\n",
    "                    current_item.next = to_delete.next\n",
    "                    return to_delete\n",
    "            current_item = current_item.next\n",
    "            counter += 1\n",
    "        return f\"not found\"\n",
    "        \n",
    "items = LinkedList()\n",
    "items.append('HTML')\n",
    "items.append('CSS')\n",
    "items.append('Javascript')\n",
    "items.append('Python')\n",
    "items.count\n",
    "print(items.pop())\n",
    "list(items.iterate_items())"
   ]
  },
  {
   "cell_type": "markdown",
   "metadata": {},
   "source": [
    "# Doubly Linked List\n",
    "\n",
    "Using what we know about linked lists and did above, how can we create our own Doubly Linked List?"
   ]
  },
  {
   "cell_type": "code",
   "execution_count": null,
   "metadata": {},
   "outputs": [],
   "source": []
  },
  {
   "cell_type": "markdown",
   "metadata": {},
   "source": [
    "<div style=\"background: #000;\n",
    "            color: #FFF;\n",
    "            margin: 0px;\n",
    "                padding: 10px 0px 20px 0px;\n",
    "            text-align: center; \n",
    "                \">\n",
    "    <h1 style=\"padding: 2220px 210px -30px 0px;\">Lesson</h1>\n",
    "</div>"
   ]
  },
  {
   "attachments": {
    "28b6a922-9184-4c45-ab67-86eb9ded53f4.png": {
     "image/png": "[encoded data removed]"
    }
   },
   "cell_type": "markdown",
   "metadata": {},
   "source": [
    "Note on axis:\n",
    "\n",
    "Axis numbering is standardized in numpy.\n",
    "\n",
    "![image.png](attachment:28b6a922-9184-4c45-ab67-86eb9ded53f4.png)"
   ]
  },
  {
   "cell_type": "markdown",
   "metadata": {},
   "source": [
    "Some more on Numpy:\n",
    "\n",
    "### Resizing numpy array.\n",
    "\n",
    "We know we can `reshape` a numpy array as long as the new shape has the same number of elements as the previous. But we can also `resize` if needed.\n",
    "\n",
    "To resize, simply pass in the new shape. "
   ]
  },
  {
   "cell_type": "code",
   "execution_count": 5,
   "metadata": {},
   "outputs": [],
   "source": [
    "import numpy as np"
   ]
  },
  {
   "cell_type": "code",
   "execution_count": 19,
   "metadata": {},
   "outputs": [
    {
     "data": {
      "text/plain": [
       "array([0, 1, 2, 3, 4, 5, 6, 7, 8, 9])"
      ]
     },
     "execution_count": 19,
     "metadata": {},
     "output_type": "execute_result"
    }
   ],
   "source": [
    "a = np.arange(0,10)\n",
    "a"
   ]
  },
  {
   "cell_type": "code",
   "execution_count": 18,
   "metadata": {},
   "outputs": [
    {
     "data": {
      "text/plain": [
       "array([[0, 1, 2, 3, 4, 5, 6, 7, 8, 9]])"
      ]
     },
     "execution_count": 18,
     "metadata": {},
     "output_type": "execute_result"
    }
   ],
   "source": [
    "a.resize(1,10)\n",
    "a"
   ]
  },
  {
   "cell_type": "markdown",
   "metadata": {},
   "source": [
    "### Calculating Descriptive statistics:\n",
    "\n",
    "to get the mean, we use `arr.mean()`"
   ]
  },
  {
   "cell_type": "code",
   "execution_count": 21,
   "metadata": {},
   "outputs": [
    {
     "data": {
      "text/plain": [
       "4.5"
      ]
     },
     "execution_count": 21,
     "metadata": {},
     "output_type": "execute_result"
    }
   ],
   "source": [
    "a.mean()"
   ]
  },
  {
   "cell_type": "markdown",
   "metadata": {},
   "source": [
    "to get the median, we use `np.median()`"
   ]
  },
  {
   "cell_type": "code",
   "execution_count": 32,
   "metadata": {},
   "outputs": [
    {
     "data": {
      "text/plain": [
       "4.5"
      ]
     },
     "execution_count": 32,
     "metadata": {},
     "output_type": "execute_result"
    }
   ],
   "source": [
    "np.median(a)"
   ]
  },
  {
   "cell_type": "markdown",
   "metadata": {},
   "source": [
    "to get the standard deviation we use `arr.std()`"
   ]
  },
  {
   "cell_type": "code",
   "execution_count": 31,
   "metadata": {},
   "outputs": [
    {
     "data": {
      "text/plain": [
       "2.8722813232690143"
      ]
     },
     "execution_count": 31,
     "metadata": {},
     "output_type": "execute_result"
    }
   ],
   "source": [
    "a.std(axis=0)"
   ]
  },
  {
   "cell_type": "markdown",
   "metadata": {},
   "source": [
    "to get the mode, we use `scipy` and we'll cover that next week when we do `pandas` and `scipy`"
   ]
  },
  {
   "cell_type": "code",
   "execution_count": 34,
   "metadata": {},
   "outputs": [],
   "source": [
    "### Required reading:\n",
    "\n"
   ]
  },
  {
   "cell_type": "markdown",
   "metadata": {},
   "source": [
    "<div style=\"background: #000;\n",
    "            color: #FFF;\n",
    "            margin: 0px;\n",
    "                padding: 10px 0px 20px 0px;\n",
    "            text-align: center; \n",
    "                \">\n",
    "    <h1 style=\"padding: 2220px 210px -30px 0px;\">Week 14 Lab</h1>\n",
    "</div>"
   ]
  },
  {
   "cell_type": "code",
   "execution_count": null,
   "metadata": {},
   "outputs": [],
   "source": [
    "# imports\n",
    "\n",
    "import numpy as np"
   ]
  },
  {
   "cell_type": "markdown",
   "metadata": {},
   "source": [
    "## Exercise 1\n",
    "\n",
    "Create the following numpy arrays:\n",
    "    \n",
    "a) An array using the following lists (make it interesting if you can)"
   ]
  },
  {
   "cell_type": "code",
   "execution_count": null,
   "metadata": {},
   "outputs": [],
   "source": [
    "l = [0,0,0,0,0] \n",
    "m = [1,2,3,4,5]\n",
    "\n"
   ]
  },
  {
   "cell_type": "markdown",
   "metadata": {},
   "source": [
    "b) A 3 x 4 matrix of zeros: "
   ]
  },
  {
   "cell_type": "code",
   "execution_count": null,
   "metadata": {},
   "outputs": [],
   "source": []
  },
  {
   "cell_type": "markdown",
   "metadata": {},
   "source": [
    "c) A 2 x 4 matrix of zeros and ones of the following format:\n",
    "\n",
    "[[0,0,1,1], [0,0,1,1]]\n",
    "\n",
    "(try without using python lists)"
   ]
  },
  {
   "cell_type": "code",
   "execution_count": null,
   "metadata": {},
   "outputs": [],
   "source": []
  },
  {
   "cell_type": "markdown",
   "metadata": {},
   "source": [
    "e) A 3 x 4 array from the following numpy array (do not change the already existing code):"
   ]
  },
  {
   "cell_type": "code",
   "execution_count": null,
   "metadata": {},
   "outputs": [],
   "source": [
    "r = np.arange(0,12)\n",
    "# enter your code below\n"
   ]
  },
  {
   "cell_type": "markdown",
   "metadata": {},
   "source": [
    "f) A 1 x 13 array from the following array\n",
    "\n",
    "look into the `resize` method"
   ]
  },
  {
   "cell_type": "code",
   "execution_count": null,
   "metadata": {},
   "outputs": [],
   "source": [
    "n = np.empty(shape=(2,6))\n",
    "### enter your code below\n"
   ]
  },
  {
   "cell_type": "markdown",
   "metadata": {},
   "source": [
    ") using the following array, create an array that consists of the same numbers but squared and in order from smallest to largest"
   ]
  },
  {
   "cell_type": "code",
   "execution_count": null,
   "metadata": {},
   "outputs": [],
   "source": [
    "n = np.array([7, 6, 9, 5, 8, 9, 6, 10, 3, 4, 3, 3, 1, 2, 5, 8, 6, 1, 6, 0])\n",
    "### enter your code below\n"
   ]
  },
  {
   "cell_type": "markdown",
   "metadata": {},
   "source": [
    "## Exercise 2\n",
    "\n",
    "Produce  the array as asked\n",
    "\n",
    "a) Create a 3x3x3 array with the numbers from 1, 27. Then slice it to produce the 3x3 array in the middle."
   ]
  },
  {
   "cell_type": "code",
   "execution_count": null,
   "metadata": {},
   "outputs": [],
   "source": []
  },
  {
   "cell_type": "markdown",
   "metadata": {},
   "source": [
    "b) Create a 3 x 3 array of random numbers. Then slice it to produce the numbers in the 2-index column."
   ]
  },
  {
   "cell_type": "code",
   "execution_count": null,
   "metadata": {},
   "outputs": [],
   "source": [
    "rng = np.random.default_rng(0)\n",
    "### enter your code below \n"
   ]
  },
  {
   "cell_type": "markdown",
   "metadata": {},
   "source": [
    "c) Create a 3x3x3 array of zeros. Slice a 2x2 array from it and change the values to 1s. Then output the original 3x3x3 with `0`'s and `1`s"
   ]
  },
  {
   "cell_type": "code",
   "execution_count": null,
   "metadata": {},
   "outputs": [],
   "source": []
  },
  {
   "cell_type": "markdown",
   "metadata": {},
   "source": [
    "d) Create an array of all the numbers from 1, 27 (inclusive). Then produce a slice that outputs only the even numbers less than 14."
   ]
  },
  {
   "cell_type": "code",
   "execution_count": null,
   "metadata": {},
   "outputs": [],
   "source": []
  },
  {
   "cell_type": "markdown",
   "metadata": {},
   "source": [
    "## Exercise 3\n",
    "\n",
    "a) Create an array of all postive integers from 1 to 100.    \n",
    "b) Reshape it into a 10 x 10 matrix  \n",
    "c) Remove multiples (so numbers that aren't prime  \n",
    "d) Output the prime numbers.  \n"
   ]
  },
  {
   "cell_type": "code",
   "execution_count": null,
   "metadata": {},
   "outputs": [],
   "source": []
  },
  {
   "cell_type": "markdown",
   "metadata": {},
   "source": [
    "b) reshape it into a 10 x 10 matrix"
   ]
  },
  {
   "cell_type": "code",
   "execution_count": null,
   "metadata": {},
   "outputs": [],
   "source": []
  },
  {
   "cell_type": "markdown",
   "metadata": {},
   "source": [
    "c) starting with 2 (until you get to sqrt(100) or 10), replace multiples of that number with 0"
   ]
  },
  {
   "cell_type": "code",
   "execution_count": null,
   "metadata": {},
   "outputs": [],
   "source": []
  },
  {
   "cell_type": "markdown",
   "metadata": {},
   "source": [
    "d) Using a slice, output your prime sieve containing all of the prime numbers less than 0 (be sure to exclude 1 from your slice)\n",
    "\n",
    "hint: the length of such slice should be `25`"
   ]
  },
  {
   "cell_type": "code",
   "execution_count": null,
   "metadata": {},
   "outputs": [],
   "source": []
  },
  {
   "cell_type": "code",
   "execution_count": null,
   "metadata": {},
   "outputs": [],
   "source": []
  },
  {
   "cell_type": "code",
   "execution_count": null,
   "metadata": {},
   "outputs": [],
   "source": []
  }
 ],
 "metadata": {
  "kernelspec": {
   "display_name": "Python 3",
   "language": "python",
   "name": "python3"
  },
  "language_info": {
   "codemirror_mode": {
    "name": "ipython",
    "version": 3
   },
   "file_extension": ".py",
   "mimetype": "text/x-python",
   "name": "python",
   "nbconvert_exporter": "python",
   "pygments_lexer": "ipython3",
   "version": "3.9.0"
  }
 },
 "nbformat": 4,
 "nbformat_minor": 4
}
