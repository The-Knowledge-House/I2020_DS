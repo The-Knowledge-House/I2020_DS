{
 "cells": [
  {
   "cell_type": "markdown",
   "metadata": {},
   "source": [
    "<div style=\"background: #000;\n",
    "            color: #FFF;\n",
    "            margin: 0px;\n",
    "            padding: 10px 0px 20px 0px;\n",
    "            text-align: center; \n",
    "                \">\n",
    "    <h1>Week 14 Project</h1>\n",
    "</div>"
   ]
  },
  {
   "cell_type": "markdown",
   "metadata": {},
   "source": [
    "# Preparing for our phase:\n",
    "\n",
    "So a summary of the data science process can be described as follows:\n",
    "1.  Setting the research goal\n",
    "2.  Gathering data\n",
    "3.  Data preparation\n",
    "4.  Data exploration\n",
    "5.  Modeling\n",
    "6.  Presentation and automation\n",
    "\n",
    "For your projects this phase, you will be going through this process from the first step until the last. In the next few weeks we will be working on preparing and exploring data so we can set it up for modeling. In order to do that we need to figure out the first two steps of the list above.\n",
    "\n",
    "For this project you need to do two things:\n",
    "1. Set a research goal.\n",
    "2. Gather data."
   ]
  },
  {
   "cell_type": "markdown",
   "metadata": {},
   "source": [
    "### Setting a research goal\n",
    "\n",
    ">  The main purpose here ismaking sure all the stakeholders understand the what, how, and why of the proj-ect. In every serious project this will result in a project charter.\n",
    "\n",
    "Read more in Chapter 1, Section 2.2 of [\"Introducing Data Science\"](https://www.programmer-books.com/wp-content/uploads/2018/07/Introducing-Data-Science-Big-Data-Machine-Learning-and-more-using-Python-tools-2016.pdf)"
   ]
  },
  {
   "cell_type": "markdown",
   "metadata": {},
   "source": [
    "### Gather data\n",
    "\n",
    "> You want to have data available for analysis, so this step includes finding suitable data and getting access to the data from the data owner. The result is data in its raw form, which probably needs polishing and transformation before it becomes usable.\n",
    "\n",
    "Read more in Chapter 1, Section 2.3 of [\"Introducing Data Science\"](https://www.programmer-books.com/wp-content/uploads/2018/07/Introducing-Data-Science-Big-Data-Machine-Learning-and-more-using-Python-tools-2016.pdf)"
   ]
  },
  {
   "cell_type": "markdown",
   "metadata": {},
   "source": [
    "### __Deliverables: (Due Wednesday January 20th)__\n",
    "* #### __A proposal of a research goal.__\n",
    "* #### __A proposal of data you'd like to analyze this phase.__ (this can be obtained or soon to be obtained but you need to provide the source)"
   ]
  },
  {
   "cell_type": "code",
   "execution_count": null,
   "metadata": {},
   "outputs": [],
   "source": []
  }
 ],
 "metadata": {
  "kernelspec": {
   "display_name": "Python 3",
   "language": "python",
   "name": "python3"
  },
  "language_info": {
   "codemirror_mode": {
    "name": "ipython",
    "version": 3
   },
   "file_extension": ".py",
   "mimetype": "text/x-python",
   "name": "python",
   "nbconvert_exporter": "python",
   "pygments_lexer": "ipython3",
   "version": "3.9.0"
  }
 },
 "nbformat": 4,
 "nbformat_minor": 4
}
