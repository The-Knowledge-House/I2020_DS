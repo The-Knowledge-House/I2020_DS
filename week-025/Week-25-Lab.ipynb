{
 "cells": [
  {
   "cell_type": "markdown",
   "id": "industrial-confusion",
   "metadata": {},
   "source": [
    "<div style=\"background: #000;\n",
    "            color: #FFF;\n",
    "            margin: 0px;\n",
    "            padding: 10px 0px 20px 0px;\n",
    "            text-align: center; \n",
    "                \">\n",
    "    <h1 >Week 25 Lab</h1>\n",
    "</div>\n",
    "\n",
    "### Open Ended Questions:\n",
    "1. What do you understand by Machine Learning? What does it mean and how does it work?\n",
    "2. What are the different Algorithms techniques in Machine Learning?\n",
    "3. What is the difference between supervised and unsupervised machine learning?\n",
    "4. What is Overfitting in Machine Learning?\n",
    "5. What is the difference between classification and regression?\n",
    "6. In what situations would you use a linear regression? What do you need for a linear regression? Briefly explain the process\n",
    "7. In what situations would you use a logistic regression? What do you need for a logistic regression? Briefly explain the process\n",
    "8. What is cross validation? Why is it useful?\n",
    "9. Explain the Bias vs. Variance issue and how it affects our machine learning models.\n",
    "10. Explain the sklearn method `test_train_split`. Why do we use it?\n",
    "11. Why do we calculate errors for supervised learning? \n",
    "12. What is $R^{2}$ and why do we use it to analyze the fitness of our linear regressions?\n",
    "13. Explain what the metrics we use to evaluate the performance of our logistic regressions mean (accuracy, precision, recall). What is a confusion matrix and what does it help us understand?\n",
    "### "
   ]
  },
  {
   "cell_type": "code",
   "execution_count": null,
   "id": "moral-bridge",
   "metadata": {},
   "outputs": [],
   "source": []
  }
 ],
 "metadata": {
  "kernelspec": {
   "display_name": "Python 3",
   "language": "python",
   "name": "python3"
  },
  "language_info": {
   "codemirror_mode": {
    "name": "ipython",
    "version": 3
   },
   "file_extension": ".py",
   "mimetype": "text/x-python",
   "name": "python",
   "nbconvert_exporter": "python",
   "pygments_lexer": "ipython3",
   "version": "3.9.1"
  }
 },
 "nbformat": 4,
 "nbformat_minor": 5
}
