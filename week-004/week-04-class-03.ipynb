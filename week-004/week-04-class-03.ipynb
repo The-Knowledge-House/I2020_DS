{
 "cells": [
  {
   "cell_type": "markdown",
   "metadata": {},
   "source": [
    "<div style=\"background: #000;\n",
    "            color: #FFF;\n",
    "            margin: 0px;\n",
    "                padding: 10px 0px 20px 0px;\n",
    "            text-align: center; \n",
    "                \">\n",
    "    <h1>Week 4 - Class 3 - 10/07</h1>\n",
    "</div>\n",
    "\n",
    "## Objectives for this week:\n",
    "* Creating processes and algorithms\n",
    "* Function declaration/Usage/Nesting\n",
    "* Arguments and Keywords, Function scope\n",
    "* Recursion\n",
    "\n",
    "## Todays Agenda\n",
    "* Homework Presentations\n",
    "* Creating processes and algorithms"
   ]
  },
  {
   "cell_type": "markdown",
   "metadata": {},
   "source": [
    "<div style=\"background: #000;\n",
    "            color: #FFF;\n",
    "            margin: 0px;\n",
    "                padding: 10px 0px 20px 0px;\n",
    "            text-align: center; \n",
    "                \">\n",
    "    <h1>Homework Presentations</h1>\n",
    "</div>"
   ]
  },
  {
   "cell_type": "markdown",
   "metadata": {},
   "source": [
    "# Exercise 3\n",
    "\n",
    "Create a game in python. \n",
    "\n",
    "Rules:  \n",
    "    1. You have 3 tries to guess a secret number.   \n",
    "    2. Each try you are prompted to input a number.  \n",
    "    3. You get a success message if you guess correctly and stop looping, else you subtract a try and go again.\n",
    "    "
   ]
  },
  {
   "cell_type": "code",
   "execution_count": null,
   "metadata": {},
   "outputs": [],
   "source": []
  },
  {
   "cell_type": "code",
   "execution_count": null,
   "metadata": {},
   "outputs": [],
   "source": []
  },
  {
   "cell_type": "markdown",
   "metadata": {},
   "source": [
    "# Exercise 4\n",
    "\n",
    "a. \n",
    "Create a list comprehension that prints the following.\n",
    "```python\n",
    "[0, '*',2, '*', 4, '*', 6]\n",
    "\n",
    "```\n",
    "\n",
    "Hint: start from the most basic list comprehension  "
   ]
  },
  {
   "cell_type": "code",
   "execution_count": null,
   "metadata": {},
   "outputs": [],
   "source": []
  },
  {
   "cell_type": "markdown",
   "metadata": {},
   "source": [
    "b. Create a dict comprehension that prints the following:\n",
    "```python\n",
    "{'a': ['*', '*'], 'b': ['*', '*'],}\n",
    "\n",
    "```\n"
   ]
  },
  {
   "cell_type": "code",
   "execution_count": null,
   "metadata": {},
   "outputs": [],
   "source": []
  },
  {
   "cell_type": "markdown",
   "metadata": {},
   "source": [
    "# Python Tutor\n",
    "\n",
    "There's this website [pythontutor.com](http://pythontutor.com/) that allows you to see the walkthrough of python code.\n",
    "<div>\n",
    "<iframe width=\"800\" height=\"500\" frameborder=\"0\" src=\"http://pythontutor.com/iframe-embed.html#code=%23%23%23%23%23%20use%20secret_number%20in%20your%20code%20but%20don't%20cheat%0Aimport%20random%0A%0Adef%20game%28%29%3A%0A%20%20%20%20tries%20%3D%203%0A%20%20%20%20secret_number%20%3D%20random.randint%280,3%29%0A%20%20%20%20while%20tries%20%3E%200%3A%0A%20%20%20%20%20%20%20%20guess%20%3D%20input%28'guess%20a%20number%3A%20'%29%0A%20%20%20%20%20%20%20%20if%20int%28guess%29%20%3D%3D%20secret_number%3A%0A%20%20%20%20%20%20%20%20%20%20%20%20return%20%22success%22%0A%20%20%20%20%20%20%20%20tries%20-%3D%201%0A%20%20%20%20return%20%22failure%22%0A%0Agame%28%29&codeDivHeight=400&codeDivWidth=350&cumulative=false&curInstr=19&heapPrimitives=nevernest&origin=opt-frontend.js&py=3&rawInputLstJSON=%5B%221%22,%222%22,%223%22%5D&textReferences=false\"> </iframe></div>"
   ]
  },
  {
   "cell_type": "markdown",
   "metadata": {},
   "source": [
    "### Notes:\n",
    "\n",
    "Unpacking a dicitonary:"
   ]
  },
  {
   "cell_type": "code",
   "execution_count": null,
   "metadata": {},
   "outputs": [],
   "source": [
    "def function_a(a=1, b=2):\n",
    "    return f\"function returns a: {a}, b: {b}\"\n",
    "\n",
    "function(*{'a':3, 'b': 4})"
   ]
  },
  {
   "cell_type": "code",
   "execution_count": null,
   "metadata": {},
   "outputs": [],
   "source": [
    "def function_b(**kwargs):\n",
    "    lst = []\n",
    "    for k,v in kwargs.items():\n",
    "        lst.append(f\"{k}: {v}\")\n",
    "    return \", \".join(lst)\n",
    "\n",
    "function_b(a=1, b=2, c=3, d=4)"
   ]
  },
  {
   "cell_type": "code",
   "execution_count": null,
   "metadata": {},
   "outputs": [],
   "source": [
    "dictionary = {'a':1, 'b':2, 'c':3, 'd':4}\n",
    "\n",
    "function_b(**dictionary)"
   ]
  },
  {
   "cell_type": "code",
   "execution_count": null,
   "metadata": {},
   "outputs": [],
   "source": [
    "dictionary = {'name': 'A', 'city': 'NYC'}\n",
    "new_dictionary = {**dictionary}\n",
    "\n",
    "new_dictionary"
   ]
  },
  {
   "cell_type": "code",
   "execution_count": null,
   "metadata": {},
   "outputs": [],
   "source": [
    "dictionary = {'key1': 1, 'key2': 2}\n",
    "other_dictionary = {'key3': 3, 'key4': 4}\n",
    "\n",
    "new_dictionary = {**dictionary, **other_dictionary}\n",
    "new_dictionary"
   ]
  },
  {
   "cell_type": "markdown",
   "metadata": {},
   "source": [
    "# More on Decorators"
   ]
  },
  {
   "cell_type": "code",
   "execution_count": null,
   "metadata": {},
   "outputs": [],
   "source": [
    "#%%tutor --lang python3\n",
    "def new_decorator(func):\n",
    "    def wrapper():\n",
    "        print(\"hello\")\n",
    "        func()\n",
    "        print(\"world\")\n",
    "    return wrapper\n",
    "\n",
    "@new_decorator\n",
    "def hello_world():\n",
    "    print(\"hello world\") \n",
    "\n",
    "hello_world()"
   ]
  },
  {
   "cell_type": "markdown",
   "metadata": {},
   "source": [
    "# More on Recursion"
   ]
  },
  {
   "cell_type": "code",
   "execution_count": null,
   "metadata": {},
   "outputs": [],
   "source": [
    "#%%tutor --lang python3\n",
    "def fibseq(n):\n",
    "    if n <= 1:\n",
    "        return  n\n",
    "    else:\n",
    "        return (fibseq(n-1) + fibseq(n-2))"
   ]
  },
  {
   "cell_type": "raw",
   "metadata": {},
   "source": [
    "fibseq(6) -> fibseq(5) + fibseq(4) -> fibseq(4) + fibseq(3) + fibseq(3) + fibseq(2) "
   ]
  },
  {
   "attachments": {
    "f7f4fbbe-d510-4fbe-bfe6-13291363a8c6.png": {
     "image/png": "[encoded data removed]"
    }
   },
   "cell_type": "markdown",
   "metadata": {},
   "source": [
    "![image.png](attachment:f7f4fbbe-d510-4fbe-bfe6-13291363a8c6.png)"
   ]
  },
  {
   "cell_type": "code",
   "execution_count": null,
   "metadata": {},
   "outputs": [],
   "source": [
    "%timeit fibseq(10)"
   ]
  },
  {
   "cell_type": "code",
   "execution_count": null,
   "metadata": {},
   "outputs": [],
   "source": [
    "cache = {0:0, 1:1}"
   ]
  },
  {
   "cell_type": "code",
   "execution_count": null,
   "metadata": {},
   "outputs": [],
   "source": [
    "def fibseq_with_cache(n):\n",
    "    if n in cache:\n",
    "        return cache[n]\n",
    "    else:\n",
    "        val = (fibseq_with_cache(n-1) + fibseq_with_cache(n-2))\n",
    "        cache[n] = val\n",
    "        return val"
   ]
  },
  {
   "cell_type": "code",
   "execution_count": null,
   "metadata": {},
   "outputs": [],
   "source": [
    "%timeit fibseq_with_cache(10)"
   ]
  },
  {
   "cell_type": "code",
   "execution_count": null,
   "metadata": {},
   "outputs": [],
   "source": [
    "cache"
   ]
  },
  {
   "cell_type": "markdown",
   "metadata": {},
   "source": [
    "### Dynamic Programming\n",
    "\n",
    "DP is generally used to solve problems which involve the following steps\n",
    "* Split the problem into multiple small subproblems. And keep the array of results of the small problem.\n",
    "* While solving each problem, do check if the same problem has solved earlier. If yes, take the result from result array instead of solving the same subproblem again.\n",
    "* Merge the subproblem result into the final result.\n"
   ]
  },
  {
   "cell_type": "markdown",
   "metadata": {},
   "source": [
    "# Creating processes and algorithms"
   ]
  },
  {
   "cell_type": "markdown",
   "metadata": {},
   "source": [
    "## example 1:\n",
    "\n",
    "Given the following list, find the first appearance of \"-------\""
   ]
  },
  {
   "cell_type": "code",
   "execution_count": null,
   "metadata": {},
   "outputs": [],
   "source": [
    "lst = ['walter mondale', 'al gore', 'joe biden', '------', 'kamala harris']"
   ]
  },
  {
   "cell_type": "code",
   "execution_count": null,
   "metadata": {},
   "outputs": [],
   "source": [
    "def search(lst, val):\n",
    "    for index, element in enumerate(lst):\n",
    "        if element == val:\n",
    "            return index\n",
    "    else:\n",
    "        return -1\n",
    "    \n",
    "search(lst, '------')"
   ]
  },
  {
   "cell_type": "code",
   "execution_count": null,
   "metadata": {},
   "outputs": [],
   "source": [
    "def search_2(lst, val):\n",
    "    pass\n",
    "        \n",
    "search_2(lst, '------')"
   ]
  },
  {
   "cell_type": "code",
   "execution_count": null,
   "metadata": {},
   "outputs": [],
   "source": [
    "%timeit search(lst, '------')"
   ]
  },
  {
   "cell_type": "code",
   "execution_count": null,
   "metadata": {},
   "outputs": [],
   "source": [
    "%timeit search_2(lst, '------')"
   ]
  },
  {
   "cell_type": "markdown",
   "metadata": {},
   "source": [
    "## example 2:\n",
    "\n",
    "How can we filter a list to return only the strings that are lowercase?"
   ]
  },
  {
   "cell_type": "code",
   "execution_count": null,
   "metadata": {},
   "outputs": [],
   "source": [
    "lst = ['aSHonUhQAV','fupcbuslbp','lfUYTJScTG','tWXgeJOvYz','ofurjjmcwi','xsbeLITIHc','pbpcdjavxn','aFtjVErGTO','rwlrvcsjyl','xnsbbkpwup']"
   ]
  },
  {
   "cell_type": "code",
   "execution_count": null,
   "metadata": {},
   "outputs": [],
   "source": [
    "def filter_strings(lst):\n",
    "    filtered_list = []\n",
    "    for word in lst:\n",
    "        all_lower = True\n",
    "        for char in word:\n",
    "            if not char == char.lower():\n",
    "                 all_lower = False\n",
    "        if all_lower:\n",
    "           filtered_list.append(word) \n",
    "    return filtered_list             \n",
    "    \n",
    "filter_strings(lst)"
   ]
  },
  {
   "cell_type": "code",
   "execution_count": null,
   "metadata": {},
   "outputs": [],
   "source": [
    "import string\n",
    "\n",
    "def check_lower(word):\n",
    "    pass\n",
    "    \n",
    "    \n",
    "def filter_strings_2(lst):\n",
    "    pass   \n",
    "    \n",
    "filter_strings(lst)"
   ]
  },
  {
   "cell_type": "code",
   "execution_count": null,
   "metadata": {},
   "outputs": [],
   "source": [
    "%timeit filter_strings(lst)"
   ]
  },
  {
   "cell_type": "code",
   "execution_count": null,
   "metadata": {},
   "outputs": [],
   "source": [
    "%timeit filter_strings_2(lst)"
   ]
  },
  {
   "cell_type": "markdown",
   "metadata": {},
   "source": [
    "## example 3:"
   ]
  },
  {
   "cell_type": "code",
   "execution_count": null,
   "metadata": {},
   "outputs": [],
   "source": [
    "def f():\n",
    "    return [x for x in range(300) if x%4 == 0]\n",
    "\n",
    "print(f())"
   ]
  },
  {
   "cell_type": "code",
   "execution_count": null,
   "metadata": {},
   "outputs": [],
   "source": [
    "def multiples_of_four():\n",
    "    pass\n",
    "        \n",
    "print(multiples_of_four())"
   ]
  },
  {
   "cell_type": "code",
   "execution_count": null,
   "metadata": {},
   "outputs": [],
   "source": [
    "%timeit f()"
   ]
  },
  {
   "cell_type": "code",
   "execution_count": null,
   "metadata": {},
   "outputs": [],
   "source": [
    "%timeit multiples_of_four()"
   ]
  },
  {
   "cell_type": "markdown",
   "metadata": {},
   "source": [
    "# How can we determine which solution is \"best\"?\n",
    "\n",
    "## Space and Time complexity\n",
    "\n",
    "Space complexity refers to how much storage space is needed to perform the operation\n",
    "\n",
    "Time complexity refers to how much time is needed to perform the operation.\n",
    "\n",
    "A good solution balances both of these things while giving the correct solution.\n"
   ]
  },
  {
   "attachments": {
    "d0f66ee2-c05e-4f58-a05e-a61488f195e1.png": {
     "image/png": "[encoded data removed]"
    }
   },
   "cell_type": "markdown",
   "metadata": {},
   "source": [
    "## Big O Notation\n",
    "\n",
    "Big O notation is a mathematical notation that describes the limiting behavior of a function when the argument tends towards a particular value or infinity. Big O is a member of a family of notations invented by Paul Bachmann,[1] Edmund Landau,[2] and others, collectively called Bachmann–Landau notation or asymptotic notation.\n",
    "\n",
    "In computer science, big O notation is used to classify algorithms according to how their run time or space requirements grow as the input size grows.[3] In analytic number theory, big O notation is often used to express a bound on the difference between an arithmetical function and a better understood approximation; a famous example of such a difference is the remainder term in the prime number theorem.\n",
    "\n",
    "Big O notation characterizes functions according to their growth rates: different functions with the same growth rate may be represented using the same O notation.\n",
    "\n",
    "The letter O is used because the growth rate of a function is also referred to as the order of the function. A description of a function in terms of big O notation usually only provides an upper bound on the growth rate of the function. Associated with big O notation are several related notations, using the symbols o, Ω, ω, and Θ, to describe other kinds of bounds on asymptotic growth rates.\n",
    "\n",
    "### Essentially, Big O notation is used to describe the performance of an algorithm and the Big O of an algorithm tells you the worst case scenario when running.\n",
    "\n",
    "More on Big O notation:  \n",
    "https://www.khanacademy.org/computing/computer-science/algorithms/asymptotic-notation/a/big-o-notation\n",
    "\n",
    "Big O cheatsheet list of algorithms:  \n",
    "https://www.bigocheatsheet.com/\n",
    "\n",
    "![image.png](attachment:d0f66ee2-c05e-4f58-a05e-a61488f195e1.png)"
   ]
  },
  {
   "cell_type": "markdown",
   "metadata": {},
   "source": [
    "# O(1)\n",
    "\n",
    "O(1) means the algorithm runs in constant time relative to it's input. No matter how big the list we input, it takes the same amount of time to return the value it does."
   ]
  },
  {
   "cell_type": "code",
   "execution_count": null,
   "metadata": {},
   "outputs": [],
   "source": [
    "def function_a(list_of_ints):\n",
    "    return list_of_ints[0]"
   ]
  },
  {
   "cell_type": "markdown",
   "metadata": {},
   "source": [
    "# O(n)\n",
    "\n",
    "O(n) means the algorithm will run in linear time relative to it's input. Meaning an input with n values would require the same n operations to complete. Meaning 5 inputs will require 5 steps. 100 inputs, 100 steps."
   ]
  },
  {
   "cell_type": "code",
   "execution_count": null,
   "metadata": {},
   "outputs": [],
   "source": [
    "def OddorEven(n):\n",
    "    return \"Even\" if n % 2 == 0 else \"Odd\"\n",
    "\n",
    "OddorEven(10)"
   ]
  },
  {
   "cell_type": "code",
   "execution_count": null,
   "metadata": {},
   "outputs": [],
   "source": [
    "def function_b(list_of_ints):\n",
    "    for i in list_of_ints:\n",
    "        print(i)\n",
    "        \n",
    "function_b([0,1,2,4,5])"
   ]
  },
  {
   "cell_type": "markdown",
   "metadata": {},
   "source": [
    "### What is the time complexity of this next function?"
   ]
  },
  {
   "cell_type": "code",
   "execution_count": null,
   "metadata": {},
   "outputs": [],
   "source": [
    "def function_b_2(list_of_ints):\n",
    "    for i in list_of_ints:\n",
    "        print(i)\n",
    "    for i in list_of_ints:\n",
    "        print(i)"
   ]
  },
  {
   "cell_type": "markdown",
   "metadata": {},
   "source": [
    "# O(n²)\n",
    "\n",
    "O(n²) means the algorithm will run in quadratic time relative to it's inputs. Meaning as the number of inputs increase, the complexity of the algorithm will increase by that number squared. Meaning 10 inputs will require 100 steps. Or 1000 inputs will require 1,000,000 steps. "
   ]
  },
  {
   "cell_type": "code",
   "execution_count": null,
   "metadata": {},
   "outputs": [],
   "source": [
    "def function_c(list_of_ints):\n",
    "    length = len(list_of_ints)\n",
    "    new_list = []\n",
    "    for i in range(length):\n",
    "        for j in range(length):\n",
    "            tup = (list_of_ints[i], list_of_ints[j], list_of_ints[i] == list_of_ints[j])\n",
    "            new_list.append(tup)\n",
    "    return new_list\n",
    "             \n",
    "s = function_c([i for i in range(10)])\n",
    "len(s)"
   ]
  },
  {
   "cell_type": "markdown",
   "metadata": {},
   "source": [
    "#### What is the time complexity of this next one."
   ]
  },
  {
   "cell_type": "code",
   "execution_count": null,
   "metadata": {},
   "outputs": [],
   "source": [
    "def function_c_2(list_of_ints):\n",
    "    length = len(list_of_ints)\n",
    "    new_list = []\n",
    "    \n",
    "    for i in list_of_ints:\n",
    "        print(i)\n",
    "    \n",
    "    for i in range(length):\n",
    "        for j in range(length):\n",
    "            tup = (list_of_ints[i], list_of_ints[j], list_of_ints[i] == list_of_ints[j])\n",
    "            new_list.append(tup)\n",
    "    return new_list\n",
    "             \n",
    "s = function_c_2([i for i in range(10)])\n",
    "len(s)"
   ]
  },
  {
   "cell_type": "markdown",
   "metadata": {},
   "source": [
    "# O(2ⁿ)\n",
    "\n",
    "Remember that recursive function for the fibonnacci sequence? Because it created two function calls for each function call, it exponetially increases complexity for large numbers."
   ]
  },
  {
   "cell_type": "code",
   "execution_count": null,
   "metadata": {},
   "outputs": [],
   "source": [
    "def fibseq(n):\n",
    "    if n <= 1:\n",
    "        return  n\n",
    "    else:\n",
    "        return (fibseq(n-1) + fibseq(n-2))"
   ]
  },
  {
   "cell_type": "markdown",
   "metadata": {},
   "source": [
    "# O(log n)\n",
    "\n",
    "$$ log_3 9 = 2$$\n",
    "\n",
    "$$ log_5 25 = 2$$\n",
    "\n",
    "O(log n) means that the algorithm runs in logarithmic time. This means that as the inputs rises, the amount of time that the algorithm takes to run does not increase linearly (see O(n)). It essentially halves as input increases."
   ]
  },
  {
   "cell_type": "markdown",
   "metadata": {},
   "source": [
    "## How can we find a value in a sorted list:"
   ]
  },
  {
   "cell_type": "code",
   "execution_count": null,
   "metadata": {},
   "outputs": [],
   "source": [
    "lst = [0,1,2,3,4,5,6,7,8,9,10]\n",
    "\n",
    "def find(num, lst):\n",
    "    loops = 0\n",
    "    for index, val in enumerate(lst):\n",
    "        loops += 1\n",
    "        if val == num:\n",
    "            return loops, index\n",
    "    else:\n",
    "        return loops, -1\n",
    "            \n",
    "find(9, lst)"
   ]
  },
  {
   "cell_type": "markdown",
   "metadata": {},
   "source": [
    "### What is a better way?\n",
    "\n",
    "Binary search. It is O(log n) in the worst case.\n",
    "\n",
    "The thinking behind binary search is in these steps:\n",
    "1. Binary search begins by comparing the middle element of the array with the target value.\n",
    "2. If the target value matches the middle element, its position in the array is returned.\n",
    "3. If the target value is less than the middle element, the search continues in the lower half of the array.\n",
    "4. If the target value is greater than the middle element, the search continues in the upper half of the array. By doing this, the algorithm eliminates the half in which the target value cannot lie in each iteration"
   ]
  },
  {
   "cell_type": "markdown",
   "metadata": {},
   "source": [
    "Pseudocode:  \n",
    "    1. Set L to 0 and R to n-1  \n",
    "    2. If L > R search is Unsuccessful  \n",
    "    3. Set m to the floor of ((L+R) / 2),  \n",
    "    4. If A[m] < T, set L = m + 1, and goto step 2.  \n",
    "    5. If A[m] > T, set R = m – 1, and goto step 2.  \n",
    "    6. If A[m] == T, Search is done, return m  "
   ]
  },
  {
   "cell_type": "code",
   "execution_count": null,
   "metadata": {},
   "outputs": [],
   "source": [
    "#%%tutor --lang python3\n",
    "from math import floor\n",
    "\n",
    "def binary_search(Search_Term, Array):\n",
    "    n = len(Array)\n",
    "    L = 0\n",
    "    R = n-1\n",
    "    \n",
    "    while L <= R:\n",
    "        mid = floor((L+R)/2)\n",
    "        if Array[mid] < Search_Term:\n",
    "            L = mid + 1\n",
    "        elif Array[mid] > Search_Term:\n",
    "            R = mid - 1\n",
    "        else:\n",
    "            return mid\n",
    "    return -1\n"
   ]
  },
  {
   "cell_type": "code",
   "execution_count": null,
   "metadata": {},
   "outputs": [],
   "source": [
    "#%%tutor --lang python3\n",
    "lst = [0,1,2,3,4,5,6,7,8,9,10]\n",
    "\n",
    "\n",
    "def binary_search(search, lst):\n",
    "    length = len(lst)\n",
    "    left = 0\n",
    "    right = length - 1\n",
    "    loops = 0\n",
    "    \n",
    "    while left <= right:\n",
    "        loops += 1\n",
    "        mid = (left+right) // 2\n",
    "        if lst[mid] < search:\n",
    "            left = mid + 1\n",
    "        elif lst[mid] > search:\n",
    "            right = mid - 1\n",
    "        else:\n",
    "            return loops, mid\n",
    "    return loops, -1"
   ]
  },
  {
   "cell_type": "code",
   "execution_count": null,
   "metadata": {},
   "outputs": [],
   "source": [
    "binary_search(9, lst)"
   ]
  }
 ],
 "metadata": {
  "kernelspec": {
   "display_name": "Python 3",
   "language": "python",
   "name": "python3"
  },
  "language_info": {
   "codemirror_mode": {
    "name": "ipython",
    "version": 3
   },
   "file_extension": ".py",
   "mimetype": "text/x-python",
   "name": "python",
   "nbconvert_exporter": "python",
   "pygments_lexer": "ipython3",
   "version": "3.8.5"
  }
 },
 "nbformat": 4,
 "nbformat_minor": 4
}
