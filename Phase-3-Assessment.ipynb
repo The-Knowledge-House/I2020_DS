{
 "cells": [
  {
   "cell_type": "markdown",
   "metadata": {},
   "source": [
    "<div style=\"background: #000;\n",
    "            color: #FFF;\n",
    "            margin: 0px;\n",
    "            margin-bottom: 10px;\n",
    "            padding: 10px 0px 20px 0px;\n",
    "            text-align: center; \n",
    "                \">\n",
    "    <h1>Phase 3 Assessment</h1>\n",
    "</div>"
   ]
  },
  {
   "cell_type": "raw",
   "metadata": {},
   "source": [
    "Name:"
   ]
  },
  {
   "cell_type": "markdown",
   "metadata": {},
   "source": [
    "Notes:\n",
    "\n",
    "Please be sure to leave your name in the filename or in this notebook so we know whose work belongs to who. \n",
    "\n",
    "Start with the questions you're able to answer first and then go back to any difficult exercises.\n",
    "\n",
    "For each section, be sure to answer (at minimum) the number of exercises needed per section."
   ]
  },
  {
   "cell_type": "markdown",
   "metadata": {},
   "source": [
    "1. Python Questions - choose **10** exercises out of 20\n",
    "2. SQL Questions - choose **5** exercises out of 10\n",
    "3. Data Science Questions - choose **5** exercises out of 10\n",
    "4. Machine Learning Questions - choose **5** open ended questions out of 10"
   ]
  },
  {
   "cell_type": "markdown",
   "metadata": {},
   "source": [
    "# Python Questions"
   ]
  },
  {
   "cell_type": "markdown",
   "metadata": {},
   "source": [
    "Complete 10 out of 20."
   ]
  },
  {
   "cell_type": "markdown",
   "metadata": {},
   "source": [
    "### Exercise 1\n",
    "\n",
    "Create a function that takes an arbitrary number of keyword arguments and returns two lists: one containing the keys and one containing the values."
   ]
  },
  {
   "cell_type": "code",
   "execution_count": null,
   "metadata": {},
   "outputs": [],
   "source": [
    "from typing import Tuple, List, Dict\n",
    "\n",
    "def exercise_1(**kwargs: Dict) -> Tuple[List, List]:\n",
    "    pass\n",
    "\n",
    "try:\n",
    "    assert(exercise_1() == ([],[]))\n",
    "    assert(isinstance(exercise_1(), Tuple))\n",
    "    assert(isinstance(exercise_1()[0], List))\n",
    "    assert(exercise_1(a=0) == (['a'], [0]))\n",
    "    assert(exercise_1(a=0, b=1) == (['a', 'b'], [0, 1]))\n",
    "    assert(exercise_1(a=0, b=1, c=2) == (['a', 'b', 'c'], [0, 1, 2]))\n",
    "    print(\"solution is correct\")\n",
    "except AssertionError:\n",
    "    print(\"solution is incorrect\")"
   ]
  },
  {
   "cell_type": "markdown",
   "metadata": {},
   "source": [
    "## Exercise 2\n",
    "\n",
    "Given the following list, use slicing to output the second half backwards. Assign it to `exercise_2`.\n",
    "\n",
    "Hint: start by outputting the list backwards."
   ]
  },
  {
   "cell_type": "code",
   "execution_count": null,
   "metadata": {},
   "outputs": [],
   "source": [
    "lst = [\"a\", \"b\", \"c\", 1, 2, 3]\n",
    "\n",
    "exercise_2 = lst\n",
    "\n",
    "\n",
    "try:\n",
    "    assert(exercise_2 == [3, 2, 1])\n",
    "    print(\"solution is correct\")\n",
    "except AssertionError:\n",
    "    print(\"solution is incorrect\")"
   ]
  },
  {
   "cell_type": "markdown",
   "metadata": {},
   "source": [
    "### Exercise 3\n",
    "\n",
    "Create a class called `Circle` that extends the class `Shape`. `Circle` should be initialized with the same arguments as `Shape` but also take a new argument called `radius`. Override the area method so that it calculates the area of a circle using that `radius`.\n",
    "\n",
    "The area of a circle is calculated using the following formula:\n",
    "\n",
    "$$ A = \\pi r^2$$"
   ]
  },
  {
   "cell_type": "code",
   "execution_count": null,
   "metadata": {},
   "outputs": [],
   "source": [
    "class Shape:\n",
    "    def __init__(self, color):\n",
    "        self.color = color\n",
    "        \n",
    "    def area(self):\n",
    "        pass\n",
    "    \n",
    "class Circle(Shape):\n",
    "    pass\n",
    "\n",
    "try:\n",
    "    c = Circle(\"red\", 10)\n",
    "    assert(c.area() == round(314))\n",
    "    print(\"solution is correct\")\n",
    "except AssertionError:\n",
    "    print(\"solution is incorrect\")"
   ]
  },
  {
   "cell_type": "markdown",
   "metadata": {},
   "source": [
    "### Exercise 4\n",
    "\n",
    "Create a dictionary comprehension that generates the following dictionary:\n",
    "```\n",
    "{0:'a', 1:'b', 2:'c', 3:'d', 4:'e'}\n",
    "```\n",
    "\n",
    "Assign the dictionary to `exercise_4`."
   ]
  },
  {
   "cell_type": "code",
   "execution_count": null,
   "metadata": {},
   "outputs": [],
   "source": [
    "exercise_4 = None\n",
    "\n",
    "try:\n",
    "    assert(exercise_4 == {0:'a', 1:'b', 2:'c', 3:'d', 4:'e'})\n",
    "    print(\"solution is correct\")\n",
    "except AssertionError:\n",
    "    print(\"solution is incorrect\")"
   ]
  },
  {
   "cell_type": "markdown",
   "metadata": {},
   "source": [
    "### Exercise 5.\n",
    "\n",
    "Create a lambda expression that takes `a`, `b`, `c` and `x` and calculates the following: \n",
    "\n",
    "$$  \\text{f} = \\frac{2ax^4 + 2bx^3 -2cx^2}{2x^2} $$\n",
    "\n",
    "Bonus points: Can you notice the issue you might have with this equation?"
   ]
  },
  {
   "cell_type": "code",
   "execution_count": null,
   "metadata": {},
   "outputs": [],
   "source": [
    "f = None\n",
    "\n",
    "print(f(0,0,0,2))\n",
    "print(f(2,1,0,2))\n",
    "print(f(5,0,0,2))\n",
    "print(f(5,3,4,2))\n",
    "\n",
    "try:\n",
    "    assert(f(0,0,0,2) == 0)\n",
    "    assert(f(2,1,0,2) == 10)\n",
    "    assert(f(5,0,0,2) == 20)\n",
    "    assert(f(5,3,4,2) == 22)\n",
    "    print(\"solution is correct\")\n",
    "except:\n",
    "    print(\"solution is incorrect\")"
   ]
  },
  {
   "cell_type": "markdown",
   "metadata": {},
   "source": [
    "bonus answer:"
   ]
  },
  {
   "cell_type": "code",
   "execution_count": null,
   "metadata": {},
   "outputs": [],
   "source": []
  },
  {
   "cell_type": "markdown",
   "metadata": {},
   "source": [
    "### Exercise 6.\n",
    "\n",
    "Create a function that outputs a list of all the even numbers from 1 to 500 that are also divisible by 3, 5 **OR** 7.\n",
    "\n",
    "note: there is an **\"or\"** in the statement above."
   ]
  },
  {
   "cell_type": "code",
   "execution_count": null,
   "metadata": {},
   "outputs": [],
   "source": [
    "from hashlib import sha256\n",
    "\n",
    "def exercise_6():\n",
    "    pass\n",
    "\n",
    "try:\n",
    "    assert(sha256(str(exercise_6()).encode('utf-8')).hexdigest() == \"a734160e2cde76ca5e8096e376f05d6c4819a06a23a7e03b1d79b348b4558ba6\" )\n",
    "    print(\"solution is correct\")\n",
    "except AssertionError:\n",
    "    print(\"solution is incorrect\")"
   ]
  },
  {
   "cell_type": "markdown",
   "metadata": {},
   "source": [
    "### Exercise 7.\n",
    "\n",
    "Add a method called `from_full_name` to the following function so that we are able to create an instance of the class by passing the a full name (string of first and last name separated by a space). Do not change anything from the try/except block below. Then create an instance using that method."
   ]
  },
  {
   "cell_type": "code",
   "execution_count": null,
   "metadata": {},
   "outputs": [],
   "source": [
    "import inspect # this is necessary for checking your answer - ignore\n",
    "\n",
    "class Person:\n",
    "    pass\n",
    "\n",
    "try:\n",
    "    p = Person.from_full_name(\"A P\")\n",
    "    assert(getattr(p, 'first_name', None) == \"A\")\n",
    "    assert(getattr(p, 'last_name', None) == \"P\")\n",
    "    assert(inspect.ismethod(Person.from_full_name) and Person.from_full_name.__self__ is Person)\n",
    "    print(\"solution should probably be correct (not guaranteed)\")\n",
    "except AssertionError:\n",
    "    print(\"solution is incorrect\")  "
   ]
  },
  {
   "cell_type": "markdown",
   "metadata": {},
   "source": [
    "### Exercise 8\n",
    "\n",
    "The Towers of Hanoi is a mathematical puzzle whose solution can be found using recursion. There are three pegs which can hold stacks of disks of different diameters. A larger disk may never be stacked on top of a smaller. Starting with n disks on one peg, they must be moved to another peg one at a time.\n",
    "\n",
    "Write a function that calculates the smallest number of steps to move the stack.\n",
    "\n",
    "\n",
    "\n",
    "To calculate this, use the following function:\n",
    "\n",
    "\n",
    "$$ \\begin{equation*}\n",
    "\\text{hanoi}(n) = \\left\\{\n",
    "        \\begin{array}{ll}\n",
    "            1 & \\quad \\text{if} \\, n = 1 \\\\\n",
    "            2 * \\text{hanoi}(n-1) + 1 & \\quad \\text{if} \\, n > 1\n",
    "        \\end{array}\n",
    "    \\right.\n",
    "\\end{equation*} $$"
   ]
  },
  {
   "cell_type": "code",
   "execution_count": null,
   "metadata": {},
   "outputs": [],
   "source": [
    "def hanoi(n):\n",
    "    pass\n",
    "    \n",
    "try:\n",
    "    assert(hanoi(1) == 1)\n",
    "    assert(hanoi(4) == 15)\n",
    "    assert(hanoi(15) == 32767)\n",
    "    print(\"solution is correct\")\n",
    "except AssertionError:\n",
    "    print(\"solution is incorrect\")"
   ]
  },
  {
   "cell_type": "markdown",
   "metadata": {},
   "source": [
    "### Exercise 9\n",
    "\n",
    "Create a function that executes in $O(n^2)$."
   ]
  },
  {
   "cell_type": "code",
   "execution_count": null,
   "metadata": {},
   "outputs": [],
   "source": []
  },
  {
   "cell_type": "markdown",
   "metadata": {},
   "source": [
    "### Exercise 10 \n",
    "\n",
    "Implement a binary search algorithm in python. Use it to search through the given list for `10`.**"
   ]
  },
  {
   "cell_type": "code",
   "execution_count": null,
   "metadata": {},
   "outputs": [],
   "source": [
    "given = [-10, -9, -8, -7, -6, -5, -4, -3, -2, -1, 0]\n",
    "\n",
    "assert(sorted(given) == given)"
   ]
  },
  {
   "cell_type": "code",
   "execution_count": null,
   "metadata": {},
   "outputs": [],
   "source": [
    "from typing import List\n",
    "\n",
    "def binary_search(l: List = given, s: int = 0) -> int:\n",
    "    pass\n",
    "    \n",
    "binary_search()\n",
    "binary_search(s=2)\n",
    "try:\n",
    "    assert(binary_search() == 10)\n",
    "    assert(binary_search(s=2) == -1)\n",
    "    assert(binary_search(s=-5) == 5)\n",
    "    print(\"test passed\")\n",
    "except AssertionError as e:\n",
    "    print(\"test failed\")"
   ]
  },
  {
   "cell_type": "markdown",
   "metadata": {},
   "source": [
    "### Exercise 11 \n",
    "\n",
    "Fix the following code so the function calls work."
   ]
  },
  {
   "cell_type": "code",
   "execution_count": null,
   "metadata": {},
   "outputs": [],
   "source": [
    "class BinaryTree:\n",
    "    def __init__(self, data):\n",
    "        self.left = None\n",
    "        self.right = None\n",
    "        self.data = data\n",
    "\n",
    "    def add(self, data):\n",
    "        # fix this function:\n",
    "        pass\n",
    "        # end of section that needs fixing\n",
    "        \n",
    "    def print(self):\n",
    "        if self.left:\n",
    "            self.left.print()\n",
    "        print(self.data)\n",
    "        if self.right:\n",
    "            self.right.print()  \n",
    "            \n",
    "bt = BinaryTree(5)\n",
    "bt.add(7)\n",
    "bt.add(8)\n",
    "bt.add(3)\n",
    "bt.add(4)\n",
    "bt.print()\n",
    "# if your solution is correct,\n",
    "# you will see all the values [3,4,5,7,8] printed"
   ]
  },
  {
   "cell_type": "markdown",
   "metadata": {},
   "source": [
    "### Exercise 12\n",
    "\n",
    "Write a class that implements a stack. Use any method of your choosing. Your stack must have the following three methods: `push`, `pop`, `peek` (returns next value to be popped)."
   ]
  },
  {
   "cell_type": "code",
   "execution_count": null,
   "metadata": {},
   "outputs": [],
   "source": [
    "class Stack:\n",
    "    pass\n",
    "    \n",
    "# use the following to test your code    \n",
    "try:\n",
    "    s = Stack()\n",
    "    s.push(3)\n",
    "    s.push(4)\n",
    "    s.push(5)\n",
    "    assert(s.pop() == 5)\n",
    "    assert(s.peek() == 4)\n",
    "    print(\"test passed\")\n",
    "except AssertionError:\n",
    "    print(\"test failed.\")"
   ]
  },
  {
   "cell_type": "markdown",
   "metadata": {},
   "source": [
    "### Exercise 13\n",
    "\n",
    "Write a python function that calculates the expected value of the following dictionary containing outcomes (in dollars) and their probabilities.\n",
    "\n",
    "Let $X$ by a random variable with $k$ number of finite outcomes $x_1, x_2,...,x_k$ occurring with probability $p_1, p_1,...,p_k$, respectively. The **expectation** of $X$ is defined as:\n",
    "$$ E[X] = \\sum_{i=1}^{k}{x_i p_i} = x_1p_1 + x_2p_2 + ... + x_kp_k$$"
   ]
  },
  {
   "cell_type": "code",
   "execution_count": null,
   "metadata": {},
   "outputs": [],
   "source": [
    "# os are outcomes\n",
    "os = [-20.0, -10.0, 0.0, 10, 20]\n",
    "# ps are probabilities respectively\n",
    "ps = [0.20, 0.20, 0.20, 0.20, 0.20]\n",
    "\n",
    "def expected_value(outcomes = os, probabilities = ps):\n",
    "    pass\n",
    "\n",
    "try:\n",
    "    assert(expected_value() == 0.0)\n",
    "    print(\"test passed.\")\n",
    "except AssertionError:\n",
    "    print(\"test failed.\")"
   ]
  },
  {
   "cell_type": "markdown",
   "metadata": {},
   "source": [
    "### Exercise 14\n",
    "\n",
    "Create a dataclass called Vector that contains:\n",
    "* two attributes `x` and `y`\n",
    "* a method that overrides the addition operator so you can add two points together\n",
    "* a method called `distance` that calculates the distance between the two points using the distance formula we saw in class:\n",
    "\n",
    "$$ \\text{distance} = \\sqrt{(x_2-x_1)^{2} + (y_2-y_1)^{2} } $$\n"
   ]
  },
  {
   "cell_type": "code",
   "execution_count": null,
   "metadata": {},
   "outputs": [],
   "source": [
    "from typing import List\n",
    "from dataclasses import dataclass\n",
    "\n",
    "@dataclass\n",
    "class Vector:\n",
    "    pass\n",
    "    \n",
    "try:\n",
    "    v_1 = Vector(-4,-4)\n",
    "    v_2 = Vector(3,4)\n",
    "    assert(v_1 + v_2 == Vector(x=-1,y=0))\n",
    "    # this is basically calculating a \n",
    "    # 3-4-5 right triangle\n",
    "    v_1 = Vector(0,0)\n",
    "    v_2 = Vector(3,4)\n",
    "    assert(v_1.distance(v_2) == 5)\n",
    "    assert(v_2.distance(v_1) == 5)\n",
    "    print(\"tests passed\")\n",
    "except AssertionError:\n",
    "    print(\"test failed.\")"
   ]
  },
  {
   "cell_type": "markdown",
   "metadata": {},
   "source": [
    "### Exercise 15\n",
    "\n",
    "Create a generator function that takes a string and returns the next character of the string each time it yields a value."
   ]
  },
  {
   "cell_type": "code",
   "execution_count": null,
   "metadata": {},
   "outputs": [],
   "source": [
    "import types\n",
    "\n",
    "# this is needed for test; do not change\n",
    "s = \"really long string that has a lot of characters in it\"\n",
    "\n",
    "def exercise_15(string=s):\n",
    "    pass\n",
    "\n",
    "try:\n",
    "    gen = exercise_15()\n",
    "    assert(isinstance(gen, types.GeneratorType))\n",
    "    assert((e:= next(gen)) == 'r')\n",
    "    assert(list(gen) == list(s)[1:])\n",
    "    print(\"test passed\")\n",
    "except:\n",
    "    print(\"test failed\")"
   ]
  },
  {
   "cell_type": "markdown",
   "metadata": {},
   "source": [
    "### Exercise 16\n",
    "\n",
    "Create a decorator function that when decorating a function, prints: \n",
    "```\n",
    "***STARTING FUNCTION***\n",
    "```\n",
    "before the function call and \n",
    "```\n",
    "***ENDING FUNCTION CALL***\n",
    "```\n",
    "after calling the function.\n",
    "\n",
    "For bonus points, print the time taken to call the function **and** what the return values are."
   ]
  },
  {
   "cell_type": "code",
   "execution_count": null,
   "metadata": {},
   "outputs": [],
   "source": [
    "import time\n",
    "\n",
    "def decorator_function(func):\n",
    "    pass\n",
    "        \n",
    "@decorator_function\n",
    "def func(n):\n",
    "    time.sleep(1)\n",
    "    return n**2\n",
    "\n",
    "func(100_000_000_000)"
   ]
  },
  {
   "cell_type": "markdown",
   "metadata": {},
   "source": [
    "### Exercise 17\n",
    "\n",
    "Show an example of currying functions: two regular functions and a third that uses the previous two."
   ]
  },
  {
   "cell_type": "code",
   "execution_count": null,
   "metadata": {},
   "outputs": [],
   "source": [
    "# enter your code here\n"
   ]
  },
  {
   "cell_type": "markdown",
   "metadata": {},
   "source": [
    "### Exercise 18\n",
    "\n",
    "Create a function that takes a list of integers and calculates the mean. Use the following formula for calculating averages and not any `mean`/`average` method.\n",
    "\n",
    "$$ \\mu = {\\frac {1}{n}}\\sum _{i=1}^{n}a_{i}={\\frac {a_{1}+a_{2}+\\cdots +a_{n}}{n}}$$"
   ]
  },
  {
   "cell_type": "code",
   "execution_count": null,
   "metadata": {},
   "outputs": [],
   "source": [
    "example_list = [1,2,3,4,5,6,7,8,9]\n",
    "\n"
   ]
  },
  {
   "cell_type": "code",
   "execution_count": null,
   "metadata": {},
   "outputs": [],
   "source": []
  },
  {
   "cell_type": "markdown",
   "metadata": {},
   "source": [
    "### Exercise 19\n",
    "\n",
    "Create a function that uses your favorite standard library module."
   ]
  },
  {
   "cell_type": "code",
   "execution_count": null,
   "metadata": {},
   "outputs": [],
   "source": []
  },
  {
   "cell_type": "markdown",
   "metadata": {},
   "source": [
    "### Exercise 20\n",
    "\n",
    "You are tasked with building a data pipeline that scrapes data, stores it in sql, processes it in numpy/pandas (think exploratory analysis and data cleanup) and uses the data in a K-Means clustering. Write out the steps you would take to complete this task, what the structure of your project would look like and what considerations should be made (e.g. what might become an issue, what decisions must we make, what steps would need to be done first, etc). \n",
    "\n"
   ]
  },
  {
   "cell_type": "code",
   "execution_count": null,
   "metadata": {},
   "outputs": [],
   "source": []
  },
  {
   "cell_type": "markdown",
   "metadata": {},
   "source": [
    "# SQL"
   ]
  },
  {
   "cell_type": "markdown",
   "metadata": {},
   "source": [
    "### Exercise 1\n",
    "\n",
    "Fix the `CREATE` SQL query in the code below to create the following table\n",
    "```\n",
    "table: Employees\n",
    "+----+------+-----+--------+\n",
    "| Id | Name | Age | Salary |\n",
    "+----+------+-----+--------+\n",
    "Id is an integer primary key\n",
    "Name is a not null varchar\n",
    "Age is a not null integer\n",
    "Salary is a not null integer\n",
    "```\n"
   ]
  },
  {
   "cell_type": "code",
   "execution_count": null,
   "metadata": {},
   "outputs": [],
   "source": [
    "import sqlite3\n",
    "\n",
    "sql_commands = \\\n",
    "\"\"\"\n",
    "DROP TABLE IF EXISTS Employee;\n",
    "\n",
    "CREATE TABLE Employee (\n",
    " --fix me\n",
    ");\n",
    "\n",
    "INSERT INTO Employee (Id, Name, Age, Salary) values ('1', 'Employee 1', '29', '100');\n",
    "INSERT INTO Employee (Id, Name, Age, Salary) values ('2', 'Employee 2', '41', '200');\n",
    "INSERT INTO Employee (Id, Name, Age, Salary) values ('3', 'Employee 3', '23', '300');\n",
    "\n",
    "\"\"\"\n",
    "db = sqlite3.connect('phase-3-assessment.db')\n",
    "cursor = db.cursor()\n",
    "cursor.executescript(sql_commands)\n",
    "db.commit()\n",
    "db.close()"
   ]
  },
  {
   "cell_type": "code",
   "execution_count": null,
   "metadata": {},
   "outputs": [],
   "source": [
    "# use this function for your answers.\n",
    "def with_conn(statement):\n",
    "    conn = sqlite3.connect('phase-3-assessment.db')\n",
    "    with conn:\n",
    "        cur = conn.cursor()\n",
    "        cur.execute(statement)\n",
    "        result = cur.fetchall()\n",
    "        return result"
   ]
  },
  {
   "cell_type": "code",
   "execution_count": null,
   "metadata": {},
   "outputs": [],
   "source": [
    "with_conn('SELECT * FROM Employee')"
   ]
  },
  {
   "cell_type": "code",
   "execution_count": null,
   "metadata": {},
   "outputs": [],
   "source": []
  },
  {
   "cell_type": "markdown",
   "metadata": {},
   "source": [
    "\n",
    "### Exercise 2\n",
    "\n",
    "Write a SQL query to get the highest salary from the Employee table.\n",
    "```\n",
    "+----+--------+\n",
    "| Id | Salary |\n",
    "+----+--------+\n",
    "| 1  | 100    |\n",
    "| 2  | 200    |\n",
    "| 3  | 300    |\n",
    "+----+--------+\n",
    "```\n",
    "For example, given the above Employee table, the query should return 300 as the second highest salary. If there is no second highest salary, then the query should return null.\n",
    "```\n",
    "+---------------------+\n",
    "| HighestSalary |\n",
    "+---------------------+\n",
    "| 300                 |\n",
    "+---------------------+\n",
    "```\n"
   ]
  },
  {
   "cell_type": "code",
   "execution_count": null,
   "metadata": {},
   "outputs": [],
   "source": [
    "import sqlite3\n",
    "\n",
    "sql_commands = \\\n",
    "\"\"\"\n",
    "DROP TABLE IF EXISTS Employee;\n",
    "\n",
    "CREATE TABLE Employee (\n",
    " Id INTEGER NOT NULL PRIMARY KEY,\n",
    " Salary INTEGER NOT NULL\n",
    ");\n",
    "\n",
    "INSERT INTO Employee (Id, Salary) values ('1', '100');\n",
    "INSERT INTO Employee (Id, Salary) values ('2', '200');\n",
    "INSERT INTO Employee (Id, Salary) values ('3', '300');\n",
    "\n",
    "\"\"\"\n",
    "db = sqlite3.connect('phase-3-assessment.db')\n",
    "cursor = db.cursor()\n",
    "cursor.executescript(sql_commands)\n",
    "db.commit()\n",
    "db.close()"
   ]
  },
  {
   "cell_type": "code",
   "execution_count": null,
   "metadata": {},
   "outputs": [],
   "source": [
    "# use this function for your answers.\n",
    "def with_conn(statement):\n",
    "    conn = sqlite3.connect('phase-3-assessment.db')\n",
    "    with conn:\n",
    "        cur = conn.cursor()\n",
    "        cur.execute(statement)\n",
    "        result = cur.fetchall()\n",
    "        return result"
   ]
  },
  {
   "cell_type": "code",
   "execution_count": null,
   "metadata": {},
   "outputs": [],
   "source": [
    "with_conn('SELECT * FROM Employee')"
   ]
  },
  {
   "cell_type": "code",
   "execution_count": null,
   "metadata": {},
   "outputs": [],
   "source": []
  },
  {
   "cell_type": "markdown",
   "metadata": {},
   "source": [
    "### Exercise 3\n",
    "\n",
    "Write the SQL query/queries that updates the following table so that any user that has an email address is verified.\n",
    "```\n",
    "table: User\n",
    "+----+----------+---------+----------+\n",
    "| id | username |  email  | verified |\n",
    "+----+----------+---------+----------+\n",
    "| 1  | platano  | p@pm.me | false    |\n",
    "| 2  | unknown  | u@pm.me | false    |\n",
    "| 3  | malcolm  |         | false    |\n",
    "+----+----------+---------+----------+\n",
    "```\n"
   ]
  },
  {
   "cell_type": "code",
   "execution_count": null,
   "metadata": {},
   "outputs": [],
   "source": [
    "import sqlite3\n",
    "\n",
    "sql_commands = \\\n",
    "\"\"\"\n",
    "DROP TABLE IF EXISTS User;\n",
    "\n",
    "CREATE TABLE User (\n",
    " id INTEGER NOT NULL PRIMARY KEY,\n",
    " username VARCHAR(30) NOT NULL,\n",
    " email VARCHAR(30),\n",
    " verified BOOL\n",
    ");\n",
    "\n",
    "INSERT INTO User (username, email, verified) VALUES ('platano', 'p@pm.me', 'false');\n",
    "INSERT INTO User (username, email, verified) VALUES ('unknown', 'u@pm.me', 'false');\n",
    "INSERT INTO User (username, verified) VALUES ('malcolm', 'false');\n",
    "\n",
    "\"\"\"\n",
    "db = sqlite3.connect('phase-3-assessment.db')\n",
    "cursor = db.cursor()\n",
    "cursor.executescript(sql_commands)\n",
    "db.commit()\n",
    "db.close()"
   ]
  },
  {
   "cell_type": "code",
   "execution_count": null,
   "metadata": {},
   "outputs": [],
   "source": [
    "# use this function for your answers.\n",
    "def with_conn(statement):\n",
    "    conn = sqlite3.connect('phase-3-assessment.db')\n",
    "    with conn:\n",
    "        cur = conn.cursor()\n",
    "        cur.execute(statement)\n",
    "        result = cur.fetchall()\n",
    "        return result"
   ]
  },
  {
   "cell_type": "code",
   "execution_count": null,
   "metadata": {},
   "outputs": [],
   "source": [
    "with_conn('SELECT * FROM User')"
   ]
  },
  {
   "cell_type": "code",
   "execution_count": null,
   "metadata": {},
   "outputs": [],
   "source": [
    "with_conn('')"
   ]
  },
  {
   "cell_type": "markdown",
   "metadata": {},
   "source": [
    "### Exercise 4\n",
    "\n",
    "Write the SQL query/queries that deletes rows from the following table if the user that has no email.\n",
    "```\n",
    "table: User\n",
    "+----+----------+---------+----------+\n",
    "| id | username |  email  | verified |\n",
    "+----+----------+---------+----------+\n",
    "| 1  | platano  | p@pm.me | false    |\n",
    "| 2  | unknown  | u@pm.me | false    |\n",
    "| 3  | malcolm  |         | false    |\n",
    "+----+----------+---------+----------+\n",
    "```\n"
   ]
  },
  {
   "cell_type": "code",
   "execution_count": null,
   "metadata": {},
   "outputs": [],
   "source": [
    "import sqlite3\n",
    "\n",
    "sql_commands = \\\n",
    "\"\"\"\n",
    "DROP TABLE IF EXISTS User;\n",
    "\n",
    "CREATE TABLE User (\n",
    " id INTEGER NOT NULL PRIMARY KEY,\n",
    " username VARCHAR(30) NOT NULL,\n",
    " email VARCHAR(30),\n",
    " verified BOOL\n",
    ");\n",
    "\n",
    "INSERT INTO User (username, email, verified) VALUES ('platano', 'p@pm.me', 'false');\n",
    "INSERT INTO User (username, email, verified) VALUES ('unknown', 'u@pm.me', 'false');\n",
    "INSERT INTO User (username, verified) VALUES ('malcolm', 'false');\n",
    "\n",
    "\"\"\"\n",
    "db = sqlite3.connect('phase-3-assessment.db')\n",
    "cursor = db.cursor()\n",
    "cursor.executescript(sql_commands)\n",
    "db.commit()\n",
    "db.close()"
   ]
  },
  {
   "cell_type": "code",
   "execution_count": null,
   "metadata": {},
   "outputs": [],
   "source": [
    "# use this function for your answers.\n",
    "def with_conn(statement):\n",
    "    conn = sqlite3.connect('phase-3-assessment.db')\n",
    "    with conn:\n",
    "        cur = conn.cursor()\n",
    "        cur.execute(statement)\n",
    "        result = cur.fetchall()\n",
    "        return result"
   ]
  },
  {
   "cell_type": "code",
   "execution_count": null,
   "metadata": {},
   "outputs": [],
   "source": [
    "with_conn('SELECT * FROM User')"
   ]
  },
  {
   "cell_type": "code",
   "execution_count": null,
   "metadata": {},
   "outputs": [],
   "source": [
    "with_conn('')"
   ]
  },
  {
   "cell_type": "code",
   "execution_count": null,
   "metadata": {},
   "outputs": [],
   "source": []
  },
  {
   "cell_type": "markdown",
   "metadata": {},
   "source": [
    "### Exercise 5\n",
    "\n",
    "Write the SQL query/queries that inserts 5 students into the following table. Use a select statement to demonstrate that it works.\n",
    "```\n",
    "table: User\n",
    "+----+----------+---------+----------+\n",
    "| id | username |  email  | verified |\n",
    "+----+----------+---------+----------+\n",
    "| 1  | platano  | p@pm.me | false    |\n",
    "| 2  | unknown  | u@pm.me | false    |\n",
    "| 3  | malcolm  |         | false    |\n",
    "+----+----------+---------+----------+\n",
    "```\n"
   ]
  },
  {
   "cell_type": "code",
   "execution_count": null,
   "metadata": {},
   "outputs": [],
   "source": [
    "import sqlite3\n",
    "\n",
    "sql_commands = \\\n",
    "\"\"\"\n",
    "DROP TABLE IF EXISTS Student;\n",
    "\n",
    "CREATE TABLE Student (\n",
    " id INTEGER NOT NULL PRIMARY KEY,\n",
    " name VARCHAR(30) NOT NULL,\n",
    " class VARCHAR(30) NOT NULL,\n",
    " email VARCHAR(30),\n",
    " passing BOOL NOT NULL\n",
    ");\n",
    "\"\"\"\n",
    "db = sqlite3.connect('phase-3-assessment.db')\n",
    "cursor = db.cursor()\n",
    "cursor.executescript(sql_commands)\n",
    "db.commit()\n",
    "db.close()"
   ]
  },
  {
   "cell_type": "code",
   "execution_count": null,
   "metadata": {},
   "outputs": [],
   "source": [
    "# use this function for your answers.\n",
    "def with_conn(statement):\n",
    "    conn = sqlite3.connect('phase-3-assessment.db')\n",
    "    with conn:\n",
    "        cur = conn.cursor()\n",
    "        cur.execute(statement)\n",
    "        result = cur.fetchall()\n",
    "        return result"
   ]
  },
  {
   "cell_type": "code",
   "execution_count": null,
   "metadata": {},
   "outputs": [],
   "source": [
    "with_conn('')"
   ]
  },
  {
   "cell_type": "code",
   "execution_count": null,
   "metadata": {},
   "outputs": [],
   "source": [
    "with_conn('SELECT * FROM Student')"
   ]
  },
  {
   "cell_type": "code",
   "execution_count": null,
   "metadata": {},
   "outputs": [],
   "source": []
  },
  {
   "cell_type": "markdown",
   "metadata": {},
   "source": [
    "### Exercise 6\n",
    "\n",
    "Insert rows into the Student table using the rows in the People table.\n",
    "\n",
    "hint: Use a `SELECT` subquery.\n",
    "```\n",
    "table: Student\n",
    "+----+----------+---------+----------+\n",
    "| id | username |  email  | verified |\n",
    "+----+----------+---------+----------+\n",
    "| 1  | platano  | p@pm.me | false    |\n",
    "| 2  | unknown  | u@pm.me | false    |\n",
    "| 3  | malcolm  |         | false    |\n",
    "+----+----------+---------+----------+\n",
    "```\n"
   ]
  },
  {
   "cell_type": "code",
   "execution_count": null,
   "metadata": {},
   "outputs": [],
   "source": [
    "import sqlite3\n",
    "\n",
    "sql_commands = \\\n",
    "\"\"\"\n",
    "DROP TABLE IF EXISTS Student;\n",
    "DROP TABLE IF EXISTS People;\n",
    "\n",
    "CREATE TABLE Student (\n",
    " id INTEGER NOT NULL PRIMARY KEY,\n",
    " name VARCHAR(30) NOT NULL,\n",
    " class VARCHAR(30),\n",
    " email VARCHAR(30),\n",
    " passing BOOL\n",
    ");\n",
    "\n",
    "Create TABLE People (\n",
    " id INTEGER NOT NULL PRIMARY KEY,\n",
    " name VARCHAR(30) NOT NULL,\n",
    " email VARCHAR(30) NOT NULL\n",
    ");\n",
    "\n",
    "INSERT INTO People (name, email) VALUES ('platano man', 'p@pm.me');\n",
    "INSERT INTO People (name, email) VALUES ('unknown person', 'u@pm.me');\n",
    "\n",
    "\"\"\"\n",
    "db = sqlite3.connect('phase-3-assessment.db')\n",
    "cursor = db.cursor()\n",
    "cursor.executescript(sql_commands)\n",
    "db.commit()\n",
    "db.close()"
   ]
  },
  {
   "cell_type": "code",
   "execution_count": null,
   "metadata": {},
   "outputs": [],
   "source": [
    "# use this function for your answers.\n",
    "def with_conn(statement):\n",
    "    conn = sqlite3.connect('phase-3-assessment.db')\n",
    "    with conn:\n",
    "        cur = conn.cursor()\n",
    "        cur.execute(statement)\n",
    "        result = cur.fetchall()\n",
    "        return result"
   ]
  },
  {
   "cell_type": "code",
   "execution_count": null,
   "metadata": {},
   "outputs": [],
   "source": [
    "with_conn('SELECT * FROM Student')"
   ]
  },
  {
   "cell_type": "code",
   "execution_count": null,
   "metadata": {},
   "outputs": [],
   "source": [
    "with_conn('')"
   ]
  },
  {
   "cell_type": "code",
   "execution_count": null,
   "metadata": {},
   "outputs": [],
   "source": []
  },
  {
   "cell_type": "markdown",
   "metadata": {},
   "source": [
    "### Exercise 7\n",
    "\n",
    "Suppose that a website contains two tables, the Customers table and the Orders table. Write a SQL query to find all customers who never order anything.\n",
    "```\n",
    "Table: Customers.\n",
    "\n",
    "+----+-------+\n",
    "| Id | Name  |\n",
    "+----+-------+\n",
    "| 1  | Joe   |\n",
    "| 2  | Henry |\n",
    "| 3  | Sam   |\n",
    "| 4  | Max   |\n",
    "+----+-------+\n",
    "\n",
    "Table: Orders.\n",
    "\n",
    "+----+------------+\n",
    "| Id | CustomerId |\n",
    "+----+------------+\n",
    "| 1  | 3          |\n",
    "| 2  | 1          |\n",
    "+----+------------+\n",
    "```\n",
    "Using the above tables as example, return the following:\n",
    "```\n",
    "+-----------+\n",
    "| Customers |\n",
    "+-----------+\n",
    "| Henry     |\n",
    "| Max       |\n",
    "+-----------+\n",
    "```\n"
   ]
  },
  {
   "cell_type": "code",
   "execution_count": null,
   "metadata": {},
   "outputs": [],
   "source": [
    "import sqlite3\n",
    "\n",
    "sql_commands = \\\n",
    "\"\"\"\n",
    "PRAGMA foreign_keys = ON;\n",
    "\n",
    "DROP TABLE IF EXISTS Customers;\n",
    "DROP TABLE IF EXISTS Orders;\n",
    "\n",
    "CREATE TABLE Customers (\n",
    " Id INTEGER NOT NULL PRIMARY KEY,\n",
    " Name NVARCHAR(255)\n",
    ");\n",
    "\n",
    "CREATE TABLE Orders (\n",
    " Id INTEGER NOT NULL PRIMARY KEY,\n",
    " CustomerId INTEGERY NOT NULL,\n",
    " FOREIGN KEY(CustomerId) REFERENCES Customers(Id)\n",
    ");\n",
    "\n",
    "INSERT INTO Customers (Id, Name) VALUES ('1', 'Joe');\n",
    "INSERT INTO Customers (Id, Name) VALUES ('2', 'Henry');\n",
    "INSERT INTO Customers (Id, Name) VALUES ('3', 'Sam');\n",
    "INSERT INTO Customers (Id, Name) VALUES ('4', 'Max');\n",
    "INSERT INTO Orders (Id, CustomerId) VALUES ('1', '3');\n",
    "INSERT INTO Orders (Id, CustomerId) VALUES ('2', '1');\n",
    "\"\"\"\n",
    "db = sqlite3.connect('phase-3-assessment.db')\n",
    "cursor = db.cursor()\n",
    "cursor.executescript(sql_commands)\n",
    "db.commit()\n",
    "db.close()"
   ]
  },
  {
   "cell_type": "code",
   "execution_count": null,
   "metadata": {},
   "outputs": [],
   "source": [
    "# use this function for your answers.\n",
    "def with_conn(statement):\n",
    "    conn = sqlite3.connect('phase-3-assessment.db')\n",
    "    with conn:\n",
    "        cur = conn.cursor()\n",
    "        cur.execute(statement)\n",
    "        result = cur.fetchall()\n",
    "        return result"
   ]
  },
  {
   "cell_type": "code",
   "execution_count": null,
   "metadata": {},
   "outputs": [],
   "source": [
    "with_conn('SELECT * FROM Customers')"
   ]
  },
  {
   "cell_type": "code",
   "execution_count": null,
   "metadata": {},
   "outputs": [],
   "source": [
    "with_conn('SELECT * FROM Orders')"
   ]
  },
  {
   "cell_type": "code",
   "execution_count": null,
   "metadata": {},
   "outputs": [],
   "source": [
    "with_conn('')"
   ]
  },
  {
   "cell_type": "code",
   "execution_count": null,
   "metadata": {},
   "outputs": [],
   "source": []
  },
  {
   "cell_type": "markdown",
   "metadata": {},
   "source": [
    "### Exercise 8\n",
    "\n",
    "Table `my_numbers` contains many numbers in column `num` including duplicated ones as well as a value in corresponding column `val`.\n",
    "Can you write a SQL query to find the biggest `num` for all rows that have val `A`.\n",
    "```\n",
    "+---+---+\n",
    "|num|val|\n",
    "+---+---+\n",
    "| 8 | A |\n",
    "| 7 | A |\n",
    "| 3 | A |\n",
    "| 3 | A |\n",
    "| 1 | B |\n",
    "| 4 | B |\n",
    "| 5 | B |\n",
    "| 6 | B |\n",
    "```\n",
    "For the sample data above, your query should return the following result:\n",
    "```\n",
    "+---+---+\n",
    "|num|val|\n",
    "+---+---+\n",
    "| 8 | A |\n",
    "```\n"
   ]
  },
  {
   "cell_type": "code",
   "execution_count": null,
   "metadata": {},
   "outputs": [],
   "source": [
    "import sqlite3\n",
    "\n",
    "sql_commands = \\\n",
    "\"\"\"\n",
    "DROP TABLE IF EXISTS my_numbers;\n",
    "\n",
    "CREATE TABLE my_numbers (\n",
    " id INTEGER NOT NULL PRIMARY KEY,\n",
    " num INTEGER NOT NULL,\n",
    " val VARCHAR(1) NOT NULL\n",
    ");\n",
    "\n",
    "INSERT INTO my_numbers (num, val) VALUES ('8', 'A');\n",
    "INSERT INTO my_numbers (num, val) VALUES ('7', 'A');\n",
    "INSERT INTO my_numbers (num, val) VALUES ('3', 'A');\n",
    "INSERT INTO my_numbers (num, val) VALUES ('3', 'A');\n",
    "INSERT INTO my_numbers (num, val) VALUES ('1', 'B');\n",
    "INSERT INTO my_numbers (num, val) VALUES ('4', 'B');\n",
    "INSERT INTO my_numbers (num, val) VALUES ('5', 'B');\n",
    "INSERT INTO my_numbers (num, val) VALUES ('6', 'B');\n",
    "\"\"\"\n",
    "db = sqlite3.connect('phase-3-assessment.db')\n",
    "cursor = db.cursor()\n",
    "cursor.executescript(sql_commands)\n",
    "db.commit()\n",
    "db.close()"
   ]
  },
  {
   "cell_type": "code",
   "execution_count": null,
   "metadata": {},
   "outputs": [],
   "source": [
    "# use this function for your answers.\n",
    "def with_conn(statement):\n",
    "    conn = sqlite3.connect('phase-3-assessment.db')\n",
    "    with conn:\n",
    "        cur = conn.cursor()\n",
    "        cur.execute(statement)\n",
    "        result = cur.fetchall()\n",
    "        return result"
   ]
  },
  {
   "cell_type": "code",
   "execution_count": null,
   "metadata": {},
   "outputs": [],
   "source": [
    "with_conn('SELECT * FROM my_numbers;')"
   ]
  },
  {
   "cell_type": "code",
   "execution_count": null,
   "metadata": {},
   "outputs": [],
   "source": []
  },
  {
   "cell_type": "markdown",
   "metadata": {},
   "source": [
    "### Exercise 9\n",
    "\n",
    "Table `numbers` contains many numbers in column `num`\n",
    "Can you write a SQL query that sums the `num` column for all rows that have vals that are `B`.\n",
    "```\n",
    "+---+---+\n",
    "|num|val|\n",
    "+---+---+\n",
    "| 8 | A |\n",
    "| 7 | A |\n",
    "| 3 | A |\n",
    "| 3 | A |\n",
    "| 1 | B |\n",
    "| 4 | B |\n",
    "| 5 | B |\n",
    "| 6 | B |\n",
    "```\n",
    "For the sample data above, your query should return the following result:\n",
    "```\n",
    "+---+---+\n",
    "|num|val|\n",
    "+---+---+\n",
    "| 8 | A |\n",
    "```\n"
   ]
  },
  {
   "cell_type": "code",
   "execution_count": null,
   "metadata": {},
   "outputs": [],
   "source": [
    "import sqlite3\n",
    "\n",
    "sql_commands = \\\n",
    "\"\"\"\n",
    "DROP TABLE IF EXISTS numbers;\n",
    "\n",
    "CREATE TABLE numbers (\n",
    " id INTEGER NOT NULL PRIMARY KEY,\n",
    " num INTEGER NOT NULL,\n",
    " val VARCHAR(1) NOT NULL\n",
    ");\n",
    "\n",
    "INSERT INTO numbers (num, val) VALUES ('8', 'A');\n",
    "INSERT INTO numbers (num, val) VALUES ('7', 'A');\n",
    "INSERT INTO numbers (num, val) VALUES ('3', 'A');\n",
    "INSERT INTO numbers (num, val) VALUES ('3', 'A');\n",
    "INSERT INTO numbers (num, val) VALUES ('1', 'B');\n",
    "INSERT INTO numbers (num, val) VALUES ('4', 'B');\n",
    "INSERT INTO numbers (num, val) VALUES ('5', 'B');\n",
    "INSERT INTO numbers (num, val) VALUES ('6', 'B');\n",
    "\"\"\"\n",
    "db = sqlite3.connect('phase-3-assessment.db')\n",
    "cursor = db.cursor()\n",
    "cursor.executescript(sql_commands)\n",
    "db.commit()\n",
    "db.close()"
   ]
  },
  {
   "cell_type": "code",
   "execution_count": null,
   "metadata": {},
   "outputs": [],
   "source": [
    "# use this function for your answers.\n",
    "def with_conn(statement):\n",
    "    conn = sqlite3.connect('phase-3-assessment.db')\n",
    "    with conn:\n",
    "        cur = conn.cursor()\n",
    "        cur.execute(statement)\n",
    "        result = cur.fetchall()\n",
    "        return result"
   ]
  },
  {
   "cell_type": "code",
   "execution_count": null,
   "metadata": {},
   "outputs": [],
   "source": [
    "with_conn('SELECT * FROM numbers;')"
   ]
  },
  {
   "cell_type": "code",
   "execution_count": null,
   "metadata": {},
   "outputs": [],
   "source": []
  },
  {
   "cell_type": "markdown",
   "metadata": {},
   "source": [
    "### Exercise 10\n",
    "\n",
    "```\n",
    "Table: Customers\n",
    "\n",
    "+---------------------+---------+\n",
    "| Column Name         | Type    |\n",
    "+---------------------+---------+\n",
    "| customer_id         | int     |\n",
    "| customer_name       | varchar |\n",
    "+---------------------+---------+\n",
    "customer_id is the primary key for this table.\n",
    "customer_name is the name of the customer.\n",
    "\n",
    " \n",
    "\n",
    "Table: Orders\n",
    "\n",
    "+---------------+---------+\n",
    "| Column Name   | Type    |\n",
    "+---------------+---------+\n",
    "| order_id      | int     |\n",
    "| customer_id   | int     |\n",
    "| product_name  | varchar |\n",
    "+---------------+---------+\n",
    "order_id is the primary key for this table.\n",
    "customer_id is the id of the customer who bought the product \"product_name\".\n",
    "```\n",
    "\n",
    "Write an SQL query to report the customer_id and customer_name of customers who bought products \"A\", \"B\" but did not buy the product \"C\" since we want to recommend them buy this product.\n",
    "\n",
    "Return the result table ordered by customer_id.\n",
    "\n",
    "The query result format is in the following example.\n",
    "\n",
    " \n",
    "```\n",
    "Customers table:\n",
    "+-------------+---------------+\n",
    "| customer_id | customer_name |\n",
    "+-------------+---------------+\n",
    "| 1           | Daniel        |\n",
    "| 2           | Diana         |\n",
    "| 3           | Elizabeth     |\n",
    "| 4           | Jhon          |\n",
    "+-------------+---------------+\n",
    "\n",
    "Orders table:\n",
    "+------------+--------------+---------------+\n",
    "| order_id   | customer_id  | product_name  |\n",
    "+------------+--------------+---------------+\n",
    "| 10         |     1        |     A         |\n",
    "| 20         |     1        |     B         |\n",
    "| 30         |     1        |     D         |\n",
    "| 40         |     1        |     C         |\n",
    "| 50         |     2        |     A         |\n",
    "| 60         |     3        |     A         |\n",
    "| 70         |     3        |     B         |\n",
    "| 80         |     3        |     D         |\n",
    "| 90         |     4        |     C         |\n",
    "+------------+--------------+---------------+\n",
    "\n",
    "Result table:\n",
    "+-------------+---------------+\n",
    "| customer_id | customer_name |\n",
    "+-------------+---------------+\n",
    "| 3           | Elizabeth     |\n",
    "+-------------+---------------+\n",
    "Only the customer_id with id 3 bought the product A and B but not the product C.\n",
    "```"
   ]
  },
  {
   "cell_type": "code",
   "execution_count": null,
   "metadata": {},
   "outputs": [],
   "source": [
    "import sqlite3\n",
    "\n",
    "sql_commands = \\\n",
    "\"\"\"\n",
    "DROP TABLE IF EXISTS Customers;\n",
    "DROP TABLE IF EXISTS Orders;\n",
    "\n",
    "CREATE TABLE Customers (\n",
    " customer_id INTEGER NOT NULL PRIMARY KEY,\n",
    " customer_name NVARCHAR(30)\n",
    ");\n",
    "\n",
    "CREATE TABLE Orders (\n",
    " order_id INTEGER NOT NULL PRIMARY KEY,\n",
    " customer_id INTEGER NOT NULL,\n",
    " product_name VARCHAR(30)\n",
    ");\n",
    "\n",
    "INSERT INTO Customers (customer_id, customer_name ) VALUES ('1', 'Daniel');\n",
    "INSERT INTO Customers (customer_id, customer_name ) VALUES ('2', 'Diana');\n",
    "INSERT INTO Customers (customer_id, customer_name ) VALUES ('3', 'Elizabeth');\n",
    "INSERT INTO Customers (customer_id, customer_name ) VALUES ('4', 'Jhon');\n",
    "\n",
    "INSERT INTO Orders (order_id, customer_id, product_name) VALUES ('10', '1', 'A');\n",
    "INSERT INTO Orders (order_id, customer_id, product_name) VALUES ('20', '1', 'B');\n",
    "INSERT INTO Orders (order_id, customer_id, product_name) VALUES ('30', '1', 'D');\n",
    "INSERT INTO Orders (order_id, customer_id, product_name) VALUES ('40', '1', 'C');\n",
    "INSERT INTO Orders (order_id, customer_id, product_name) VALUES ('50', '2', 'A');\n",
    "INSERT INTO Orders (order_id, customer_id, product_name) VALUES ('60', '3', 'A');\n",
    "INSERT INTO Orders (order_id, customer_id, product_name) VALUES ('70', '3', 'B');\n",
    "INSERT INTO Orders (order_id, customer_id, product_name) VALUES ('80', '3', 'D');\n",
    "INSERT INTO Orders (order_id, customer_id, product_name) VALUES ('90', '4', 'C');\n",
    "\"\"\"\n",
    "\n",
    "db = sqlite3.connect('phase-3-assessment.db')\n",
    "cursor = db.cursor()\n",
    "cursor.executescript(sql_commands)\n",
    "db.commit()\n",
    "db.close()"
   ]
  },
  {
   "cell_type": "code",
   "execution_count": null,
   "metadata": {},
   "outputs": [],
   "source": [
    "# use this function for your answers.\n",
    "def with_conn(statement):\n",
    "    conn = sqlite3.connect('phase-3-assessment.db')\n",
    "    with conn:\n",
    "        cur = conn.cursor()\n",
    "        cur.execute(statement)\n",
    "        result = cur.fetchall()\n",
    "        return result"
   ]
  },
  {
   "cell_type": "code",
   "execution_count": null,
   "metadata": {},
   "outputs": [],
   "source": [
    "with_conn(\"SELECT * FROM Customers;\")"
   ]
  },
  {
   "cell_type": "code",
   "execution_count": null,
   "metadata": {},
   "outputs": [],
   "source": [
    "with_conn(\"SELECT * FROM Orders;\")"
   ]
  },
  {
   "cell_type": "code",
   "execution_count": null,
   "metadata": {},
   "outputs": [],
   "source": []
  },
  {
   "cell_type": "markdown",
   "metadata": {},
   "source": [
    "# Data Science\n",
    "Complete 5 out of 10"
   ]
  },
  {
   "cell_type": "code",
   "execution_count": null,
   "metadata": {},
   "outputs": [],
   "source": [
    "import numpy as np\n",
    "import pandas as pd\n",
    "import matplotlib.pyplot as plt\n",
    "import seaborn as sns\n",
    "# you can optionally choose to import and use bokeh"
   ]
  },
  {
   "cell_type": "markdown",
   "metadata": {},
   "source": [
    "### Exercise 1\n",
    "\n",
    "Create an array that contains the values of $y$ for each of the $x$ values ranging from 0 to 100. Then chart the relationship.\n",
    "\n",
    "$$ y = 25x+10  $$"
   ]
  },
  {
   "cell_type": "code",
   "execution_count": null,
   "metadata": {},
   "outputs": [],
   "source": []
  },
  {
   "cell_type": "markdown",
   "metadata": {},
   "source": [
    "### Exercise 2\n",
    "\n",
    "Create a 2-dimensional array that contains the numbers from 1 to 20 with even numbers in the first column and odd numbers in the second."
   ]
  },
  {
   "cell_type": "code",
   "execution_count": null,
   "metadata": {},
   "outputs": [],
   "source": []
  },
  {
   "cell_type": "markdown",
   "metadata": {},
   "source": [
    "### Exercise 3\n",
    "\n",
    "Create an array with random numbers between 0 and 1."
   ]
  },
  {
   "cell_type": "code",
   "execution_count": null,
   "metadata": {},
   "outputs": [],
   "source": []
  },
  {
   "cell_type": "markdown",
   "metadata": {},
   "source": [
    "### Exercise 4\n",
    "\n",
    "Create an array that contains 10 numbers. All of them between 0 and 5. Then add that to an array that contains the numbers from 5 to 10."
   ]
  },
  {
   "cell_type": "code",
   "execution_count": null,
   "metadata": {},
   "outputs": [],
   "source": []
  },
  {
   "cell_type": "markdown",
   "metadata": {},
   "source": [
    "### Exercise 5\n",
    "\n",
    "Given the following array, find the cumulative sum along the rows. Then find the cumulative sum along the columns. Then output the 2nd (1st index) column but only the first 10 rows. You should get a very recognizable pattern."
   ]
  },
  {
   "cell_type": "code",
   "execution_count": null,
   "metadata": {},
   "outputs": [],
   "source": [
    "a = np.array([[0,1,2,3,4,5,6,7,8,9,10],[1,2,3,4,5,6,7,8,9,10,0], [2,3,4,5,6,7,8,9,10,0,1], [3,4,5,6,7,8,9,10,0,1,2],[4,5,6,7,8,9,10,0,1,2,3],[5,6,7,8,9,10,0,1,2,3,4],[6,7,8,9,10,0,1,2,3,4,5],[7,8,9,10,0,1,2,3,4,5,6],[8,9,10,0,1,2,3,4,5,6,7],[9,10,0,1,2,3,4,5,6,7,8],[10,0,1,2,3,4,5,6,7,8,9]])\n"
   ]
  },
  {
   "cell_type": "markdown",
   "metadata": {},
   "source": [
    "### Exercise 6"
   ]
  },
  {
   "cell_type": "markdown",
   "metadata": {},
   "source": [
    "Create a dataframe using the following:"
   ]
  },
  {
   "cell_type": "code",
   "execution_count": null,
   "metadata": {},
   "outputs": [],
   "source": [
    "lst = [['Red',4],['Blue',6],['Green',1],\\\n",
    "       ['Yellow',5],['White',3],['Black',2],]\n"
   ]
  },
  {
   "cell_type": "markdown",
   "metadata": {},
   "source": [
    "Create a dataframe using the following:"
   ]
  },
  {
   "cell_type": "code",
   "execution_count": null,
   "metadata": {},
   "outputs": [],
   "source": [
    "dct = {'red':4, 'blue':6, 'green':1,\\\n",
    "       'yellow':5, 'white':3, 'black':2 }\n"
   ]
  },
  {
   "cell_type": "markdown",
   "metadata": {},
   "source": [
    "**The following exercises will use the dataset imported below:**"
   ]
  },
  {
   "cell_type": "code",
   "execution_count": null,
   "metadata": {},
   "outputs": [],
   "source": [
    "df = pd.DataFrame([[2019,'Toyota','Camry',336978, 24765,np.nan],[np.NaN,'Toyota','Corolla',304850, np.nan,4560556],[2019,np.nan,'Supra',2884, 35545,np.nan],[2019,'Toyota','Avalon',27767 ,np.nan,1012940.16]])\n",
    "df.columns = ['year', 'make', 'model', 'number sold', 'price', 'revenue (in thousands)']\n",
    "df"
   ]
  },
  {
   "cell_type": "markdown",
   "metadata": {},
   "source": [
    "### Exercise 7\n",
    "\n",
    "a. Fix the `year` column in the dataframe by replacing missing values with the average value of that column."
   ]
  },
  {
   "cell_type": "code",
   "execution_count": null,
   "metadata": {},
   "outputs": [],
   "source": []
  },
  {
   "cell_type": "markdown",
   "metadata": {},
   "source": [
    "\n",
    "b. Fix the `'make'` column by replacing the missing value with the value that occurred most frequently (mode)."
   ]
  },
  {
   "cell_type": "code",
   "execution_count": null,
   "metadata": {},
   "outputs": [],
   "source": []
  },
  {
   "cell_type": "markdown",
   "metadata": {},
   "source": [
    "**note: for the following exercises, remember that revenue in the dataframe is the revenue divided by 1000 (so multiply by 1000 to get true revenue).**\n",
    "\n",
    "### Exercise 8\n",
    "\n",
    "Fix the `'revenue (in thousands)'` column by calculating the approximate revenue. Remember that the value of `'revenue'` is in the 1000s.\n",
    "\n",
    "$$ \\textrm{revenue} = \\textrm{number sold} * \\textrm{price} $$"
   ]
  },
  {
   "cell_type": "code",
   "execution_count": null,
   "metadata": {},
   "outputs": [],
   "source": []
  },
  {
   "cell_type": "markdown",
   "metadata": {},
   "source": [
    "### Exercise 9\n",
    "\n",
    "Fix the `'price'` column by calculating the approximate price.\n",
    "\n",
    "$$ \\textrm{price} = \\frac{\\textrm{revenue}}{\\textrm{number sold}} $$"
   ]
  },
  {
   "cell_type": "code",
   "execution_count": null,
   "metadata": {},
   "outputs": [],
   "source": []
  },
  {
   "cell_type": "markdown",
   "metadata": {},
   "source": [
    "### Exercise 10\n",
    "\n",
    "Fix the `'number sold'` column by calculating the approximate number of vehicles sold.\n",
    "\n",
    "$$ \\textrm{number sold} = \\frac{\\textrm{revenue}}{\\textrm{price}} $$"
   ]
  },
  {
   "cell_type": "code",
   "execution_count": null,
   "metadata": {},
   "outputs": [],
   "source": []
  },
  {
   "cell_type": "markdown",
   "metadata": {},
   "source": [
    "# Machine Learning Questions \n",
    "\n",
    "Answer 5 out of 10.\n",
    "\n",
    "**1. What is bias in a machine learning model? Why does increasing model complexity decrease bias? What concerns do we need to worry about when increasing model complexity to decrease bias?**"
   ]
  },
  {
   "cell_type": "markdown",
   "metadata": {},
   "source": []
  },
  {
   "cell_type": "markdown",
   "metadata": {},
   "source": [
    "**2. What do we use a logistic regression for? What class of machine learning algorithms is logistic regression part of? Explain the main difference between this class of machine learning algorithm and alternatives.**"
   ]
  },
  {
   "cell_type": "markdown",
   "metadata": {},
   "source": []
  },
  {
   "cell_type": "markdown",
   "metadata": {},
   "source": [
    "**3. Explain A/B testing. In what circumstances can you use it?**"
   ]
  },
  {
   "cell_type": "markdown",
   "metadata": {},
   "source": []
  },
  {
   "cell_type": "markdown",
   "metadata": {},
   "source": [
    "**4. Explain what True Positive, False Positive, True Negative and False Negative means in the context of a classification model (these are the outputs of a confusion matrix).**"
   ]
  },
  {
   "cell_type": "markdown",
   "metadata": {},
   "source": []
  },
  {
   "cell_type": "markdown",
   "metadata": {},
   "source": [
    "**5. Explain the difference between overfitting and underfitting.**"
   ]
  },
  {
   "cell_type": "markdown",
   "metadata": {},
   "source": []
  },
  {
   "cell_type": "markdown",
   "metadata": {},
   "source": [
    "**6. How do you select the number of clusters for a clustering algorithm?**"
   ]
  },
  {
   "cell_type": "markdown",
   "metadata": {},
   "source": []
  },
  {
   "cell_type": "markdown",
   "metadata": {},
   "source": [
    "**7. Explain what a perceptron is and how it works.**"
   ]
  },
  {
   "cell_type": "markdown",
   "metadata": {},
   "source": []
  },
  {
   "cell_type": "markdown",
   "metadata": {},
   "source": [
    "**8. Explain why we would want to use dimensionality reduction. Use Principal Component Analysis in your response.**"
   ]
  },
  {
   "cell_type": "markdown",
   "metadata": {},
   "source": []
  },
  {
   "cell_type": "markdown",
   "metadata": {},
   "source": [
    "**9. Explain how supervised machine learning works.**"
   ]
  },
  {
   "cell_type": "markdown",
   "metadata": {},
   "source": []
  },
  {
   "cell_type": "markdown",
   "metadata": {},
   "source": [
    "**10. Explain why we split our data into training and testing data for supervised machine learning.**"
   ]
  },
  {
   "cell_type": "markdown",
   "metadata": {},
   "source": []
  }
 ],
 "metadata": {
  "kernelspec": {
   "display_name": "Python 3",
   "language": "python",
   "name": "python3"
  },
  "language_info": {
   "codemirror_mode": {
    "name": "ipython",
    "version": 3
   },
   "file_extension": ".py",
   "mimetype": "text/x-python",
   "name": "python",
   "nbconvert_exporter": "python",
   "pygments_lexer": "ipython3",
   "version": "3.9.0"
  }
 },
 "nbformat": 4,
 "nbformat_minor": 5
}
