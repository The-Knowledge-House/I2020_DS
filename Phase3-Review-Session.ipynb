{
 "cells": [
  {
   "cell_type": "markdown",
   "id": "recent-energy",
   "metadata": {},
   "source": [
    "<div style=\"background: #000;\n",
    "            color: #FFF;\n",
    "            margin: 0px;\n",
    "            margin-bottom: 10px;\n",
    "            padding: 10px 0px 20px 0px;\n",
    "            text-align: center; \n",
    "                \">\n",
    "    <h1>Review</h1>\n",
    "</div>"
   ]
  },
  {
   "cell_type": "markdown",
   "id": "framed-synthetic",
   "metadata": {},
   "source": [
    "# Assessment Format\n",
    "\n",
    "1. Python Questions\n",
    "  - 10 exercises\n",
    "  - out of 20\n",
    "2. SQL Questions\n",
    "  - 5 exercises\n",
    "  - out of 10\n",
    "3. Data Science Questions\n",
    "  - 5 exercises\n",
    "  - out of 10\n",
    "4. Machine Learning Questions\n",
    "  - 5 open ended questions\n",
    "  - out of 10"
   ]
  },
  {
   "cell_type": "markdown",
   "id": "internal-respect",
   "metadata": {},
   "source": [
    "# Exercise 1\n",
    "\n",
    "Make your own, very simple, package in python and use it in a `main.py` file like we did above. When completed, push it to github and then paste the link to your git repo containing the code below."
   ]
  },
  {
   "cell_type": "raw",
   "id": "sticky-vector",
   "metadata": {},
   "source": []
  },
  {
   "cell_type": "markdown",
   "id": "buried-geology",
   "metadata": {},
   "source": [
    "# Exercise 2\n",
    "\n",
    "Create a function that takes an argument `file` (string that contains filename) and `dct` (dictionary) and writes each key/value pair in the dictionary in the following format:\n",
    "```\n",
    "key1:value1\n",
    "key2:value2\n",
    "```\n"
   ]
  },
  {
   "cell_type": "code",
   "execution_count": null,
   "id": "olive-olympus",
   "metadata": {},
   "outputs": [],
   "source": [
    "def dictionary_to_file(file, dct):\n",
    "    # open file using with statement to maintain context\n",
    "    with open(file, 'a') as file:\n",
    "        # for each key,value in dct items (2-tuples)\n",
    "        for k,v in dct.items():\n",
    "            # write the k/v to the file\n",
    "            file.write(f\"{k}:{v}\\n\")\n",
    "    \n",
    "dictionary_to_file('file.txt', {'a':3})"
   ]
  },
  {
   "cell_type": "markdown",
   "id": "fallen-sunrise",
   "metadata": {},
   "source": [
    "# Exercise 3\n",
    "\n",
    "Create a queue from scratch (use a list; do not use `Queue`, `Deque` or any library)."
   ]
  },
  {
   "cell_type": "code",
   "execution_count": null,
   "id": "governing-trustee",
   "metadata": {},
   "outputs": [],
   "source": [
    "class Queue:\n",
    "    def __init__(self):\n",
    "        self.queue = []\n",
    "        \n",
    "    def add(self, val):\n",
    "        self.queue.append(val)\n",
    "        \n",
    "    def pop(self):\n",
    "        return self.queue.pop(0)\n",
    "    \n",
    "    def peek(self):\n",
    "        return self.queue[0]\n",
    "        \n",
    "q = Queue()\n",
    "print(q.queue)\n",
    "q.add(1)\n",
    "q.add(2)\n",
    "q.add(3)\n",
    "q.add(4)\n",
    "print(q.queue)\n",
    "print(q.pop())\n",
    "print(q.peek())"
   ]
  },
  {
   "cell_type": "markdown",
   "id": "pressing-jordan",
   "metadata": {},
   "source": [
    "# Exercise 4\n",
    "\n",
    "Create a function that performs a binary search on a list."
   ]
  },
  {
   "cell_type": "code",
   "execution_count": null,
   "id": "current-feedback",
   "metadata": {},
   "outputs": [],
   "source": [
    "def binary_search():\n",
    "    pass"
   ]
  },
  {
   "cell_type": "markdown",
   "id": "descending-restoration",
   "metadata": {},
   "source": [
    "# Exercise 5\n",
    "\n",
    "Create a function that takes one argument `url` and returns all the links (`<a>` tags) located on the page."
   ]
  },
  {
   "cell_type": "code",
   "execution_count": null,
   "id": "posted-reduction",
   "metadata": {},
   "outputs": [],
   "source": [
    "import requests\n",
    "from bs4 import BeautifulSoup as bs\n",
    "\n",
    "def scrape_links(url):\n",
    "    resp = requests.get(url)\n",
    "    assert(resp.ok)\n",
    "    soup = bs(resp.text)\n",
    "    links = []\n",
    "    for link in soup.find_all('a'):\n",
    "        try:\n",
    "            link = link.attrs['href']\n",
    "            if link.startswith('http'):\n",
    "                links.append(link)\n",
    "        except:\n",
    "            continue\n",
    "    return links\n",
    "\n",
    "scrape_links('https://www.theknowledgehouse.org/')"
   ]
  },
  {
   "cell_type": "markdown",
   "id": "correct-killing",
   "metadata": {},
   "source": [
    "# Exercise 6\n",
    "\n",
    "Create a generator function that takes an argument `n` (total number of squares to generator) returns the next square each time it yields a value. Demonstrate that it works."
   ]
  },
  {
   "cell_type": "code",
   "execution_count": null,
   "id": "loose-arizona",
   "metadata": {},
   "outputs": [],
   "source": [
    "def square_generator(n):\n",
    "    for i in range(n+1):\n",
    "        yield i**2\n",
    "        \n",
    "gen = square_generator(10)"
   ]
  },
  {
   "cell_type": "code",
   "execution_count": null,
   "id": "capable-consortium",
   "metadata": {},
   "outputs": [],
   "source": [
    "next(gen)"
   ]
  },
  {
   "cell_type": "code",
   "execution_count": null,
   "id": "acute-morgan",
   "metadata": {},
   "outputs": [],
   "source": [
    "list(gen)"
   ]
  },
  {
   "cell_type": "markdown",
   "id": "residential-shakespeare",
   "metadata": {},
   "source": [
    "# Exercise 7\n",
    "\n",
    "Look up a standard library module you've never used. Create a function that utilizes that library."
   ]
  },
  {
   "cell_type": "markdown",
   "id": "starting-combining",
   "metadata": {},
   "source": [
    "Pickle is used for serializing and de-serializing Python object structures, also called marshalling or flattening. Serialization refers to the process of converting an object in memory to a byte stream that can be stored on disk or sent over a network. Later on, this character stream can then be retrieved and de-serialized back to a Python object. Pickling is not to be confused with compression! The former is the conversion of an object from one representation (data in Random Access Memory (RAM)) to another (text on disk), while the latter is the process of encoding data with fewer bits, in order to save disk space."
   ]
  },
  {
   "cell_type": "code",
   "execution_count": null,
   "id": "impaired-cause",
   "metadata": {},
   "outputs": [],
   "source": [
    "import pickle\n",
    "\n",
    "def func_save(dct={'a':0, 'b': 1, 'c': 2}):\n",
    "    dct['pickled by'] = 'us'\n",
    "    with open('pickled_object', 'wb') as file:\n",
    "        pickle.dump(dct, file)\n",
    "\n",
    "def func_load(filename):\n",
    "    with open(filename, 'rb') as file:\n",
    "        return pickle.load(file)\n",
    "    \n",
    "func_save()\n",
    "func_load('pickled_object')"
   ]
  },
  {
   "cell_type": "markdown",
   "id": "accepting-microphone",
   "metadata": {},
   "source": [
    "# Exercise 8\n",
    "\n",
    "Create a binary tree from scratch. It must have two methods, one that prints the tree and another that allows inserting. Inserting into this binary tree can be done using the method we covered in class (adding it to the left or right of nodes depending on comparisons)."
   ]
  },
  {
   "cell_type": "code",
   "execution_count": null,
   "id": "invisible-final",
   "metadata": {},
   "outputs": [],
   "source": [
    "# Binary Search Tree operations in Python\n",
    "\n",
    "\n",
    "# Create a node\n",
    "class Node:\n",
    "    def __init__(self, key):\n",
    "        self.key = key\n",
    "        self.left = None\n",
    "        self.right = None\n",
    "\n",
    "\n",
    "# Inorder traversal\n",
    "def inorder(root):\n",
    "    if root is not None:\n",
    "        # Traverse left\n",
    "        inorder(root.left)\n",
    "\n",
    "        # Traverse root\n",
    "        print(str(root.key) + \"->\", end=' ')\n",
    "\n",
    "        # Traverse right\n",
    "        inorder(root.right)\n",
    "\n",
    "\n",
    "# Insert a node\n",
    "def insert(node, key):\n",
    "\n",
    "    # Return a new node if the tree is empty\n",
    "    if node is None:\n",
    "        return Node(key)\n",
    "\n",
    "    # Traverse to the right place and insert the node\n",
    "    if key < node.key:\n",
    "        node.left = insert(node.left, key)\n",
    "    else:\n",
    "        node.right = insert(node.right, key)\n",
    "\n",
    "    return node\n",
    "\n",
    "\n",
    "# Find the inorder successor\n",
    "def minValueNode(node):\n",
    "    current = node\n",
    "\n",
    "    # Find the leftmost leaf\n",
    "    while(current.left is not None):\n",
    "        current = current.left\n",
    "\n",
    "    return current\n",
    "\n",
    "\n",
    "# Deleting a node\n",
    "def deleteNode(root, key):\n",
    "\n",
    "    # Return if the tree is empty\n",
    "    if root is None:\n",
    "        return root\n",
    "\n",
    "    # Find the node to be deleted\n",
    "    if key < root.key:\n",
    "        root.left = deleteNode(root.left, key)\n",
    "    elif(key > root.key):\n",
    "        root.right = deleteNode(root.right, key)\n",
    "    else:\n",
    "        # If the node is with only one child or no child\n",
    "        if root.left is None:\n",
    "            temp = root.right\n",
    "            root = None\n",
    "            return temp\n",
    "\n",
    "        elif root.right is None:\n",
    "            temp = root.left\n",
    "            root = None\n",
    "            return temp\n",
    "\n",
    "        # If the node has two children,\n",
    "        # place the inorder successor in position of the node to be deleted\n",
    "        temp = minValueNode(root.right)\n",
    "\n",
    "        root.key = temp.key\n",
    "\n",
    "        # Delete the inorder successor\n",
    "        root.right = deleteNode(root.right, temp.key)\n",
    "\n",
    "    return root\n",
    "\n",
    "\n",
    "root = None\n",
    "root = insert(root, 8)\n",
    "root = insert(root, 3)\n",
    "root = insert(root, 1)\n",
    "root = insert(root, 6)\n",
    "root = insert(root, 7)\n",
    "root = insert(root, 10)\n",
    "root = insert(root, 14)\n",
    "root = insert(root, 4)\n",
    "\n",
    "print(\"Inorder traversal: \", end=' ')\n",
    "inorder(root)\n",
    "\n",
    "print(\"\\nDelete 10\")\n",
    "root = deleteNode(root, 10)\n",
    "print(\"Inorder traversal: \", end=' ')\n",
    "inorder(root)"
   ]
  },
  {
   "cell_type": "markdown",
   "id": "competent-bolivia",
   "metadata": {},
   "source": [
    "# Exercise 9\n",
    "\n",
    "Create a decorator function that times a function call. Use it to time the function below."
   ]
  },
  {
   "cell_type": "code",
   "execution_count": null,
   "id": "sought-recycling",
   "metadata": {},
   "outputs": [],
   "source": [
    "import time\n",
    "\n",
    "time.time()"
   ]
  },
  {
   "cell_type": "code",
   "execution_count": null,
   "id": "material-benjamin",
   "metadata": {},
   "outputs": [],
   "source": [
    "import time\n",
    "\n",
    "def timer(func):\n",
    "    def wrapper(*args):\n",
    "        time_started = time.time()\n",
    "        ret = func(*args)\n",
    "        time_passed = time.time() - time_started\n",
    "        print(f\"time passed: {time_passed}\")\n",
    "        return ret\n",
    "    return wrapper\n",
    "        \n",
    "@timer\n",
    "def func(n):\n",
    "    time.sleep(1)\n",
    "    return n**2\n",
    "\n",
    "func(100_000_000_000)"
   ]
  },
  {
   "cell_type": "markdown",
   "id": "level-network",
   "metadata": {},
   "source": [
    "# Exercise 10\n",
    "\n",
    "Show an example of currying functions: two regular functions and a third that uses the previous two."
   ]
  },
  {
   "cell_type": "code",
   "execution_count": null,
   "id": "painful-theorem",
   "metadata": {},
   "outputs": [],
   "source": [
    "def square(n): return n**2\n",
    "\n",
    "def double(n): return 2*n\n",
    "\n",
    "def square_and_double(n):\n",
    "    return double(square(n))\n",
    "\n",
    "square_and_double(5)"
   ]
  },
  {
   "cell_type": "markdown",
   "id": "known-electricity",
   "metadata": {},
   "source": [
    "# Exercise 11\n",
    "\n",
    "What is a downside to functional programming? Explain your answer.\n",
    "\n",
    "If this question is difficult, consider what we can do with methods of a class that isn't easily possible with functions."
   ]
  },
  {
   "cell_type": "markdown",
   "id": "current-india",
   "metadata": {},
   "source": [
    "One of the downsides to functional programming is having to pass state around to each function calls. If we used classes, we'd be able to store the state in the class instance and each method of the class would have access to it."
   ]
  },
  {
   "cell_type": "markdown",
   "id": "amino-fleet",
   "metadata": {},
   "source": [
    "# Exercise 12\n",
    "\n",
    "Explain how `staticmethod` works and when we should use it."
   ]
  },
  {
   "cell_type": "markdown",
   "id": "neutral-personality",
   "metadata": {},
   "source": [
    "A staticmethod is a method that doesn't rely on an instance of a class. This means it can be used whether or not a class instance has been created. We should use it for any method of a class that doesn't require a class instance to be executed. This can be any sort of method that doesn't change `self` at all."
   ]
  },
  {
   "cell_type": "markdown",
   "id": "outstanding-empire",
   "metadata": {},
   "source": [
    "# Exercise 13\n",
    "\n",
    "Your boss has tasked you with making a simple bokeh dashboard to display some data. What python web framework would you use and why? What are the limitations of that framework? What does it provide as benefits? Explain your thought process."
   ]
  },
  {
   "cell_type": "markdown",
   "id": "eight-corps",
   "metadata": {},
   "source": [
    "Flask\n",
    "I would use flask if I had a very simple application to make and I didn't need user authentication, admin panels or anything out of the box that other frameworks might provide\n",
    "\n",
    "Django\n",
    "I would use django if I needed user authentication, complicated views or models and other benefits of django that is provided out of the box. That way I won't have to code that myself in order to add it to the project."
   ]
  },
  {
   "cell_type": "markdown",
   "id": "billion-electric",
   "metadata": {},
   "source": [
    "# Exercise 14\n",
    "\n",
    "What would be a reason to not use python for a project?"
   ]
  },
  {
   "cell_type": "markdown",
   "id": "derived-dubai",
   "metadata": {},
   "source": [
    "I might not use python if I were doing a project that required lower level access to memory because of the garbage collector in python that handles that for us. Or I might not use python if I need something that is fast because of the global interpreter lock in python that forces the execution of python code to one thread at a time even if there are multiple cpu cores present."
   ]
  },
  {
   "cell_type": "markdown",
   "id": "controlling-experience",
   "metadata": {},
   "source": [
    "# Exercise 15\n",
    "\n",
    "You are tasked with building a data pipeline that scrapes data, stores it in sql, processes it in numpy/pandas (think exploratory analysis and data cleanup) and uses the data in a K-Means clustering. Write out the steps you would take to complete this task, what the structure of your project would look like and what considerations should be made (e.g. what might become an issue, what decisions must we make, what steps would need to be done first, etc). \n",
    "\n"
   ]
  },
  {
   "cell_type": "code",
   "execution_count": null,
   "id": "massive-accommodation",
   "metadata": {},
   "outputs": [],
   "source": []
  },
  {
   "cell_type": "markdown",
   "id": "dental-married",
   "metadata": {},
   "source": [
    "# Assessment practice problems"
   ]
  },
  {
   "cell_type": "code",
   "execution_count": null,
   "id": "accurate-winter",
   "metadata": {},
   "outputs": [],
   "source": [
    "# Python"
   ]
  },
  {
   "cell_type": "markdown",
   "id": "finnish-housing",
   "metadata": {},
   "source": [
    "### Exercise 1\n",
    "\n",
    "Create a function that takes two arguments (both arguments being lists) and uses them to create a dictionary. The first argument should be used for the keys and the second argument should be used as the values. Each element should match up (meaning the first element of the first argument/list should be the key while the first element of the second argument/list should be the value). If either list is missing an element that the other has, skip it.\n",
    "\n",
    "Examples\n",
    "```\n",
    "ex1([],[]) -> {}\n",
    "ex1([0,1,2],[]) -> {}\n",
    "ex1(['a', 'b', 'c'], [1,2,3]) -> {'a':1, 'b':2, 'c':3}\n",
    "\n",
    "\n",
    "```"
   ]
  },
  {
   "cell_type": "code",
   "execution_count": null,
   "id": "moral-appraisal",
   "metadata": {},
   "outputs": [],
   "source": [
    "def exercise_1(lst1, lst2):\n",
    "    pass\n",
    "\n",
    "try:\n",
    "    assert(exercise_1([],[]) == {})\n",
    "    assert(exercise_1([0,1,2],[]) == {})\n",
    "    assert(exercise_1([0,1],[0]) == {0: 0})\n",
    "    assert(exercise_1(['a', 'b', 'c'],[1,2,3]) == {'a': 1, 'b': 2, 'c': 3})\n",
    "    print(\"solution is correct\")\n",
    "except AssertionError:\n",
    "    print(\"solution is incorrect\")"
   ]
  },
  {
   "cell_type": "markdown",
   "id": "three-xerox",
   "metadata": {},
   "source": [
    "### Exercise 2\n",
    "\n",
    "Create a function that outputs a list of all the even numbers from 1 to 500 that are also divisible by 3, 5 AND 7."
   ]
  },
  {
   "cell_type": "code",
   "execution_count": null,
   "id": "solar-start",
   "metadata": {},
   "outputs": [],
   "source": [
    "from hashlib import sha256\n",
    "\n",
    "def exercise_2():\n",
    "    pass\n",
    "\n",
    "try:\n",
    "    assert(sha256(str(exercise_2()).encode('utf-8')).hexdigest() == \"b7e8451a417e44cd5335477fdb1d333005a24471781ff5e74f937996f933e50f\" )\n",
    "    print(\"solution is correct\")\n",
    "except AssertionError:\n",
    "    print(\"solution is incorrect\")"
   ]
  },
  {
   "cell_type": "markdown",
   "id": "humanitarian-consultancy",
   "metadata": {},
   "source": [
    "### Exercise 3\n",
    "\n",
    "Fix the following code:"
   ]
  },
  {
   "cell_type": "code",
   "execution_count": null,
   "id": "crucial-measurement",
   "metadata": {},
   "outputs": [],
   "source": [
    "class Node:\n",
    "    def __init__(self, data=None):\n",
    "        self.data = data\n",
    "        self.previous = None\n",
    "    \n",
    "    def __repr__(self):\n",
    "        return f\"<node - {self.data}>\"\n",
    "        \n",
    "class Stack:\n",
    "    def __init__(self):\n",
    "        self.top = None\n",
    "        self.bottom = None\n",
    "        self.count = 0\n",
    "        \n",
    "    def print_items(self):\n",
    "        current_item = self.top\n",
    "        while current_item:\n",
    "            val = current_item.data\n",
    "            print(current_item)\n",
    "            current_item = current_item.previous\n",
    "            \n",
    "    def add(self, data=None):\n",
    "        node = Node(data)\n",
    "        if self.top:\n",
    "            ##################\n",
    "            # fix this part: #\n",
    "            ##################\n",
    "            \n",
    "            pass\n",
    "            \n",
    "            ##################\n",
    "            #   end of part  #\n",
    "            ##################\n",
    "        else:\n",
    "            self.top = node\n",
    "            self.bottom = node\n",
    "        self.count += 1\n",
    "        \n",
    "    def pop(self):\n",
    "        if self.top:\n",
    "            old_top = self.top\n",
    "            self.top = old_top.previous\n",
    "            return old_top\n",
    "        else:\n",
    "            return \"empty stack\"\n",
    "\n",
    "        \n",
    "stack = Stack()\n",
    "stack.add('book1')\n",
    "stack.add('book2')\n",
    "stack.add('book3')\n",
    "stack.add('book4')\n",
    "print(\"printing count:\")\n",
    "print(stack.count)\n",
    "print(\"\\nlisting stack:\")\n",
    "stack.print_items()\n",
    "print(\"\\npopping from top of stack:\")\n",
    "print(stack.pop())\n",
    "print(\"\\nlisting remaining:\")\n",
    "stack.print_items()\n",
    "print(\"\\nprinting top of stack:\")\n",
    "print(stack.bottom)"
   ]
  },
  {
   "cell_type": "markdown",
   "id": "confident-recording",
   "metadata": {},
   "source": [
    "### Exercise 4\n",
    "\n",
    "Given the following two sets, assign to variable `exercise_4` a set that contains the elements of `m` and  the elements of `n`."
   ]
  },
  {
   "cell_type": "code",
   "execution_count": null,
   "id": "heated-thanks",
   "metadata": {},
   "outputs": [],
   "source": [
    "m = {1,2,3,4,5}\n",
    "n = {4,5,6,7,8}\n",
    "\n",
    "exercise_4 = None\n",
    "\n",
    "try:\n",
    "    assert(exercise_4 == {1, 2, 3, 4, 5, 6, 7, 8})\n",
    "    print(\"solution is correct\")\n",
    "except AssertionError:\n",
    "    print(\"solution is incorrect\")"
   ]
  },
  {
   "cell_type": "markdown",
   "id": "authorized-spring",
   "metadata": {},
   "source": [
    "### Exercise 5\n",
    "\n",
    "Create a class called `Circle` that extends the class `Shape`. `Circle` should be initialized with the same arguments as `Shape` but also take a new argument called `radius`. Override the area method so that it calculates the area of a circle using that `radius`.\n",
    "\n",
    "The area of a circle is calculated using the following formula:\n",
    "\n",
    "$$ A = \\pi r^2$$"
   ]
  },
  {
   "cell_type": "code",
   "execution_count": null,
   "id": "healthy-dylan",
   "metadata": {},
   "outputs": [],
   "source": [
    "class Shape:\n",
    "    def __init__(self, color):\n",
    "        self.color = color\n",
    "        \n",
    "    def area(self):\n",
    "        pass\n",
    "    \n",
    "class Circle(Shape):\n",
    "    pass\n",
    "\n",
    "try:\n",
    "    c = Circle(\"red\", 10)\n",
    "    assert(c.area() == round(314))\n",
    "    print(\"solution is correct\")\n",
    "except AssertionError:\n",
    "    print(\"solution is incorrect\")"
   ]
  },
  {
   "cell_type": "markdown",
   "id": "posted-orientation",
   "metadata": {},
   "source": [
    "### Exercise 6\n",
    "\n",
    "Create a class called `Vector` that takes two integer arguments (`x` and `y`) and sets them as instance attributes. Then create a function that overloads the addition and equality operators so you can add the Vectors together and then check if two `Vector` instances are equal.\n",
    "\n",
    "Vectors are equal if they corresponding `x` and `y` values are equal:\n",
    "```\n",
    ">>> u = Vector(4,5)\n",
    ">>> v = Vector(4,5)\n",
    ">>> z = Vector(4,6)\n",
    ">>> u == v\n",
    "True\n",
    ">>> u.x == v.x\n",
    "True\n",
    ">>> u == z\n",
    "False\n",
    ">>> u.y == z.y\n",
    "False\n",
    "\n",
    "```\n",
    "\n",
    "Vector addition should work as follows:\n",
    "```\n",
    ">>> u = Vector(4,5)\n",
    ">>> v = Vector(5,7)\n",
    ">>> u + v\n",
    "Vector(9, 12)\n",
    "\n",
    ">>> u = Vector(4, -5)\n",
    ">>> v = Vector(4, 5)\n",
    ">>> u + v\n",
    "Vector(8, 0)\n",
    "```\n",
    "\n",
    "\n"
   ]
  },
  {
   "cell_type": "code",
   "execution_count": null,
   "id": "casual-terminology",
   "metadata": {},
   "outputs": [],
   "source": [
    "class Vector:\n",
    "    pass\n",
    "\n",
    "try:\n",
    "    u = Vector(4,5)\n",
    "    v = Vector(4,5)\n",
    "    assert(u.x == 4 and u.y == 5)\n",
    "    print(\"solution creating Vector class correct\")\n",
    "    assert(u == v)\n",
    "    print(\"solution to equality operator overloading correct\")\n",
    "    z = Vector(4,-5)\n",
    "    assert(v + z == Vector(8,0))\n",
    "    print(\"solution to addition operator overloading correct\")\n",
    "except AssertionError:\n",
    "    print(\"solution incorrect\")"
   ]
  },
  {
   "cell_type": "markdown",
   "id": "accessible-tomorrow",
   "metadata": {},
   "source": [
    "### Exercise 7\n",
    "\n",
    "Create a function `exercise_7` that takes a list `lst` and a value `elem` and loops through `lst` looking for `elem`. If `elem` is found, return the index it's at. If not found, return `-1`."
   ]
  },
  {
   "cell_type": "code",
   "execution_count": null,
   "id": "irish-vault",
   "metadata": {},
   "outputs": [],
   "source": [
    "def exercise_7(lst, elem):\n",
    "    pass\n",
    "    \n",
    "try:\n",
    "    assert(exercise_7([], 'a') == -1)\n",
    "    assert(exercise_7(['0'], '0') == 0)\n",
    "    assert(exercise_7([1,2,3,4,5,6,7,8,9], 9) == 8)\n",
    "    print(\"solution is correct\")\n",
    "except AssertionError:\n",
    "    print(\"solution is incorrect\")"
   ]
  },
  {
   "cell_type": "markdown",
   "id": "suspended-taxation",
   "metadata": {},
   "source": [
    "### Exercise 8\n",
    "\n",
    "Create a function `exercise_8` that takes an integer between 0 and 100. Any input of another type passed to the function should return `None`. Any other number that is not an integer in that range should return `-1`. Passing an integer under 50 should return `0`. Passing an integer greater than 50 should return `100`."
   ]
  },
  {
   "cell_type": "code",
   "execution_count": null,
   "id": "individual-reform",
   "metadata": {},
   "outputs": [],
   "source": [
    "def exercise_8(n):\n",
    "    pass\n",
    "    \n",
    "try:\n",
    "    assert(exercise_8(\"0\") == None)\n",
    "    assert(exercise_8(-10) == -1)\n",
    "    assert(exercise_8(40) == 0)\n",
    "    assert(exercise_8(60) == 100)\n",
    "    print(\"solution is correct\")\n",
    "except AssertionError:\n",
    "    print(\"solution is incorrect\")"
   ]
  },
  {
   "cell_type": "markdown",
   "id": "fatal-defeat",
   "metadata": {},
   "source": [
    "### Exercise 9\n",
    "\n",
    "Create a decorator function that wraps the following function so that when you call `exercise_9`, the following is printed:\n",
    "\n",
    "```\n",
    "###############\n",
    "# hello world #\n",
    "###############\n",
    "\n",
    "```"
   ]
  },
  {
   "cell_type": "code",
   "execution_count": null,
   "id": "seasonal-belgium",
   "metadata": {},
   "outputs": [],
   "source": [
    "\n",
    "\n",
    "def exercise_9():\n",
    "    return \"hello world\"\n",
    "\n",
    "exercise_9()"
   ]
  },
  {
   "cell_type": "markdown",
   "id": "decent-input",
   "metadata": {},
   "source": [
    "### Exercise 10\n",
    "\n",
    "Using list comprehension, create a list with the following output:\n",
    "\n",
    "```\n",
    "[1, 4, 9, 16, 25, 36, 49, 64, 81]\n",
    "```\n",
    "\n",
    "Assign it to `exercise_10`"
   ]
  },
  {
   "cell_type": "code",
   "execution_count": null,
   "id": "front-danger",
   "metadata": {},
   "outputs": [],
   "source": [
    "exercise_10 = None\n",
    "\n",
    "try:\n",
    "    assert(exercise_10 == [1, 4, 9, 16, 25, 36, 49, 64, 81])\n",
    "    print(\"solution is correct\")\n",
    "except AssertionError:\n",
    "    print(\"solution is incorrect\")"
   ]
  },
  {
   "cell_type": "markdown",
   "id": "genetic-bulletin",
   "metadata": {},
   "source": [
    "### Exercise 11\n",
    "\n",
    "Create a dictionary comprehension that generates the following dictionary:\n",
    "```\n",
    "{0:'a', 1:'b', 2:'c', 3:'d', 4:'e'}\n",
    "```\n",
    "\n",
    "Assign the dictionary to `exercise_11`."
   ]
  },
  {
   "cell_type": "code",
   "execution_count": null,
   "id": "boring-eight",
   "metadata": {},
   "outputs": [],
   "source": [
    "exercise_11 = None\n",
    "\n",
    "try:\n",
    "    assert(exercise_11 == {0:'a', 1:'b', 2:'c', 3:'d', 4:'e'})\n",
    "    print(\"solution is correct\")\n",
    "except AssertionError:\n",
    "    print(\"solution is incorrect\")"
   ]
  },
  {
   "cell_type": "markdown",
   "id": "functional-helmet",
   "metadata": {},
   "source": [
    "### Exercise 12\n",
    "\n",
    "Create a lambda expression that takes `a`, `b`, `c` and `x` and calculates the following: \n",
    "\n",
    "$$  ax^2 + bx + c $$"
   ]
  },
  {
   "cell_type": "code",
   "execution_count": null,
   "id": "passive-content",
   "metadata": {},
   "outputs": [],
   "source": [
    "f = None\n",
    "\n",
    "try:\n",
    "    assert(f(0,0,0,0) == 0)\n",
    "    assert(f(0,0,0,2) == 0)\n",
    "    assert(f(0,1,0,0) == 0)\n",
    "    assert(f(3,0,0,0) == 0)\n",
    "    assert(f(0,5,0,0) == 0)\n",
    "    assert(f(2,1,0,2) == 10)\n",
    "    assert(f(5,0,0,2) == 20)\n",
    "    assert(f(5,3,4,2) == 30)\n",
    "    print(\"solution is correct\")\n",
    "except:\n",
    "    print(\"solution is incorrect\")"
   ]
  },
  {
   "cell_type": "markdown",
   "id": "fixed-composer",
   "metadata": {},
   "source": [
    "### Exercise 13\n",
    "\n",
    "Using the lambda function from the previous exercise. Create a ternary operatory that sets `solution_possible` to `True` when the result of that lambda function is equal to zero. Otherwise, `solution_possible` should be `False`."
   ]
  },
  {
   "cell_type": "code",
   "execution_count": null,
   "id": "major-masters",
   "metadata": {},
   "outputs": [],
   "source": [
    "# try the following to check your solution\n",
    "\n",
    "# using these values for f(a,b,c,x) == 0\n",
    "# a = 6\n",
    "# b = 2\n",
    "# c = -20\n",
    "# x = -2\n",
    "\n",
    "# using these values for f(a,b,c,x) != 0\n",
    "# a = 2\n",
    "# b = 1\n",
    "# c = 0 \n",
    "# d = 2\n",
    "\n",
    "# print(f(a,b,c,x))\n",
    "\n",
    "solution_possible = None\n",
    "\n",
    "print(solution_possible)"
   ]
  },
  {
   "cell_type": "markdown",
   "id": "appointed-anthropology",
   "metadata": {},
   "source": [
    "### Exercise 14\n",
    "\n",
    "The Towers of Hanoi is a mathematical puzzle whose solution can be found using recursion. There are three pegs which can hold stacks of disks of different diameters. A larger disk may never be stacked on top of a smaller. Starting with n disks on one peg, they must be moved to another peg one at a time.\n",
    "\n",
    "Write a function that calculates the smallest number of steps to move the stack.\n",
    "\n",
    "\n",
    "\n",
    "To calculate this, use the following function:\n",
    "\n",
    "\n",
    "$$ \\begin{equation*}\n",
    "\\text{hanoi}(n) = \\left\\{\n",
    "        \\begin{array}{ll}\n",
    "            1 & \\quad \\text{if} \\, n = 1 \\\\\n",
    "            2 * \\text{hanoi}(n-1) + 1 & \\quad \\text{if} \\, n > 1\n",
    "        \\end{array}\n",
    "    \\right.\n",
    "\\end{equation*} $$"
   ]
  },
  {
   "cell_type": "code",
   "execution_count": null,
   "id": "incorporated-service",
   "metadata": {},
   "outputs": [],
   "source": [
    "def hanoi(n):\n",
    "    pass\n",
    "    \n",
    "try:\n",
    "    assert(hanoi(1) == 1)\n",
    "    assert(hanoi(4) == 15)\n",
    "    assert(hanoi(15) == 32767)\n",
    "    print(\"solution is correct\")\n",
    "except AssertionError:\n",
    "    print(\"solution is incorrect\")"
   ]
  },
  {
   "cell_type": "markdown",
   "id": "entertaining-palmer",
   "metadata": {},
   "source": [
    "#### Exercise 15\n",
    "\n",
    "Write a function that creates a domain name given a `subdomain`, a `domain`, a `tld` and a boolean for `secure`.\n",
    "\n",
    "Use the following arguments:\n",
    "\n",
    "```\n",
    "domain - a string given as input\n",
    "subdomain - either a string given as input or \"www\" by default\n",
    "tld - either a  string given as input or \"com\" (as in .com) by default\n",
    "secure - boolean argument that sets \"https\" if 'secure' is true otherwise use \"http\"\n",
    "```\n",
    "examples:\n",
    "```\n",
    "make_url(\"google\") -> \"https://www.google.com\"\n",
    "make_url(\"example\", subdomain=None, tld=\"com\", secure=False) -> \"http://example.com\"\n",
    "make_url(\"theknowledgehouse\", tld=\"org\", secure=True) -> \"https://www.theknowledgehouse.org\"\n",
    "```\n",
    "\n",
    "Note: A subdomain is optional but providing one means you need to add a period between the subdomain and the domain. So if a subdomain is `None`, you do NOT want to add a period after it. If one is provided, you DO."
   ]
  },
  {
   "cell_type": "code",
   "execution_count": null,
   "id": "coupled-friday",
   "metadata": {},
   "outputs": [],
   "source": [
    "def make_url():\n",
    "    pass\n",
    "\n",
    "try:\n",
    "    assert(make_url(\"google\") == \"https://www.google.com\")\n",
    "    assert(make_url(\"example\", subdomain=None, tld=\"com\", secure=False) == \"http://example.com\")\n",
    "    assert(make_url(\"theknowledgehouse\", tld=\"org\", secure=True) == \"https://www.theknowledgehouse.org\")\n",
    "    print(\"solution is correct\")\n",
    "except AssertionError:\n",
    "    print(\"solution is incorrect\")"
   ]
  },
  {
   "cell_type": "markdown",
   "id": "efficient-pledge",
   "metadata": {},
   "source": [
    "### Exercise 16\n",
    "\n",
    "Create a function that creates a `n` by `n` matrix (`n` rows and `n` columns) filled with zeros."
   ]
  },
  {
   "cell_type": "code",
   "execution_count": null,
   "id": "scientific-comfort",
   "metadata": {},
   "outputs": [],
   "source": [
    "def exercise_16(n):\n",
    "    pass\n",
    "\n",
    "try:\n",
    "    assert(exercise_16(1) == [[0]])\n",
    "    assert(exercise_16(2) == [[0, 0], [0, 0]])\n",
    "    assert(exercise_16(3) == [[0, 0, 0], [0, 0, 0], [0, 0, 0]])\n",
    "    assert(exercise_16(4) == [[0, 0, 0, 0], [0, 0, 0, 0], [0, 0, 0, 0], [0, 0, 0, 0]])\n",
    "    print(\"solution is correct\")\n",
    "except AssertionError:\n",
    "    print(\"solution is incorrect\")"
   ]
  },
  {
   "cell_type": "markdown",
   "id": "entire-voltage",
   "metadata": {},
   "source": [
    "### Exercise 17\n",
    "\n",
    "Create a function that takes an arbitrary number of keyword arguments and returns list of two-tuples containing their key-value pairs."
   ]
  },
  {
   "cell_type": "code",
   "execution_count": null,
   "id": "brilliant-spanish",
   "metadata": {},
   "outputs": [],
   "source": [
    "def exercise_17(**kwargs):\n",
    "    pass\n",
    "\n",
    "try:\n",
    "    assert(exercise_17(a=0) == [('a', 0)])\n",
    "    assert(exercise_17(a=0, b=1) == [('a', 0), ('b', 1)])\n",
    "    assert(exercise_17(a=0, b=1, c=2) == [('a', 0), ('b', 1), ('c', 2)])\n",
    "    print(\"solution is correct\")\n",
    "except AssertionError:\n",
    "    print(\"solution is incorrect\")"
   ]
  },
  {
   "cell_type": "markdown",
   "id": "parliamentary-guidance",
   "metadata": {},
   "source": [
    "### Exercise 18\n",
    "\n",
    "Given the following list, use slicing to output the second half backwards. Assign it to `exercise_18`.\n",
    "\n",
    "Hint: start by outputting the list backwards."
   ]
  },
  {
   "cell_type": "code",
   "execution_count": null,
   "id": "authorized-spelling",
   "metadata": {},
   "outputs": [],
   "source": [
    "lst = [\"a\", \"b\", \"c\", 1, 2, 3]\n",
    "\n",
    "exercise_18 = lst\n",
    "\n",
    "\n",
    "try:\n",
    "    assert(exercise_18 == [3, 2, 1])\n",
    "    print(\"solution is correct\")\n",
    "except AssertionError:\n",
    "    print(\"solution is incorrect\")"
   ]
  },
  {
   "cell_type": "markdown",
   "id": "another-festival",
   "metadata": {},
   "source": [
    "### Exercise 19\n",
    "\n",
    "Add a method called `from_full_name` to the following function so that we are able to create an instance of the class by passing the a full name (string of first and last name separated by a space). Do not remove anything that already exists. Then create an instance using that method."
   ]
  },
  {
   "cell_type": "code",
   "execution_count": null,
   "id": "greatest-affect",
   "metadata": {},
   "outputs": [],
   "source": [
    "import inspect # this is necessary for checking your answer - ignore\n",
    "\n",
    "class Person:\n",
    "    pass\n",
    "\n",
    "try:\n",
    "    p = Person.from_full_name(\"A P\")\n",
    "    assert(getattr(p, 'first_name', None) == \"A\")\n",
    "    assert(getattr(p, 'last_name', None) == \"P\")\n",
    "    assert(inspect.ismethod(Person.from_full_name) and Person.from_full_name.__self__ is Person)\n",
    "    print(\"solution should probably be correct (not guaranteed)\")\n",
    "except AssertionError:\n",
    "    print(\"solution is incorrect\")  "
   ]
  },
  {
   "cell_type": "markdown",
   "id": "worth-lotus",
   "metadata": {},
   "source": [
    "### Exercise 20\n",
    "\n",
    "Create a function that at worst executes in constant time."
   ]
  },
  {
   "cell_type": "code",
   "execution_count": null,
   "id": "internal-spell",
   "metadata": {},
   "outputs": [],
   "source": []
  },
  {
   "cell_type": "markdown",
   "id": "removable-bookmark",
   "metadata": {},
   "source": [
    "\n",
    "**21. Implement a binary search algorithm in python. Use it to search through the given list for `10`.**"
   ]
  },
  {
   "cell_type": "code",
   "execution_count": null,
   "id": "sudden-working",
   "metadata": {},
   "outputs": [],
   "source": [
    "given = [1, 2, 3, 4, 5, 6, 7, 10]\n",
    "\n",
    "sorted(given)"
   ]
  },
  {
   "cell_type": "code",
   "execution_count": null,
   "id": "separate-thomson",
   "metadata": {},
   "outputs": [],
   "source": [
    "from typing import List\n",
    "\n",
    "def binary_search(l: List = given, s: int = 10) -> int:\n",
    "    pass\n",
    "    \n",
    "binary_search()\n",
    "binary_search(s=2)\n",
    "try:\n",
    "    assert(binary_search() == 7)\n",
    "    assert(binary_search(s=2) == 1)\n",
    "    assert(binary_search(s=12) == -1)\n",
    "    print(\"worked\")\n",
    "except AssertionError as e:\n",
    "    print(\"test failed\")"
   ]
  },
  {
   "cell_type": "markdown",
   "id": "adolescent-cooler",
   "metadata": {},
   "source": [
    "**22. Fix the following code so the function calls work.**"
   ]
  },
  {
   "cell_type": "code",
   "execution_count": null,
   "id": "previous-steering",
   "metadata": {},
   "outputs": [],
   "source": [
    "class BinaryTree:\n",
    "    def __init__(self, data):\n",
    "        self.left = None\n",
    "        self.right = None\n",
    "        self.data = data\n",
    "\n",
    "    def add(self, data):\n",
    "        # fix this function:\n",
    "        if data > self.data:\n",
    "            if self.right:\n",
    "                self.right.add(data)\n",
    "            else: # this is where there's nothing in self.right\n",
    "                self.right = BinaryTree(data)        \n",
    "        if data < self.data:\n",
    "            if self.left:\n",
    "                self.left.add(data)\n",
    "            else:\n",
    "                self.left = BinaryTree(data)\n",
    "        # end of section that needs fixing\n",
    "        \n",
    "    def print(self):\n",
    "        if self.left:\n",
    "            self.left.print()\n",
    "        print(self.data)\n",
    "        if self.right:\n",
    "            self.right.print()  \n",
    "            \n",
    "bt = BinaryTree(5)\n",
    "bt.add(7)\n",
    "bt.add(8)\n",
    "bt.add(3)\n",
    "bt.add(4)\n",
    "bt.print()\n",
    "# if your solution is correct,\n",
    "# you will see all the values [3,4,5,7,8] printed"
   ]
  },
  {
   "cell_type": "markdown",
   "id": "painful-timeline",
   "metadata": {},
   "source": [
    "**23. Write a class that implements a queue. Use any method of your choosing. Your queue must have the following three methods: `push`, `pop`, `peek` (returns next value to be popped).**"
   ]
  },
  {
   "cell_type": "code",
   "execution_count": null,
   "id": "working-hampshire",
   "metadata": {},
   "outputs": [],
   "source": [
    "class Queue:\n",
    "    pass\n",
    "\n",
    "# use the following to test your code    \n",
    "try:\n",
    "    q = Queue()\n",
    "    q.push(3)\n",
    "    q.push(4)\n",
    "    q.push(5)\n",
    "    assert(q.pop() == 3)\n",
    "    assert(q.peek() == 4)\n",
    "except AssertionError:\n",
    "    print(\"test failed.\")"
   ]
  },
  {
   "cell_type": "markdown",
   "id": "executive-timber",
   "metadata": {},
   "source": [
    "**24. Write a python function that calculates the expected value of the following dictionary containing outcomes (in dollars) and their probabilities.**\n",
    "\n",
    "Let $X$ by a random variable with $k$ number of finite outcomes $x_1, x_2,...,x_k$ occurring with probability $p_1, p_1,...,p_k$, respectively. The **expectation** of $X$ is defined as:\n",
    "$$ E[X] = \\sum_{i=1}^{k}{x_i p_i} = x_1p_1 + x_2p_2 + ... + x_kp_k$$"
   ]
  },
  {
   "cell_type": "code",
   "execution_count": null,
   "id": "vital-february",
   "metadata": {},
   "outputs": [],
   "source": [
    "# this is a dictionary\n",
    "# with key - outcomes or x's\n",
    "# and v - probabilities or p's\n",
    "probabilities = {\n",
    "    20: 0.20,\n",
    "    10: 0.20,\n",
    "    5:  0.20,\n",
    "    -10: 0.20,\n",
    "    -20: 0.20,\n",
    "}\n",
    "\n",
    "def expected_value(d = probabilities):\n",
    "    pass\n",
    "\n",
    "try:\n",
    "    assert(expected_value() == 1.0)\n",
    "except AssertionError:\n",
    "    print(\"test failed.\")"
   ]
  },
  {
   "cell_type": "markdown",
   "id": "afraid-consistency",
   "metadata": {},
   "source": [
    "**25. Create a dataclass called Point that contains:**\n",
    "* two attributes `x` and `y`\n",
    "* a method that overrides the addition operator so you can add two points together\n",
    "* a method called `distance` that calculates the distance between the two points using the distance formula we saw in class:\n",
    "\n",
    "$$ \\text{distance} = \\sqrt{(x_2-x_1)^{2} + (y_2-y_1)^{2} } $$\n"
   ]
  },
  {
   "cell_type": "code",
   "execution_count": null,
   "id": "united-miami",
   "metadata": {},
   "outputs": [],
   "source": [
    "from typing import List\n",
    "from dataclasses import dataclass\n",
    "\n",
    "@dataclass\n",
    "class Point:\n",
    "    pass\n",
    "    \n",
    "try:\n",
    "    p_1 = Point(-4,-4)\n",
    "    p_2 = Point(3,4)\n",
    "    assert(p_1 + p_2 == Point(x=-1,y=0))\n",
    "    # this is basically calculating a \n",
    "    # 3-4-5 right triangle\n",
    "    p_1 = Point(0,0)\n",
    "    p_2 = Point(3,4)\n",
    "    assert(p_1.distance(p_2) == 5)\n",
    "    assert(p_2.distance(p_1) == 5)\n",
    "except AssertionError:\n",
    "    print(\"test failed.\")"
   ]
  },
  {
   "cell_type": "markdown",
   "id": "tropical-grammar",
   "metadata": {},
   "source": [
    "# SQL"
   ]
  },
  {
   "cell_type": "markdown",
   "id": "russian-heritage",
   "metadata": {},
   "source": [
    "to be given"
   ]
  },
  {
   "cell_type": "markdown",
   "id": "unusual-damages",
   "metadata": {},
   "source": [
    "# Data Science"
   ]
  },
  {
   "cell_type": "markdown",
   "id": "accompanied-extra",
   "metadata": {},
   "source": [
    "to be given"
   ]
  },
  {
   "cell_type": "markdown",
   "id": "maritime-vegetarian",
   "metadata": {},
   "source": [
    "# Machine Learning Questions \n",
    "\n",
    "**1. What is bias in a machine learning model? Why does increasing model complexity decrease bias? What concerns do we need to worry about when increasing model complexity to decrease bias?**"
   ]
  },
  {
   "cell_type": "markdown",
   "id": "decimal-cornwall",
   "metadata": {},
   "source": []
  },
  {
   "cell_type": "markdown",
   "id": "collaborative-pantyhose",
   "metadata": {},
   "source": [
    "**2. What do we use a logistic regression for? What class of machine learning algorithms is logistic regression part of? Explain the main difference between this class of machine learning algorithm and alternatives.**"
   ]
  },
  {
   "cell_type": "markdown",
   "id": "boxed-discharge",
   "metadata": {},
   "source": []
  },
  {
   "cell_type": "markdown",
   "id": "civil-budapest",
   "metadata": {},
   "source": [
    "**3. What is underfitting? How does underfitting affect our machine learning models? What can we do to address underfitting?**"
   ]
  },
  {
   "cell_type": "markdown",
   "id": "caroline-leisure",
   "metadata": {},
   "source": []
  },
  {
   "cell_type": "markdown",
   "id": "actual-revolution",
   "metadata": {},
   "source": [
    "**4. What are the differences between supervised and unsupervised learning?**"
   ]
  },
  {
   "cell_type": "markdown",
   "id": "republican-container",
   "metadata": {},
   "source": []
  },
  {
   "cell_type": "markdown",
   "id": "meaning-shareware",
   "metadata": {},
   "source": [
    "**5. Explain A/B testing. In what circumstances can you use it?**"
   ]
  },
  {
   "cell_type": "markdown",
   "id": "sized-introduction",
   "metadata": {},
   "source": []
  },
  {
   "cell_type": "markdown",
   "id": "dimensional-cabinet",
   "metadata": {},
   "source": [
    "**6. Explain what True Positive, False Positive, True Negative and False Negative means in the context of a classification model (these are the outputs of a confusion matrix).**"
   ]
  },
  {
   "cell_type": "markdown",
   "id": "digital-scientist",
   "metadata": {},
   "source": []
  },
  {
   "cell_type": "markdown",
   "id": "acute-yeast",
   "metadata": {},
   "source": [
    "**7. Explain the difference between overfitting and underfitting.**"
   ]
  },
  {
   "cell_type": "markdown",
   "id": "about-dutch",
   "metadata": {},
   "source": []
  },
  {
   "cell_type": "markdown",
   "id": "equivalent-pipeline",
   "metadata": {},
   "source": [
    "**8. Why do we clean data?**"
   ]
  },
  {
   "cell_type": "markdown",
   "id": "exterior-physiology",
   "metadata": {},
   "source": []
  },
  {
   "cell_type": "markdown",
   "id": "cheap-graham",
   "metadata": {},
   "source": [
    "**9. What are outliers and what can we do with them?**"
   ]
  },
  {
   "cell_type": "markdown",
   "id": "grave-holmes",
   "metadata": {},
   "source": []
  },
  {
   "cell_type": "markdown",
   "id": "biological-gravity",
   "metadata": {},
   "source": [
    "**10. How do you select the number of clusters for a clustering algorithm?**"
   ]
  },
  {
   "cell_type": "markdown",
   "id": "annual-housing",
   "metadata": {},
   "source": []
  },
  {
   "cell_type": "markdown",
   "id": "maritime-cabin",
   "metadata": {},
   "source": [
    "**11. What are the benefits of using python for data science? Explain you answer.**"
   ]
  },
  {
   "cell_type": "markdown",
   "id": "controlling-balance",
   "metadata": {},
   "source": []
  },
  {
   "cell_type": "markdown",
   "id": "compliant-establishment",
   "metadata": {},
   "source": [
    "**12. What are hyperparameters? What is hyperparameter tuning?**"
   ]
  },
  {
   "cell_type": "markdown",
   "id": "complex-civilian",
   "metadata": {},
   "source": []
  },
  {
   "cell_type": "markdown",
   "id": "linear-female",
   "metadata": {},
   "source": [
    "**13. Explain what a perceptron is and how it works.**"
   ]
  },
  {
   "cell_type": "markdown",
   "id": "dedicated-chile",
   "metadata": {},
   "source": []
  },
  {
   "cell_type": "markdown",
   "id": "eligible-pressure",
   "metadata": {},
   "source": [
    "**14. Explain why we split our data into training and testing data for supervised machine learning.**"
   ]
  },
  {
   "cell_type": "markdown",
   "id": "secure-acquisition",
   "metadata": {},
   "source": []
  },
  {
   "cell_type": "markdown",
   "id": "classical-feeling",
   "metadata": {},
   "source": [
    "**15. Explain why we would want to use dimensionality reduction. Use Principal Component Analysis in your response.**"
   ]
  },
  {
   "cell_type": "markdown",
   "id": "electrical-bacteria",
   "metadata": {},
   "source": []
  },
  {
   "cell_type": "markdown",
   "id": "postal-short",
   "metadata": {},
   "source": [
    "**16. What does \"garbage in, garbage out\" mean?**"
   ]
  },
  {
   "cell_type": "markdown",
   "id": "extensive-captain",
   "metadata": {},
   "source": []
  },
  {
   "cell_type": "markdown",
   "id": "broken-effectiveness",
   "metadata": {},
   "source": [
    "**17. What methods do we know to use for missing data?**"
   ]
  },
  {
   "cell_type": "markdown",
   "id": "miniature-union",
   "metadata": {},
   "source": []
  },
  {
   "cell_type": "markdown",
   "id": "immediate-lebanon",
   "metadata": {},
   "source": [
    "**18. Explain how supervised machine learning works.**"
   ]
  },
  {
   "cell_type": "markdown",
   "id": "instrumental-continent",
   "metadata": {},
   "source": []
  },
  {
   "cell_type": "markdown",
   "id": "decent-shock",
   "metadata": {},
   "source": [
    "**19. Say you had to identify pictures of dogs. What class of machine learning could you use and why? What do we need to know about the data in order to choose and how will it affect our modeling?**"
   ]
  },
  {
   "cell_type": "markdown",
   "id": "varied-ghost",
   "metadata": {},
   "source": []
  },
  {
   "cell_type": "markdown",
   "id": "received-pricing",
   "metadata": {},
   "source": [
    "**20. What is a google captcha doing? How does this benefit their machine learning?**"
   ]
  },
  {
   "cell_type": "markdown",
   "id": "stylish-escape",
   "metadata": {},
   "source": []
  }
 ],
 "metadata": {
  "kernelspec": {
   "display_name": "Python 3",
   "language": "python",
   "name": "python3"
  },
  "language_info": {
   "codemirror_mode": {
    "name": "ipython",
    "version": 3
   },
   "file_extension": ".py",
   "mimetype": "text/x-python",
   "name": "python",
   "nbconvert_exporter": "python",
   "pygments_lexer": "ipython3",
   "version": "3.9.1"
  }
 },
 "nbformat": 4,
 "nbformat_minor": 5
}
