{
 "cells": [
  {
   "cell_type": "markdown",
   "metadata": {},
   "source": [
    "<div style=\"background: #000;\n",
    "            color: #FFF;\n",
    "            margin: 0px;\n",
    "                padding: 10px 0px 20px 0px;\n",
    "            text-align: center; \n",
    "                \">\n",
    "    <h1>Week 10 - Class 1 - 11/16</h1>\n",
    "</div>\n",
    "\n",
    "## Objectives for this week:\n",
    "* Creating Models and Views\n",
    "* Migration of a Database\n",
    "* Creating Login Functionality and Forms\n",
    "* Amazon s3\n",
    "\n",
    "## Today's Objective:\n",
    "* Logging\n",
    "* More Flask Features (redirects, errors, responses, cookies, sessions)\n",
    "* Databases\n",
    "* SQL and Relational Databases\n",
    "* SQLite3"
   ]
  },
  {
   "cell_type": "markdown",
   "metadata": {},
   "source": [
    "<div style=\"background: #000;\n",
    "            color: #FFF;\n",
    "            margin: 0px;\n",
    "                padding: 10px 0px 20px 0px;\n",
    "            text-align: center; \n",
    "                \">\n",
    "    <h1>Week 9 Homework</h1>\n",
    "</div>"
   ]
  },
  {
   "cell_type": "markdown",
   "metadata": {},
   "source": [
    "# Exercise 1\n",
    "\n",
    "Given a valid (IPv4) IP address, return a defanged version of that IP address.\n",
    "\n",
    "A defanged IP address replaces every period \".\" with \"[.]\".\n",
    "\n",
    "Example 1:\n",
    "```\n",
    "Input: address = \"1.1.1.1\"\n",
    "Output: \"1[.]1[.]1[.]1\"\n",
    "```\n",
    "Example 2:\n",
    "```\n",
    "Input: address = \"255.100.50.0\"\n",
    "Output: \"255[.]100[.]50[.]0\"\n",
    "```\n",
    "\n",
    "Bonus: Try completing it without using string methods and just looping through the string."
   ]
  },
  {
   "cell_type": "markdown",
   "metadata": {},
   "source": [
    "# Logging \n",
    "\n",
    "Logging is the act of recording events occuring as your application runs. This is important to be able to access important information about our application in case we need to debug or troubleshoot."
   ]
  },
  {
   "cell_type": "markdown",
   "metadata": {},
   "source": [
    "### Python's `logging`\n",
    "\n",
    "Python's standard library includes a module called `logger`. `logger` contains for main sub-modules:\n",
    "* loggers\n",
    "* handlers\n",
    "* filters\n",
    "* formatters\n",
    "\n",
    "Loggers - objects that handle our logging that the application's code will deal with. These are almost never instantiated directly. \n",
    "\n",
    "Handlers - object used to deal with logger events such as writing to file, filtering, formatting and error handling. Also not instantiated directly.\n",
    "\n",
    "Filters - used by loggers and handlers to filter more than levels.\n",
    "\n",
    "Formatters - handle the layout the log messages will be in.\n",
    "\n",
    "Also LogRecord objects which are created by the logger every time something is logged.\n",
    "\n",
    "Levels and  when to use:\n",
    "* `DEBUG` - Detailed information, typically of interest only when diagnosing problems\n",
    "* `INFO` - Confirmation that things are working as expected\n",
    "* `WARNING` - An indication that something unexpected happened, or indicative of some problem in the near future (e.g. ‘disk space low’). The software is still working as expected.\n",
    "* `ERROR` - Due to a more serious problem, the software has not been able to perform some function.\n",
    "* `CRITICAL` - A serious error, indicating that the program itself may be unable to continue running.\n",
    "\n",
    "You'll want to know the following attributes/methods:\n",
    "* `logging.basicConfig()` - sets config\n",
    "* `logging.getLogger()` - returns `Logger` object\n",
    "* `logging.setHandler()` - sets handler instance for logging\n",
    "* `logging.setLevel()` - sets minimum level to log\n",
    "* `logging.debug()` - logs a debug message\n",
    "* `logging.info()` - logs an info message\n",
    "* `logging.warning()` - logs a warning message\n",
    "* `logging.error()` - logs an error message\n",
    "* `logging.critical()` - logs a critical message\n",
    "* `logging.except()` - logs an exception\n",
    "* `logging.log()` - \n",
    "* `logging.shutdown()`\n",
    "\n",
    "\n",
    "https://docs.python.org/3/library/logging.html#module-logging"
   ]
  },
  {
   "cell_type": "code",
   "execution_count": null,
   "metadata": {},
   "outputs": [],
   "source": [
    "import logging\n",
    "logging.warning('Watch out!')  # will print a message to the console\n",
    "logging.info('I told you so')  # will not print anything "
   ]
  },
  {
   "cell_type": "code",
   "execution_count": null,
   "metadata": {},
   "outputs": [],
   "source": [
    "# Logging to a file\n",
    "import logging\n",
    "logging.basicConfig(filename='example.log', level=logging.DEBUG)\n",
    "logging.debug('This message should go to the log file')\n",
    "logging.info('So should this')\n",
    "logging.warning('And this, too')\n",
    "logging.error('And non-ASCII stuff, too, like Øresund and Malmö')"
   ]
  },
  {
   "cell_type": "code",
   "execution_count": null,
   "metadata": {},
   "outputs": [],
   "source": [
    "# setting up specific logger:\n",
    "import logging \n",
    "FORMAT = '%(asctime)-15s %(clientip)s %(user)-8s %(message)s'\n",
    "logging.basicConfig(format=FORMAT)\n",
    "d = {'clientip': '192.168.0.1', 'user': 'fbloggs'}\n",
    "logger = logging.getLogger('tcpserver')\n",
    "logger.warning('Protocol problem: %s', 'connection reset', extra=d)\n"
   ]
  },
  {
   "cell_type": "markdown",
   "metadata": {},
   "source": [
    "### How would we log our flask application\n",
    "\n",
    "Easiest way would be to set a log file and then use `logger.<LEVEL>` to output messages to that log file.\n",
    "example code using python's logger:"
   ]
  },
  {
   "cell_type": "code",
   "execution_count": null,
   "metadata": {},
   "outputs": [],
   "source": [
    "from flask import Flask\n",
    "import logging\n",
    "\n",
    "app = Flask(__name__)\n",
    "\n",
    "\n",
    "logging.basicConfig(filename='demo.log', level=logging.DEBUG)\n",
    "\n",
    "@app.route(\"/\")\n",
    "def home():\n",
    "    logging.debug(\"running home route\")\n",
    "    return render_template(\"home.html\")"
   ]
  },
  {
   "cell_type": "markdown",
   "metadata": {},
   "source": [
    "\n",
    "Flask includes a logger though:"
   ]
  },
  {
   "cell_type": "code",
   "execution_count": null,
   "metadata": {},
   "outputs": [],
   "source": [
    "from flask import Flask\n",
    "\n",
    "app = Flask(__name__)\n",
    "\n",
    "@app.route(\"/\")\n",
    "def home():\n",
    "    app.logger.debug(\"running home route\")\n",
    "    return render_template(\"home.html\")"
   ]
  },
  {
   "cell_type": "code",
   "execution_count": null,
   "metadata": {},
   "outputs": [],
   "source": [
    "from flask import Flask\n",
    "\n",
    "app = Flask(__name__)\n",
    "app.logger.warning(\"hello\")"
   ]
  },
  {
   "cell_type": "markdown",
   "metadata": {},
   "source": [
    "# More Flask Features"
   ]
  },
  {
   "cell_type": "markdown",
   "metadata": {},
   "source": [
    "### `redirects(location, code, resp)`\n",
    "\n",
    "`redirect` is a function in the `flask` library that allows you to redirect to another route:\n",
    "\n",
    "example:"
   ]
  },
  {
   "cell_type": "code",
   "execution_count": null,
   "metadata": {},
   "outputs": [],
   "source": [
    "from flask import Flask, render_template, redirect, url_for\n",
    "\n",
    "app = Flask(__name__)\n",
    "\n",
    "@app.route('/')\n",
    "def home():\n",
    "    return render_template('home.html')\n",
    "\n",
    "@app.route('/login', methods=['GET', 'POST'])\n",
    "def login():\n",
    "    if request.method == 'POST':\n",
    "        # code to handle log in\n",
    "        if user.logged_in:\n",
    "            return redirect('/user')\n",
    "        else:\n",
    "            return redirect(url_for('home'), 302)\n",
    "    else:\n",
    "        return render_template('login.html')\n",
    "\n",
    "\n",
    "@app.route('/user')\n",
    "def user():\n",
    "    user = get_user()\n",
    "    return render_template('user.html', user=user)"
   ]
  },
  {
   "cell_type": "markdown",
   "metadata": {},
   "source": [
    "### errors\n",
    "\n",
    "We saw last week how to create routes for errors using the `@app.errorhandler` decorator or `app.register_error_handler`.\n",
    "\n",
    "examples of creating our own view:"
   ]
  },
  {
   "cell_type": "code",
   "execution_count": null,
   "metadata": {},
   "outputs": [],
   "source": [
    "from flask import Flask, render_template, request\n",
    "\n",
    "app = Flask(__name__)\n",
    "\n",
    "@app.errorhandler(404)\n",
    "def not_found(e):\n",
    "    return render_template(\"404.html\", error=e)"
   ]
  },
  {
   "cell_type": "code",
   "execution_count": null,
   "metadata": {},
   "outputs": [],
   "source": [
    "from flask import Flask, render_template, request\n",
    "\n",
    "app = Flask(__name__)\n",
    "\n",
    "def not_found(e):\n",
    "    return render_template(\"404.html\", error=e)\n",
    "    \n",
    "app.register_error_handler(404, not_found)"
   ]
  },
  {
   "cell_type": "markdown",
   "metadata": {},
   "source": [
    "### `abort(status_code)`\n",
    "\n",
    "We can also throw errors at any point to control what pages users see using the `abort` function from the `flask` library."
   ]
  },
  {
   "cell_type": "code",
   "execution_count": null,
   "metadata": {},
   "outputs": [],
   "source": [
    "from flask import Flask, render_template, abort\n",
    "\n",
    "app = Flask(__name__)\n",
    "\n",
    "@app.route('/')\n",
    "def home():\n",
    "    return render_template(\"home.html\")\n",
    "    \n",
    "@app.route('/user')\n",
    "def user():\n",
    "    user = get_user()\n",
    "    if user.logged_in:\n",
    "        return render_template('user.html', user=user)\n",
    "    else:\n",
    "        abort(401) # error code for unauthenticated"
   ]
  },
  {
   "cell_type": "markdown",
   "metadata": {},
   "source": [
    "### Using the `Response` object and `make_response`\n",
    "\n",
    "`Response(response=None, status=None, headers=None, mimetype=None, content_type=None)`\n",
    "\n",
    "We could import `Response` from `flask` and create a response using this to return in any of our routes/views. But most of the time, we'll instead use a function called `make_response` to do so."
   ]
  },
  {
   "cell_type": "code",
   "execution_count": null,
   "metadata": {},
   "outputs": [],
   "source": [
    "from flask import Flask, Response\n",
    "\n",
    "app = Flask(__name__)\n",
    "\n",
    "@app.route('/example')\n",
    "def example():\n",
    "    resp = Response(\"{'hello':'world'}\", 200)\n",
    "    resp.headers['Content-Type'] = 'application/json'\n",
    "    return resp"
   ]
  },
  {
   "cell_type": "code",
   "execution_count": null,
   "metadata": {},
   "outputs": [],
   "source": [
    "from flask import Flask, make_response\n",
    "\n",
    "app = Flask(__name__)\n",
    "\n",
    "@app.route('/example')\n",
    "def example():\n",
    "    resp = make_response(render_template('example.html'), 200)\n",
    "    return resp"
   ]
  },
  {
   "cell_type": "markdown",
   "metadata": {},
   "source": [
    "### cookies"
   ]
  },
  {
   "cell_type": "code",
   "execution_count": null,
   "metadata": {},
   "outputs": [],
   "source": [
    "from flask import Flask, render_template\n",
    "\n",
    "index_html = \\\n",
    "\"\"\"\n",
    "   <html>\n",
    "      <body>\n",
    "         <form action = \"/setcookie\" method = \"POST\">\n",
    "            <p><h3>Enter userID</h3></p>\n",
    "            <p><input type='text' name = 'cookie'/></p>\n",
    "            <p><input type='submit' value = 'Login'/></p>\n",
    "         </form>\n",
    "      </body>\n",
    "   </html>\n",
    "\"\"\"\n",
    "\n",
    "cookie_html = \\\n",
    "\"\"\"\n",
    "<html>\n",
    "   <body>\n",
    "      <a href=\"/getcookie\">get cookie</a>\n",
    "   </body>\n",
    "</html>\n",
    "\"\"\"\n",
    "\n",
    "app = Flask(__name__)\n",
    "\n",
    "@app.route('/')\n",
    "def index():\n",
    "    render_template('index.html')\n",
    "    \n",
    "@app.route('/setcookie', methods = ['POST', 'GET'])\n",
    "def setcookie():\n",
    "    if request.method == 'POST':\n",
    "        user.request.form['cookie']\n",
    "        resp = make_response(render_template('read'))\n",
    "        resp.set_cookie('cookie', '1')\n",
    "        return resp\n",
    "    \n",
    "@app.route('/getcookie')\n",
    "def getcookie():\n",
    "    val = request.cookies.get('cookie')\n",
    "    return f'<h1>cookie value = {val}</h1>'"
   ]
  },
  {
   "cell_type": "markdown",
   "metadata": {},
   "source": [
    "### sessions\n",
    "\n",
    "Sessions, like cookies, allow us to maintain context between the client and the server. It does this by storing information in the user's browser."
   ]
  },
  {
   "cell_type": "code",
   "execution_count": null,
   "metadata": {},
   "outputs": [],
   "source": [
    "from flask import Flask, render_template\n",
    "\n",
    "form_html = \\\n",
    "'''\n",
    "   <form action = \"\" method = \"post\">\n",
    "      <p><input type = text name = username/></p>\n",
    "      <p<<input type = submit value = Login/></p>\n",
    "   </form>\n",
    "'''\n",
    "\n",
    "not_logged_in_html = \\\n",
    "\"\"\"\n",
    "You are not logged in \n",
    "<br>\n",
    "<a href='/login'></b>click here to log in</b></a>\n",
    "\"\"\"\n",
    "\n",
    "logged_in_html = \\\n",
    "\"\"\"\n",
    "Logged in as {{user }}\n",
    "<br>\n",
    "<b><a href = '/logout'>click here to log out</a></b>\n",
    "\"\"\"\n",
    "\n",
    "\n",
    "\n",
    "app = Flask(__name__)\n",
    "\n",
    "@app.route('/')\n",
    "def index():\n",
    "    if 'username' in session:\n",
    "        username = session['username']\n",
    "        return render_template(logged_in_html, user=username)\n",
    "    return not_logged_in_html\n",
    "   \n",
    "@app.route('/login', methods = ['GET', 'POST'])\n",
    "def login():\n",
    "   if request.method == 'POST':\n",
    "      session['username'] = request.form['username']\n",
    "      return redirect(url_for('index'))\n",
    "   return form_html \n",
    "    \n",
    "@app.route('/logout')\n",
    "def logout():\n",
    "    session.pop('username', None)\n",
    "    return redirect(url_for('index'))"
   ]
  },
  {
   "cell_type": "markdown",
   "metadata": {},
   "source": [
    "# Databases\n",
    "\n",
    "A database is an organized collection of data, generally stored and accessed electronically from a computer system. Where databases are more complex they are often developed using formal design and modeling techniques.\n",
    "\n",
    "The database management system (DBMS) is the software that interacts with end users, applications, and the database itself to capture and analyze the data. The DBMS software additionally encompasses the core facilities provided to administer the database. The sum total of the database, the DBMS and the associated applications can be referred to as a \"database system\". Often the term \"database\" is also used to loosely refer to any of the DBMS, the database system or an application associated with the database. \n",
    "\n",
    "[source](https://en.wikipedia.org/wiki/Database)"
   ]
  },
  {
   "attachments": {
    "7d5d91be-6bc9-4aaf-b742-f5a58eb3d9da.png": {
     "image/png": "[encoded data removed]"
    }
   },
   "cell_type": "markdown",
   "metadata": {},
   "source": [
    "### SQL and Relational Databases\n",
    "\n",
    "In the 1980's, relational databases became widely used in programming. \n",
    "\n",
    "![image.png](attachment:7d5d91be-6bc9-4aaf-b742-f5a58eb3d9da.png)\n",
    "Key components of a relational database:\n",
    "* tables - a set of data with specified columns and unspecified rows\n",
    "* columns - a set of data values of a particular type\n",
    "* rows - represents a single tuple of values\n",
    "* keys - each row in a table has it's own unique key for ID called 'primary key'\n",
    "\n",
    "real world example:\n",
    "\n",
    "    table - users\n",
    "    columns  - user.name, user.email or user.dob\n",
    "    row - (user1.name, user1.email, user1.dob)\n",
    "    keys - user1 would have a unique primary key for identification\n",
    "    \n",
    "Tables can be connected to each other using foreign keys to connect rows from one table to rows of another table. Each piece of data in the datebase has a relation to another."
   ]
  },
  {
   "cell_type": "markdown",
   "metadata": {},
   "source": [
    "### Queries\n",
    "\n",
    "There are a number of operations that you can do against a relational database. This might be familiar to your.\n",
    "\n",
    "* Unions\n",
    "* Intersections\n",
    "* Differences\n",
    "* Selections\n",
    "* Cartesian Product\n"
   ]
  },
  {
   "cell_type": "markdown",
   "metadata": {},
   "source": [
    "### Examples of RDMS:\n",
    "* SQLite - open source and widely available\n",
    "* PostgreSQL - open source\n",
    "* MySQL - closed source but free "
   ]
  },
  {
   "cell_type": "markdown",
   "metadata": {},
   "source": [
    "# SQL \n",
    "\n",
    "SQL is a domain-specific language can be considered as a standard for relationship databases. All of the previous examples follow this standard.\n",
    "\n",
    "Examples of SQL:\n",
    "\n",
    "`SELECT` retrieves data from a table\n",
    "\n",
    "```SQL\n",
    "SELECT *\n",
    " FROM  Book\n",
    " WHERE price > 100.00\n",
    " ORDER BY title;\n",
    "```\n",
    "\n",
    "`INSERT` adds rows to tables\n",
    "\n",
    "```SQL\n",
    "INSERT INTO example\n",
    " (column1, column2, column3)\n",
    " VALUES\n",
    " ('test', 'N', NULL);\n",
    "```\n",
    "\n",
    "`UPDATE` modifies a set of existing table rows\n",
    "```SQL\n",
    "UPDATE example\n",
    " SET column1 = 'updated value'\n",
    " WHERE column2 = 'N';\n",
    " ```\n",
    " \n",
    " `DELETE` removes existing rows from a table\n",
    " \n",
    " ```SQL\n",
    " DELETE FROM example\n",
    " WHERE column2 = 'N';\n",
    " ```\n",
    " \n",
    " Example of creating a table in SQL:\n",
    " ```SQL\n",
    " CREATE TABLE example(\n",
    " column1 INTEGER,\n",
    " column2 VARCHAR(50),\n",
    " column3 DATE NOT NULL,\n",
    " PRIMARY KEY (column1, column2)\n",
    ");\n",
    " ```\n",
    " \n",
    "SQL Data Types\n",
    " \n",
    "`CHAR` - n-character string  \n",
    "`VARCHAR` - variable-width string with max size of n  \n",
    "`CLOB` - character large object  \n",
    "`NCHAR` - fixed with string supporting international character set  \n",
    "`BINARY` - fixed with binary string  \n",
    "`VARBINARY` - variable-width binary string with max size of n  \n",
    "`BLOB` - binary large object  \n",
    "`BOOLEAN` - boolean  \n",
    "`INTEGER` - integer  \n",
    "`FLOAT` - float  \n",
    "`DATE` - e.g. 2011-05-03  \n",
    "`TIME` - e.g. 15:51:36  \n",
    "`TIMESTAMP` - `DATE` AND `TIME` put together  "
   ]
  },
  {
   "cell_type": "markdown",
   "metadata": {},
   "source": [
    "# SQLite3\n",
    "\n",
    "SQLite3 comes with python (and most operating systems in general). It's one of the most commonly used databases because of it's small size and availability.\n",
    "\n",
    "It also doesn't require much overhead, storing the db contents in .sql and only requiring the SQLite3 library (written in C) to use. All web browsers contain SQLite3 to be used to store information. For example, you could access your firefox browser's SQLite database for your browsing history."
   ]
  }
 ],
 "metadata": {
  "kernelspec": {
   "display_name": "Python 3",
   "language": "python",
   "name": "python3"
  },
  "language_info": {
   "codemirror_mode": {
    "name": "ipython",
    "version": 3
   },
   "file_extension": ".py",
   "mimetype": "text/x-python",
   "name": "python",
   "nbconvert_exporter": "python",
   "pygments_lexer": "ipython3",
   "version": "3.8.6"
  }
 },
 "nbformat": 4,
 "nbformat_minor": 4
}
