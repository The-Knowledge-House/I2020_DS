{
 "cells": [
  {
   "cell_type": "markdown",
   "metadata": {},
   "source": [
    "<div style=\"background: #000;\n",
    "            color: #FFF;\n",
    "            margin: 0px;\n",
    "                padding: 10px 0px 20px 0px;\n",
    "            text-align: center; \n",
    "                \">\n",
    "    <h1>Week 10 Quiz</h1>\n",
    "</div>"
   ]
  },
  {
   "cell_type": "markdown",
   "metadata": {},
   "source": [
    "# Exercise 1"
   ]
  },
  {
   "cell_type": "markdown",
   "metadata": {},
   "source": [
    "Create a list comprehension that outputs all of the numbers under 1000 that are divisible by 7 and 11.\n",
    "\n",
    "Sum the list and assign it to `s`. Then output `s`."
   ]
  },
  {
   "cell_type": "code",
   "execution_count": null,
   "metadata": {},
   "outputs": [],
   "source": [
    "# put your code here\n",
    "s = None\n",
    "s"
   ]
  },
  {
   "cell_type": "code",
   "execution_count": null,
   "metadata": {},
   "outputs": [],
   "source": [
    "# run this cell to check your solution\n",
    "try:\n",
    "    import hashlib\n",
    "    h = hashlib.sha256()\n",
    "    h.update(str(s).encode())\n",
    "    assert(h.hexdigest() == '1b527626476d0b34565bc1ed5db94a5afbd946fa618ea3441dd5bae7dc84a97a')\n",
    "    print(\"solution is correct\")\n",
    "except:\n",
    "    print(\"solution is incorrect\")"
   ]
  },
  {
   "cell_type": "markdown",
   "metadata": {},
   "source": [
    "# Exercise 2\n",
    "\n",
    "Create a function that takes a list of strings and outputs a dictionary where the key is the string and the value is the index."
   ]
  },
  {
   "cell_type": "code",
   "execution_count": null,
   "metadata": {},
   "outputs": [],
   "source": [
    "def strings_to_dict(lst):\n",
    "    pass\n",
    "\n",
    "# test cases:\n",
    "strings_to_dict([\"a\"])\n",
    "strings_to_dict([\"a\",\"b\",\"c\"])\n",
    "strings_to_dict([\"\"])"
   ]
  },
  {
   "cell_type": "code",
   "execution_count": null,
   "metadata": {},
   "outputs": [],
   "source": [
    "# run this cell to check your solution\n",
    "try:\n",
    "    assert(strings_to_dict([\"a\"]) == {'a':0})\n",
    "    assert(strings_to_dict([\"a\",\"b\",\"c\"]) == {'a':0, 'b':1, 'c':2})\n",
    "    assert(strings_to_dict([\"\"]) == {'':0})\n",
    "    print(\"solution is correct\")\n",
    "except:\n",
    "    print(\"solution is incorrect\")"
   ]
  },
  {
   "cell_type": "markdown",
   "metadata": {},
   "source": [
    "# Exercise 3\n",
    "\n",
    "Create a class that has a static method."
   ]
  },
  {
   "cell_type": "code",
   "execution_count": null,
   "metadata": {},
   "outputs": [],
   "source": []
  }
 ],
 "metadata": {
  "kernelspec": {
   "display_name": "Python 3",
   "language": "python",
   "name": "python3"
  },
  "language_info": {
   "codemirror_mode": {
    "name": "ipython",
    "version": 3
   },
   "file_extension": ".py",
   "mimetype": "text/x-python",
   "name": "python",
   "nbconvert_exporter": "python",
   "pygments_lexer": "ipython3",
   "version": "3.8.6"
  }
 },
 "nbformat": 4,
 "nbformat_minor": 4
}
