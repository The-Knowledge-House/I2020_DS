{
 "cells": [
  {
   "cell_type": "markdown",
   "metadata": {},
   "source": [
    "<div style=\"background: #000;\n",
    "            color: #FFF;\n",
    "            margin: 0px;\n",
    "                padding: 10px 0px 20px 0px;\n",
    "            text-align: center; \n",
    "                \">\n",
    "    <h1>Week 10 - Class 2 - 11/17</h1>\n",
    "</div>\n",
    "\n",
    "## Objectives for this week:\n",
    "* Creating Models and Views\n",
    "* Migration of a Database\n",
    "* Creating Login Functionality and Forms\n",
    "* Amazon s3\n",
    "\n",
    "## Today's Objective:\n",
    "* More Flask Features (message flashing, blueprints)\n",
    "* Creating DB and tables\n",
    "* Select, Update, Delete, Joins\n",
    "* SQLAlchemy\n",
    "* Flask-SQLAlchemy\n",
    "* Creating models in flask.\n"
   ]
  },
  {
   "cell_type": "markdown",
   "metadata": {},
   "source": [
    "<div style=\"background: #000;\n",
    "            color: #FFF;\n",
    "            margin: 0px;\n",
    "                padding: 10px 0px 20px 0px;\n",
    "            text-align: center; \n",
    "                \">\n",
    "    <h1>Week 9 Homework</h1>\n",
    "</div>"
   ]
  },
  {
   "cell_type": "markdown",
   "metadata": {},
   "source": []
  },
  {
   "cell_type": "markdown",
   "metadata": {},
   "source": [
    "# More Flask Features"
   ]
  },
  {
   "cell_type": "markdown",
   "metadata": {},
   "source": [
    "### Message Flashing\n",
    "\n",
    "Message flashing is a feature of the `flask` library that lets you attach a message to the next response using `flash`. Your template must `get_flashed_messages()` in order to access the messages. This allows you to do things like have a welcome banner upon sign in."
   ]
  },
  {
   "cell_type": "code",
   "execution_count": null,
   "metadata": {},
   "outputs": [],
   "source": [
    "from flask import Flask, flash, redirect, render_template, \\\n",
    "     request, url_for\n",
    "\n",
    "layout_html = \\\n",
    "\"\"\"\n",
    "<!doctype html>\n",
    "<title>My Application</title>\n",
    "{% with messages = get_flashed_messages() %}\n",
    "  {% if messages %}\n",
    "    <ul class=flashes>\n",
    "    {% for message in messages %}\n",
    "      <li>{{ message }}</li>\n",
    "    {% endfor %}\n",
    "    </ul>\n",
    "  {% endif %}\n",
    "{% endwith %}\n",
    "{% block body %}{% endblock %}\n",
    "\"\"\"\n",
    "\n",
    "index_html = \\\n",
    "\"\"\"\n",
    "{% extends \"layout.html\" %}\n",
    "{% block body %}\n",
    "  <h1>Overview</h1>\n",
    "  <p>Do you want to <a href=\"{{ url_for('login') }}\">log in?</a>\n",
    "{% endblock %}\n",
    "\"\"\"\n",
    "\n",
    "login_html = \\\n",
    "\"\"\"\n",
    "{% extends \"layout.html\" %}\n",
    "{% block body %}\n",
    "  <h1>Login</h1>\n",
    "  {% if error %}\n",
    "    <p class=error><strong>Error:</strong> {{ error }}\n",
    "  {% endif %}\n",
    "  <form method=post>\n",
    "    <dl>\n",
    "      <dt>Username:\n",
    "      <dd><input type=text name=username value=\"{{\n",
    "          request.form.username }}\">\n",
    "      <dt>Password:\n",
    "      <dd><input type=password name=password>\n",
    "    </dl>\n",
    "    <p><input type=submit value=Login>\n",
    "  </form>\n",
    "{% endblock %}\n",
    "\"\"\"\n",
    "\n",
    "app = Flask(__name__)\n",
    "app.secret_key = b'_5#y2L\"F4Q8z\\n\\xec]/'\n",
    "\n",
    "@app.route('/')\n",
    "def index():\n",
    "    return render_template('index.html')\n",
    "\n",
    "@app.route('/login', methods=['GET', 'POST'])\n",
    "def login():\n",
    "    error = None\n",
    "    if request.method == 'POST':\n",
    "        if request.form['username'] != 'admin' or \\\n",
    "                request.form['password'] != 'secret':\n",
    "            error = 'Invalid credentials'\n",
    "        else:\n",
    "            flash('You were successfully logged in')\n",
    "            return redirect(url_for('index'))\n",
    "    return render_template('login.html', error=error)"
   ]
  },
  {
   "cell_type": "markdown",
   "metadata": {},
   "source": [
    "# Blueprints\n",
    "\n",
    "So far, we've been using the same `app.py` file to hold all of our routes/views. This is fine for a small application but as our project gets larger, we might want to modularize your application into parts (e.g. admin, user, etc) you can separate them out into blueprints. Which you can consider submodules of the application.\n",
    "\n",
    "https://flask.palletsprojects.com/en/1.1.x/blueprints/\n",
    "\n",
    "Structure for our blueprint application:\n",
    "```\n",
    "blueprint_application/\n",
    "templates/\n",
    "admin/\n",
    "    templates/\n",
    "    admin.py\n",
    "app.py\n",
    "```"
   ]
  },
  {
   "cell_type": "markdown",
   "metadata": {},
   "source": [
    "# Creating DB and tables\n",
    "\n",
    "Yesterday, we seen some examples of SQL but we haven't seen how to do any of that with python.\n",
    "\n",
    "# Reference guide to SQL\n",
    "https://www.w3schools.com/sql/default.asp"
   ]
  },
  {
   "cell_type": "markdown",
   "metadata": {},
   "source": [
    "### SQLite3 in python\n",
    "\n",
    "We'll be using the`sqlite3` from the python standard library\n",
    "\n",
    "Some concepts:\n",
    "* connection - our connection to the database\n",
    "* cursor - object that can be used to execute SQL statements or fetch data from queries\n"
   ]
  },
  {
   "cell_type": "code",
   "execution_count": null,
   "metadata": {},
   "outputs": [],
   "source": [
    "import sqlite3 \n",
    "\n",
    "# this creates a connection to sqlite3 db in memory\n",
    "conn = sqlite3.connect(':memory:')\n",
    "conn.close()"
   ]
  },
  {
   "cell_type": "markdown",
   "metadata": {},
   "source": [
    "Usually we want to store our db in a file"
   ]
  },
  {
   "cell_type": "code",
   "execution_count": null,
   "metadata": {},
   "outputs": [],
   "source": [
    "import sqlite3 \n",
    "\n",
    "# this creates a connection to sqlite3 \n",
    "# db stored in `database.db`\n",
    "conn = sqlite3.connect('database.db')\n",
    "conn.close()"
   ]
  },
  {
   "cell_type": "code",
   "execution_count": null,
   "metadata": {},
   "outputs": [],
   "source": [
    "import sqlite3\n",
    "\n",
    "conn = sqlite3.connect('database.db')\n",
    "# this creates a cursor\n",
    "cursor = conn.cursor()\n",
    "conn.close()"
   ]
  },
  {
   "cell_type": "markdown",
   "metadata": {},
   "source": [
    "This deletes a table if it exists and then creates a new table of the same name (students)."
   ]
  },
  {
   "cell_type": "code",
   "execution_count": null,
   "metadata": {},
   "outputs": [],
   "source": [
    "import sqlite3\n",
    "\n",
    "conn = sqlite3.connect('database.db')\n",
    "print(\"Opened database successfully\")\n",
    "\n",
    "cursor = conn.cursor()\n",
    "\n",
    "cursor.execute(\"DROP table IF EXISTS students;\")\n",
    "\n",
    "cursor.execute(\"\"\"\n",
    "CREATE TABLE students (\n",
    " name varchar(255), \n",
    " class varchar(255), \n",
    " grade int\n",
    ");\n",
    "\"\"\")\n",
    "\n",
    "print(\"Table created successfully\")\n",
    "\n",
    "conn.close()"
   ]
  },
  {
   "cell_type": "markdown",
   "metadata": {},
   "source": [
    "# Insert, Select, Update, Delete\n",
    "\n",
    "### Insert\n",
    "\n",
    "Now that we have our table, we can insert rows into it."
   ]
  },
  {
   "cell_type": "code",
   "execution_count": null,
   "metadata": {},
   "outputs": [],
   "source": [
    "import sqlite3\n",
    "\n",
    "conn = sqlite3.connect('database.db')\n",
    "print(\"Opened database successfully\")\n",
    "cursor = conn.cursor()\n",
    "cursor.execute(\"\"\"\n",
    "INSERT INTO students (name, class, grade)\n",
    "VALUES (\n",
    "\"student1\", \n",
    "\"data science\", \n",
    "100);\n",
    "\"\"\")\n",
    "# we need to commit these changes\n",
    "conn.commit()\n",
    "print(\"Row created successfully\")\n",
    "conn.close()"
   ]
  },
  {
   "cell_type": "code",
   "execution_count": null,
   "metadata": {},
   "outputs": [],
   "source": [
    "import sqlite3\n",
    "\n",
    "students = [\n",
    "    (\"student2\", \"datascience\", 93),\n",
    "    (\"student3\", \"datascience\", 100),\n",
    "    (\"student4\", \"datascience\", 98),\n",
    "    (\"student5\", \"datascience\", 80),\n",
    "    (\"student6\", \"progressiveweb\", 90),\n",
    "    (\"student7\", \"progressiveweb\", 100),\n",
    "    (\"student8\", \"progressiveweb\", 80),\n",
    "    (\"student9\", \"progressiveweb\", 98),\n",
    "    (\"student10\", \"progressiveweb\", 93),\n",
    "]\n",
    "conn = sqlite3.connect('database.db')\n",
    "print(\"Opened database successfully\")\n",
    "cursor = conn.cursor()\n",
    "for student in students:\n",
    "    print(student)\n",
    "    cursor.execute(f\"INSERT INTO students (name, class, grade) VALUES ('{student[0]}', '{student[1]}', '{student[2]}');\")\n",
    "# we need to commit these changes\n",
    "conn.commit()\n",
    "print(\"Rows created successfully\")\n",
    "conn.close()"
   ]
  },
  {
   "cell_type": "markdown",
   "metadata": {},
   "source": [
    "### Select\n",
    "\n",
    "Now that we've got a row in our table, we can select students from the table to get the data."
   ]
  },
  {
   "cell_type": "code",
   "execution_count": null,
   "metadata": {},
   "outputs": [],
   "source": [
    "import sqlite3\n",
    "\n",
    "conn = sqlite3.connect('database.db')\n",
    "print(\"Opened database successfully\")\n",
    "cursor = conn.cursor()\n",
    "cursor.execute(\"SELECT * FROM students;\")\n",
    "row = cursor.fetchall()\n",
    "print(row)\n",
    "print(\"Operations completed successfully\")\n",
    "conn.close()"
   ]
  },
  {
   "cell_type": "code",
   "execution_count": null,
   "metadata": {},
   "outputs": [],
   "source": [
    "import sqlite3\n",
    "\n",
    "conn = sqlite3.connect('database.db')\n",
    "print(\"Opened database successfully\")\n",
    "cursor = conn.cursor()\n",
    "cursor.execute(\"SELECT * FROM students WHERE grade > 95 ;\")\n",
    "row = cursor.fetchall()\n",
    "print(row)\n",
    "print(\"Operations completed successfully\")\n",
    "conn.close()"
   ]
  },
  {
   "cell_type": "code",
   "execution_count": null,
   "metadata": {},
   "outputs": [],
   "source": [
    "import sqlite3\n",
    "\n",
    "conn = sqlite3.connect('database.db')\n",
    "print(\"Opened database successfully\")\n",
    "cursor = conn.cursor()\n",
    "cursor.execute(\"SELECT * FROM students WHERE name = 'student1' ;\")\n",
    "row = cursor.fetchall()\n",
    "print(row)\n",
    "print(\"Operations completed successfully\")\n",
    "conn.close()"
   ]
  },
  {
   "cell_type": "markdown",
   "metadata": {},
   "source": [
    "### Update\n",
    "\n",
    "We can update values in a row using the following:"
   ]
  },
  {
   "cell_type": "code",
   "execution_count": null,
   "metadata": {},
   "outputs": [],
   "source": [
    "import sqlite3\n",
    "\n",
    "conn = sqlite3.connect('database.db')\n",
    "print(\"Opened database successfully\")\n",
    "cursor = conn.cursor()\n",
    "cursor.execute(\"SELECT * FROM students WHERE name = 'student5' ;\")\n",
    "row = cursor.fetchall()\n",
    "print(row)\n",
    "print(\"updating student's grade\")\n",
    "cursor.execute(\"UPDATE students SET grade = 90 WHERE name = 'student5' ;\")\n",
    "print(\"printing updated row\")\n",
    "cursor.execute(\"SELECT * FROM students WHERE name = 'student5' ;\")\n",
    "row = cursor.fetchall()\n",
    "print(row)\n",
    "conn.commit()\n",
    "print(\"Operations completed successfully\")\n",
    "conn.close()"
   ]
  },
  {
   "cell_type": "code",
   "execution_count": null,
   "metadata": {},
   "outputs": [],
   "source": [
    "import sqlite3\n",
    "\n",
    "conn = sqlite3.connect('database.db')\n",
    "print(\"Opened database successfully\")\n",
    "cursor = conn.cursor()\n",
    "cursor.execute(\"SELECT * FROM students WHERE name = 'student5' ;\")\n",
    "row = cursor.fetchall()\n",
    "print(row)\n",
    "cursor.execute(\"DELETE FROM students WHERE name = 'student5';\")\n",
    "cursor.execute(\"SELECT * FROM students WHERE name = 'student5' ;\")\n",
    "row = cursor.fetchall()\n",
    "print(row)\n",
    "conn.commit()\n",
    "print(\"Operations completed successfully\")\n",
    "conn.close()"
   ]
  },
  {
   "cell_type": "markdown",
   "metadata": {},
   "source": [
    "# SQLAlchemy\n",
    "\n",
    "`SQLAlchemy` is a python library that is a wrapper around SQL databases. This is known as an object relational mapping. Essentially, `SQLAlchemy` is python code we can use to complete the same things we did above but without using SQL. This allows us to avoid having to mix python and SQL and just use one."
   ]
  },
  {
   "cell_type": "code",
   "execution_count": null,
   "metadata": {},
   "outputs": [],
   "source": [
    "!python3 -m pip install sqlalchemy"
   ]
  },
  {
   "cell_type": "markdown",
   "metadata": {},
   "source": [
    "### What we did above but in SQLAlchemy..."
   ]
  },
  {
   "cell_type": "code",
   "execution_count": null,
   "metadata": {},
   "outputs": [],
   "source": [
    "from sqlalchemy import Column, Integer, String\n",
    "from sqlalchemy.ext.declarative import declarative_base\n",
    "from sqlalchemy import create_engine\n",
    "from sqlalchemy.orm import Session\n",
    "from sqlalchemy.orm import sessionmaker\n",
    " \n",
    "Base = declarative_base()\n",
    " \n",
    "class Student(Base):\n",
    "    __tablename__ = 'student'\n",
    "    # Here we define columns for the table person\n",
    "    # Notice that each column is also a normal Python instance attribute.\n",
    "    id = Column(Integer, primary_key=True)\n",
    "    name = Column(String(255), nullable=False)\n",
    "    course = Column(String(255), nullable=False)\n",
    "    grade = Column(Integer, nullable=False)\n",
    "    \n",
    "    def __repr__(self):\n",
    "        return f\"{self.id} {self.name} {self.course} {self.grade}\"\n",
    "\n",
    "# Create an engine that stores data in the .db file\n",
    "engine = create_engine('sqlite:///sqlalchemy_database.db')\n",
    " \n",
    "# Create all tables in the engine. \n",
    "#This is equivalent to \"Create Table\"\n",
    "Base.metadata.create_all(engine)\n",
    "Base.metadata.bind = engine\n",
    "\n",
    "DBSession = sessionmaker(bind=engine)\n",
    "# A DBSession() instance establishes all conversations with the database\n",
    "# and represents a \"staging zone\" for all the objects loaded into the\n",
    "# database session object. Any change made against the objects in the\n",
    "# session won't be persisted into the database until you call\n",
    "# session.commit(). If you're not happy about the changes, you can\n",
    "# revert all of them back to the last commit by calling\n",
    "# session.rollback()\n",
    "session = DBSession()\n",
    " \n",
    "# Insert a Student in the student table\n",
    "new_student = Student(name='student1', course=\"datascience\", grade=90)\n",
    "session.add(new_student)\n",
    "session.commit()"
   ]
  },
  {
   "cell_type": "code",
   "execution_count": null,
   "metadata": {},
   "outputs": [],
   "source": [
    "students = [\n",
    "    (\"student2\", \"datascience\", 93),\n",
    "    (\"student3\", \"datascience\", 100),\n",
    "    (\"student4\", \"datascience\", 98),\n",
    "    (\"student5\", \"datascience\", 80),\n",
    "    (\"student6\", \"progressiveweb\", 90),\n",
    "    (\"student7\", \"progressiveweb\", 100),\n",
    "    (\"student8\", \"progressiveweb\", 80),\n",
    "    (\"student9\", \"progressiveweb\", 98),\n",
    "    (\"student10\", \"progressiveweb\", 93),\n",
    "]\n",
    "\n",
    "for student in students:\n",
    "    session.add(\n",
    "        Student(\n",
    "            name=student[0], \n",
    "            course=student[1],\n",
    "            grade = student[2]\n",
    "    ))\n",
    "    session.commit()"
   ]
  },
  {
   "cell_type": "code",
   "execution_count": null,
   "metadata": {},
   "outputs": [],
   "source": [
    "qry = session.query(Student).order_by('grade')\n",
    "qry.all()"
   ]
  },
  {
   "cell_type": "markdown",
   "metadata": {},
   "source": [
    "# Flask-SQLAlchemy\n",
    "\n",
    "Flask SQLAlchemy is a flask extension that binds `flask` and `SQLAlchemy`. This makes what we were doing above even easier for us."
   ]
  },
  {
   "cell_type": "code",
   "execution_count": null,
   "metadata": {},
   "outputs": [],
   "source": [
    "!python3 -m pip install flask-sqlalchemy"
   ]
  },
  {
   "cell_type": "markdown",
   "metadata": {},
   "source": [
    "# Creating models in flask."
   ]
  },
  {
   "cell_type": "code",
   "execution_count": null,
   "metadata": {},
   "outputs": [],
   "source": [
    "from flask import Flask\n",
    "from flask_sqlalchemy import SQLAlchemy\n",
    "\n",
    "app = Flask(__name__)\n",
    "app.config['SQLALCHEMY_DATABASE_URI'] = 'sqlite:///flask_database.db'\n",
    "app.config['SQLALCHEMY_TRACK_MODIFICATIONS'] = False\n",
    "db = SQLAlchemy(app)\n",
    "\n",
    "\n",
    "class Student(db.Model):\n",
    "    id = db.Column(db.Integer, primary_key=True)\n",
    "    name = db.Column(db.String(255), nullable=False)\n",
    "    course = db.Column(db.String(120), nullable=False)\n",
    "    grade = db.Column(db.Integer, nullable=False)\n",
    "    \n",
    "    def __repr__(self):\n",
    "        return '<Student %r>' % self.name\n",
    "\n",
    "db.create_all()\n",
    "\n",
    "new_student = Student(name='student1', course=\"datascience\", grade=90)\n",
    "db.session.add(new_student)\n",
    "db.session.commit()"
   ]
  },
  {
   "cell_type": "code",
   "execution_count": null,
   "metadata": {},
   "outputs": [],
   "source": [
    "Student.query.all()"
   ]
  },
  {
   "cell_type": "code",
   "execution_count": null,
   "metadata": {},
   "outputs": [],
   "source": [
    "students = [\n",
    "    (\"student2\", \"datascience\", 93),\n",
    "    (\"student3\", \"datascience\", 100),\n",
    "    (\"student4\", \"datascience\", 98),\n",
    "    (\"student5\", \"datascience\", 80),\n",
    "    (\"student6\", \"progressiveweb\", 90),\n",
    "    (\"student7\", \"progressiveweb\", 100),\n",
    "    (\"student8\", \"progressiveweb\", 80),\n",
    "    (\"student9\", \"progressiveweb\", 98),\n",
    "    (\"student10\", \"progressiveweb\", 93),\n",
    "]\n",
    "\n",
    "for student in students:\n",
    "    s = Student(name=student[0], course=student[1], grade=student[2])\n",
    "    db.session.add(s)\n",
    "    db.session.commit()"
   ]
  },
  {
   "cell_type": "code",
   "execution_count": null,
   "metadata": {},
   "outputs": [],
   "source": [
    "Student.query.all()"
   ]
  },
  {
   "cell_type": "code",
   "execution_count": null,
   "metadata": {},
   "outputs": [],
   "source": [
    "db.close_all_sessions()"
   ]
  },
  {
   "cell_type": "code",
   "execution_count": null,
   "metadata": {},
   "outputs": [],
   "source": []
  }
 ],
 "metadata": {
  "kernelspec": {
   "display_name": "Python 3",
   "language": "python",
   "name": "python3"
  },
  "language_info": {
   "codemirror_mode": {
    "name": "ipython",
    "version": 3
   },
   "file_extension": ".py",
   "mimetype": "text/x-python",
   "name": "python",
   "nbconvert_exporter": "python",
   "pygments_lexer": "ipython3",
   "version": "3.8.6"
  }
 },
 "nbformat": 4,
 "nbformat_minor": 4
}
