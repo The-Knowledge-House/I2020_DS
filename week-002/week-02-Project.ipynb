{
 "cells": [
  {
   "cell_type": "markdown",
   "metadata": {},
   "source": [
    "# Week 2 Project"
   ]
  },
  {
   "cell_type": "markdown",
   "metadata": {},
   "source": [
    "Our company \"Zeta\" has an algorithmic trading bot that purchases shares of stocks. We've been buying shares of TSLA and MSFT for a while now. Our bot buys 1 share at a time and the prices of each purchase is listed below."
   ]
  },
  {
   "cell_type": "code",
   "execution_count": null,
   "metadata": {},
   "outputs": [],
   "source": [
    "tsla = [132.56, 105.2, 137.54, 124.31, 124.54, 108.52, 139.35, 121.49, 117.89, 100.79, 116.63, 108.02, 103.25, 105.72, 114.12, 128.8, 102.37, 114.9, 132.4, 135.3, 151.3, 134.8, 111.1, 132.1, 156.31, 114.58, 140.42, 127.02, 126.36, 132.64, 152.15, 126.19, 156.41, 148.95, 164.27, 129.99, 145.17, 151.98, 148.75, 144.75, 133.51, 146.97, 144.09, 129.79, 152.15, 161.55, 158.24, 157.89, 163.06, 180.86, 185.57, 198.29, 184.2, 183.68, 193.8, 201.32]\n",
    "\n",
    "# to verify your numbers are correct and have not been altered, uncomment and run the following:\n",
    "#import hashlib; print(\"tsla prices are correct\" if hashlib.md5(str(tsla).encode()).hexdigest() == '2157a3cc6c68b3ae3e26ae3101cf2c44' else \"tsla prices are incorrect\")"
   ]
  },
  {
   "cell_type": "code",
   "execution_count": null,
   "metadata": {},
   "outputs": [],
   "source": [
    "msft = [167.69, 151.72, 141.38, 136.95, 146.5, 157.5, 177.42, 152.06, 147.97, 174.94, 162.73, 183.69, 139.53, 181.82, 167.49, 176.05, 179.25, 149.65, 183.38, 149.73, 151.2, 189.22, 166.28, 187.13, 195.46, 158.8, 154.24, 190.19, 153.23, 192.82, 176.67, 192.04, 177.19, 165.53, 184.44, 186.13, 199.71, 174.14, 175.61, 184.14, 205.52, 202.13, 180.19, 198.55, 204.91, 187.49, 183.52, 199.76, 212.38, 191.2, 222.39, 195.15, 185.7, 224.32, 195.49, 208.56, 184.11, 211.48, 207.77, 202.89, 186.68, 203.91, 234.01, 202.05, 205.86, 193.8, 213.51, 220.2, 234.56, 200.86, 206.04, 243.46, 243.3, 208.68, 220.96, 237.67, 208.42, 214.33, 251.64, 212.35, 217.35, 213.11, 251.61, 247.34, 234.95, 256.97, 235.53, 240.86, 213.03, 235.38, 257.89, 246.18, 234.4, 222.91, 253.5, 257.53, 266.9, 226.3, 230.97, 270.01]\n",
    "\n",
    "# to verify your numbers are correct and have not been altered, uncomment and run the following:\n",
    "#import hashlib; print(\"msft prices are correct\" if hashlib.md5(str(msft).encode()).hexdigest() == '5e0b3acc2d380c957f9db6487c0f4807' else \"msft prices are incorrect\")"
   ]
  },
  {
   "cell_type": "markdown",
   "metadata": {},
   "source": [
    "### How many shares of TSLA did we buy?\n",
    "\n",
    "Note: remember that for each buy, we bought 1 share."
   ]
  },
  {
   "cell_type": "code",
   "execution_count": null,
   "metadata": {},
   "outputs": [],
   "source": []
  },
  {
   "cell_type": "markdown",
   "metadata": {},
   "source": [
    "### What was the average price of our TSLA shares?\n",
    "\n",
    "Average price = cost of all shares / number of shares"
   ]
  },
  {
   "cell_type": "code",
   "execution_count": null,
   "metadata": {},
   "outputs": [],
   "source": []
  },
  {
   "cell_type": "markdown",
   "metadata": {},
   "source": [
    "### What was the lowest price we paid for a share of TSLA?"
   ]
  },
  {
   "cell_type": "code",
   "execution_count": null,
   "metadata": {},
   "outputs": [],
   "source": []
  },
  {
   "cell_type": "markdown",
   "metadata": {},
   "source": [
    "### What was the highest price we paid for a share of TSLA?"
   ]
  },
  {
   "cell_type": "code",
   "execution_count": null,
   "metadata": {},
   "outputs": [],
   "source": []
  },
  {
   "cell_type": "markdown",
   "metadata": {},
   "source": [
    "### Sort the list of TSLA shares in place. What was the five lowest prices we paid for TSLA shares?"
   ]
  },
  {
   "cell_type": "code",
   "execution_count": null,
   "metadata": {},
   "outputs": [],
   "source": []
  },
  {
   "cell_type": "markdown",
   "metadata": {},
   "source": [
    "### What were the five highest prices we paid for TSLA shares? \n",
    "\n",
    "Use a slice that includes a negative number"
   ]
  },
  {
   "cell_type": "code",
   "execution_count": null,
   "metadata": {},
   "outputs": [],
   "source": []
  },
  {
   "cell_type": "markdown",
   "metadata": {},
   "source": [
    "### How many unique values do we have in our list of TSLA prices? "
   ]
  },
  {
   "cell_type": "code",
   "execution_count": null,
   "metadata": {},
   "outputs": [],
   "source": []
  },
  {
   "cell_type": "markdown",
   "metadata": {},
   "source": [
    "### We have another algo running that also buys shares of TSLA. Using the following list and the set from before, output a list of the unique set of prices of the combined lists."
   ]
  },
  {
   "cell_type": "code",
   "execution_count": null,
   "metadata": {},
   "outputs": [],
   "source": [
    "other_tsla_list = [114.12, 128.8, 102.37, 114.9, 132.4, 135.3, 151.3, 134.8, 111.1, 132.1]\n",
    "\n",
    "# to verify the above numbers are correct and have not been altered, uncomment and run the following:\n",
    "#import hashlib; print(\"other tsla prices are correct\" if hashlib.md5(str(other_tsla_list).encode()).hexdigest() == '9d855ef64203308925c4259ca8864cda' else \"other prices are incorrect\")"
   ]
  },
  {
   "cell_type": "code",
   "execution_count": null,
   "metadata": {},
   "outputs": [],
   "source": []
  },
  {
   "cell_type": "markdown",
   "metadata": {},
   "source": [
    "### Create a dictionary from the list of TSLA prices. Use the index of the sorted list as the key."
   ]
  },
  {
   "cell_type": "code",
   "execution_count": null,
   "metadata": {},
   "outputs": [],
   "source": []
  },
  {
   "cell_type": "markdown",
   "metadata": {},
   "source": [
    "### How many shares of MSFT did we buy? \n",
    "\n",
    "Note: remember that for each buy, we bought only 1 share."
   ]
  },
  {
   "cell_type": "code",
   "execution_count": null,
   "metadata": {},
   "outputs": [],
   "source": []
  },
  {
   "cell_type": "markdown",
   "metadata": {},
   "source": [
    "### What was the average price of our MSFT shares?"
   ]
  },
  {
   "cell_type": "code",
   "execution_count": null,
   "metadata": {},
   "outputs": [],
   "source": []
  },
  {
   "cell_type": "markdown",
   "metadata": {},
   "source": [
    "### What was the lowest price we paid for a share of MSFT?"
   ]
  },
  {
   "cell_type": "code",
   "execution_count": null,
   "metadata": {},
   "outputs": [],
   "source": []
  },
  {
   "cell_type": "markdown",
   "metadata": {},
   "source": [
    "### What was the highest price we paid for a share of MSFT?"
   ]
  },
  {
   "cell_type": "code",
   "execution_count": null,
   "metadata": {},
   "outputs": [],
   "source": []
  },
  {
   "cell_type": "markdown",
   "metadata": {},
   "source": [
    "### Sort the list of MSFT prices in place. What were the five lowest prices we paid for MSFT shares?"
   ]
  },
  {
   "cell_type": "code",
   "execution_count": null,
   "metadata": {},
   "outputs": [],
   "source": []
  },
  {
   "cell_type": "markdown",
   "metadata": {},
   "source": [
    "### What were the five highest prices we paid for MSFT shares? \n",
    "\n",
    "Use a slice that includes a negative number"
   ]
  },
  {
   "cell_type": "code",
   "execution_count": null,
   "metadata": {},
   "outputs": [],
   "source": []
  },
  {
   "cell_type": "markdown",
   "metadata": {},
   "source": [
    "### How many unique values do we have in our list of MSFT prices?"
   ]
  },
  {
   "cell_type": "code",
   "execution_count": null,
   "metadata": {},
   "outputs": [],
   "source": []
  },
  {
   "cell_type": "markdown",
   "metadata": {},
   "source": [
    "### We have another algo running that also buys shares of TSLA. Using the following list and the set from before, output a list of the unique prices of the combined lists."
   ]
  },
  {
   "cell_type": "code",
   "execution_count": null,
   "metadata": {},
   "outputs": [],
   "source": [
    "other_msft_list = [149.73, 151.2, 189.22, 166.28, 187.13, 195.46, 158.8, 154.24, 190.19, 153.23, 192.82, 176.67, 192.04, 177.19]\n",
    "\n",
    "# to verify the above numbers are correct and have not been altered, uncomment and run the following:\n",
    "#import hashlib; print(\"other_msft_prices are correct\" if hashlib.md5(str(other_msft_list).encode()).hexdigest() == '2340257f15e1472379a92741c3a83fdd' else \"other msft prices are incorrect\")"
   ]
  },
  {
   "cell_type": "markdown",
   "metadata": {},
   "source": [
    "### Create a dictionary from the list of MSFT prices. Use the index of the sorted list as the key."
   ]
  },
  {
   "cell_type": "code",
   "execution_count": null,
   "metadata": {},
   "outputs": [],
   "source": []
  },
  {
   "cell_type": "code",
   "execution_count": null,
   "metadata": {},
   "outputs": [],
   "source": []
  }
 ],
 "metadata": {
  "kernelspec": {
   "display_name": "Python 3",
   "language": "python",
   "name": "python3"
  },
  "language_info": {
   "codemirror_mode": {
    "name": "ipython",
    "version": 3
   },
   "file_extension": ".py",
   "mimetype": "text/x-python",
   "name": "python",
   "nbconvert_exporter": "python",
   "pygments_lexer": "ipython3",
   "version": "3.8.5"
  }
 },
 "nbformat": 4,
 "nbformat_minor": 4
}
