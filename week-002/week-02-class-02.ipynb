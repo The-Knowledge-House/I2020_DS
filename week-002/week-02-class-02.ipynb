{
 "cells": [
  {
   "cell_type": "markdown",
   "metadata": {},
   "source": [
    "<div style=\"background: #000;\n",
    "            color: #FFF;\n",
    "            margin: 0px;\n",
    "                padding: 10px 0px 20px 0px;\n",
    "            text-align: center; \n",
    "                \">\n",
    "    <h1>Week 2 - Class 2</h1>\n",
    "</div>\n",
    "\n",
    "## Todays Agenda\n",
    "* Homework Presentations\n",
    "* Lists and indexing/operations\n",
    "* Tuples\n",
    "* Mutability"
   ]
  },
  {
   "cell_type": "markdown",
   "metadata": {},
   "source": [
    "# Homework Presentations"
   ]
  },
  {
   "cell_type": "markdown",
   "metadata": {},
   "source": [
    "# Exercise 4\n",
    "\n",
    "Without actually using Python, determine what the following would evaluate\n",
    "to in Python and explain step-by-step how you arrived at this answer:\n",
    "\n",
    "    a. (1 or ((0 or 0) or 1)) or 1\n",
    "    b. ((1 or 0) or 0 or 1) or 1\n",
    "    c. 1 or 0 or 0 or 1 or 1\n",
    "    \n",
    "Change the following cells to markdown and fill your answer in them."
   ]
  },
  {
   "cell_type": "markdown",
   "metadata": {},
   "source": []
  },
  {
   "cell_type": "markdown",
   "metadata": {},
   "source": [
    "# Exercise 5\n",
    "\n",
    "To convert Fahrenheit to Celsius, you use the following formula:\n",
    "\n",
    "$$\n",
    "    C^{\\circ} = \\frac{ (F^{\\circ} - 32)}{1.8}\n",
    "$$\n",
    "\n",
    "Given a Fahrenheit input `temperature`, write some python statements to print the temperature in Celsius.\n"
   ]
  },
  {
   "cell_type": "code",
   "execution_count": null,
   "metadata": {},
   "outputs": [],
   "source": [
    "temperature = input(\"Enter temperature in Fahrenheit: \")\n",
    "\n"
   ]
  },
  {
   "cell_type": "markdown",
   "metadata": {},
   "source": [
    "### Note: In the following examples, `str` is used to denote a string. \n",
    "\n",
    "However, while python does allow us to set a value to a`reserved keyword`, this is generally a horrible idea. So keep in mind `str` here DOES NOT mean the type `str`."
   ]
  },
  {
   "cell_type": "markdown",
   "metadata": {},
   "source": [
    "---"
   ]
  },
  {
   "cell_type": "markdown",
   "metadata": {},
   "source": [
    "### `str.endswith(suffix[, start[, end]]) -> bool`\n",
    "Return True if S ends with the specified suffix, False otherwise.\n",
    "With optional start, test S beginning at that position.\n",
    "With optional end, stop comparing S at that position.\n",
    "suffix can also be a tuple of strings to try."
   ]
  },
  {
   "cell_type": "code",
   "execution_count": null,
   "metadata": {},
   "outputs": [],
   "source": [
    "[i for i in dir(7) if not i.endswith((\"__\"))]"
   ]
  },
  {
   "cell_type": "code",
   "execution_count": null,
   "metadata": {},
   "outputs": [],
   "source": [
    "string = 'this is the sample string for the example'\n",
    "#print(st.find('string'))\n",
    "string.endswith(\"string\", 19,25)"
   ]
  },
  {
   "cell_type": "markdown",
   "metadata": {},
   "source": [
    "---"
   ]
  },
  {
   "cell_type": "markdown",
   "metadata": {},
   "source": [
    "### `str.find(sub[, start[, end]]) -> int`\n",
    "Return the lowest index in S where substring sub is found,\n",
    "such that sub is contained within S[start:end].  Optional\n",
    "arguments start and end are interpreted as in slice notation.\n",
    "\n",
    "Return -1 on failure."
   ]
  },
  {
   "cell_type": "code",
   "execution_count": null,
   "metadata": {},
   "outputs": [],
   "source": [
    "\"1 2 3 4 5 6 7 8 9 10\".find(\"8\")"
   ]
  },
  {
   "cell_type": "code",
   "execution_count": null,
   "metadata": {},
   "outputs": [],
   "source": [
    "\"1 2 3 4 5 6 7 8 9 10\".find(\"8\",0,14)"
   ]
  },
  {
   "cell_type": "markdown",
   "metadata": {},
   "source": [
    "---"
   ]
  },
  {
   "cell_type": "markdown",
   "metadata": {},
   "source": [
    "### `str.index(sub[, start[, end]]) -> int`"
   ]
  },
  {
   "cell_type": "code",
   "execution_count": null,
   "metadata": {},
   "outputs": [],
   "source": [
    "string = \"string with $100.00 inside and $1000.00\"\n",
    "\n",
    "string.index(\"$100\")"
   ]
  },
  {
   "cell_type": "code",
   "execution_count": null,
   "metadata": {},
   "outputs": [],
   "source": [
    "string = \"0   4   8   12\"\n",
    "\n",
    "print(string.index(\"4\"))\n",
    "\n",
    "string.index('4', 4, 10)"
   ]
  },
  {
   "cell_type": "markdown",
   "metadata": {},
   "source": [
    "---"
   ]
  },
  {
   "cell_type": "markdown",
   "metadata": {},
   "source": [
    "### `str.join(iterable) -> str`\n",
    "Concatenate any number of strings.\n",
    "\n",
    "The string whose method is called is inserted in between each given string.\n",
    "The result is returned as a new string.\n",
    "\n",
    "Example: `'.'.join(['ab', 'pq', 'rs'])` -> `'ab.pq.rs'`"
   ]
  },
  {
   "cell_type": "code",
   "execution_count": null,
   "metadata": {},
   "outputs": [],
   "source": [
    "iterable = ['1','2','3','4','5']\n",
    "#iterable = ('1','2','3','4','5')\n",
    "#iterable = {'1':'a', '2':'b', '3':'c', '4':'d', '5':'e'}\n",
    "#iterable = {'1','2','3','4','5'}\n",
    "\"\".join(iterable)"
   ]
  },
  {
   "cell_type": "code",
   "execution_count": null,
   "metadata": {},
   "outputs": [],
   "source": [
    "iterable = [\"this\", \"will\", \"be\", \"a\", \"sentence\"]\n",
    "\" \".join(iterable)"
   ]
  },
  {
   "cell_type": "code",
   "execution_count": null,
   "metadata": {},
   "outputs": [],
   "source": [
    "iterable = [\"this\", \"will\", \"print\", \"on many\", \"lines\"]\n",
    "print(\"\\n\".join(iterable))"
   ]
  },
  {
   "cell_type": "markdown",
   "metadata": {},
   "source": [
    "---"
   ]
  },
  {
   "cell_type": "markdown",
   "metadata": {},
   "source": [
    "### `str.partition(sep) -> tuple` \n",
    "Partition the string into three parts using the given separator.\n",
    "\n",
    "This will search for the separator in the string.  If the separator is found,\n",
    "returns a 3-tuple containing the part before the separator, the separator\n",
    "itself, and the part after it.\n",
    "\n",
    "If the separator is not found, returns a 3-tuple containing the original string\n",
    "and two empty strings."
   ]
  },
  {
   "cell_type": "code",
   "execution_count": null,
   "metadata": {},
   "outputs": [],
   "source": [
    "\"1,000\".partition(',')"
   ]
  },
  {
   "cell_type": "markdown",
   "metadata": {},
   "source": [
    "---"
   ]
  },
  {
   "cell_type": "markdown",
   "metadata": {},
   "source": [
    "### `str.replace(find, replace[, count]) -> str`\n",
    "Return a copy with all occurrences of substring old replaced by new.\n",
    "\n",
    "  count\n",
    "    Maximum number of occurrences to replace.\n",
    "    -1 (the default value) means replace all occurrences.\n",
    "\n",
    "If the optional argument count is given, only the first count occurrences are\n",
    "replaced."
   ]
  },
  {
   "cell_type": "code",
   "execution_count": null,
   "metadata": {},
   "outputs": [],
   "source": [
    "\"The price is $1000\".replace(\"$\", \"€\")"
   ]
  },
  {
   "cell_type": "code",
   "execution_count": null,
   "metadata": {},
   "outputs": [],
   "source": [
    "\"$$$$$$$$$$\".replace(\"$\", \"€\", 5)"
   ]
  },
  {
   "cell_type": "markdown",
   "metadata": {},
   "source": [
    "---"
   ]
  },
  {
   "cell_type": "markdown",
   "metadata": {},
   "source": [
    "### `str.split(sep[, maxsplit]) -> list`"
   ]
  },
  {
   "cell_type": "code",
   "execution_count": null,
   "metadata": {},
   "outputs": [],
   "source": [
    "\"this is a long string\".split(\" \")"
   ]
  },
  {
   "cell_type": "code",
   "execution_count": null,
   "metadata": {},
   "outputs": [],
   "source": [
    "\"this,is,a,long,string\".split(\",\", 10)"
   ]
  },
  {
   "cell_type": "markdown",
   "metadata": {},
   "source": [
    "---"
   ]
  },
  {
   "cell_type": "markdown",
   "metadata": {},
   "source": [
    "### `str.splitlines() -> list`\n",
    "Return a list of the lines in the string, breaking at line boundaries.\n",
    "\n",
    "Line breaks are not included in the resulting list unless keepends is given and true.'"
   ]
  },
  {
   "cell_type": "code",
   "execution_count": null,
   "metadata": {},
   "outputs": [],
   "source": [
    "\"string\\nstring\\nstring\\n\".split('\\n')"
   ]
  },
  {
   "cell_type": "markdown",
   "metadata": {},
   "source": [
    "---"
   ]
  },
  {
   "cell_type": "markdown",
   "metadata": {},
   "source": [
    "### `str.endswith(prefix[, start[, end]]) -> bool`\n",
    "Return True if S starts with the specified prefix, False otherwise.\n",
    "With optional start, test S beginning at that position.\n",
    "With optional end, stop comparing S at that position.\n",
    "prefix can also be a tuple of strings to try."
   ]
  },
  {
   "cell_type": "code",
   "execution_count": null,
   "metadata": {},
   "outputs": [],
   "source": [
    "[i for i in dir(7) if not i.startswith((\"__\"))]"
   ]
  },
  {
   "cell_type": "code",
   "execution_count": null,
   "metadata": {},
   "outputs": [],
   "source": [
    "string = 'this is the sample string for the example'\n",
    "#print(st.find('string'))\n",
    "string.startswith(\"string\", 19,25)"
   ]
  },
  {
   "cell_type": "markdown",
   "metadata": {},
   "source": [
    "---"
   ]
  },
  {
   "cell_type": "markdown",
   "metadata": {},
   "source": [
    "### `str.is_()` functions for strings\n",
    "\n",
    "strings have various `is_` methods for checking various things:\n",
    "* `isalnum()` - returns `True` if all characters in string is alpha-numeric\n",
    "* `isalpha()` - returns `True` if all characters in string is an alphabetical string \n",
    "* `isascii()` - returns `True` if all characters in string are ASCII.\n",
    "* `isdecimal()` - returns `True` if all characters are decimal.\n",
    "* `isdigit()` - returns `True` if all characters are decimals, subscripts and superscripts\n",
    "* `isidentifier` - returns `True` if string is a python identifier (e.g. variable name)\n",
    "* `islower()` - returns `True` if all characters in string are lowercase\n",
    "* `isnumeric()` - returns `True` for wider category of numeric numbers ( "
   ]
  },
  {
   "cell_type": "code",
   "execution_count": null,
   "metadata": {},
   "outputs": [],
   "source": [
    "\"abcdefg12345\".isalnum()"
   ]
  },
  {
   "cell_type": "code",
   "execution_count": null,
   "metadata": {},
   "outputs": [],
   "source": [
    "\"abcd\".lower()"
   ]
  },
  {
   "cell_type": "code",
   "execution_count": null,
   "metadata": {},
   "outputs": [],
   "source": [
    "\"a\".isascii()"
   ]
  },
  {
   "cell_type": "code",
   "execution_count": null,
   "metadata": {},
   "outputs": [],
   "source": [
    "\"12345\".isdecimal()"
   ]
  },
  {
   "cell_type": "code",
   "execution_count": null,
   "metadata": {},
   "outputs": [],
   "source": [
    "string = \"12345\\u00B2\"\n",
    "print(string)\n",
    "string.isdigit()"
   ]
  },
  {
   "cell_type": "code",
   "execution_count": null,
   "metadata": {},
   "outputs": [],
   "source": [
    "random_named_variable = \"string\"\n",
    "\n",
    "\"random_named_variable\".isidentifier()"
   ]
  },
  {
   "cell_type": "code",
   "execution_count": null,
   "metadata": {},
   "outputs": [],
   "source": [
    "'abc'.islower()"
   ]
  },
  {
   "cell_type": "code",
   "execution_count": null,
   "metadata": {},
   "outputs": [],
   "source": [
    "num = \"\\u2182\"\n",
    "print(num)\n",
    "num.isnumeric()"
   ]
  },
  {
   "cell_type": "code",
   "execution_count": null,
   "metadata": {},
   "outputs": [],
   "source": [
    "\"0 2\"[1].isspace()"
   ]
  },
  {
   "cell_type": "code",
   "execution_count": null,
   "metadata": {},
   "outputs": [],
   "source": [
    "\"Welcome To Python\".istitle()"
   ]
  },
  {
   "cell_type": "code",
   "execution_count": null,
   "metadata": {},
   "outputs": [],
   "source": [
    "\"ABCDE\".isupper()"
   ]
  },
  {
   "cell_type": "markdown",
   "metadata": {},
   "source": [
    "---"
   ]
  },
  {
   "cell_type": "markdown",
   "metadata": {},
   "source": [
    "# `is` \n",
    "\n",
    "`is` is a built in keyword in the python language.\n",
    "\n",
    "`==` is used for equality. `is` is used for identity.\n",
    "\n",
    "```python\n",
    "    >>> a = [1, 2, 3]\n",
    "    >>> b = [1, 2, 3]\n",
    "    >>> a == b\n",
    "    True\n",
    "    >>> a is b\n",
    "    False\n",
    "   \n",
    "\n",
    "```"
   ]
  },
  {
   "cell_type": "code",
   "execution_count": null,
   "metadata": {},
   "outputs": [],
   "source": [
    "a = [1,2,3]\n",
    "b = [1,2,3]"
   ]
  },
  {
   "cell_type": "code",
   "execution_count": null,
   "metadata": {},
   "outputs": [],
   "source": [
    "a = True\n",
    "a is True"
   ]
  },
  {
   "cell_type": "code",
   "execution_count": null,
   "metadata": {},
   "outputs": [],
   "source": [
    "a = \"string\"\n",
    "b = \"string\"\n",
    "b is a"
   ]
  },
  {
   "cell_type": "markdown",
   "metadata": {},
   "source": [
    "# `in`\n",
    "\n",
    "`in` is a built in keyword in the python language.\n",
    "\n",
    "`in` is used to check if value is present in a sequence or to iterate through a sequence."
   ]
  },
  {
   "cell_type": "code",
   "execution_count": null,
   "metadata": {},
   "outputs": [],
   "source": [
    "s = \"red\"\n",
    "colors = [\"red\", \"blue\", \"green\"]\n",
    "s in colors"
   ]
  },
  {
   "cell_type": "code",
   "execution_count": null,
   "metadata": {},
   "outputs": [],
   "source": [
    "[i for i in range(10)]"
   ]
  },
  {
   "cell_type": "code",
   "execution_count": null,
   "metadata": {},
   "outputs": [],
   "source": [
    "[i for i in range(10) if i % 2 == 0]"
   ]
  },
  {
   "cell_type": "markdown",
   "metadata": {},
   "source": [
    "# Continuing from Lists"
   ]
  },
  {
   "cell_type": "markdown",
   "metadata": {},
   "source": [
    "# List operations\n",
    "\n",
    "list operations:\n",
    "* `+` - concatenation (adding lists together)\n",
    "* `*` - multiply string\n",
    "* `<` - works but not how we want\n",
    "* `==` - tests equality of strings\n",
    "* `<=` - see `<`\n",
    "* `len(lst)` - returns length of list  \n",
    "* `print(lst)` - prints list\n",
    "* `sorted(lst)` - sorts list"
   ]
  },
  {
   "cell_type": "code",
   "execution_count": null,
   "metadata": {},
   "outputs": [],
   "source": [
    "l = [0,1,2,3,4,5]\n",
    "m = [6,7,8,9,10]\n",
    "\n",
    "l + m"
   ]
  },
  {
   "cell_type": "code",
   "execution_count": null,
   "metadata": {},
   "outputs": [],
   "source": [
    "l = [0,1,2,3,4,5]\n",
    "\n",
    "l * 2"
   ]
  },
  {
   "cell_type": "code",
   "execution_count": null,
   "metadata": {},
   "outputs": [],
   "source": [
    "l = [0,1,2,3,4,5]\n",
    "m = [4, 5]\n",
    "\n",
    "l * 3"
   ]
  },
  {
   "cell_type": "code",
   "execution_count": null,
   "metadata": {},
   "outputs": [],
   "source": [
    "l = [6,3,4]\n",
    "m = [5,4,4]\n",
    "print(l>m)\n",
    "l[0] > m[0]"
   ]
  },
  {
   "cell_type": "code",
   "execution_count": null,
   "metadata": {},
   "outputs": [],
   "source": [
    "l = [0,1,2,3,4,5]\n",
    "len(l)"
   ]
  },
  {
   "cell_type": "code",
   "execution_count": null,
   "metadata": {},
   "outputs": [],
   "source": [
    "l = [0,1,2,3,4,5]\n",
    "print(l)"
   ]
  },
  {
   "cell_type": "code",
   "execution_count": null,
   "metadata": {},
   "outputs": [],
   "source": [
    "l = [4,3,5,0,1]\n",
    "print(l)\n",
    "sorted(l)"
   ]
  },
  {
   "cell_type": "code",
   "execution_count": null,
   "metadata": {},
   "outputs": [],
   "source": [
    "[ i for i in dir(list()) if not i.endswith('__')]"
   ]
  },
  {
   "cell_type": "markdown",
   "metadata": {},
   "source": [
    "### `lst.append()`\n",
    "\n",
    "Append object to the end of the list."
   ]
  },
  {
   "cell_type": "code",
   "execution_count": null,
   "metadata": {},
   "outputs": [],
   "source": [
    "l = list()\n",
    "l.append(1)\n",
    "l"
   ]
  },
  {
   "cell_type": "code",
   "execution_count": null,
   "metadata": {},
   "outputs": [],
   "source": [
    "l = []\n",
    "l.append(5)\n",
    "l"
   ]
  },
  {
   "cell_type": "markdown",
   "metadata": {},
   "source": [
    "### `lst.clear()`\n",
    "\n",
    "Remove all items from list."
   ]
  },
  {
   "cell_type": "code",
   "execution_count": null,
   "metadata": {},
   "outputs": [],
   "source": [
    "l = [0,1,2,3,4,5]\n",
    "print(l)\n",
    "l.clear()\n",
    "l"
   ]
  },
  {
   "cell_type": "markdown",
   "metadata": {},
   "source": [
    "### `lst.count()`\n",
    "Return number of occurrences of value."
   ]
  },
  {
   "cell_type": "code",
   "execution_count": null,
   "metadata": {},
   "outputs": [],
   "source": [
    "l = [2, 0, 7, 2, 3, 4, 2, 4, 5, 7]\n",
    "l.count(2)"
   ]
  },
  {
   "cell_type": "markdown",
   "metadata": {},
   "source": [
    "### `lst.extend()`\n",
    "\n",
    "Extend list by appending elements from the iterable."
   ]
  },
  {
   "cell_type": "code",
   "execution_count": null,
   "metadata": {},
   "outputs": [],
   "source": [
    "l = [1,2,3,4,5]\n",
    "m = [5, -4, -3, -2, -1, 0]\n",
    "m.extend(l)\n",
    "m"
   ]
  },
  {
   "cell_type": "markdown",
   "metadata": {},
   "source": [
    "### `lst.index(value)`\n",
    "\n",
    "Return first index of value.\n",
    "\n",
    "Raises ValueError if the value is not present."
   ]
  },
  {
   "cell_type": "code",
   "execution_count": null,
   "metadata": {},
   "outputs": [],
   "source": [
    "# example index\n",
    "l = [3, 8, 2, 1, 6, 5]\n",
    "l.index(1)"
   ]
  },
  {
   "cell_type": "markdown",
   "metadata": {},
   "source": [
    "### `lst.insert(index, value)`\n",
    "\n",
    "Insert object before index."
   ]
  },
  {
   "cell_type": "code",
   "execution_count": null,
   "metadata": {},
   "outputs": [],
   "source": [
    "# example insert\n",
    "l = [0, 1, 2, 3, 4]\n",
    "print(l)\n",
    "l.insert(3, 0)\n",
    "l"
   ]
  },
  {
   "cell_type": "markdown",
   "metadata": {},
   "source": [
    "### `lst.pop(index)`\n",
    "\n",
    "Remove and return item at index (default last).\\n\\nRaises IndexError if list is empty or index is out of range."
   ]
  },
  {
   "cell_type": "code",
   "execution_count": null,
   "metadata": {},
   "outputs": [],
   "source": [
    "# example pop\n",
    "l = [0, 1, 2, 3, 4, 5]\n",
    "l.pop()"
   ]
  },
  {
   "cell_type": "markdown",
   "metadata": {},
   "source": [
    "### `lst.remove(value)`\n",
    "Remove first occurrence of value.  \n",
    "Raises ValueError if the value is not present."
   ]
  },
  {
   "cell_type": "code",
   "execution_count": null,
   "metadata": {},
   "outputs": [],
   "source": [
    "# example remove\n",
    "l = [0, 1, 2, 3, 4, 5, 3]\n",
    "print(l)\n",
    "l.remove(3)\n",
    "l"
   ]
  },
  {
   "cell_type": "markdown",
   "metadata": {},
   "source": [
    "### `lst.reverse()`\n",
    "\n",
    "Reverse *IN PLACE*."
   ]
  },
  {
   "cell_type": "code",
   "execution_count": null,
   "metadata": {},
   "outputs": [],
   "source": [
    "# example reverse\n",
    "l = [5, 4, 3, 2, 1]\n",
    "l.reverse()\n",
    "l"
   ]
  },
  {
   "cell_type": "code",
   "execution_count": null,
   "metadata": {},
   "outputs": [],
   "source": [
    "l = ['a', 'b', 'c', ['1','2', '3']]\n",
    "l.reverse()\n",
    "l"
   ]
  },
  {
   "cell_type": "markdown",
   "metadata": {},
   "source": [
    "### `lst.sort()`\n",
    "\n",
    "Sort the list in ascending order and return None.\n",
    "\n",
    "The sort is in-place (i.e. the list itself is modified) and stable (i.e. the\n",
    "order of two equal elements is maintained).\n",
    "\n",
    "If a key function is given, apply it once to each list item and sort them,\n",
    "ascending or descending, according to their function values.\n",
    "\n",
    "The reverse flag can be set to sort in descending order."
   ]
  },
  {
   "cell_type": "code",
   "execution_count": null,
   "metadata": {},
   "outputs": [],
   "source": [
    "# example sort\n",
    "l = [3,4,2,5,1]\n",
    "l.sort()\n",
    "l"
   ]
  },
  {
   "cell_type": "code",
   "execution_count": null,
   "metadata": {},
   "outputs": [],
   "source": [
    "l = ['ab', 'bd', 'db', 'cd', 'ad']\n",
    "l.sort()\n",
    "l"
   ]
  },
  {
   "cell_type": "code",
   "execution_count": null,
   "metadata": {},
   "outputs": [],
   "source": [
    "l = [\n",
    "    #['name', 'class', 'grade'],\n",
    "    ['john', 'data science', 97],\n",
    "    ['jane', 'data science', 95],\n",
    "    ['john', 'data science', 70],\n",
    "    ['dave', 'data science', 98],\n",
    "]\n",
    "l.sort(key=lambda x: x[2])\n",
    "print(l)"
   ]
  },
  {
   "cell_type": "code",
   "execution_count": null,
   "metadata": {},
   "outputs": [],
   "source": [
    "l = [\n",
    "    #['name', 'class', 'grade'],\n",
    "    ['john', 'data science', 97],\n",
    "    ['jane', 'data science', 95],\n",
    "    ['john', 'data science', 70],\n",
    "    ['dave', 'data science', 98],\n",
    "]\n",
    "l.sort(key=lambda x: x[0])\n",
    "print(l)"
   ]
  },
  {
   "cell_type": "code",
   "execution_count": null,
   "metadata": {},
   "outputs": [],
   "source": [
    "l = [1,2,3,4,5]\n",
    "print(l)\n",
    "m = l.copy()\n",
    "m"
   ]
  },
  {
   "cell_type": "markdown",
   "metadata": {},
   "source": [
    "# Tuples\n"
   ]
  },
  {
   "cell_type": "code",
   "execution_count": null,
   "metadata": {},
   "outputs": [],
   "source": [
    "l = list(range(4))\n",
    "print(l)"
   ]
  },
  {
   "cell_type": "code",
   "execution_count": null,
   "metadata": {},
   "outputs": [],
   "source": [
    "l.append(4)\n",
    "print(l)"
   ]
  },
  {
   "cell_type": "code",
   "execution_count": null,
   "metadata": {},
   "outputs": [],
   "source": [
    "s = tuple(range(4))\n",
    "print(s)"
   ]
  },
  {
   "cell_type": "code",
   "execution_count": null,
   "metadata": {},
   "outputs": [],
   "source": [
    "s.append(4)\n",
    "print(s)"
   ]
  },
  {
   "cell_type": "code",
   "execution_count": null,
   "metadata": {},
   "outputs": [],
   "source": [
    "s = tuple(range(4))\n",
    "del s[3]"
   ]
  },
  {
   "cell_type": "code",
   "execution_count": null,
   "metadata": {},
   "outputs": [],
   "source": [
    "def func(): \n",
    "    return 0, 1, 2"
   ]
  },
  {
   "cell_type": "code",
   "execution_count": null,
   "metadata": {},
   "outputs": [],
   "source": [
    "val = func()\n",
    "print(type(val))\n",
    "print(val)"
   ]
  },
  {
   "cell_type": "code",
   "execution_count": null,
   "metadata": {},
   "outputs": [],
   "source": [
    "val1, val2, val3 = func()\n",
    "print(type(val1))\n",
    "print(val1, val2, val3)"
   ]
  },
  {
   "cell_type": "code",
   "execution_count": null,
   "metadata": {},
   "outputs": [],
   "source": [
    "# packing and unpacking tuple\n",
    "\n",
    "y = ('1st', '2nd', '3rd', '4th')\n",
    "one, two, three, four = y\n",
    "one, two, three, four"
   ]
  },
  {
   "cell_type": "code",
   "execution_count": null,
   "metadata": {},
   "outputs": [],
   "source": [
    "y = one, two, three, four\n",
    "print(y)"
   ]
  },
  {
   "cell_type": "code",
   "execution_count": null,
   "metadata": {},
   "outputs": [],
   "source": [
    "[i for i in dir(tuple) if not i.endswith('__')]"
   ]
  },
  {
   "cell_type": "markdown",
   "metadata": {},
   "source": [
    "### `tup.count(value)`\n",
    "\n",
    "Return number of occurrences of value."
   ]
  },
  {
   "cell_type": "code",
   "execution_count": null,
   "metadata": {},
   "outputs": [],
   "source": [
    "l = (3, 4, 5, 3, 6, 7, 8)\n",
    "l.count(3)"
   ]
  },
  {
   "cell_type": "markdown",
   "metadata": {},
   "source": [
    "### `tup.index(value)`\n",
    "\n",
    "Return first index of value.\n",
    "\n",
    "Raises ValueError if the value is not present."
   ]
  },
  {
   "cell_type": "code",
   "execution_count": null,
   "metadata": {},
   "outputs": [],
   "source": [
    "# example of index()\n",
    "l = (3, 4, 5, 3, 6, 7, 8)\n",
    "l.index(4)"
   ]
  },
  {
   "cell_type": "markdown",
   "metadata": {},
   "source": [
    "# Code Along\n",
    "\n",
    "\n",
    "Given the following matrix, find the determinant:\n",
    "$$\n",
    "\\begin{equation*}\n",
    "A = \n",
    "\\begin{vmatrix}\n",
    "1 & 2 \\\\\n",
    "3 & 4 \\\\\n",
    "\\end{vmatrix}\n",
    "\\end{equation*}\n",
    "$$\n",
    "The determinant of a matrix is calculated as follows:\n",
    "$$\n",
    "\\begin{equation*}\n",
    "det(A) = \n",
    "\\begin{vmatrix}\n",
    "a & b \\\\\n",
    "c & d\\\\\n",
    "\\end{vmatrix}\n",
    "= ad\n",
    "- bc\n",
    "\\end{equation*}\n",
    "$$"
   ]
  }
 ],
 "metadata": {
  "kernelspec": {
   "display_name": "Python 3",
   "language": "python",
   "name": "python3"
  },
  "language_info": {
   "codemirror_mode": {
    "name": "ipython",
    "version": 3
   },
   "file_extension": ".py",
   "mimetype": "text/x-python",
   "name": "python",
   "nbconvert_exporter": "python",
   "pygments_lexer": "ipython3",
   "version": "3.8.5"
  }
 },
 "nbformat": 4,
 "nbformat_minor": 4
}
