{
 "cells": [
  {
   "cell_type": "markdown",
   "metadata": {},
   "source": [
    "<div style=\"background: #000;\n",
    "            color: #FFF;\n",
    "            margin: 0px;\n",
    "            padding: 10px 0px 20px 0px;\n",
    "            text-align: center; \n",
    "                \">\n",
    "    <h1>Week 2 - Class 3</h1>\n",
    "</div>\n",
    "\n",
    "## Todays Agenda\n",
    "* Homework Presentations\n",
    "* Dictionaries\n",
    "* Sets"
   ]
  },
  {
   "cell_type": "markdown",
   "metadata": {},
   "source": [
    "<div style=\"background: #000;\n",
    "            color: #FFF;\n",
    "            margin: 0px;\n",
    "            padding: 10px 0px 20px 0px;\n",
    "            text-align: center; \n",
    "                \">\n",
    "    <h1 style=\"text-align:center\">Homework Presentations</h1>\n",
    "</div>\n"
   ]
  },
  {
   "cell_type": "markdown",
   "metadata": {},
   "source": [
    "# Exercise 2 \n",
    "\n",
    "Convert the following logical statements into python. Print the result for each possible combination (TT, TF, FT, FF)"
   ]
  },
  {
   "cell_type": "markdown",
   "metadata": {},
   "source": [
    "¬(p || q )  "
   ]
  },
  {
   "cell_type": "code",
   "execution_count": null,
   "metadata": {},
   "outputs": [],
   "source": []
  },
  {
   "cell_type": "markdown",
   "metadata": {},
   "source": [
    "( p || q ) ⊕ ( p & q)"
   ]
  },
  {
   "cell_type": "code",
   "execution_count": null,
   "metadata": {},
   "outputs": [],
   "source": []
  },
  {
   "cell_type": "markdown",
   "metadata": {},
   "source": [
    "(p & ¬q ) || (¬p & q)"
   ]
  },
  {
   "cell_type": "code",
   "execution_count": null,
   "metadata": {},
   "outputs": [],
   "source": []
  },
  {
   "cell_type": "markdown",
   "metadata": {},
   "source": [
    "# Exercise 6\n",
    "\n",
    "If given a height and a radius, print the volume of a cylinder.\n",
    "\n",
    "$$ \n",
    "    V = \\pi r^2h\n",
    "$$"
   ]
  },
  {
   "cell_type": "code",
   "execution_count": null,
   "metadata": {},
   "outputs": [],
   "source": [
    "height = input(\"Enter a height: \")\n",
    "radius = input(\"Enter a radius: \")"
   ]
  },
  {
   "cell_type": "markdown",
   "metadata": {},
   "source": [
    "# Dicts\n",
    "\n",
    "Another useful data type built into Python is the dictionary. Dictionaries are sometimes found in other languages as “associative memories” or “associative arrays”. Unlike sequences, which are indexed by a range of numbers, dictionaries are indexed by keys, which can be any immutable type; strings and numbers can always be keys. Tuples can be used as keys if they contain only strings, numbers, or tuples; if a tuple contains any mutable object either directly or indirectly, it cannot be used as a key. You can’t use lists as keys, since lists can be modified in place using index assignments, slice assignments, or methods like append() and extend().\n",
    "\n",
    "\n",
    "\n",
    "## Mapping from value to object\n",
    "\n",
    "    s = {}\n",
    "    key = \"key\"\n",
    "    val = value()\n",
    "    \n",
    "    s[key] = val"
   ]
  },
  {
   "cell_type": "markdown",
   "metadata": {},
   "source": [
    "### How to use dicts"
   ]
  },
  {
   "cell_type": "code",
   "execution_count": null,
   "metadata": {},
   "outputs": [],
   "source": [
    "dictionary1 = dict()\n",
    "dictionary2 = {}"
   ]
  },
  {
   "cell_type": "code",
   "execution_count": null,
   "metadata": {},
   "outputs": [],
   "source": [
    "dictionary1 == dictionary2"
   ]
  },
  {
   "cell_type": "code",
   "execution_count": null,
   "metadata": {},
   "outputs": [],
   "source": [
    "%timeit d = dict()"
   ]
  },
  {
   "cell_type": "code",
   "execution_count": null,
   "metadata": {},
   "outputs": [],
   "source": [
    "%timeit d = {}"
   ]
  },
  {
   "cell_type": "code",
   "execution_count": null,
   "metadata": {},
   "outputs": [],
   "source": [
    "key = \"key\"\n",
    "value = 10\n",
    "\n",
    "key, value"
   ]
  },
  {
   "cell_type": "code",
   "execution_count": null,
   "metadata": {},
   "outputs": [],
   "source": [
    "d = {}\n",
    "d[key] = value\n",
    "d"
   ]
  },
  {
   "cell_type": "code",
   "execution_count": null,
   "metadata": {},
   "outputs": [],
   "source": [
    "d[key]"
   ]
  },
  {
   "cell_type": "code",
   "execution_count": null,
   "metadata": {},
   "outputs": [],
   "source": [
    "d[True] = 'val'\n",
    "d[3] = 'val'"
   ]
  },
  {
   "cell_type": "code",
   "execution_count": null,
   "metadata": {},
   "outputs": [],
   "source": [
    "d.keys()"
   ]
  },
  {
   "cell_type": "code",
   "execution_count": null,
   "metadata": {},
   "outputs": [],
   "source": [
    "d.items()"
   ]
  },
  {
   "cell_type": "code",
   "execution_count": null,
   "metadata": {},
   "outputs": [],
   "source": [
    "d.values()"
   ]
  },
  {
   "cell_type": "code",
   "execution_count": null,
   "metadata": {},
   "outputs": [],
   "source": [
    "del d[True]\n",
    "d"
   ]
  },
  {
   "cell_type": "markdown",
   "metadata": {},
   "source": [
    "### Operations on dicts"
   ]
  },
  {
   "cell_type": "code",
   "execution_count": null,
   "metadata": {},
   "outputs": [],
   "source": [
    "dictionary1 = {'key1': 'a', 'key2': 'b', 'key3': 'c'}\n",
    "dictionary2 = {'key4': '1', 'key5': '2', 'key6': '3'}\n",
    "\n",
    "dictionary1 / dictionary2"
   ]
  },
  {
   "cell_type": "code",
   "execution_count": null,
   "metadata": {},
   "outputs": [],
   "source": [
    "dictionary1 = {'key1': 'a', 'key2': 'b', 'key3': 'c'}\n",
    "\n",
    "sorted(dictionary1)"
   ]
  },
  {
   "cell_type": "code",
   "execution_count": null,
   "metadata": {},
   "outputs": [],
   "source": [
    "dictionary1 = {'key1': 'a', 'key2': 'b', 'key3': 'c'}\n",
    "\n",
    "print(dictionary1)"
   ]
  },
  {
   "cell_type": "code",
   "execution_count": null,
   "metadata": {},
   "outputs": [],
   "source": [
    "dictionary1 = {'key1': 'a', 'key2': 'b', 'key3': 'c'}\n",
    "\n",
    "len(dictionary1)"
   ]
  },
  {
   "cell_type": "code",
   "execution_count": null,
   "metadata": {},
   "outputs": [],
   "source": [
    "dictionary1 = {'key1': 'a', 'key2': 'b', 'key3': 'c'}\n",
    "\n",
    "'key1' in dictionary1"
   ]
  },
  {
   "cell_type": "code",
   "execution_count": null,
   "metadata": {},
   "outputs": [],
   "source": [
    "[i for i in dir(dict()) if not i.startswith('_')]"
   ]
  },
  {
   "cell_type": "markdown",
   "metadata": {},
   "source": [
    "### `dct.clear() -> None`\n",
    "\n",
    "Remove all items from `dct`."
   ]
  },
  {
   "cell_type": "code",
   "execution_count": null,
   "metadata": {},
   "outputs": [],
   "source": [
    "dictionary = {}\n",
    "dictionary['key1'] = 'value1'\n",
    "dictionary['key2'] = 'value2'\n",
    "print(dictionary)\n",
    "dictionary.clear()\n",
    "dictionary"
   ]
  },
  {
   "cell_type": "markdown",
   "metadata": {},
   "source": [
    "### `dct.get(key[, default]) -> val`\n",
    "\n",
    "Return the value for key if key is in the dictionary, else default."
   ]
  },
  {
   "cell_type": "code",
   "execution_count": null,
   "metadata": {},
   "outputs": [],
   "source": [
    "dictionary = {'key1': 'a', 'key2': 'b', 'key3': 'c'}\n",
    "dictionary"
   ]
  },
  {
   "cell_type": "code",
   "execution_count": null,
   "metadata": {},
   "outputs": [],
   "source": [
    "dictionary.get('key1')"
   ]
  },
  {
   "cell_type": "code",
   "execution_count": null,
   "metadata": {},
   "outputs": [],
   "source": [
    "dictionary.get('key10', 'not found')"
   ]
  },
  {
   "cell_type": "markdown",
   "metadata": {},
   "source": [
    "### `dct.items() -> dict_items([...])`\n",
    "\n",
    "Returns a set-like object providing a view on `dct`'s items"
   ]
  },
  {
   "cell_type": "code",
   "execution_count": null,
   "metadata": {},
   "outputs": [],
   "source": [
    "d = dict([('1','a'),('2','b'),('3','c')])\n",
    "d.items()"
   ]
  },
  {
   "cell_type": "markdown",
   "metadata": {},
   "source": [
    "### `dct.keys() -> dict_keys([...])` \n",
    "\n",
    "a set-like object providing a view on `dct`'s keys"
   ]
  },
  {
   "cell_type": "code",
   "execution_count": null,
   "metadata": {},
   "outputs": [],
   "source": [
    "d = dict([('1','a'),('2','b'),('3','c')])\n",
    "d.keys()"
   ]
  },
  {
   "cell_type": "markdown",
   "metadata": {},
   "source": [
    "### `dct.values() -> dict_values([...])`\n",
    "\n",
    "Returns an object providing a view on `dct`'s values"
   ]
  },
  {
   "cell_type": "code",
   "execution_count": null,
   "metadata": {},
   "outputs": [],
   "source": [
    "dictionary = dict([('key1','val1'),('key2','val2'),('key3','val3')])\n",
    "values = d.values()\n",
    "values"
   ]
  },
  {
   "cell_type": "markdown",
   "metadata": {},
   "source": [
    "### `dct.pop(key, default) -> value`\n",
    "\n",
    "Remove specified key and return the corresponding value.\n",
    "If key is not found, default is returned if given, otherwise KeyError is raised"
   ]
  },
  {
   "cell_type": "code",
   "execution_count": null,
   "metadata": {},
   "outputs": [],
   "source": [
    "d = dict([('1','a'),('2','b'),('3','c')])\n",
    "popped_val = d.pop('1')\n",
    "print(d)\n",
    "popped_val"
   ]
  },
  {
   "cell_type": "markdown",
   "metadata": {},
   "source": [
    "### `dct.popitem()`"
   ]
  },
  {
   "cell_type": "markdown",
   "metadata": {},
   "source": [
    "Remove and return a (key, value) pair as a 2-tuple.\n",
    "\n",
    "Pairs are returned in LIFO (last-in, first-out) order.\n",
    "Raises KeyError if the dict is empty."
   ]
  },
  {
   "cell_type": "code",
   "execution_count": null,
   "metadata": {},
   "outputs": [],
   "source": [
    "d = {'key1': 'val1', 'key2': 'val2'}\n",
    "\n",
    "d.popitem()"
   ]
  },
  {
   "cell_type": "markdown",
   "metadata": {},
   "source": [
    "### `dct.setdefault(key, default)`\n",
    "\n",
    "Insert key with a value of default if key is not in the dictionary.\n",
    "\n",
    "Return the value for key if key is in the dictionary, else default."
   ]
  },
  {
   "cell_type": "code",
   "execution_count": null,
   "metadata": {},
   "outputs": [],
   "source": [
    "dictionary = {'key1': 'val1', 'key2':'val2', 'key3':'val3'}\n",
    "dictionary.setdefault('new_key','new_val') # show that it doesnt add if already existing\n",
    "print(dictionary)"
   ]
  },
  {
   "cell_type": "code",
   "execution_count": null,
   "metadata": {},
   "outputs": [],
   "source": [
    "print(dictionary)\n",
    "d.setdefault('new_key','even newer val')"
   ]
  },
  {
   "cell_type": "markdown",
   "metadata": {},
   "source": [
    "### `dct.update(iterable) -> None`\n",
    "\n",
    "Update `dct` from dict/iterable E and F.  \n",
    "If E is present and has a .keys() method, then does:  for k in E: D[k] = E[k]  \n",
    "If E is present and lacks a .keys() method, then does:  for k, v in E: D[k] = v  \n",
    "In either case, this is followed by: for k in F:  D[k] = F[k]  \n",
    "\n"
   ]
  },
  {
   "cell_type": "code",
   "execution_count": null,
   "metadata": {},
   "outputs": [],
   "source": [
    "d = {}\n",
    "iterable = [('key1',1), ('key2', 2)]\n",
    "print(d)\n",
    "d.update(iterable)\n",
    "d"
   ]
  },
  {
   "cell_type": "code",
   "execution_count": null,
   "metadata": {},
   "outputs": [],
   "source": [
    "d = {}\n",
    "iterable = {'key1': 'val1', 'key2': 'val2', 'key3': 'val3'}\n",
    "print(d)\n",
    "d.update(iterable)\n",
    "d"
   ]
  },
  {
   "cell_type": "markdown",
   "metadata": {},
   "source": [
    "# Sets\n",
    "\n",
    "\n",
    "Sets are another built-in data structure in python. Sets are mutable and can be changed via `set` methods but a \"set\" is a probabilistic term used to describe an unordered group of unique values. Unlike lists, sets cannot have repeating values. This makes them incredible useful when programming.\n",
    "\n",
    "```python\n",
    "    letters = Set(['a', 'b','c', 'd', 'e', 'f', 'g', 'h']) \n",
    "```\n",
    "\n",
    "Remember our logic problems? Sets are useful when dealing with logic.\n",
    "\n",
    "### Some important concepts\n",
    "\n",
    "#### Union - the union of two sets `A` and `B` is the set of elements which are in `A`, in `B`, or in **both**  \n",
    "\n",
    "example:  \n",
    "    A = { all x's where x is an even integer larger than 1}  \n",
    "    B = { all x's where x is an odd integer larger than 1}  \n",
    "    \n",
    "    A ∪ B = {2, 3, 4, 5, 6...}\n",
    "\n",
    "#### Intersection - the intersection of two sets `A` and `B` is the set of elements which are in **both** `A` AND `B`\n",
    "\n",
    "#### Superset - A set `A` is a superset of set `B` if all elements in set `B` are in set `A`\n",
    "\n",
    "#### Subset - A set `A`is a subset of set `B` if all elements in set `A` are also in set `B`\n"
   ]
  },
  {
   "cell_type": "markdown",
   "metadata": {},
   "source": [
    "### Creating a set"
   ]
  },
  {
   "cell_type": "code",
   "execution_count": null,
   "metadata": {},
   "outputs": [],
   "source": [
    "set_A = {0,1,2,3,4,5,6,7,8,9}\n",
    "set_B = set([0,1,2,3,4,5,6,7,8,9])"
   ]
  },
  {
   "cell_type": "code",
   "execution_count": null,
   "metadata": {},
   "outputs": [],
   "source": [
    "set_A == set_B"
   ]
  },
  {
   "cell_type": "code",
   "execution_count": null,
   "metadata": {},
   "outputs": [],
   "source": [
    "# Note!\n",
    "\n",
    "set_C = {}\n",
    "type(set_C)"
   ]
  },
  {
   "cell_type": "code",
   "execution_count": null,
   "metadata": {},
   "outputs": [],
   "source": [
    "set_a = {0,1,2,3}\n",
    "set_b = {2,3,4,5}\n",
    "set_b + set_a"
   ]
  },
  {
   "cell_type": "code",
   "execution_count": null,
   "metadata": {},
   "outputs": [],
   "source": [
    "%timeit x = {}"
   ]
  },
  {
   "cell_type": "code",
   "execution_count": null,
   "metadata": {},
   "outputs": [],
   "source": [
    "%timeit y = set()"
   ]
  },
  {
   "cell_type": "markdown",
   "metadata": {},
   "source": [
    "### `st.add(val) -> None`\n",
    "\n",
    "Add an element to a set.\n",
    "\n",
    "This has no effect if the element is already present."
   ]
  },
  {
   "cell_type": "code",
   "execution_count": null,
   "metadata": {},
   "outputs": [],
   "source": [
    "set_A = {0,1,2,3,4,5,6,7,8,9}\n",
    "set_A.add(10)\n",
    "set_A"
   ]
  },
  {
   "cell_type": "markdown",
   "metadata": {},
   "source": [
    "### `st.difference(other_set) -> st`"
   ]
  },
  {
   "cell_type": "code",
   "execution_count": null,
   "metadata": {},
   "outputs": [],
   "source": [
    "set_a = {0,1,2,3,4,5}\n",
    "set_b = {3,4,5}\n",
    "\n",
    "print(set_a - set_b)\n",
    "set_a.difference(set_b)\n"
   ]
  },
  {
   "cell_type": "markdown",
   "metadata": {},
   "source": [
    "### `st.issuperset(other_set) -> bool`"
   ]
  },
  {
   "cell_type": "code",
   "execution_count": null,
   "metadata": {},
   "outputs": [],
   "source": [
    "set_a = {0,1,2,3,4,5,6,7,8,9}\n",
    "set_b = {2,3,4,5}\n",
    "\n",
    "set_a.issuperset(set_b)"
   ]
  },
  {
   "cell_type": "markdown",
   "metadata": {},
   "source": [
    "### `st.issubset(other_set) -> bool`"
   ]
  },
  {
   "cell_type": "code",
   "execution_count": null,
   "metadata": {},
   "outputs": [],
   "source": [
    "set_a = {0,1,2,3,4,5,6,7,8,9}\n",
    "set_b = {2,3,4,5}\n",
    "\n",
    "set_b.issubset(set_a)"
   ]
  },
  {
   "cell_type": "markdown",
   "metadata": {},
   "source": [
    "### `st.union(other_set) -> st`"
   ]
  },
  {
   "cell_type": "code",
   "execution_count": null,
   "metadata": {},
   "outputs": [],
   "source": [
    "letters = { 'a', 'b', 'c', 'd', 'e', 'f', 'g'}\n",
    "numbers  = {1, 2, 3, 4, 5, 6, 7}\n",
    "chars = {'!', ',', '.', '?'}"
   ]
  },
  {
   "cell_type": "code",
   "execution_count": null,
   "metadata": {},
   "outputs": [],
   "source": [
    "alphanumeric = letters.union(numbers)\n",
    "alphanumeric"
   ]
  },
  {
   "cell_type": "code",
   "execution_count": null,
   "metadata": {},
   "outputs": [],
   "source": [
    "all_characters = chars.union(alphanumeric)\n",
    "all_characters"
   ]
  },
  {
   "cell_type": "markdown",
   "metadata": {},
   "source": [
    "### `st.intersection(other_set) -> st`"
   ]
  },
  {
   "cell_type": "code",
   "execution_count": null,
   "metadata": {},
   "outputs": [],
   "source": [
    "set_a = {0,1,2,3,4,5,6,7}\n",
    "set_b = {5,6,7,8,9,10,11}\n",
    "\n",
    "set_a.intersection(set_b)"
   ]
  },
  {
   "cell_type": "code",
   "execution_count": null,
   "metadata": {},
   "outputs": [],
   "source": [
    "set_a = {0,1,2}\n",
    "set_b = {2,3,4}\n",
    "\n",
    "set_a.intersection(set_b), set_b.intersection(set_a)"
   ]
  },
  {
   "cell_type": "markdown",
   "metadata": {},
   "source": [
    "# Useful methods for lists, tuples and dicts"
   ]
  },
  {
   "cell_type": "markdown",
   "metadata": {},
   "source": [
    "## `filter()`"
   ]
  },
  {
   "cell_type": "markdown",
   "metadata": {},
   "source": [
    "filter(True, [True, False, False, False]"
   ]
  },
  {
   "cell_type": "code",
   "execution_count": null,
   "metadata": {},
   "outputs": [],
   "source": [
    "def empty(i): return len(i) == 0\n",
    "\n",
    "list(filter(empty, [[1], [1,2], [1], [1,2], [1,2], [1,2], [1,2], [], []]))"
   ]
  },
  {
   "cell_type": "markdown",
   "metadata": {},
   "source": [
    "# `map()`"
   ]
  },
  {
   "cell_type": "code",
   "execution_count": null,
   "metadata": {
    "slideshow": {
     "slide_type": "slide"
    }
   },
   "outputs": [],
   "source": [
    "def uppercase(i): return i.upper()\n",
    "\n",
    "list(map(lowercase, [\"list\", \"of\", \"lower\", \"case\", \"strings\"]))"
   ]
  },
  {
   "cell_type": "markdown",
   "metadata": {},
   "source": [
    "# `sum()`"
   ]
  },
  {
   "cell_type": "code",
   "execution_count": null,
   "metadata": {
    "slideshow": {
     "slide_type": "subslide"
    }
   },
   "outputs": [],
   "source": [
    "sum([1,2,3,4,5,6,7])"
   ]
  },
  {
   "cell_type": "markdown",
   "metadata": {},
   "source": [
    "# `min()`"
   ]
  },
  {
   "cell_type": "code",
   "execution_count": null,
   "metadata": {},
   "outputs": [],
   "source": [
    "min([2,3,4,5,6,7])"
   ]
  },
  {
   "cell_type": "markdown",
   "metadata": {},
   "source": [
    "# `max()`"
   ]
  },
  {
   "cell_type": "code",
   "execution_count": null,
   "metadata": {},
   "outputs": [],
   "source": [
    "max([2,3,4,5,6,7])"
   ]
  },
  {
   "cell_type": "markdown",
   "metadata": {},
   "source": [
    "# `sorted()`"
   ]
  },
  {
   "cell_type": "code",
   "execution_count": null,
   "metadata": {},
   "outputs": [],
   "source": [
    "sorted([6,10,5,9,1,3,4,8,2,7])"
   ]
  },
  {
   "cell_type": "markdown",
   "metadata": {},
   "source": [
    "# `range()`"
   ]
  },
  {
   "cell_type": "code",
   "execution_count": null,
   "metadata": {},
   "outputs": [],
   "source": [
    "list(range(10))"
   ]
  },
  {
   "cell_type": "markdown",
   "metadata": {},
   "source": [
    "# `enumerate()`"
   ]
  },
  {
   "cell_type": "code",
   "execution_count": null,
   "metadata": {},
   "outputs": [],
   "source": [
    "e = enumerate(['apple', 'oranges'])"
   ]
  },
  {
   "cell_type": "code",
   "execution_count": null,
   "metadata": {},
   "outputs": [],
   "source": [
    "list(e)"
   ]
  },
  {
   "cell_type": "markdown",
   "metadata": {},
   "source": [
    "### Iterators"
   ]
  },
  {
   "cell_type": "code",
   "execution_count": null,
   "metadata": {},
   "outputs": [],
   "source": [
    "e = enumerate(['apple', 'oranges'])"
   ]
  },
  {
   "cell_type": "code",
   "execution_count": null,
   "metadata": {},
   "outputs": [],
   "source": [
    "next(e)"
   ]
  },
  {
   "cell_type": "code",
   "execution_count": null,
   "metadata": {},
   "outputs": [],
   "source": [
    "list(e)"
   ]
  },
  {
   "cell_type": "code",
   "execution_count": null,
   "metadata": {},
   "outputs": [],
   "source": [
    "l = [0,1,2,3,4,5]\n",
    "iterator_list = iter(l)"
   ]
  },
  {
   "cell_type": "code",
   "execution_count": null,
   "metadata": {},
   "outputs": [],
   "source": [
    "next(iterator_list)"
   ]
  }
 ],
 "metadata": {
  "kernelspec": {
   "display_name": "Python 3",
   "language": "python",
   "name": "python3"
  },
  "language_info": {
   "codemirror_mode": {
    "name": "ipython",
    "version": 3
   },
   "file_extension": ".py",
   "mimetype": "text/x-python",
   "name": "python",
   "nbconvert_exporter": "python",
   "pygments_lexer": "ipython3",
   "version": "3.8.5"
  }
 },
 "nbformat": 4,
 "nbformat_minor": 4
}
