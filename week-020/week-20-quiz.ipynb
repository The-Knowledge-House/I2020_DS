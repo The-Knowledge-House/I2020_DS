{
 "cells": [
  {
   "cell_type": "markdown",
   "metadata": {},
   "source": [
    "<div style=\"background: #000;\n",
    "            color: #FFF;\n",
    "            margin: 0px;\n",
    "            padding: 10px 0px 20px 0px;\n",
    "            text-align: center; \n",
    "                \">\n",
    "    <h1 >Week 20 Quiz</h1>\n",
    "</div>"
   ]
  },
  {
   "cell_type": "markdown",
   "metadata": {},
   "source": [
    "# Exercise 1\n",
    "\n",
    "The sum of the squares of the first ten natural numbers is,\n",
    "\n",
    "$$ 1^{2} + 2^{2} + \\ldots + 10^{2} = 385 $$\n",
    "\n",
    "The square of the sum of the first ten natural numbers is,\n",
    "\n",
    "$$ (1+2+\\ldots+10)^{2} = 55^{2} = 3025 $$\n",
    "\n",
    "Hence the difference between the sum of the squares of the first ten natural numbers and the square of the sum is\n",
    "\n",
    "$$ 3025 - 385 = 2640 $$\n",
    "\n",
    "Find the difference between the sum of the squares of the first one hundred natural numbers and the square of the sum."
   ]
  },
  {
   "cell_type": "code",
   "execution_count": null,
   "metadata": {},
   "outputs": [],
   "source": [
    "# imports for checking solution\n",
    "import unittest\n",
    "from hashlib import sha256\n",
    "#####################################################\n",
    "\n",
    "# change this section:\n",
    "def sum_of_squares(n):\n",
    "    pass\n",
    "    \n",
    "def square_of_sum(n):\n",
    "    pass\n",
    "    \n",
    "def difference(n):\n",
    "    pass\n",
    " \n",
    "print(sum_of_squares(10))\n",
    "print(square_of_sum(10))\n",
    "print(difference(10))\n",
    "\n",
    "######################################################\n",
    "# if this part returns OK, your tests pass\n",
    "def sha256it(n):\n",
    "    return sha256(str(n).encode('utf-8')).hexdigest()\n",
    "\n",
    "class TestExercise1(unittest.TestCase):\n",
    "    def test(self):\n",
    "        self.assertEqual(sha256it(difference(10)), \"6c6ece85b5d6ea8c5b1901b34909d170569478006b74472e49d7535ab4b4a94d\")\n",
    "        self.assertEqual(sha256it(difference(100)), \"537942be3eb323c507623a6a73fa87bf5aeb97b7c7422993a82aa7c15f6d9cd6\")\n",
    "        \n",
    "unittest.main(argv=[''], verbosity=0, exit=False)"
   ]
  }
 ],
 "metadata": {
  "kernelspec": {
   "display_name": "Python 3",
   "language": "python",
   "name": "python3"
  },
  "language_info": {
   "codemirror_mode": {
    "name": "ipython",
    "version": 3
   },
   "file_extension": ".py",
   "mimetype": "text/x-python",
   "name": "python",
   "nbconvert_exporter": "python",
   "pygments_lexer": "ipython3",
   "version": "3.9.0"
  }
 },
 "nbformat": 4,
 "nbformat_minor": 5
}
