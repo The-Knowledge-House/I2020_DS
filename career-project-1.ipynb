Taking the following dictionary:
companies = {
   "msft": {"
	   "name" : "Microsoft",
       "ceo":"satya nadella",
       "location":"redmond, washington"
   },
   "tlsa": {
	   "name" : "Tesla,
       "ceo":"elon musk",
       "location":"palo alto, california"
   },
   "aapl": {
	   "name": "Apple",
       "ceo":"tim cook",
       "location":"cupertino, california"
   },
   "goog": {
	    "name":"Google",
       "ceo":"sundar pichai",
       "location": "mountain view, california"
   },
   "amzn": {
	   "name":"Amazon",
       "ceo":"jeff bezos",
       "location":"seattle, washington"}
}
Write a series of python statements that will:
1. Access the value for key "location" of each element of dictionary `companies`
2. Access the value of the key name of each element of dict companies
3.Print the following "<COMPANY NAME>, is located in <COMPANY LOCATION>" for each dictionary element.
