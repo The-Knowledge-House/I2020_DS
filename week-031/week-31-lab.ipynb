{
 "cells": [
  {
   "cell_type": "markdown",
   "id": "described-panic",
   "metadata": {},
   "source": [
    "<div style=\"background: #000;\n",
    "            color: #FFF;\n",
    "            margin: 0px;\n",
    "            margin-bottom: 10px;\n",
    "            padding: 10px 0px 20px 0px;\n",
    "            text-align: center; \">\n",
    "    <h1>Week 31 Lab</h1> \n",
    "</div>\n"
   ]
  },
  {
   "cell_type": "markdown",
   "id": "ultimate-colon",
   "metadata": {},
   "source": [
    "# Part 1 - Open Ended Questions\n",
    "\n",
    "### 1. What is dimensionality reduction? Why might we use it?"
   ]
  },
  {
   "cell_type": "markdown",
   "id": "clear-highland",
   "metadata": {},
   "source": []
  },
  {
   "cell_type": "markdown",
   "id": "olive-method",
   "metadata": {},
   "source": [
    "### 2. What is Principal Component Analysis? In your own words."
   ]
  },
  {
   "cell_type": "markdown",
   "id": "curious-qualification",
   "metadata": {},
   "source": []
  },
  {
   "cell_type": "markdown",
   "id": "floppy-sellers",
   "metadata": {},
   "source": [
    "### 3. What is a perceptron? Explain how it works (conceptually). "
   ]
  },
  {
   "cell_type": "markdown",
   "id": "intellectual-charles",
   "metadata": {},
   "source": []
  },
  {
   "cell_type": "markdown",
   "id": "excellent-shower",
   "metadata": {},
   "source": [
    "### 4. What is the `inertia_` attribute of a `KMeans` clustering object from sklearn? What is another name for it and what is it used to describe in K Means clustering? "
   ]
  },
  {
   "cell_type": "markdown",
   "id": "least-jacksonville",
   "metadata": {},
   "source": []
  },
  {
   "cell_type": "markdown",
   "id": "sonic-poland",
   "metadata": {},
   "source": [
    "### 5. What is the difference between classification and clustering?"
   ]
  },
  {
   "cell_type": "markdown",
   "id": "instrumental-bernard",
   "metadata": {},
   "source": []
  },
  {
   "cell_type": "markdown",
   "id": "aware-consumer",
   "metadata": {},
   "source": [
    "### 6. What is the curse of dimensionality? Try to include both how it applies to dimensionality reduction and how it applies to model performance."
   ]
  },
  {
   "cell_type": "markdown",
   "id": "affiliated-junction",
   "metadata": {},
   "source": [
    "# Part 2 - Interview Questions"
   ]
  },
  {
   "cell_type": "markdown",
   "id": "consecutive-belfast",
   "metadata": {},
   "source": [
    "### Exercise 1.\n",
    "\n",
    "```\n",
    "Table: Customers\n",
    "\n",
    "+---------------------+---------+\n",
    "| Column Name         | Type    |\n",
    "+---------------------+---------+\n",
    "| customer_id         | int     |\n",
    "| customer_name       | varchar |\n",
    "+---------------------+---------+\n",
    "customer_id is the primary key for this table.\n",
    "customer_name is the name of the customer.\n",
    "\n",
    " \n",
    "\n",
    "Table: Orders\n",
    "\n",
    "+---------------+---------+\n",
    "| Column Name   | Type    |\n",
    "+---------------+---------+\n",
    "| order_id      | int     |\n",
    "| customer_id   | int     |\n",
    "| product_name  | varchar |\n",
    "+---------------+---------+\n",
    "order_id is the primary key for this table.\n",
    "customer_id is the id of the customer who bought the product \"product_name\".\n",
    "```\n",
    "\n",
    "Write an SQL query to report the customer_id and customer_name of customers who bought products \"A\", \"B\" but did not buy the product \"C\" since we want to recommend them buy this product.\n",
    "\n",
    "Return the result table ordered by customer_id.\n",
    "\n",
    "The query result format is in the following example.\n",
    "\n",
    " \n",
    "```\n",
    "Customers table:\n",
    "+-------------+---------------+\n",
    "| customer_id | customer_name |\n",
    "+-------------+---------------+\n",
    "| 1           | Daniel        |\n",
    "| 2           | Diana         |\n",
    "| 3           | Elizabeth     |\n",
    "| 4           | Jhon          |\n",
    "+-------------+---------------+\n",
    "\n",
    "Orders table:\n",
    "+------------+--------------+---------------+\n",
    "| order_id   | customer_id  | product_name  |\n",
    "+------------+--------------+---------------+\n",
    "| 10         |     1        |     A         |\n",
    "| 20         |     1        |     B         |\n",
    "| 30         |     1        |     D         |\n",
    "| 40         |     1        |     C         |\n",
    "| 50         |     2        |     A         |\n",
    "| 60         |     3        |     A         |\n",
    "| 70         |     3        |     B         |\n",
    "| 80         |     3        |     D         |\n",
    "| 90         |     4        |     C         |\n",
    "+------------+--------------+---------------+\n",
    "\n",
    "Result table:\n",
    "+-------------+---------------+\n",
    "| customer_id | customer_name |\n",
    "+-------------+---------------+\n",
    "| 3           | Elizabeth     |\n",
    "+-------------+---------------+\n",
    "Only the customer_id with id 3 bought the product A and B but not the product C.\n",
    "```"
   ]
  },
  {
   "cell_type": "code",
   "execution_count": null,
   "id": "intermediate-clark",
   "metadata": {},
   "outputs": [],
   "source": [
    "import sqlite3\n",
    "\n",
    "sql_commands = \\\n",
    "\"\"\"\n",
    "\n",
    "DROP TABLE IF EXISTS Customers;\n",
    "DROP TABLE IF EXISTS Orders;\n",
    "\n",
    "CREATE TABLE Customers (\n",
    " customer_id INTEGER NOT NULL PRIMARY KEY,\n",
    " customer_name NVARCHAR(30)\n",
    ");\n",
    "\n",
    "CREATE TABLE Orders (\n",
    " order_id INTEGER NOT NULL PRIMARY KEY,\n",
    " customer_id INTEGER NOT NULL,\n",
    " product_name VARCHAR(30)\n",
    ");\n",
    "\n",
    "INSERT INTO Customers (customer_id, customer_name ) VALUES ('1', 'Daniel');\n",
    "INSERT INTO Customers (customer_id, customer_name ) VALUES ('2', 'Diana');\n",
    "INSERT INTO Customers (customer_id, customer_name ) VALUES ('3', 'Elizabeth');\n",
    "INSERT INTO Customers (customer_id, customer_name ) VALUES ('4', 'Jhon');\n",
    "\n",
    "INSERT INTO Orders (order_id, customer_id, product_name) VALUES ('10', '1', 'A');\n",
    "INSERT INTO Orders (order_id, customer_id, product_name) VALUES ('20', '1', 'B');\n",
    "INSERT INTO Orders (order_id, customer_id, product_name) VALUES ('30', '1', 'D');\n",
    "INSERT INTO Orders (order_id, customer_id, product_name) VALUES ('40', '1', 'C');\n",
    "INSERT INTO Orders (order_id, customer_id, product_name) VALUES ('50', '2', 'A');\n",
    "INSERT INTO Orders (order_id, customer_id, product_name) VALUES ('60', '3', 'A');\n",
    "INSERT INTO Orders (order_id, customer_id, product_name) VALUES ('70', '3', 'B');\n",
    "INSERT INTO Orders (order_id, customer_id, product_name) VALUES ('80', '3', 'D');\n",
    "INSERT INTO Orders (order_id, customer_id, product_name) VALUES ('90', '4', 'C');\n",
    "\"\"\"\n",
    "\n",
    "db = sqlite3.connect('week-31-class.db')\n",
    "cursor = db.cursor()\n",
    "cursor.executescript(sql_commands)\n",
    "db.commit()\n",
    "db.close()"
   ]
  },
  {
   "cell_type": "code",
   "execution_count": null,
   "id": "purple-screening",
   "metadata": {},
   "outputs": [],
   "source": [
    "# use this function for your answers.\n",
    "def with_conn(statement):\n",
    "    conn = sqlite3.connect('week-31-class.db')\n",
    "    with conn:\n",
    "        cur = conn.cursor()\n",
    "        cur.execute(statement)\n",
    "        result = cur.fetchall()\n",
    "        return result"
   ]
  },
  {
   "cell_type": "code",
   "execution_count": null,
   "id": "descending-justice",
   "metadata": {},
   "outputs": [],
   "source": [
    "with_conn(\"SELECT * FROM Customers;\")"
   ]
  },
  {
   "cell_type": "code",
   "execution_count": null,
   "id": "checked-organizer",
   "metadata": {},
   "outputs": [],
   "source": [
    "with_conn(\"SELECT * FROM Orders;\")"
   ]
  },
  {
   "cell_type": "code",
   "execution_count": null,
   "id": "upset-delaware",
   "metadata": {},
   "outputs": [],
   "source": []
  },
  {
   "cell_type": "markdown",
   "id": "homeless-prague",
   "metadata": {},
   "source": [
    "# Part 3 - Work on your ongoing django project\n",
    "\n",
    "Your project should have some models defined. Now you'll add a form that saves data entered to your models.\n",
    "\n",
    "To complete this section:\n",
    "* Create a model or update your models so you have one you'd like to use for your form\n",
    "* Create a form using `ModelForm` in your `<app>/forms.py` file.\n",
    "* Create or edit a view so that it uses that form (displaying it for `GET` requests or saving the data for a `POST` request if the form is valid.\n",
    "* Updating/creating a template that displays that page and the form.\n",
    "* Push these changes as a commit to your github repository.\n"
   ]
  },
  {
   "cell_type": "markdown",
   "id": "passing-journalist",
   "metadata": {},
   "source": [
    "# Part 4 - Work on your final project\n",
    "\n",
    "You should have a topic chosen, datasets gathered and a plan for your database. Begin storing your data or putting together your database with the correct tables. \n",
    "\n",
    "There is no definitive deliverable but you should, at this point, have some of the following:\n",
    "* datasets you've gathered\n",
    "* initial exploratory data analysis in jupyter notebooks\n",
    "* an sqlite database containing your data and a python script for setting up your tables (you can use the python code we use for class problems as the basis of your script).\n",
    "* at least a text/markdown file including your research goal, steps documenting your process and including any notes you might have.\n",
    "\n",
    "If you are still stuck on your topic, data, or any other issue, this is your time to figure it out. Speak to teaching staff if you have any issues/concerns/questions. \n",
    "\n",
    "To complete this section:\n",
    "* Add the changes to your git repo\n",
    "* Submit as part of this lab the status and current progress being made towards your project. "
   ]
  },
  {
   "cell_type": "markdown",
   "id": "harmful-chicago",
   "metadata": {},
   "source": [
    "# Part 5 - Watch Statquest video on PCA.\n",
    "\n",
    "https://www.youtube.com/watch?v=_UVHneBUBW0"
   ]
  },
  {
   "cell_type": "code",
   "execution_count": null,
   "id": "endless-numbers",
   "metadata": {},
   "outputs": [],
   "source": []
  },
  {
   "cell_type": "markdown",
   "id": "subsequent-filing",
   "metadata": {},
   "source": [
    "# Bonus\n",
    "\n",
    "In the cell below, write the code that performs a K Means clustering on the NIST Digits dataset from yesterday. Feel free to use the code samples from yesterday."
   ]
  },
  {
   "cell_type": "code",
   "execution_count": null,
   "id": "perceived-vocabulary",
   "metadata": {},
   "outputs": [],
   "source": []
  }
 ],
 "metadata": {
  "kernelspec": {
   "display_name": "Python 3",
   "language": "python",
   "name": "python3"
  },
  "language_info": {
   "codemirror_mode": {
    "name": "ipython",
    "version": 3
   },
   "file_extension": ".py",
   "mimetype": "text/x-python",
   "name": "python",
   "nbconvert_exporter": "python",
   "pygments_lexer": "ipython3",
   "version": "3.9.1"
  }
 },
 "nbformat": 4,
 "nbformat_minor": 5
}
