{
 "cells": [
  {
   "cell_type": "markdown",
   "metadata": {},
   "source": [
    "<div style=\"background: #000;\n",
    "            color: #FFF;\n",
    "            margin: 0px;\n",
    "                padding: 10px 0px 20px 0px;\n",
    "            text-align: center; \n",
    "                \">\n",
    "    <h1>Week 6 - Class 3 - 10/21</h1>\n",
    "</div>\n",
    "\n",
    "\n",
    "## Objectives for this week:\n",
    "* Objects, \n",
    "* Class declarations, Attributes, Methods\n",
    "* Self keywords\n",
    "* Object Inheritance, Generating Object Instances\n",
    "* Dot Notation\n",
    "\n",
    "## Todays Agenda\n",
    "* Homework Presentations\n",
    "* Object Inheritance, \n",
    "* Generating Object, Instances"
   ]
  },
  {
   "cell_type": "markdown",
   "metadata": {},
   "source": [
    "# Homework Presentations"
   ]
  },
  {
   "cell_type": "markdown",
   "metadata": {},
   "source": [
    "# Exercise 3\n",
    "\n",
    "If we list all the natural numbers below 10 that are multiples of 3 or 5, we get 3, 5, 6 and 9. The sum of these multiples is 23.\n",
    "\n",
    "Create a function that returns the sum of all the multiples of 3 or 5 below `n` where `n` is the inputted number.\n",
    "\n",
    "e.g. \n",
    "\n",
    "```\n",
    "n=10 -> 23\n",
    "n=25 -> 143\n",
    "n=50 -> 543\n",
    "n=100 -> 2318\n",
    "```"
   ]
  },
  {
   "cell_type": "code",
   "execution_count": null,
   "metadata": {},
   "outputs": [],
   "source": [
    "def sum_of_threes_and_fives(n=100):\n",
    "    pass\n",
    "\n",
    "sum_of_threes_and_fives() "
   ]
  },
  {
   "cell_type": "markdown",
   "metadata": {},
   "source": [
    "This code will allow you to solve problem 1 of the Project Euler problems.\n",
    "\n",
    "https://projecteuler.net/archives"
   ]
  },
  {
   "cell_type": "markdown",
   "metadata": {},
   "source": [
    "# Operator Overloading\n",
    "\n",
    "Certain operators like `==`, `+`, `-`, `*` can be overloaded to be used with user-defined datatypes like classes as well as built-in type like integers\n",
    "\n",
    "`==`  `__eq__`  \n",
    "`+` `__add__`\n",
    "`-` `__sub__`  \n",
    "`*` `__mul__`  \n",
    "`/` `__truediv__`  \n",
    "`//` `__floordiv__`  \n",
    "`%` `__mod__`  \n",
    "`**` `__pow__`  \n",
    "`<`  `__lt__`   \n",
    "`>`  `__gt__`  \n",
    "`<=` `__le__`  \n",
    "`>=` `__ge__`  \n",
    "`!=` `__ne__`"
   ]
  },
  {
   "cell_type": "markdown",
   "metadata": {},
   "source": [
    "# Vector example"
   ]
  },
  {
   "cell_type": "code",
   "execution_count": null,
   "metadata": {},
   "outputs": [],
   "source": [
    "class Vector:\n",
    "    def __init__(self, x=0, y=0):\n",
    "        self.x = x\n",
    "        self.y = y\n",
    "\n",
    "p = Vector(2,4)\n",
    "q = Vector(2,4)\n",
    "\n",
    "p == q"
   ]
  },
  {
   "cell_type": "code",
   "execution_count": null,
   "metadata": {},
   "outputs": [],
   "source": [
    "class Vector:\n",
    "    def __init__(self, x=0, y=0):\n",
    "        self.x = x\n",
    "        self.y = y\n",
    "    \n",
    "    def __eq__(self, other):\n",
    "        return self.x == other.x and self.y == other.y\n",
    "    \n",
    "p = Vector(2,4)\n",
    "q = Vector(2,4)\n",
    "\n",
    "p == q"
   ]
  },
  {
   "cell_type": "markdown",
   "metadata": {},
   "source": [
    "#### How do we implement others? (code along)"
   ]
  },
  {
   "cell_type": "code",
   "execution_count": null,
   "metadata": {},
   "outputs": [],
   "source": [
    "class Vector:\n",
    "    def __init__(self, x=0, y=0):\n",
    "        self.x = x\n",
    "        self.y = y\n",
    "    \n",
    "    def __eq__(self, other):\n",
    "        return self.x == other.x and self.y == other.y\n",
    "\n",
    "        \n",
    "    \n",
    "p = Vector(2,4)\n",
    "q = Vector(2,4)"
   ]
  },
  {
   "cell_type": "markdown",
   "metadata": {},
   "source": [
    "# Getters and Setters"
   ]
  },
  {
   "cell_type": "code",
   "execution_count": null,
   "metadata": {},
   "outputs": [],
   "source": [
    "class Point:\n",
    "    def __init__(self, x, y):\n",
    "        self.__x = x\n",
    "        self.__y = y\n",
    "    \n",
    "    def get_x(self):\n",
    "        return self.__x\n",
    "    \n",
    "    def set_x(self, x):\n",
    "        if type(x) == int:\n",
    "            self.__x = x\n",
    "        \n",
    "    def get_y(self):\n",
    "        return self.__y\n",
    "    \n",
    "    def set_y(self, y):\n",
    "        if type(y) == int:\n",
    "            self.__y = y\n",
    "        \n",
    "p = Point(0,1)\n",
    "\n",
    "print(p.get_x())\n",
    "print(p.get_y())\n",
    "print()\n",
    "\n",
    "p.set_x(3)\n",
    "p.set_y(5)\n",
    "\n",
    "print(p.get_x())\n",
    "print(p.get_y())"
   ]
  },
  {
   "cell_type": "markdown",
   "metadata": {},
   "source": [
    "# `@property`\n",
    "\n",
    "Makes a method of `cls` accessible via attribute "
   ]
  },
  {
   "cell_type": "code",
   "execution_count": null,
   "metadata": {},
   "outputs": [],
   "source": [
    "class Person:\n",
    "    def __init__(self, first_name, last_name, age):\n",
    "        self.first_name = first_name\n",
    "        self.last_name = last_name\n",
    "        self.age = age\n",
    "        self.full_name = f\"{self.first_name} {self.last_name}\"       \n",
    "        \n",
    "p = Person('Kamala', 'Harris', 56)\n",
    "p.full_name"
   ]
  },
  {
   "cell_type": "code",
   "execution_count": null,
   "metadata": {},
   "outputs": [],
   "source": [
    "class Person:\n",
    "    def __init__(self, first_name, last_name, age):\n",
    "        self.first_name = first_name\n",
    "        self.last_name = last_name\n",
    "        self.age = age\n",
    "        \n",
    "    @property\n",
    "    def full_name(self):\n",
    "        return f\"{self.first_name} {self.last_name}\"\n",
    "        \n",
    "        \n",
    "p = Person('Kamala', 'Harris', 56)\n",
    "p.full_name"
   ]
  },
  {
   "cell_type": "markdown",
   "metadata": {},
   "source": [
    "# Setters using `@property`"
   ]
  },
  {
   "cell_type": "code",
   "execution_count": null,
   "metadata": {},
   "outputs": [],
   "source": [
    "class Person:\n",
    "    def __init__(self, first_name, last_name, age):\n",
    "        self.first_name = first_name\n",
    "        self.last_name = last_name\n",
    "        self.age = age\n",
    "        \n",
    "    @property\n",
    "    def full_name(self):\n",
    "        return f\"{self.first_name} {self.last_name}\"\n",
    "        \n",
    "        \n",
    "p = Person('Kamala', 'Harris', 56)\n",
    "p.full_name = 'Joe Biden'"
   ]
  },
  {
   "cell_type": "code",
   "execution_count": null,
   "metadata": {},
   "outputs": [],
   "source": [
    "class Person:\n",
    "    def __init__(self, first_name, last_name, age):\n",
    "        self.first_name = first_name\n",
    "        self.last_name = last_name\n",
    "        self.age = age\n",
    "        \n",
    "    @property\n",
    "    def full_name(self):\n",
    "        return f\"{self.first_name} {self.last_name}\"\n",
    "    \n",
    "    @full_name.setter\n",
    "    def full_name(self, full_name):\n",
    "        self.first_name, self.last_name = full_name.split(' ')\n",
    "        \n",
    "        \n",
    "p = Person('Kamala', 'Harris', 56)\n",
    "p.full_name = 'Joe Biden'\n",
    "p.full_name"
   ]
  },
  {
   "cell_type": "markdown",
   "metadata": {},
   "source": [
    "# Deleters using `@property`"
   ]
  },
  {
   "cell_type": "code",
   "execution_count": null,
   "metadata": {},
   "outputs": [],
   "source": [
    "class Person:\n",
    "    def __init__(self, first_name, last_name, age):\n",
    "        self.first_name = first_name\n",
    "        self.last_name = last_name\n",
    "        self.age = age\n",
    "        \n",
    "    @property\n",
    "    def full_name(self):\n",
    "        return f\"{self.first_name} {self.last_name}\"\n",
    "    \n",
    "    @full_name.setter\n",
    "    def full_name(self, full_name):\n",
    "        self.first_name, self.last_name = full_name.split(' ')\n",
    "        \n",
    "    @full_name.deleter\n",
    "    def full_name(self):\n",
    "        self.first_name, self.last_name = (None, None)\n",
    "        \n",
    "        \n",
    "p = Person('Kamala', 'Harris', 56)\n",
    "p.full_name = 'Joe Biden'\n",
    "del p.full_name\n",
    "\n",
    "p.full_name"
   ]
  },
  {
   "cell_type": "markdown",
   "metadata": {},
   "source": [
    "Before"
   ]
  },
  {
   "cell_type": "code",
   "execution_count": null,
   "metadata": {},
   "outputs": [],
   "source": [
    "class Point:\n",
    "    def __init__(self, x, y):\n",
    "        self.__x = x\n",
    "        self.__y = y\n",
    "    \n",
    "    def get_x(self):\n",
    "        return self.__x\n",
    "    \n",
    "    def set_x(self, x):\n",
    "        if type(x) == int:\n",
    "            self.__x = x\n",
    "        \n",
    "    def get_y(self):\n",
    "        return self.__y\n",
    "    \n",
    "    def set_y(self, y):\n",
    "        if type(y) == int:\n",
    "            self.__y = y\n",
    "        \n",
    "p = Point(0,1)\n",
    "\n",
    "print(p.get_x())\n",
    "print(p.get_y())\n",
    "print()\n",
    "\n",
    "p.set_x(3)\n",
    "p.set_y(5)\n",
    "\n",
    "print(p.get_x())\n",
    "print(p.get_y())"
   ]
  },
  {
   "cell_type": "markdown",
   "metadata": {},
   "source": [
    "After"
   ]
  },
  {
   "cell_type": "code",
   "execution_count": null,
   "metadata": {},
   "outputs": [],
   "source": [
    "class Point:        \n",
    "    def __init__(self, x, y):\n",
    "        self.__x = x\n",
    "        self.__y = y\n",
    "    \n",
    "    @property\n",
    "    def x(self):\n",
    "        return self.__x\n",
    "    \n",
    "    @x.setter\n",
    "    def x(self, x):\n",
    "        if type(x) == int:\n",
    "            self.__x = x\n",
    "        \n",
    "    @property\n",
    "    def y(self):\n",
    "        return self.__y\n",
    "    \n",
    "    @y.setter\n",
    "    def y(self, y):\n",
    "        if type(y) == int:\n",
    "            self.__y = y\n",
    "        \n",
    "p = Point(0,1)\n",
    "\n",
    "print(p.x)\n",
    "print(p.y)\n",
    "print()\n",
    "\n",
    "p.x = 3\n",
    "p.y = 5\n",
    "\n",
    "print(p.x)\n",
    "print(p.y)\n",
    "     "
   ]
  },
  {
   "cell_type": "markdown",
   "metadata": {},
   "source": [
    "# `@staticmethod`"
   ]
  },
  {
   "cell_type": "code",
   "execution_count": null,
   "metadata": {},
   "outputs": [],
   "source": [
    "from datetime import datetime\n",
    "\n",
    "def current_year():\n",
    "    return datetime.now().year\n",
    "\n",
    "class Person:\n",
    "    def __init__(self, name, age):\n",
    "        self.name = name\n",
    "        self.age = age\n",
    "        \n",
    "    def calculate_birth_year(self):\n",
    "        return current_year() - self.age\n",
    "\n",
    "s = Person(\"John Doe\", 30)\n",
    "s.calculate_birth_year()\n",
    "print(s.calculate_birth_year())\n",
    "current_year()  "
   ]
  },
  {
   "cell_type": "code",
   "execution_count": null,
   "metadata": {},
   "outputs": [],
   "source": [
    "from datetime import datetime\n",
    "\n",
    "def current_year():\n",
    "    return datetime.now().year\n",
    "\n",
    "class Person:\n",
    "    def __init__(self, name, age):\n",
    "        self.name = name\n",
    "        self.age = age\n",
    "        \n",
    "    def calculate_birth_year(self):\n",
    "        return current_year() - self.age\n",
    "    \n",
    "    @staticmethod\n",
    "    def current_year():\n",
    "        return datetime.now().year\n",
    "    \n",
    "\n",
    "s = Person(\"John Doe\", 30)\n",
    "print(s.calculate_birth_year())\n",
    "s.current_year()      "
   ]
  },
  {
   "cell_type": "markdown",
   "metadata": {},
   "source": [
    "# `@classmethod`"
   ]
  },
  {
   "cell_type": "code",
   "execution_count": null,
   "metadata": {},
   "outputs": [],
   "source": [
    "class Example:    \n",
    "    def __init__(self, first_name=None, last_name=None):\n",
    "        self.first_name = first_name\n",
    "        self.last_name = last_name\n",
    "        \n",
    "    @classmethod\n",
    "    def from_full_name(cls, full_name): # note that it takes argument `cls`\n",
    "        first, last = full_name.split(' ')\n",
    "        return cls(first_name=first, last_name=last)\n",
    "\n",
    "x = Example.from_full_name(\"John Doe\")\n",
    "\n",
    "y = Example(first_name='John', last_name='Doe')\n",
    "\n",
    "print(x.first_name)\n",
    "print(x.last_name)\n",
    "\n",
    "print(y.first_name)\n",
    "print(y.last_name)"
   ]
  },
  {
   "cell_type": "code",
   "execution_count": null,
   "metadata": {},
   "outputs": [],
   "source": [
    "class Base:\n",
    "    count = int(0)\n",
    "    \n",
    "    def __init__(self):\n",
    "        self._count()\n",
    "    \n",
    "    @classmethod\n",
    "    def _count(cls):\n",
    "        cls.count += 1\n",
    "        return cls.count\n",
    "    \n",
    "a = Base()\n",
    "b = Base()\n",
    "c = Base()\n",
    "d = Base()\n",
    "Base.count"
   ]
  },
  {
   "cell_type": "markdown",
   "metadata": {},
   "source": [
    "# Introduction to inheritance\n",
    "\n",
    "Object inheritance is when you want to create an object that's based off of the structure of another class or you want to create an object that others are based off of.\n",
    "\n",
    "The format for inherited classes are such:\n",
    "```python\n",
    "    class BaseClass:\n",
    "        pass\n",
    "    \n",
    "    class AlternateBaseClass\n",
    "        pass\n",
    "    \n",
    "    class DerivedClass(BaseClass, AlternateBaseclass)\n",
    "        pass\n",
    "```"
   ]
  },
  {
   "cell_type": "code",
   "execution_count": null,
   "metadata": {},
   "outputs": [],
   "source": [
    "class BaseClass:\n",
    "    greeting = \"hello\"\n",
    "    \n",
    "    def greet(self, name):\n",
    "        print(f\"{self.greeting} {name}\")\n",
    "    \n",
    "b = BaseClass()\n",
    "b.greet('Anil')"
   ]
  },
  {
   "cell_type": "code",
   "execution_count": null,
   "metadata": {},
   "outputs": [],
   "source": [
    "class DerivedClass(BaseClass):\n",
    "    pass\n",
    "\n",
    "d = DerivedClass()\n",
    "\n",
    "d.greet('Anil')"
   ]
  },
  {
   "cell_type": "code",
   "execution_count": null,
   "metadata": {},
   "outputs": [],
   "source": [
    "class C:\n",
    "    def __init__(self):\n",
    "        self.string =  \"\"\n",
    "        self.integer = 42\n",
    "\n",
    "class D(C):\n",
    "    def __init__(self):\n",
    "        self.bools = (True, False)\n",
    "        C.__init__(self)"
   ]
  },
  {
   "cell_type": "code",
   "execution_count": null,
   "metadata": {},
   "outputs": [],
   "source": [
    "objectD = D()\n",
    "print(objectD.string)\n",
    "print(objectD.bools)"
   ]
  },
  {
   "cell_type": "code",
   "execution_count": null,
   "metadata": {},
   "outputs": [],
   "source": [
    "objectD.integer"
   ]
  },
  {
   "cell_type": "code",
   "execution_count": null,
   "metadata": {},
   "outputs": [],
   "source": [
    "class Animal:\n",
    "    def __init__(self, name, type_of_animal=None, sound=None):\n",
    "        self.name = name\n",
    "        self.type = type_of_animal\n",
    "        self.sound = sound\n",
    "        \n",
    "    def make_sound(self):\n",
    "        print(f\"a {self.type} {self.sound}\")\n",
    "    \n",
    "cat = Animal('matilda', 'cat', 'meows')\n",
    "dog = Animal('clifford', 'dog', 'barks')\n",
    "cow = Animal('spot', 'cow', 'moos')\n",
    "cat.make_sound()\n",
    "dog.make_sound()\n",
    "cow.make_sound()\n",
    "        "
   ]
  },
  {
   "cell_type": "code",
   "execution_count": null,
   "metadata": {},
   "outputs": [],
   "source": [
    "class Cat(Animal):\n",
    "    def __init__(self, name):\n",
    "        Animal.__init__(self, name, type_of_animal='cat', sound='meows')\n",
    "        \n",
    "matilda = Cat('matilda')\n",
    "\n",
    "matilda.make_sound()"
   ]
  },
  {
   "cell_type": "markdown",
   "metadata": {},
   "source": [
    "#  Special inheritance cases to consider"
   ]
  },
  {
   "cell_type": "code",
   "execution_count": null,
   "metadata": {},
   "outputs": [],
   "source": [
    "class Parent:\n",
    "    last_name = \"Jackson\"\n",
    "\n",
    "class Child(Parent):\n",
    "    first_name = \"Curtis\"\n",
    "\n",
    "p = Parent()\n",
    "c = Child()\n",
    "\n",
    "c.first_name, c.last_name"
   ]
  },
  {
   "cell_type": "code",
   "execution_count": null,
   "metadata": {},
   "outputs": [],
   "source": [
    "class Mother:\n",
    "    eyes = \"brown\"\n",
    "\n",
    "class Father:\n",
    "    hair = \"black\"\n",
    "\n",
    "class Child(Mother, Father):\n",
    "    pass\n",
    "\n",
    "c = Child()\n",
    "c.eyes, c.hair"
   ]
  },
  {
   "cell_type": "code",
   "execution_count": null,
   "metadata": {},
   "outputs": [],
   "source": [
    "class Animal:\n",
    "    planet = \"earth\"\n",
    "\n",
    "class Cat(Animal):\n",
    "    pass\n",
    "\n",
    "class Dog(Animal):\n",
    "    pass\n",
    "\n",
    "c = Cat()\n",
    "d = Dog()\n",
    "\n",
    "c.planet, d.planet"
   ]
  },
  {
   "cell_type": "code",
   "execution_count": null,
   "metadata": {},
   "outputs": [],
   "source": []
  }
 ],
 "metadata": {
  "kernelspec": {
   "display_name": "Python 3",
   "language": "python",
   "name": "python3"
  },
  "language_info": {
   "codemirror_mode": {
    "name": "ipython",
    "version": 3
   },
   "file_extension": ".py",
   "mimetype": "text/x-python",
   "name": "python",
   "nbconvert_exporter": "python",
   "pygments_lexer": "ipython3",
   "version": "3.8.6"
  }
 },
 "nbformat": 4,
 "nbformat_minor": 4
}
