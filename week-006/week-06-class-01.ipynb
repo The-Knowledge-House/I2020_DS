{
 "cells": [
  {
   "cell_type": "markdown",
   "metadata": {},
   "source": [
    "<div style=\"background: #000;\n",
    "            color: #FFF;\n",
    "            margin: 0px;\n",
    "                padding: 10px 0px 20px 0px;\n",
    "            text-align: center; \n",
    "                \">\n",
    "    <h1>Week 6 - Class 1 - 10/19</h1>\n",
    "</div>\n",
    "\n",
    "\n",
    "## Objectives for this week:\n",
    "* Objects, \n",
    "* Class declarations, Attributes, Methods\n",
    "* Self keywords\n",
    "* Object Inheritance, Generating Object Instances\n",
    "* Dot Notation\n",
    "\n",
    "## Todays Agenda\n",
    "* Homework Presentations\n",
    "* Objects Introduction\n",
    "* Class declarations\n",
    "* Self keywords\n",
    "* Generating Object, Instances"
   ]
  },
  {
   "cell_type": "markdown",
   "metadata": {},
   "source": [
    "# Homework Presentations"
   ]
  },
  {
   "cell_type": "markdown",
   "metadata": {},
   "source": [
    "# Exercise 1\n",
    "\n",
    "Create a function that calculates the double factorial of an odd number. The double factorial of `n` is denoted by `n!!` and is the product of all odd integers up to and including `n`. You can do it using recursion (for bonus points) or any other method you can come up with.\n",
    "\n",
    "e.g. \n",
    "\n",
    "```\n",
    "9!! = 1 x 3 x 5 x 7 x 9 = 945\n",
    "```\n",
    "\n",
    "Output the following once your function works.\n",
    "\n",
    "`double_factorial(13)` "
   ]
  },
  {
   "cell_type": "code",
   "execution_count": null,
   "metadata": {},
   "outputs": [],
   "source": [
    "def double_factorial(n=13):\n",
    "    pass\n",
    "\n",
    "double_factorial(10)"
   ]
  },
  {
   "cell_type": "markdown",
   "metadata": {},
   "source": [
    "# Objects\n",
    "\n",
    "Object-oriented programming (OOP) is a programming paradigm based on the concept of \"objects\", which can contain data, in the form of fields (often known as attributes or properties), and code, in the form of procedures (often known as methods). A feature of objects is that an object's own procedures can access and often modify the data fields of itself (objects have a notion of \"this\" or \"self\"). In OOP, computer programs are designed by making them out of objects that interact with one another.[1][2] OOP languages are diverse, but the most popular ones are class-based, meaning that objects are instances of classes, which also determine their types.\n",
    "[source](https://en.wikipedia.org/wiki/Object-oriented_programming)\n",
    "\n",
    "Object\n",
    "* contains data in the form  of fields \n",
    "* procedures that can access or modify data \n",
    "\n",
    "These fields are known as **attributes**.  \n",
    "These procedures are known as **methods**.\n",
    "\n",
    "All objects have attributes and methods.\n",
    "## Remember our more complicated data structures? "
   ]
  },
  {
   "cell_type": "code",
   "execution_count": null,
   "metadata": {},
   "outputs": [],
   "source": [
    "s = {}\n",
    "s['key'] = 'value'\n",
    "s"
   ]
  },
  {
   "cell_type": "code",
   "execution_count": null,
   "metadata": {},
   "outputs": [],
   "source": [
    "[i for i in dir(s) if not i.endswith('__')]"
   ]
  },
  {
   "cell_type": "markdown",
   "metadata": {},
   "source": [
    "# How do we create our own object in Python?\n",
    "\n",
    "# Classes\n",
    "\n",
    "Classes provide a means of bundling data and functionality together. Creating a new class creates a new type of object, allowing new instances of that type to be made. Each class instance can have attributes attached to it for maintaining its state. Class instances can also have methods (defined by its class) for modifying its state.\n",
    "\n",
    "Compared with other programming languages, Python’s class mechanism adds classes with a minimum of new syntax and semantics. It is a mixture of the class mechanisms found in C++ and Modula-3. Python classes provide all the standard features of Object Oriented Programming: the class inheritance mechanism allows multiple base classes, a derived class can override any methods of its base class or classes, and a method can call the method of a base class with the same name. Objects can contain arbitrary amounts and kinds of data. As is true for modules, classes partake of the dynamic nature of Python: they are created at runtime, and can be modified further after creation.\n",
    "\n",
    "In C++ terminology, normally class members (including the data members) are public (except see below Private Variables), and all member functions are virtual. As in Modula-3, there are no shorthands for referencing the object’s members from its methods: the method function is declared with an explicit first argument representing the object, which is provided implicitly by the call. As in Smalltalk, classes themselves are objects. This provides semantics for importing and renaming. Unlike C++ and Modula-3, built-in types can be used as base classes for extension by the user. Also, like in C++, most built-in operators with special syntax (arithmetic operators, subscripting etc.) can be redefined for class instances.\n",
    "\n",
    "[source](https://docs.python.org/3/tutorial/classes.html#a-word-about-names-and-objects)\n",
    "\n",
    "\n",
    "Essentially the framework for a python object.\n",
    "```python\n",
    "# CamelCase is normal python naming convention\n",
    "class NameOfClass: \n",
    "    # attributes can be added here or to __init__()\n",
    "    attribute_1 = \"value\"\n",
    "    attribute_2 = 3 \n",
    "    \n",
    "    # methods are functions defined within class declaration\n",
    "    def method_1(self): # methods take argument `self` to refer to instance of class\n",
    "        pass\n",
    "        \n",
    "    def method_2(self):\n",
    "        pass\n",
    "        \n",
    "x = NameOfClass()\n",
    "```\n",
    "## Declaration vs Instance"
   ]
  },
  {
   "cell_type": "markdown",
   "metadata": {},
   "source": [
    "Here `i` is a class attribute meaning the class owns it. All instances will have the same value for `i`\n",
    "\n",
    "Here `f()` is a class method. All instances will have the same method `f()`"
   ]
  },
  {
   "cell_type": "code",
   "execution_count": null,
   "metadata": {},
   "outputs": [],
   "source": [
    "# Class Declaration\n",
    "class Example: \n",
    "    i = 12345\n",
    "    \n",
    "    def f(self):\n",
    "        return 'hello world'"
   ]
  },
  {
   "cell_type": "code",
   "execution_count": null,
   "metadata": {},
   "outputs": [],
   "source": [
    "# instance of class Example\n",
    "e = Example()"
   ]
  },
  {
   "cell_type": "code",
   "execution_count": null,
   "metadata": {},
   "outputs": [],
   "source": [
    "x = Example()\n",
    "print(x.i)\n",
    "print(x.f())\n",
    "print(x.__doc__)"
   ]
  },
  {
   "cell_type": "markdown",
   "metadata": {},
   "source": [
    "# Self method\n",
    "\n",
    "Self is a way to refer to the class itself for reference. \n",
    "Used after initialization by the class instance"
   ]
  },
  {
   "cell_type": "code",
   "execution_count": null,
   "metadata": {},
   "outputs": [],
   "source": [
    "class Example:\n",
    "    i = 12345\n",
    "    \n",
    "    def f(self):\n",
    "        return self.i\n",
    "    \n",
    "x = Example()\n",
    "x.f()"
   ]
  },
  {
   "cell_type": "markdown",
   "metadata": {},
   "source": [
    "# Initializing state in an object\n",
    "\n",
    "For this we use a special feature of python\n",
    "\n",
    "`__init__()` is a reseved method in python classes. It is known as a constructor in object oriented concepts. This method called when an object is created from the class and it allow the class to initialize the attributes of a class.\n",
    "    \n",
    "We can pass args and kwargs to this function. \n",
    "    "
   ]
  },
  {
   "cell_type": "code",
   "execution_count": null,
   "metadata": {},
   "outputs": [],
   "source": [
    "class Example:\n",
    "    def __init__(self, *args, **kwargs):\n",
    "        print(\"this is called with\")\n",
    "        print(\"these args:\")\n",
    "        for i in args:\n",
    "            print(i)\n",
    "        print(\"these kwargs:\")\n",
    "        for item in kwargs.items():\n",
    "            print(item)\n",
    "        \n",
    "e = Example(1,3,a=\"s\", d=\"3\")"
   ]
  },
  {
   "cell_type": "markdown",
   "metadata": {},
   "source": [
    "Here `name` and `owner` are class attributes. They do not change depending on the instance."
   ]
  },
  {
   "cell_type": "code",
   "execution_count": null,
   "metadata": {},
   "outputs": [],
   "source": [
    "# class without init\n",
    "class Pet:\n",
    "    name = 'Matilda'\n",
    "    owner = 'Joe'\n",
    "    \n",
    "    def print_name(self):\n",
    "        print(self.name)\n",
    "        \n",
    "pet = Pet()\n",
    "pet.print_name()"
   ]
  },
  {
   "cell_type": "markdown",
   "metadata": {},
   "source": [
    "Here `name` and `owner` are class attributes set in the `__init__` method. They do change depending on the instance."
   ]
  },
  {
   "cell_type": "code",
   "execution_count": null,
   "metadata": {},
   "outputs": [],
   "source": [
    "# class with init\n",
    "class Pet:\n",
    "    def __init__(self, name, owner=\"Joe\"):\n",
    "        self.name = name\n",
    "        self.owner = owner\n",
    "    def print_name(self):\n",
    "        print(self.name)\n",
    "        \n",
    "pet = Pet(\"Matilda\")\n",
    "pet.print_name()"
   ]
  },
  {
   "cell_type": "code",
   "execution_count": null,
   "metadata": {},
   "outputs": [],
   "source": [
    "class Circle:\n",
    "    def __init__(self, radius=1.00):\n",
    "        self.radius = radius\n",
    "        self.diameter = radius * 2\n",
    "        self.area = self.calculate_area()\n",
    "    \n",
    "    def calculate_area(self):\n",
    "        return 3.14 * self.radius**2\n",
    "    \n",
    "c = Circle(radius=10)\n",
    "print(f\"radius is {c.radius}\")\n",
    "print(f\"diameter is {c.diameter}\")\n",
    "print(f\"area is {c.area}\")"
   ]
  },
  {
   "cell_type": "code",
   "execution_count": null,
   "metadata": {},
   "outputs": [],
   "source": [
    "# Code along\n",
    "class Ballot:\n",
    "    pass"
   ]
  },
  {
   "cell_type": "code",
   "execution_count": null,
   "metadata": {},
   "outputs": [],
   "source": [
    "# Code along\n",
    "class Point:\n",
    "    pass"
   ]
  },
  {
   "cell_type": "markdown",
   "metadata": {},
   "source": [
    "# Static methods for classes\n",
    "\n",
    "```python\n",
    "class Example:\n",
    "    @staticmethod\n",
    "    def method_thats_static(): #note there's no `self` argument\n",
    "        return \"hello\"\n",
    "```"
   ]
  },
  {
   "cell_type": "code",
   "execution_count": null,
   "metadata": {},
   "outputs": [],
   "source": [
    "class Example:    \n",
    "    @staticmethod\n",
    "    def f():\n",
    "        return \"hello world\"\n",
    "    \n",
    "x = Example()\n",
    "x.f()"
   ]
  },
  {
   "cell_type": "code",
   "execution_count": null,
   "metadata": {},
   "outputs": [],
   "source": [
    "Example.f()"
   ]
  },
  {
   "cell_type": "code",
   "execution_count": null,
   "metadata": {},
   "outputs": [],
   "source": [
    "class Calculator:\n",
    "    @staticmethod\n",
    "    def add(a,b):\n",
    "        return (a+b)\n",
    "    @staticmethod\n",
    "    def sub(a,b):\n",
    "        return(a-b)\n",
    "    @staticmethod\n",
    "    def mul(a,b):\n",
    "        return (a*b)\n",
    "    @staticmethod\n",
    "    def div(a,b):\n",
    "        return(a/b)\n",
    "\n",
    "    # Prompting user to enter two values\n",
    "print(\"Please enter values for x and y\")\n",
    "x = int(input())\n",
    "y = int(input())\n",
    "# static method are called using class_name.method()\n",
    "print(\"Sum of two numbers entered\" , Calculator.add(x, y) )\n",
    "print(\"Difference of two numbers entered\", Calculator.sub(x, y))\n",
    "print(\"Multiplication of two numbers entered\", Calculator.mul(x, y))\n",
    "print(\"Division of two numbers entered\", Calculator.div(x, y))"
   ]
  },
  {
   "cell_type": "markdown",
   "metadata": {},
   "source": [
    "# Class methods for classes\n",
    "\n",
    "```python\n",
    "class Example:    \n",
    "    @classmethod\n",
    "    def method_for_class(cls): # note that it takes one argument `cls`\n",
    "        return \"hello world\"\n",
    "\n",
    "```"
   ]
  },
  {
   "cell_type": "code",
   "execution_count": null,
   "metadata": {},
   "outputs": [],
   "source": [
    "class Example:    \n",
    "    \n",
    "    def __init__(self, first_name=None, last_name=None):\n",
    "        self.first_name = first_name\n",
    "        self.last_name = last_name\n",
    "        \n",
    "    @classmethod\n",
    "    def from_full_name(cls, full_name): # note that it takes argument `cls`\n",
    "        first, last = full_name.split(' ')\n",
    "        return cls(first_name=first, last_name=last)\n",
    "    \n",
    "x = Example.from_full_name(\"John Doe\")\n",
    "print(x.first_name)\n",
    "print(x.last_name)"
   ]
  },
  {
   "cell_type": "code",
   "execution_count": null,
   "metadata": {},
   "outputs": [],
   "source": []
  }
 ],
 "metadata": {
  "kernelspec": {
   "display_name": "Python 3",
   "language": "python",
   "name": "python3"
  },
  "language_info": {
   "codemirror_mode": {
    "name": "ipython",
    "version": 3
   },
   "file_extension": ".py",
   "mimetype": "text/x-python",
   "name": "python",
   "nbconvert_exporter": "python",
   "pygments_lexer": "ipython3",
   "version": "3.8.6"
  }
 },
 "nbformat": 4,
 "nbformat_minor": 4
}
