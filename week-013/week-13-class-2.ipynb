{
 "cells": [
  {
   "cell_type": "markdown",
   "metadata": {},
   "source": [
    "<div style=\"background: #000;\n",
    "            color: #FFF;\n",
    "            margin: 0px;\n",
    "                padding: 10px 0px 20px 0px;\n",
    "            text-align: center; \n",
    "                \">\n",
    "    <h1>Week 13 - Class 2- 12/08</h1>\n",
    "</div>\n",
    "\n",
    "## Objectives for this week:\n",
    "\n",
    "* Integrating models in views\n",
    "* Connecting our database to our API\n",
    "* Deploying our web applications\n",
    "\n",
    "Today's objective:\n",
    "* Web Scraping and Flask code along\n",
    "* Deploying our web applications"
   ]
  },
  {
   "cell_type": "markdown",
   "metadata": {},
   "source": [
    "<div style=\"background: #000;\n",
    "            color: #FFF;\n",
    "            margin: 0px;\n",
    "                padding: 10px 0px 20px 0px;\n",
    "            text-align: center; \n",
    "                \">\n",
    "    <h1>Beautiful Soup</h1>\n",
    "</div>"
   ]
  },
  {
   "cell_type": "code",
   "execution_count": null,
   "metadata": {},
   "outputs": [],
   "source": [
    "from bs4 import BeautifulSoup \n",
    "import requests"
   ]
  },
  {
   "cell_type": "code",
   "execution_count": null,
   "metadata": {},
   "outputs": [],
   "source": [
    "# Use requests to find desired html to scrape\n",
    "r = requests.get(\"https://en.wikipedia.org/wiki/List_of_best-selling_video_games\")\n",
    "\n",
    "# Make html parseabele// Turn it into soup so we can search through it\n",
    "soup = BeautifulSoup(r.text)\n",
    "\n",
    "# Find a specific element\n",
    "table = soup.find(\"table\", class_=\"wikitable\")\n",
    "\n",
    "# Find all of a specific element, can use it on a tag\n",
    "# Here we use it on the table we found in the last line\n",
    "rows = table.find_all(\"tr\")\n",
    "\n",
    "for row in rows:\n",
    "    #Stripped Strings remove tags \"<a>\" and newlines \\n returns a generator     \n",
    "    print(list(row.stripped_strings))"
   ]
  },
  {
   "cell_type": "markdown",
   "metadata": {},
   "source": [
    "# Beautiful Soup Docs\n",
    "https://www.crummy.com/software/BeautifulSoup/bs4/doc/"
   ]
  },
  {
   "cell_type": "markdown",
   "metadata": {},
   "source": [
    "<div style=\"background: #000;\n",
    "            color: #FFF;\n",
    "            margin: 0px;\n",
    "                padding: 10px 0px 20px 0px;\n",
    "            text-align: center; \n",
    "                \">\n",
    "    <h1>Flask</h1>\n",
    "</div>"
   ]
  },
  {
   "cell_type": "markdown",
   "metadata": {},
   "source": [
    "Flask Project structure!\n",
    "\n",
    "project-folder/\n",
    "    /env\n",
    "    /static\n",
    "        style.css\n",
    "    /templates\n",
    "        base.html\n",
    "        home.html\n",
    "    app.py"
   ]
  },
  {
   "cell_type": "code",
   "execution_count": null,
   "metadata": {},
   "outputs": [],
   "source": [
    "from flask import Flask,render_template, jsonify\n",
    "\n",
    "# Decorator sets up the route(The URL we visit)\n",
    "# The function determine what is displayed on the page\n",
    "@app.route('/')\n",
    "def index():\n",
    "    return \"Hello World\"\n",
    "\n",
    "@app.route('/home')\n",
    "def index():\n",
    "    #Render Template allows us to return an html page to the visitor\n",
    "    #render_template looks for a templates folder in your directory     \n",
    "    return render_template(\"home.html\")\n",
    "\n",
    "@app.route('/api')\n",
    "def index():\n",
    "    #Jsonify sends a JSON response to the client\n",
    "    #Turns a Python dictionary or List into JSON     \n",
    "    return jsonify({\"test\":\"example\"})"
   ]
  },
  {
   "cell_type": "markdown",
   "metadata": {},
   "source": [
    "Flask HTML Templating \n",
    "\n",
    "We can create a base html that will have HTML or CSS we want to reuse in other pages.\n",
    "\n",
    "We use {% block body %}{% endblock %} to determine where want other HTML pages to put in their code. "
   ]
  },
  {
   "cell_type": "code",
   "execution_count": null,
   "metadata": {},
   "outputs": [],
   "source": [
    "<!doctype html>\n",
    "<html>\n",
    "  <head>\n",
    "    <title></title>\n",
    "    <link rel=\"stylesheet\" type=\"text/css\" href=\"{{ url_for('static', filename='style.css') }}\" media=\"screen\"/>\n",
    "  </head>\n",
    "  <body>\n",
    "    {% block body %}{% endblock %}\n",
    "  </body>\n",
    "</html>"
   ]
  },
  {
   "cell_type": "markdown",
   "metadata": {},
   "source": [
    "inside our other html we want to use base template in we call \n",
    "{% extends \"base.html\" %}\n",
    "\n",
    "This let's flask know to load in that template\n",
    "\n",
    "{% block body %} {% endblock %} this is where we put the content of the page and it'll fill this section in inside of our base.html\n"
   ]
  },
  {
   "cell_type": "code",
   "execution_count": null,
   "metadata": {},
   "outputs": [],
   "source": [
    "{% extends \"base.html\" %}\n",
    "\n",
    "{% block body %}\n",
    "<div>\n",
    "    <h1>Hello</h1>\n",
    "</div>\n",
    "{% endblock %}"
   ]
  },
  {
   "cell_type": "markdown",
   "metadata": {},
   "source": [
    "Flask Documentation!\n",
    "\n",
    "https://flask.palletsprojects.com/en/1.1.x/"
   ]
  },
  {
   "cell_type": "markdown",
   "metadata": {},
   "source": [
    "<div style=\"background: #000;\n",
    "            color: #FFF;\n",
    "            margin: 0px;\n",
    "                padding: 10px 0px 20px 0px;\n",
    "            text-align: center; \n",
    "                \">\n",
    "    <h1>Flask SQL Alchemy</h1>\n",
    "</div>"
   ]
  },
  {
   "cell_type": "code",
   "execution_count": null,
   "metadata": {},
   "outputs": [],
   "source": [
    "from flask import Flask, render_template, jsonify\n",
    "from flask_sqlalchemy import SQLAlchemy\n",
    "\n",
    "app = Flask(__name__)\n",
    "\n",
    "# Location of our database\n",
    "app.config['SQLALCHEMY_DATABASE_URI'] = 'sqlite:///your-db-name.db'\n",
    "\n",
    "# this set's up our db connection to our flask application\n",
    "db = SQLAlchemy(app)\n",
    "\n",
    "# this is our model (aka table)\n",
    "class DBTable(db.Model):\n",
    "    id = db.Column(db.Integer, primary_key=True)\n",
    "    column_1 = db.Column(db.String(255), nullable=False)\n",
    "    column_2 = db.Column(db.Text, nullable=False)\n",
    "    #column_3 = db.Column(db.DateTime, nullable=False)\n",
    "    #column_4 = db.Column(db.Float, nullable=False)\n",
    "    #column_5 = db.Column(db.Boolean, nullable=False)\n",
    "    \n",
    "rows = {\n",
    "    \"row1\": \"row1_val\",\n",
    "    \"row2\": \"row2_val\",\n",
    "} \n",
    "# Drops table :: Permanently deletes table\n",
    "db.drop_all()\n",
    "# Creates table based off Model classes (DBTable)\n",
    "db.create_all()\n",
    "for key,val in rows.items():\n",
    "    #Creates new row in table     \n",
    "    new_row = DBTable(column_1=key, column_2=val)\n",
    "    print(new_row)\n",
    "    #Writes to table     \n",
    "    db.session.add(new_row)\n",
    "    #Saves Changes\n",
    "    db.session.commit()\n",
    "\n",
    "@app.route('/api', methods=['GET'])\n",
    "def get_data():\n",
    "    #Allows us to get data from our database    \n",
    "    table = DBTable.query.all()\n",
    "    d = {row.column_1:row.column_2 for row in table}\n",
    "    return jsonify(d)"
   ]
  },
  {
   "cell_type": "markdown",
   "metadata": {},
   "source": [
    "Flask SQL Alchemy Docs\n",
    "https://flask-sqlalchemy.palletsprojects.com/en/2.x/"
   ]
  },
  {
   "cell_type": "markdown",
   "metadata": {},
   "source": [
    "<div style=\"background: #000;\n",
    "            color: #FFF;\n",
    "            margin: 0px;\n",
    "                padding: 10px 0px 20px 0px;\n",
    "            text-align: center; \n",
    "                \">\n",
    "    <h1>Lab</h1>\n",
    "</div>"
   ]
  },
  {
   "cell_type": "markdown",
   "metadata": {},
   "source": [
    "\n",
    "# Preparing our application for deployment.\n",
    "\n"
   ]
  },
  {
   "cell_type": "markdown",
   "metadata": {},
   "source": [
    "1. Create your virtual env and set it up.\n",
    "2. Freeze your dependencies\n",
    "3. Set up .gitignore\n",
    "4. commit to your git repo\n",
    "\n",
    "### Creating your env\n",
    "In your project folder:  \n",
    "1.`python -m venv env`   \n",
    "2.`source env/bin/activate`  \n",
    "3. `pip install` all your dependencies (including `gunicorn`)\n",
    "\n",
    "### Freeze your dependencies\n",
    "\n",
    "`pip freeze > requirements.txt`\n",
    "\n",
    "### Set up .gitignore\n",
    "\n",
    "In your project folder, create a file called `.gitignore`.\n",
    "\n",
    "sample .gitignore:\n",
    "```\n",
    "# General\n",
    ".DS_Store\n",
    "\n",
    "# Environments\n",
    ".env\n",
    ".venv\n",
    "env/\n",
    "venv/\n",
    "ENV/\n",
    "\n",
    "# Python\n",
    "*.pyc\n",
    "\n",
    "# Jupyter Notebook\n",
    ".ipynb_checkpoints\n",
    "```\n",
    "\n",
    "python full example: https://github.com/github/gitignore/blob/master/Python.gitignore\n",
    "\n",
    "full repo of examples https://github.com/github/gitignore\n",
    "\n",
    "### Commit to your git repo\n"
   ]
  },
  {
   "cell_type": "markdown",
   "metadata": {},
   "source": [
    "# Deployment\n",
    "\n",
    "## Deploying to Heroku\n",
    "\n",
    "1. Sign up for heroku and log in.\n",
    "2. Create a `Procfile` and `runtime.txt` and commit them.\n",
    "3. Push to heroku either by using the heroku cli or by adding your github account to heroku and setting the repo through the web interface.\n",
    "\n",
    "### Creating a `Procfile` \n",
    "\n",
    "In order to run our application properly Heroku requires a special file that tells it what to do.\n",
    "\n",
    "For our project we'll need the following:\n",
    "\n",
    "```\n",
    "release: python ./import-script.py\n",
    "web: gunicorn app:app\n",
    "\n",
    "```\n",
    "\n",
    "### Creating a `runtime.txt`\n",
    "\n",
    "This tells heroku which python version to use.\n",
    "\n",
    "example runtime.txt\n",
    "\n",
    "```\n",
    "python-3.8.6\n",
    "```\n",
    "\n",
    "### Pushing to heroku\n",
    "\n",
    "You'll either need to do `git push heroku master` (if you've installed the heroku cli) or `git push origin master` (if you've connected the git repo to heroku).\n",
    "\n",
    "### Check your url\n",
    "\n",
    "Visit `https://{your-project-name}.herokuapp.com/`"
   ]
  },
  {
   "cell_type": "markdown",
   "metadata": {},
   "source": [
    "## Deploying to PythonAnywhere\n",
    "\n",
    "1. Sign up for an account and log in.\n",
    "2. Open up the bash console and clone your git repo into that folder.\n",
    "3. Set up a virtualenv\n",
    "4. Set up web app and create your wsgi file on PythonAnywhere.\n",
    "\n",
    "\n",
    "### Setting up a virtualenv on PythonAnywhere\n",
    "\n",
    "In your bash console run:\n",
    "```\n",
    "mkvirtualenv --python=/usr/bin/python3.8.6 venv \n",
    "# or whichever version you prefer\n",
    "\n",
    "workon venv\n",
    "```\n",
    "\n",
    "You should see the `(venv)` we expect when a virtual env is active.\n",
    "\n",
    "Once you're in the virtual env, run:\n",
    "```\n",
    "pip install -r requirements.txt\n",
    "```\n",
    "\n",
    "### Setting up web app on pythonanywhere\n",
    "\n",
    "Go to the web app tab and click `Add a new web app`. Follow the steps to set it up selecting the right framework, version, and path. Your path will be the path to the folder your project is in on pythonanywhere.\n",
    "\n",
    "Python anywhere requires a WSGI file to be configured. You can find the link to it under the web tab. Change the file so it imports correctly (finding your project's app).\n",
    "\n",
    "example:\n",
    "```\n",
    "# This file contains the WSGI configuration required to serve up your\n",
    "# web application at http://<your-username>.pythonanywhere.com/\n",
    "# It works by setting the variable 'application' to a WSGI handler of some\n",
    "# description.\n",
    "#\n",
    "# The below has been auto-generated for your Flask project\n",
    "\n",
    "import sys\n",
    "\n",
    "# add your project directory to the sys.path\n",
    "project_home = '/home/username/mysite'\n",
    "if project_home not in sys.path:\n",
    "    sys.path = [project_home] + sys.path\n",
    "\n",
    "# import flask app but need to call it \"application\" for WSGI to work\n",
    "from flask_app import app as application  # noqa\n",
    "```\n",
    "fix the last line since `flask_app` probably won't be your project.\n",
    "\n",
    "Go to your link (which will be on the web tab)."
   ]
  }
 ],
 "metadata": {
  "kernelspec": {
   "display_name": "Python 3",
   "language": "python",
   "name": "python3"
  },
  "language_info": {
   "codemirror_mode": {
    "name": "ipython",
    "version": 3
   },
   "file_extension": ".py",
   "mimetype": "text/x-python",
   "name": "python",
   "nbconvert_exporter": "python",
   "pygments_lexer": "ipython3",
   "version": "3.9.0"
  }
 },
 "nbformat": 4,
 "nbformat_minor": 4
}
