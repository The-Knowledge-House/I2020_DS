{
 "cells": [
  {
   "cell_type": "markdown",
   "metadata": {},
   "source": [
    "<div style=\"background: #000;\n",
    "            color: #FFF;\n",
    "            margin: 0px;\n",
    "                padding: 10px 0px 20px 0px;\n",
    "            text-align: center; \n",
    "                \">\n",
    "    <h1>Week 13 - Class 1- 12/02</h1>\n",
    "</div>\n",
    "\n",
    "## Objectives for this week:\n",
    "\n",
    "* Integrating models in views\n",
    "* Connecting our database to our API\n",
    "* Deploying our web applications\n",
    "\n",
    "Today's objective:\n",
    "* Review"
   ]
  },
  {
   "cell_type": "markdown",
   "metadata": {},
   "source": [
    "<div style=\"background: #000;\n",
    "            color: #FFF;\n",
    "            margin: 0px;\n",
    "                padding: 10px 0px 20px 0px;\n",
    "            text-align: center; \n",
    "                \">\n",
    "    <h1>Review</h1>\n",
    "</div>"
   ]
  },
  {
   "cell_type": "markdown",
   "metadata": {},
   "source": [
    "# Note:\n",
    "\n",
    "Everything covered in this review and the review from `week-13-class-1` can be on your assessment. Anything left out will not be required for the assessment but you will be expected to know it for phase 2."
   ]
  },
  {
   "cell_type": "markdown",
   "metadata": {},
   "source": [
    "# Functions\n",
    "\n",
    "Functions are a way to encapsulate a block of code so that we can reuse them. They are able to connect with other python code through two main ways: arguments and return values. The arguments are inputs that are passed to the function when called to be used within. The return values are values that are, like the name suggests, returned by the function when called. We usually assign the return values to a variable but we can also call functions in place of any code that is expecting a value (e.g. we can call a function within another function call that expects an argument."
   ]
  },
  {
   "cell_type": "markdown",
   "metadata": {},
   "source": [
    "### Function Definition/Declaration and Calling\n",
    "\n",
    "When we define a function:\n",
    "* we need to use the `def` keyword\n",
    "* we need to include a function name (in snake_case aka lowercase with underscores separating words) \n",
    "* we need to include arguments in parenthesis\n",
    "* and then we need a colon to indicate the code following is the function body (and if the function body is multiline, python requires an indented code block) \n",
    "\n",
    "example of a function definition and calling the same function:"
   ]
  },
  {
   "cell_type": "code",
   "execution_count": null,
   "metadata": {},
   "outputs": [],
   "source": [
    "# single line function definition\n",
    "def func(a,b): return a,b\n",
    "\n",
    "# multi-line functions require an indented code block\n",
    "def func(a, b):\n",
    "    return a, b\n",
    "\n",
    "return_values = func(4,5)\n",
    "# getting the value after assigning the return values\n",
    "print(return_values)\n",
    "# passing a function call as an argument to another function\n",
    "print(func(4,5))\n",
    "assert(func(4,5) == return_values)"
   ]
  },
  {
   "cell_type": "markdown",
   "metadata": {},
   "source": [
    "### Scope of Variables Inside Functions\n",
    "\n",
    "Variables created inside of functions only exist within in the function. Python has ways to work around this (that we haven't explicitly covered) but, in general, the only way to access a variable that was created within a function from outside of the function is if the function returned it. This isn't true for variables created outside of a function. If a variable exists in the global scope (outside of a function/class), it can be accessed by a function. To explicitly pass a variable to a function, make it an argument the function requires when called.\n",
    "\n",
    "Example of this:"
   ]
  },
  {
   "cell_type": "code",
   "execution_count": null,
   "metadata": {},
   "outputs": [],
   "source": [
    "global_variable = 5\n",
    "value_we_are_passing = 4\n",
    "\n",
    "def func(a):\n",
    "    b = \"variable that only exists within this function\"\n",
    "    return a + global_variable\n",
    "\n",
    "print(func(value_we_are_passing))\n",
    "\n",
    "try:\n",
    "    print(b)\n",
    "except:\n",
    "    print(\"b doesn't exist in the global scope\")\n",
    "    "
   ]
  },
  {
   "cell_type": "markdown",
   "metadata": {},
   "source": [
    "### Positional Arguments\n",
    "\n",
    "Positional arguments are arguments that have to be passed in a specific order for a function to understand what is being passed. We have seen countless examples of this and it remains the most common way to pass arguments to a function. Python requires every positional argument to be passed in a function call.\n",
    "\n",
    "example of this:"
   ]
  },
  {
   "cell_type": "code",
   "execution_count": null,
   "metadata": {},
   "outputs": [],
   "source": [
    "# function with two positional arguments: a and b\n",
    "\n",
    "def func(a, b):\n",
    "    return f\"a:{a}, b:{b}\"\n",
    "\n",
    "r = func(4,5)\n",
    "q = func(5,4)\n",
    "\n",
    "print(f\"r: {r}\")\n",
    "print(f\"q: {q}\")\n",
    "\n",
    "# as you can see, changing the order of values we pass\n",
    "# results in the values being set to different variables\n",
    "assert(r == \"a:4, b:5\")\n",
    "assert(q == \"a:5, b:4\")"
   ]
  },
  {
   "cell_type": "code",
   "execution_count": null,
   "metadata": {},
   "outputs": [],
   "source": [
    "# calling a function without required positional argument\n",
    "\n",
    "def func(a):\n",
    "    return a\n",
    "\n",
    "func()"
   ]
  },
  {
   "cell_type": "markdown",
   "metadata": {},
   "source": [
    "### Keyword Arguments\n",
    "\n",
    "Keyword arguments are similar to positional arguments except they are given default values so if you call the function without passing that particular argument, it will use the default.\n",
    "\n",
    "example of this:"
   ]
  },
  {
   "cell_type": "code",
   "execution_count": null,
   "metadata": {},
   "outputs": [],
   "source": [
    "def func(a=True):\n",
    "    if a == True:\n",
    "        print(f\"a is {a}\")\n",
    "    else:\n",
    "        print(f\"you changed a to {a}\")\n",
    "        \n",
    "func()\n",
    "func(10)"
   ]
  },
  {
   "cell_type": "code",
   "execution_count": null,
   "metadata": {},
   "outputs": [],
   "source": [
    "def func(a,b,c=10):\n",
    "    print(f\"a: {a} \\t b: {b} \\t c:{c} \\t total:{a + b + c}\")\n",
    "\n",
    "# calling it without keyword argument\n",
    "func(10,10)\n",
    "# calling it with keyword argument as \"positional argument\"\n",
    "func(6,6,6)\n",
    "# calling it with c as a keyword argument\n",
    "func(5,5,c=5)"
   ]
  },
  {
   "cell_type": "markdown",
   "metadata": {},
   "source": [
    "### Ordering of arguments:\n",
    "\n",
    "Python requires that positional arguments come before keyword arguments. Positional arguments require arguments to be passed in a specific order. Keyword arguments can be passed in any other if you provide the keyword. If you do not provide the keyword, the keyword arguments are considered positional arguments and must be passed in the same order as they were defined.\n",
    "\n",
    "example of this:"
   ]
  },
  {
   "cell_type": "code",
   "execution_count": null,
   "metadata": {},
   "outputs": [],
   "source": [
    "def func(a,b,c,d=0,e=1,f=2):\n",
    "    print(f\"a:{a} b:{b} c:{c} d:{d} e:{e} f:{f}\\n\")\n",
    "    \n",
    "print(\"calling without keyword arguments passed:\")\n",
    "\n",
    "func('a', 'b', 'c')\n",
    "\n",
    "print(\"calling with keyword arguments passed\")\n",
    "\n",
    "func('a', 'b', 'c', d='d', e='e', f='f')\n",
    "\n",
    "print(\"calling with keyword args passed as positional args\")\n",
    "\n",
    "func(0,1,2,3,4,5)\n",
    "\n",
    "print(\"calling the function with keyword arguments in different order\")\n",
    "func(0,1,2,f=3,e=4,d=5)\n",
    "\n",
    "print(\"calling the function in the wrong order:\")\n",
    "# uncomment this\n",
    "#func(d=4,a,b,c,f=3)"
   ]
  },
  {
   "cell_type": "markdown",
   "metadata": {},
   "source": [
    "### Arbitrary Arguments (positional)\n",
    "\n",
    "Functions can take an arbitrary number of positional arguments if you pass `*<variable name>`when defining your function. We usually define the argument as `args` (which means we pass `*args` to the function) and then we can access `args` within the function like a tuple.\n",
    "\n",
    "example of this:"
   ]
  },
  {
   "cell_type": "code",
   "execution_count": null,
   "metadata": {},
   "outputs": [],
   "source": [
    "def func(*args):\n",
    "    print(f\"args is a {type(args)}\")\n",
    "    print(f\"number of args: {len(args)}\")\n",
    "    print(f\"first value of args: {args[0]}\")\n",
    "    for i in args:\n",
    "        print(i)\n",
    "    \n",
    "func(3,4,5,6)"
   ]
  },
  {
   "cell_type": "markdown",
   "metadata": {},
   "source": [
    "### Arbitrary Arguments (keyword)\n",
    "\n",
    "Functions can take an arbitrary number of positional arguments if you pass `**<variable name>`when defining your function. We usually define the argument as `kwargs` (which means we pass `**kwargs` to the function) and then we can access `kwargs` within the function like a dictionary. "
   ]
  },
  {
   "cell_type": "code",
   "execution_count": null,
   "metadata": {},
   "outputs": [],
   "source": [
    "def func(**kwargs):\n",
    "    print(f\"kwargs is a {type(kwargs)}\")\n",
    "    print(f\"number of kwargs: {len(kwargs)}\")\n",
    "    print(f\"keywords passed: {kwargs.keys()}\")\n",
    "    print(f\"values passed: {kwargs.values()}\")\n",
    "    print(f\"kwargs passed: {kwargs.items()}\")\n",
    "    for i,j in kwargs.items():\n",
    "        print(i,j)\n",
    "    \n",
    "func(a=3,b=4,c=5,d=6)"
   ]
  },
  {
   "cell_type": "markdown",
   "metadata": {},
   "source": [
    "### Unpacking Arguments (`*` and `**`)\n",
    "\n",
    "When passing values to a function, we can pass a list/tuple or dictionary to be unpacked by the function. Lists/tuples can be unpacked as positional arguments. Dictionaries can be unpacked as keyword arguments. To let python know to unpack the argument being passed, we use`*` for lists/tuples and `**` for dictionaries. One caveat to all of this is that the unpacked values must match the arguments that the function expects (unless the function was defined to accept arbitrary number of arguments).\n",
    "\n",
    "examples:"
   ]
  },
  {
   "cell_type": "code",
   "execution_count": null,
   "metadata": {},
   "outputs": [],
   "source": [
    "# unpacking into positional arguments\n",
    "\n",
    "def func(a,b,c):\n",
    "    print(f\"a: {a} b: {b} c: {c}\\n\")\n",
    "    \n",
    "# unpacking a list\n",
    "func(*[0,1,2])\n",
    "\n",
    "# unpacking a tuple\n",
    "func(*(0,1,2))\n",
    "\n",
    "# this function call with throw an error\n",
    "try:\n",
    "    func(*[0,1,2,3,4])\n",
    "except TypeError as err:\n",
    "    print(\"list we unpacked had more elements than the function accepted:\")\n",
    "    print(f\"error: {err}\")"
   ]
  },
  {
   "cell_type": "code",
   "execution_count": null,
   "metadata": {},
   "outputs": [],
   "source": [
    "# unpacking into keyword arguments:\n",
    "\n",
    "def func(a=0, b=1, c=2):\n",
    "    print(f\"a: {a} b: {b} c: {c}\\n\")\n",
    "    \n",
    "# unpacking a dictionary\n",
    "func(**{'a': 5, 'b': 6, 'c':7})\n",
    "\n",
    "# this function call with throw an error\n",
    "try:\n",
    "    func(**{'a':3, 'b':4, 'c':5, 'd':6})\n",
    "except TypeError as err:\n",
    "    print(\"dict we unpacked had more items than the function accepted:\")\n",
    "    print(f\"error: {err}\")"
   ]
  },
  {
   "cell_type": "markdown",
   "metadata": {},
   "source": [
    "### Lambda Functions\n",
    "\n",
    "Lambda functions are \"anonymous\" functions that can be used to create a function on the fly without defining it elsewhere (like when we use `map` or any other method expecting a function). Keep in mind that lambda functions are typically one liners and cannot include python keywords like `return`, `pass`, `assert`, etc. \n",
    "\n",
    "example of a lambda"
   ]
  },
  {
   "cell_type": "code",
   "execution_count": null,
   "metadata": {},
   "outputs": [],
   "source": [
    "# to let python know we are creating a lambda\n",
    "# we write `lambda` and then the variables it accepts\n",
    "# then a colon and then the python statement to be\n",
    "# executed when called\n",
    "square = lambda x: x**2\n",
    "\n",
    "square(4)"
   ]
  },
  {
   "cell_type": "code",
   "execution_count": null,
   "metadata": {},
   "outputs": [],
   "source": [
    "# while lambdas are useful, above is similar to this:\n",
    "def square(x): return x**2\n",
    "\n",
    "# and work/run the same (try using the dis module to disassemble)"
   ]
  },
  {
   "cell_type": "code",
   "execution_count": null,
   "metadata": {},
   "outputs": [],
   "source": [
    "# usually we use lambdas in situations like this:\n",
    "\n",
    "list(map(lambda x: x**2, [1,2,3,4,5]))"
   ]
  },
  {
   "cell_type": "code",
   "execution_count": null,
   "metadata": {},
   "outputs": [],
   "source": [
    "#bonus: you can create a lambda and then immediately run it\n",
    "\n",
    "(lambda x: x**2)(5)"
   ]
  },
  {
   "cell_type": "markdown",
   "metadata": {},
   "source": [
    "### Currying Functions\n",
    "\n",
    "Currying functions is a functional programming concept that basically boils down to creating functions composed of other functions in order to create \"meta\" code that can perform higher level functionality. Curried functions are also known as closures or higher order functions.\n",
    "\n",
    "examples of this:"
   ]
  },
  {
   "cell_type": "code",
   "execution_count": null,
   "metadata": {},
   "outputs": [],
   "source": [
    "# f(x)\n",
    "def add_five(x): return x + 5\n",
    "# g(x)\n",
    "def square_it(x): return x ** 2\n",
    "\n",
    "# f(g(x))\n",
    "def square_and_add_it(x):\n",
    "    return add_five(square_it(x))\n",
    "\n",
    "s = 5\n",
    "square_and_add_it(s)"
   ]
  },
  {
   "cell_type": "code",
   "execution_count": null,
   "metadata": {},
   "outputs": [],
   "source": [
    "# which is the same as:\n",
    "s = 5\n",
    "# sets g(s) to t\n",
    "t = square_it(5)\n",
    "# calls f(t)\n",
    "add_five(t)"
   ]
  },
  {
   "cell_type": "code",
   "execution_count": null,
   "metadata": {},
   "outputs": [],
   "source": [
    "# we've also seen currying like this\n",
    "# this shows how functions can return functions:\n",
    "\n",
    "def mult_func(x):\n",
    "    return lambda a: a * x\n",
    "\n",
    "# we can use the above to do the following:\n",
    "\n",
    "doubler_func = mult_func(2)\n",
    "\n",
    "doubler_func(10)"
   ]
  },
  {
   "cell_type": "markdown",
   "metadata": {},
   "source": [
    "### Decorator Functions\n",
    "\n",
    "Decorator functions are also higher order functions that take a function and extends it without explicitly modifying it. This allows us to \"decorate\" another function we define with functionality set up elsewhere. We've seen an example of this with our flask applications where we decorate our view functions so we can map them to a specific url route."
   ]
  },
  {
   "cell_type": "code",
   "execution_count": null,
   "metadata": {},
   "outputs": [],
   "source": [
    "def decorator_function(func):\n",
    "    def wrapper():\n",
    "        print(\"before function call\")\n",
    "        func()\n",
    "        print(\"after function call\")\n",
    "    return wrapper\n",
    "\n",
    "@decorator_function\n",
    "def hello_world():\n",
    "    print(\"hello world\")\n",
    "    \n",
    "hello_world()"
   ]
  },
  {
   "cell_type": "markdown",
   "metadata": {},
   "source": [
    "### Recursion\n",
    "\n",
    "Recursive functions are functions that reach their result by recursively calling itself. In this sense, it's a function that will \"loop\" (by calling itself instead of a traditional loop we've seen with python control structures). Since that can lead to an endless loop, we must include an exit condition that will break out of the repeated function calls. Similarly to while loops, as we loop, our code must somehow move towards reaching that exit condition or else we'll hit python's limit on recursion and an error will be thrown.\n",
    "\n",
    "example of this:\n",
    "\n",
    "Say we had a factorial equation that was the following:\n",
    "\n",
    "$$ 0! = 1 $$\n",
    "$$ n! = n*(n-1)!$$\n",
    "\n",
    "We see that the factorial of `n` is equal to `n` times the factorial of `n-1`. Usually that's an indication that we might need recursion because to get the result of `n!`, we must do `n-1!` and to get `n-1!` we must do `n-2! ` and so on. We also see that `0!` is `1` which gives us a condition we can exit our recursive looping with. We can also see that if `n` is a number greater than `0`, subtracting `1` from it will get us closer to `0`. So we know if we calculate `n!`, `n-1!`, `n-2!` and so on, eventually we'll get to a value to calculate that is `0`.\n",
    "\n",
    "This means we can create a recursive function calculating this:\n"
   ]
  },
  {
   "cell_type": "code",
   "execution_count": null,
   "metadata": {},
   "outputs": [],
   "source": [
    "from functools import reduce\n",
    "\n",
    "def factorial(n):\n",
    "    if n == 0:\n",
    "        return 1\n",
    "    else:\n",
    "        return n * factorial(n-1)\n",
    "\n",
    "print(factorial(6))\n",
    "assert(factorial(6) == 720)"
   ]
  },
  {
   "cell_type": "markdown",
   "metadata": {},
   "source": [
    "### iterators/generators (`yield`, `next`, `iter`)"
   ]
  },
  {
   "cell_type": "markdown",
   "metadata": {},
   "source": [
    "### functional programming built ins (`map`, `filter`, `zip`)"
   ]
  },
  {
   "cell_type": "markdown",
   "metadata": {},
   "source": [
    "# Classes"
   ]
  },
  {
   "cell_type": "markdown",
   "metadata": {},
   "source": [
    "## Understanding Classes vs Objects vs Instances\n",
    "\n",
    "The following is taken from: https://www.codecademy.com/forum_questions/558cd3fc76b8fe06280002ce\n",
    "\n",
    "\"This course is gliding by some really fundamental concepts in Object Oriented Programming (OOP) that students really need to understand in order to grok how classes work within the larger framework of how OPP works.\n",
    "\n",
    "The truth is that object oriented programming often creates confusion by creating a disconnect between the philosophical side of development and the actual mechanical workings of the computer. I’ll try to contrast the two for you:\n",
    "\n",
    "The basic concept of OOP is this: Class >> Object >> Instance.\n",
    "\n",
    "The class = the blue print. The Object is an actual thing that is built based on the ‘blue print’ (like the house). An instance is a virtual copy (but not a real copy) of the object.\n",
    "\n",
    "So when the course inexplicably and without much contextual definition says things like\n",
    "\n",
    "    The first argument init() gets is used to refer to the instance object,\n",
    "\n",
    "It gets confusing because terminology is being mixed up and combined in unintuitive ways. It helps to think of it like this:\n",
    "\n",
    "A blueprint for a house design is like a class description. All the houses built from that blueprint are objects of that class. A given house is an instance.\n",
    "\n",
    "Finally, keeping in mind the following may help with grasping the concept:\n",
    "\n",
    "The key difference between a function and a class method: A function is floating free, unencumbered. A class (instance) method has to be aware of it’s parent (and parent properties) so you need to pass the method a reference to the parent class (as self). It’s just one less implicit rule that you have to internalize before understanding OOP. Other languages choose syntactic sugar over semantic simplicity, python isn’t other languages.\"\n"
   ]
  },
  {
   "cell_type": "markdown",
   "metadata": {},
   "source": [
    "### Defining classes\n",
    "\n",
    "When defining classes: \n",
    "* we use the `class` keyword to let python know we're defining a class\n",
    "* we include a name for our class (in CamelCase aka words with no separate but each first letter capitalized)\n",
    "* (optionally) a parenthesis with base/parent classes\n",
    "* a colon to indicate the indented code block below the definition is the class body\n",
    "\n",
    "some examples of this:"
   ]
  },
  {
   "cell_type": "code",
   "execution_count": null,
   "metadata": {},
   "outputs": [],
   "source": [
    "class Calculator:\n",
    "    @staticmethod\n",
    "    def add(x,y):\n",
    "        return x + y\n",
    "    \n",
    "    @staticmethod\n",
    "    def multiply(x,y):\n",
    "        return x * y\n",
    "    \n",
    "    @staticmethod\n",
    "    def div(x,y):\n",
    "        if y != 0:\n",
    "            return x / y\n",
    "        \n",
    "c = Calculator\n",
    "c.add(3,5)"
   ]
  },
  {
   "cell_type": "code",
   "execution_count": null,
   "metadata": {},
   "outputs": [],
   "source": [
    "import requests\n",
    "from bs4 import BeautifulSoup as bs\n",
    "\n",
    "class Scraper:\n",
    "    def __init__(self, url):\n",
    "        self.url = url\n",
    "        self.get_resp()\n",
    "        self.make_soup()\n",
    "        \n",
    "    def get_resp(self):\n",
    "        try:\n",
    "            self.resp = requests.get(self.url)\n",
    "        except:\n",
    "            self.resp = None\n",
    "        \n",
    "    def make_soup(self):\n",
    "        if self.resp:\n",
    "            self.soup = bs(self.resp.text)\n",
    "    \n",
    "    def print(self):\n",
    "        print(self.url)\n",
    "        print(self.resp.status_code)\n",
    "        print(self.soup.find('title').text)\n",
    "            \n",
    "s = Scraper(\"https://www.bloomberg.com\")\n",
    "s.print()"
   ]
  },
  {
   "cell_type": "markdown",
   "metadata": {},
   "source": [
    "### Instance Objects\n",
    "\n",
    "Instance objects are created using function notation and look like a function call. You put the class name and then arguments into the parenthesis after the class name. Those arguments are passed to the class's `__init__` method. Class methods (that are not decorated with `staticmethod`) all take an argument called `self` which refers in the instance (not the class) and will affect instances of the class created. Meaning that attributes and methods dealing with `self` will only be available to instances created using that function notation.\n",
    "\n",
    "example of this:"
   ]
  },
  {
   "cell_type": "code",
   "execution_count": null,
   "metadata": {},
   "outputs": [],
   "source": [
    "class Person:\n",
    "    def __init__(self, name, age):\n",
    "        self.name = name\n",
    "        self.age = age\n",
    "        \n",
    "    def print_name(self):\n",
    "        print(self.name)\n",
    "\n",
    "joe_biden = Person(\"Joe Biden\", 78)\n",
    "joe_biden.name\n",
    "\n",
    "Person.name"
   ]
  },
  {
   "cell_type": "markdown",
   "metadata": {},
   "source": [
    "### Difference between class/instance attributes\n",
    "\n",
    "Classes can have class attributes that are defined outside of the `__init__` method and are not stored as attributes of `self`. Instance attributes are set within `__init__` or any method taking `self` as an argument. Instance attributes only exist within the scope of that particular instance and aren't available to other class instances. Class attributes are available to all instances."
   ]
  },
  {
   "cell_type": "code",
   "execution_count": null,
   "metadata": {},
   "outputs": [],
   "source": [
    "class Example:\n",
    "    class_attribute = \"available to all instances\"\n",
    "    \n",
    "    def __init__(self, val):\n",
    "        self.instance_attribute = val\n",
    "        \n",
    "#print(Example.class_attribute)\n",
    "#print(Example.instance_attribute)\n",
    "\n",
    "s = Example(\"available only in this instance\")\n",
    "print(s.class_attribute)\n",
    "print(s.instance_attribute)"
   ]
  },
  {
   "cell_type": "markdown",
   "metadata": {},
   "source": [
    "### Instance Methods\n",
    "\n",
    "Instance methods are methods that are part of the class definition. Instance methods take self as the first argument. In fact, python passes `self` aka the instance to all class methods that do not have the decorator `staticmethod` even if you do not put `self` as the first argument. Methods that take `self` as the first argument have access to any attribute/method that is part of that class instance. \n",
    "\n",
    "example of this:"
   ]
  },
  {
   "cell_type": "code",
   "execution_count": null,
   "metadata": {},
   "outputs": [],
   "source": [
    "class Example:\n",
    "    \n",
    "    def __init__(self, val):\n",
    "        self.val = val\n",
    "        \n",
    "    @staticmethod\n",
    "    def not_an_instance_method(arg):\n",
    "        print(\"running not_an_instance_method\")\n",
    "        print(arg)\n",
    "        \n",
    "    def instance_method(self, arg):\n",
    "        print(\"\\nrunning instance_method\")\n",
    "        print(self.val)\n",
    "        print(arg)\n",
    "        \n",
    "e = Example(46)\n",
    "e.not_an_instance_method(\"this arg isn't considered self\")\n",
    "e.instance_method(\"this is arg\")\n",
    "\n"
   ]
  },
  {
   "cell_type": "code",
   "execution_count": null,
   "metadata": {},
   "outputs": [],
   "source": []
  }
 ],
 "metadata": {
  "kernelspec": {
   "display_name": "Python 3",
   "language": "python",
   "name": "python3"
  },
  "language_info": {
   "codemirror_mode": {
    "name": "ipython",
    "version": 3
   },
   "file_extension": ".py",
   "mimetype": "text/x-python",
   "name": "python",
   "nbconvert_exporter": "python",
   "pygments_lexer": "ipython3",
   "version": "3.8.6"
  }
 },
 "nbformat": 4,
 "nbformat_minor": 4
}
