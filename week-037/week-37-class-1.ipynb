{
 "cells": [
  {
   "cell_type": "markdown",
   "id": "outdoor-affiliate",
   "metadata": {},
   "source": [
    "# Week 37 Class 1"
   ]
  },
  {
   "cell_type": "markdown",
   "id": "antique-bunny",
   "metadata": {},
   "source": [
    "# Questions"
   ]
  },
  {
   "cell_type": "markdown",
   "id": "general-christianity",
   "metadata": {},
   "source": [
    "If you have an array of positive numbers, zeroes, and negative numbers, how do you determine the highest sum you can make using a subarray (i.e., consecutive numbers within the array)? Can you do this in linear time?"
   ]
  },
  {
   "cell_type": "raw",
   "id": "generous-account",
   "metadata": {},
   "source": []
  },
  {
   "cell_type": "code",
   "execution_count": null,
   "id": "explicit-classic",
   "metadata": {},
   "outputs": [],
   "source": []
  },
  {
   "cell_type": "markdown",
   "id": "proud-earthquake",
   "metadata": {},
   "source": [
    "If you have an array with random odd and even numbers, what is the most efficient algorithm you can think of to put all even numbers on one side- and all odd numbers on the other side in this array? "
   ]
  },
  {
   "cell_type": "code",
   "execution_count": null,
   "id": "wrong-diabetes",
   "metadata": {},
   "outputs": [],
   "source": []
  },
  {
   "cell_type": "code",
   "execution_count": null,
   "id": "initial-official",
   "metadata": {},
   "outputs": [],
   "source": []
  }
 ],
 "metadata": {
  "kernelspec": {
   "display_name": "Python 3",
   "language": "python",
   "name": "python3"
  },
  "language_info": {
   "codemirror_mode": {
    "name": "ipython",
    "version": 3
   },
   "file_extension": ".py",
   "mimetype": "text/x-python",
   "name": "python",
   "nbconvert_exporter": "python",
   "pygments_lexer": "ipython3",
   "version": "3.9.1"
  }
 },
 "nbformat": 4,
 "nbformat_minor": 5
}
