{
 "cells": [
  {
   "cell_type": "markdown",
   "id": "anonymous-receptor",
   "metadata": {},
   "source": [
    "<div style=\"background: #000;\n",
    "            color: #FFF;\n",
    "            margin: 0px;\n",
    "            margin-bottom: 10px;\n",
    "            padding: 10px 0px 20px 0px;\n",
    "            text-align: center; \n",
    "                \">\n",
    "    <h1>Week 33 Lab</h1> \n",
    "    <h3>05/19/21</h3>\n",
    "</div>\n",
    "\n",
    "# Exercise 1\n",
    "\n",
    "Make your own, very simple, package in python and use it in a `main.py` file like we did above. When completed, push it to github and then paste the link to your git repo containing the code below."
   ]
  },
  {
   "cell_type": "raw",
   "id": "urban-sleeping",
   "metadata": {},
   "source": []
  },
  {
   "cell_type": "markdown",
   "id": "mechanical-bishop",
   "metadata": {},
   "source": [
    "# Exercise 2\n",
    "\n",
    "Create a function that takes an argument `file` (string that contains filename) and `dct` (dictionary) and writes each key/value pair in the dictionary in the following format:\n",
    "```\n",
    "key1:value1\n",
    "key2:value2\n",
    "```\n"
   ]
  },
  {
   "cell_type": "code",
   "execution_count": 45,
   "id": "checked-mentor",
   "metadata": {},
   "outputs": [],
   "source": [
    "def dictionary_to_file(file, dct):\n",
    "    pass"
   ]
  },
  {
   "cell_type": "markdown",
   "id": "novel-malta",
   "metadata": {},
   "source": [
    "# Exercise 3\n",
    "\n",
    "Create a queue from scratch (use a list; do not use `Queue`, `Deque` or any library)."
   ]
  },
  {
   "cell_type": "code",
   "execution_count": 1,
   "id": "crude-society",
   "metadata": {},
   "outputs": [],
   "source": [
    "class Queue:\n",
    "    pass"
   ]
  },
  {
   "cell_type": "markdown",
   "id": "likely-flexibility",
   "metadata": {},
   "source": [
    "# Exercise 4\n",
    "\n",
    "Create a function that performs a binary search on a list."
   ]
  },
  {
   "cell_type": "code",
   "execution_count": 2,
   "id": "adjusted-toddler",
   "metadata": {},
   "outputs": [],
   "source": [
    "def binary_search():\n",
    "    pass"
   ]
  },
  {
   "cell_type": "markdown",
   "id": "smoking-physics",
   "metadata": {},
   "source": [
    "# Exercise 5\n",
    "\n",
    "Create a function that takes one argument `url` and returns all the links (`<a>` tags) located on the page."
   ]
  },
  {
   "cell_type": "code",
   "execution_count": 4,
   "id": "chubby-transcript",
   "metadata": {},
   "outputs": [],
   "source": [
    "def scrape_links(url):\n",
    "    pass"
   ]
  },
  {
   "cell_type": "markdown",
   "id": "destroyed-discussion",
   "metadata": {},
   "source": [
    "# Exercise 6\n",
    "\n",
    "Create a generator function that takes an argument `n` (total number of squares to generator) returns the next square each time it yields a value. Demonstrate that it works."
   ]
  },
  {
   "cell_type": "code",
   "execution_count": 14,
   "id": "pursuant-basis",
   "metadata": {},
   "outputs": [],
   "source": [
    "def square_generator(n):\n",
    "    pass\n",
    "        \n",
    "gen = func()"
   ]
  },
  {
   "cell_type": "code",
   "execution_count": null,
   "id": "technical-incident",
   "metadata": {},
   "outputs": [],
   "source": []
  },
  {
   "cell_type": "markdown",
   "id": "later-separate",
   "metadata": {},
   "source": [
    "# Exercise 7\n",
    "\n",
    "Look up a standard library module you've never used. Create a function that utilizes that library."
   ]
  },
  {
   "cell_type": "code",
   "execution_count": 15,
   "id": "royal-leader",
   "metadata": {},
   "outputs": [],
   "source": [
    "#import \n",
    "\n",
    "def func():\n",
    "    pass"
   ]
  },
  {
   "cell_type": "markdown",
   "id": "jewish-upper",
   "metadata": {},
   "source": [
    "# Exercise 8\n",
    "\n",
    "Create a binary tree from scratch. It must have two methods, one that prints the tree and another that allows inserting. Inserting into this binary tree can be done using the method we covered in class (adding it to the left or right of nodes depending on comparisons)."
   ]
  },
  {
   "cell_type": "code",
   "execution_count": null,
   "id": "affiliated-rogers",
   "metadata": {},
   "outputs": [],
   "source": []
  },
  {
   "cell_type": "markdown",
   "id": "illegal-livestock",
   "metadata": {},
   "source": [
    "# Exercise 9\n",
    "\n",
    "Create a decorator function that times a function call. Use it to time the function below."
   ]
  },
  {
   "cell_type": "code",
   "execution_count": 22,
   "id": "racial-pharmacy",
   "metadata": {},
   "outputs": [
    {
     "data": {
      "text/plain": [
       "10000000000"
      ]
     },
     "execution_count": 22,
     "metadata": {},
     "output_type": "execute_result"
    }
   ],
   "source": [
    "def func(n):\n",
    "    return (n**2)\n",
    "\n",
    "func(100_000)"
   ]
  },
  {
   "cell_type": "markdown",
   "id": "golden-printer",
   "metadata": {},
   "source": [
    "# Exercise 10\n",
    "\n",
    "Show an example of currying functions: two regular functions and a third that uses the previous two."
   ]
  },
  {
   "cell_type": "code",
   "execution_count": null,
   "id": "norman-saver",
   "metadata": {},
   "outputs": [],
   "source": []
  },
  {
   "cell_type": "markdown",
   "id": "fundamental-bulgarian",
   "metadata": {},
   "source": [
    "# Exercise 11\n",
    "\n",
    "What is a downside to functional programming? Explain your answer.\n",
    "\n",
    "If this question is difficult, consider what we can do with methods of a class that isn't easily possible with functions."
   ]
  },
  {
   "cell_type": "markdown",
   "id": "contained-cancellation",
   "metadata": {},
   "source": []
  },
  {
   "cell_type": "markdown",
   "id": "hybrid-accused",
   "metadata": {},
   "source": [
    "# Exercise 12\n",
    "\n",
    "Explain how `staticmethod` works and when we should use it."
   ]
  },
  {
   "cell_type": "code",
   "execution_count": null,
   "id": "rotary-proposition",
   "metadata": {},
   "outputs": [],
   "source": []
  },
  {
   "cell_type": "markdown",
   "id": "angry-billion",
   "metadata": {},
   "source": [
    "# Exercise 13\n",
    "\n",
    "Your boss has tasked you with making a simple bokeh dashboard to display some data. What python web framework would you use and why? What are the limitations of that framework? What does it provide as benefits? Explain your thought process."
   ]
  },
  {
   "cell_type": "code",
   "execution_count": null,
   "id": "contrary-proof",
   "metadata": {},
   "outputs": [],
   "source": []
  },
  {
   "cell_type": "markdown",
   "id": "taken-crime",
   "metadata": {},
   "source": [
    "# Exercise 14\n",
    "\n",
    "What would be a reason to not use python for a project?"
   ]
  },
  {
   "cell_type": "code",
   "execution_count": null,
   "id": "knowing-burton",
   "metadata": {},
   "outputs": [],
   "source": []
  },
  {
   "cell_type": "markdown",
   "id": "adapted-issue",
   "metadata": {},
   "source": [
    "# Exercise 15\n",
    "\n",
    "You are tasked with building a data pipeline that scrapes data, stores it in sql, processes it in numpy/pandas (think exploratory analysis and data cleanup) and uses the data in a K-Means clustering. Write out the steps you would take to complete this task, what the structure of your project would look like and what considerations should be made (e.g. what might become an issue, what decisions must we make, what steps would need to be done first, etc). \n",
    "\n"
   ]
  },
  {
   "cell_type": "code",
   "execution_count": null,
   "id": "fifteen-minute",
   "metadata": {},
   "outputs": [],
   "source": []
  }
 ],
 "metadata": {
  "kernelspec": {
   "display_name": "Python 3",
   "language": "python",
   "name": "python3"
  },
  "language_info": {
   "codemirror_mode": {
    "name": "ipython",
    "version": 3
   },
   "file_extension": ".py",
   "mimetype": "text/x-python",
   "name": "python",
   "nbconvert_exporter": "python",
   "pygments_lexer": "ipython3",
   "version": "3.9.1"
  }
 },
 "nbformat": 4,
 "nbformat_minor": 5
}
