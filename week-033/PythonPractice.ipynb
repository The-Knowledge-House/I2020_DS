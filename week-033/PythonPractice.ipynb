{
 "cells": [
  {
   "cell_type": "markdown",
   "metadata": {},
   "source": [
    "Anagram\n",
    "==\n",
    "\n",
    "Given two strings s and t, return true if t is an anagram of s, and false otherwise.\n",
    "\n",
    "https://leetcode.com/problems/valid-anagram/"
   ]
  },
  {
   "cell_type": "code",
   "execution_count": null,
   "metadata": {},
   "outputs": [],
   "source": [
    "def isAnagram(s, t):\n",
    "    pass"
   ]
  },
  {
   "cell_type": "markdown",
   "metadata": {},
   "source": [
    "Balance Scale\n",
    "==\n",
    "\n",
    "The first list is of two positive integers to represent the balance scale. The second is an unsorted array of positive integers to represent weights available. \n",
    "\n",
    "Example: balance_scale([5, 9], [1, 2, 6, 7])\n",
    "\n",
    "The task is to balance the scale (the first list) with the least amount of weights and values using at most two weights, in ascending order. In the above example, the solution should return \"2,6\". If no solution is found, return 'not possible'. Other possible scenarios include two weights added to only one side, using only one weight, and one weight on each sides. There will be only one unique solution.\n",
    "Input & Output:\n",
    "\n",
    "(i) [\"[3, 7]\", \"[1, 2, 7]\"] => \"not possible\"\n",
    "\n",
    "(ii) [\"[5, 9]\", \"[1, 2, 6, 7]\"] => \"2,6\"\n",
    "\n",
    "(iii) [\"[13, 4]\", \"[1, 2, 3, 6, 14]\"] => \"3,6\"(2 weights on one side) \n",
    "\n",
    "(iv) [\"[3, 4]\", \"[1, 2, 7, 7]\"] => \"1\" (1 weight on one side)\n",
    "\n",
    "(v) [\"[1, 5]\", \"[1, 11, 7, 5]\"] => \"1,5\" (not \"7, 11\")\n",
    "\n",
    "constraints: \n",
    "The first list will always be 2 different numbers\n"
   ]
  },
  {
   "cell_type": "code",
   "execution_count": null,
   "metadata": {},
   "outputs": [],
   "source": [
    "def balance_scale(scale, weights):\n",
    "    pass"
   ]
  },
  {
   "cell_type": "markdown",
   "metadata": {},
   "source": [
    "Coin Change\n",
    "==\n",
    "\n",
    "You are given an integer array coins representing coins of different denominations and an integer amount representing a total amount of money.\n",
    "\n",
    "Return the fewest number of coins that you need to make up that amount. If that amount of money cannot be made up by any combination of the coins, return -1.\n",
    "\n",
    "You may assume that you have an infinite number of each kind of coin.\n",
    "\n",
    "https://leetcode.com/problems/coin-change/\n",
    "\n",
    "```\n",
    "Input: coins = [1,2,5], amount = 11\n",
    "Output: 3\n",
    "Explanation: 11 = 5 + 5 + 1\n",
    "```\n",
    "==============================\n",
    "```\n",
    "Input: coins = [1], amount = 2\n",
    "Output: 2\n",
    "```\n",
    "===========================\n",
    "```\n",
    "Input: coins = [2], amount = 3\n",
    "Output: -1\n",
    "```"
   ]
  },
  {
   "cell_type": "code",
   "execution_count": null,
   "metadata": {},
   "outputs": [],
   "source": [
    " def coinChange(coins, amount):\n",
    "    pass"
   ]
  },
  {
   "cell_type": "markdown",
   "metadata": {},
   "source": [
    "Challenging Question:\n",
    "==\n",
    "https://leetcode.com/problems/the-skyline-problem/"
   ]
  },
  {
   "cell_type": "markdown",
   "metadata": {},
   "source": [
    "Algorithm: Unqiue IDs in File\n",
    "==\n",
    "\n",
    "You're given a text file, write out an algorithm to retrieve only the unique ids from the text file. In the text file each line holds an ID, IDs might repeat throughout the file. You may use pseudo code, write out step by step. "
   ]
  },
  {
   "cell_type": "markdown",
   "metadata": {},
   "source": [
    "1. \n",
    "2. \n",
    "3. \n",
    "4. \n",
    "5. "
   ]
  },
  {
   "cell_type": "markdown",
   "metadata": {},
   "source": [
    "Algorithm: Data Scraping\n",
    "==\n",
    "\n",
    "You are tasked with scraping a table from a specific website, storing the data within a SQLite database, then creating a chart with the data. Write out the steps you would take to complete this task, you can use Pseudo code and reference Python libraries. "
   ]
  },
  {
   "cell_type": "markdown",
   "metadata": {},
   "source": [
    "1. \n",
    "2. \n",
    "3. "
   ]
  }
 ],
 "metadata": {
  "kernelspec": {
   "display_name": "Python 3",
   "language": "python",
   "name": "python3"
  },
  "language_info": {
   "codemirror_mode": {
    "name": "ipython",
    "version": 3
   },
   "file_extension": ".py",
   "mimetype": "text/x-python",
   "name": "python",
   "nbconvert_exporter": "python",
   "pygments_lexer": "ipython3",
   "version": "3.9.0"
  }
 },
 "nbformat": 4,
 "nbformat_minor": 4
}
