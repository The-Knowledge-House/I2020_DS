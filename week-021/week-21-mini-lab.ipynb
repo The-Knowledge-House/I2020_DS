{
 "cells": [
  {
   "cell_type": "markdown",
   "id": "industrial-boxing",
   "metadata": {},
   "source": [
    "<div style=\"background: #000;\n",
    "            color: #FFF;\n",
    "            margin: 0px;\n",
    "            padding: 10px 0px 20px 0px;\n",
    "            text-align: center; \n",
    "                \">\n",
    "    <h1>Week 21 Mini Lab</h1>\n",
    "</div>  \n"
   ]
  },
  {
   "cell_type": "code",
   "execution_count": null,
   "id": "psychological-carol",
   "metadata": {},
   "outputs": [],
   "source": [
    "import numpy as np\n",
    "import pandas as pd\n",
    "import matplotlib.pyplot as plt"
   ]
  },
  {
   "cell_type": "markdown",
   "id": "mediterranean-lodging",
   "metadata": {},
   "source": [
    "# Exercise 1\n",
    "\n",
    "Create two numpy arrays `x` and `y`. `x` should range from 0 to 10 and should have 11 points. `y` should be the square of those values."
   ]
  },
  {
   "cell_type": "code",
   "execution_count": null,
   "id": "partial-perspective",
   "metadata": {},
   "outputs": [],
   "source": []
  },
  {
   "cell_type": "markdown",
   "id": "greek-business",
   "metadata": {},
   "source": [
    "# Exercise 2\n",
    "\n",
    "Create a matplotlib plot of the data such that `x` are the x-values and `y` are the y-values. Make sure to label your chart and customize it as you'd like."
   ]
  },
  {
   "cell_type": "code",
   "execution_count": null,
   "id": "handy-license",
   "metadata": {},
   "outputs": [],
   "source": []
  },
  {
   "cell_type": "markdown",
   "id": "governing-establishment",
   "metadata": {},
   "source": [
    "# Exercise 3\n",
    "\n",
    "Create a pandas data frame from the numpy arrays from Exercise 1"
   ]
  },
  {
   "cell_type": "code",
   "execution_count": null,
   "id": "alpha-lancaster",
   "metadata": {},
   "outputs": [],
   "source": []
  }
 ],
 "metadata": {
  "kernelspec": {
   "display_name": "Python 3",
   "language": "python",
   "name": "python3"
  },
  "language_info": {
   "codemirror_mode": {
    "name": "ipython",
    "version": 3
   },
   "file_extension": ".py",
   "mimetype": "text/x-python",
   "name": "python",
   "nbconvert_exporter": "python",
   "pygments_lexer": "ipython3",
   "version": "3.9.1"
  }
 },
 "nbformat": 4,
 "nbformat_minor": 5
}
