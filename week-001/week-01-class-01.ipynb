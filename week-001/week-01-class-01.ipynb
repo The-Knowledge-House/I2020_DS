{
 "cells": [
  {
   "cell_type": "markdown",
   "metadata": {
    "slideshow": {
     "slide_type": "slide"
    }
   },
   "source": [
    "<div style=\"background: #000;\n",
    "            color: #FFF;\n",
    "            margin: 0px;\n",
    "                padding: 10px 0px 20px 0px;\n",
    "            text-align: center; \n",
    "                \">\n",
    "    <h1>Python Data Science Course - Week 1 - Day 1</h1>\n",
    "</div>\n",
    "\n",
    "\n",
    "## Objectives for this week:\n",
    "* Installing Python, Basic Terminal Commands\n",
    "* Data Types, Variable Declation\n",
    "* Strings / String methods\n",
    "* Ints vs. Floats / Math in Python\n",
    "\n",
    "## Todays Agenda \n",
    "* Course introduction\n",
    "* Learning Basic Terminal Commands\n",
    "* Installing Python\n",
    "* Using Jupyter Notebooks\n",
    "\n",
    "\n",
    "## Course Structure.\n",
    "\n",
    "### Phase 1 - Programming Fundamentals and Working with Web Data\n",
    "### Phase 2 - Data Analysis and Statistical Analysis\n",
    "### Phase 3 - Python Web Dashboard Development\n",
    "\n",
    "### Class Structure\n",
    "\n",
    "#### Each day will consist of:\n",
    "\n",
    "* 10 minutes: Meditation and Centering\n",
    "* 30 minutes: Daily Code Challenge Presentations\n",
    "* 70 minutes: Lecture/Code Along\n",
    "* 90 minutes: Lab/Review\n",
    "* 10 minutes: Wrap up/Review\n",
    "\n",
    "### Homeworks and Projects\n",
    "#### Homework will be assigned every Wednesday. Due Monday, Tuesday, Wednesday of the following week.\n",
    "#### 6 projects (3 week long and 3 multiweek)\n",
    "#### 12 homeworks\n",
    "#### 36 labs\n",
    "\n",
    "\n"
   ]
  },
  {
   "cell_type": "markdown",
   "metadata": {},
   "source": [
    "# Using Jupyter Notebooks"
   ]
  },
  {
   "cell_type": "markdown",
   "metadata": {},
   "source": [
    "## Usage\n",
    "\n",
    "<div style=\"background: #efffed;\n",
    "            border: 1px solid grey;\n",
    "            margin: 8px 0 8px 0;\n",
    "            text-align: center;\n",
    "            padding: 8px; \">\n",
    "    <i class=\"fa-play fa\" \n",
    "       style=\"font-size: 40px;\n",
    "              line-height: 40px;\n",
    "              margin: 8px;\n",
    "              color: #444;\">\n",
    "    </i>\n",
    "    <div>\n",
    "    To run the selected code cell, hit <pre style=\"background: #efffed\">Shift + Enter</pre>\n",
    "    </div>\n",
    "</div>"
   ]
  },
  {
   "cell_type": "code",
   "execution_count": 1,
   "metadata": {},
   "outputs": [],
   "source": [
    "# jupyter magic functions have % prepended\n",
    "\n",
    "%magic"
   ]
  },
  {
   "cell_type": "code",
   "execution_count": 2,
   "metadata": {},
   "outputs": [],
   "source": [
    "%magic??"
   ]
  },
  {
   "cell_type": "markdown",
   "metadata": {},
   "source": [
    "# HTML and CSS"
   ]
  },
  {
   "cell_type": "markdown",
   "metadata": {},
   "source": [
    "<div style=\"background: #333;\n",
    "            color: #fff;\n",
    "            margin: 0px;\n",
    "                padding: 10px 0px 20px 0px;\n",
    "            text-align: center; \n",
    "                \">\n",
    "    <h1>example of html</h1>\n",
    "</div>"
   ]
  },
  {
   "cell_type": "markdown",
   "metadata": {},
   "source": [
    "# Javascript"
   ]
  },
  {
   "cell_type": "code",
   "execution_count": null,
   "metadata": {},
   "outputs": [],
   "source": [
    "%%javascript\n",
    "alert(\"hello world\")"
   ]
  },
  {
   "cell_type": "markdown",
   "metadata": {},
   "source": [
    "# Python statements"
   ]
  },
  {
   "cell_type": "code",
   "execution_count": null,
   "metadata": {},
   "outputs": [],
   "source": [
    "# EXAMPLES\n",
    "print(\"hello world\")"
   ]
  },
  {
   "cell_type": "markdown",
   "metadata": {},
   "source": [
    "# Terminal commands"
   ]
  },
  {
   "cell_type": "code",
   "execution_count": null,
   "metadata": {},
   "outputs": [],
   "source": [
    "!ls -la"
   ]
  },
  {
   "cell_type": "markdown",
   "metadata": {},
   "source": [
    "\n",
    "### Command Line Basics\n",
    "\n",
    "**Useful Commands:**\n",
    "\n",
    "```pwd``` ```cd``` ```ls``` ```cat```\n",
    "```echo``` \n"
   ]
  },
  {
   "cell_type": "markdown",
   "metadata": {},
   "source": [
    "```bash\n",
    "    $ pwd\n",
    "    /directory/you/are/in\n",
    "```"
   ]
  },
  {
   "cell_type": "code",
   "execution_count": null,
   "metadata": {},
   "outputs": [],
   "source": [
    "!pwd"
   ]
  },
  {
   "cell_type": "code",
   "execution_count": null,
   "metadata": {},
   "outputs": [],
   "source": [
    "!cd"
   ]
  },
  {
   "cell_type": "code",
   "execution_count": null,
   "metadata": {},
   "outputs": [],
   "source": [
    "!cd ../week-001/"
   ]
  },
  {
   "cell_type": "code",
   "execution_count": null,
   "metadata": {},
   "outputs": [],
   "source": [
    "!ls"
   ]
  },
  {
   "cell_type": "code",
   "execution_count": null,
   "metadata": {},
   "outputs": [],
   "source": [
    "!ls -la"
   ]
  },
  {
   "cell_type": "code",
   "execution_count": null,
   "metadata": {},
   "outputs": [],
   "source": [
    "!cat README.md"
   ]
  },
  {
   "cell_type": "code",
   "execution_count": null,
   "metadata": {},
   "outputs": [],
   "source": [
    "!echo \"hello\""
   ]
  },
  {
   "cell_type": "markdown",
   "metadata": {},
   "source": [
    "# Python Basics\n",
    "\n",
    "## Python Language Introduction\n",
    " \n",
    "### Python is an interpreted, high-level, general-purpose programming language. Created by Guido van Rossum and first released in 1991, Python's design philosophy emphasizes code readability with its notable use of significant whitespace. Its language constructs and object-oriented approach aim to help programmers write clear, logical code for small and large-scale projects.[28]\n",
    "\n",
    "### Python is dynamically typed and garbage-collected. It supports multiple programming paradigms, including structured (particularly, procedural), object-oriented, and functional programming. Python is often described as a \"batteries included\" language due to its comprehensive standard library.[29]\n",
    "\n",
    "### Python is a multi-paradigm programming language. Object-oriented programming and structured programming are fully supported, and many of its features support functional programming and aspect-oriented programming (including by metaprogramming[49] and metaobjects (magic methods)).[50] Many other paradigms are supported via extensions, including design by contract[51][52] and logic programming.\n",
    "\n",
    "[source](https:/https://en.wikipedia.org/wiki/Python_%28programming_language%29)\n",
    "\n",
    "### What is Python good for?\n",
    "* High level programming and doing a lot with minimal code\n",
    "* Readable language created with linguistics in mind\n",
    "* Popularity and widespread support\n",
    "* Integration with other languages/software\n",
    "* Object Oriented paradigm\n",
    "\n",
    "\n",
    "### Resources For Python\n",
    "\n",
    "https://docs.python.org/3/  \n",
    "https://www.fullstackpython.com/  \n",
    "https://awesome-python.com/  \n",
    "https://automatetheboringstuff.com/  \n",
    "https://www.twilio.com/quest/learn/python  \n",
    "https://www.cs.hmc.edu/twiki/bin/view/CSforAll \n",
    "https://www.grahamwheeler.com/posts/python-crash-course.html\n",
    "http://greenteapress.com/thinkpython/html/index.html\n",
    "https://pymbook.readthedocs.io/en/latest/\n",
    "https://techdevguide.withgoogle.com/\n",
    "https://python.swaroopch.com/\n",
    "https://leetcode.com/  \n",
    "https://projecteuler.info  \n",
    "\n",
    " \n",
    " ## Invoking the python interpreter\n",
    " \n",
    " ### Scripts/Programs\n",
    " \n",
    " #### The simplest script is just a file with top level (0 indent) code.\n",
    " \n",
    " **example.py:**\n",
    " ```python\n",
    "     line = \"hello world\"\n",
    "     print(line)\n",
    "```\n",
    "\n",
    "**result:**\n",
    "```bash\n",
    "    $ python example.py\n",
    "    \"hello world\" \n",
    " ```\n",
    " \n",
    "**The most simple commonly used script format is:**\n",
    "```python\n",
    "    #/usr/bin/env python\n",
    "    \n",
    "    def main():\n",
    "        print(\"hello world\")\n",
    "        \n",
    "    if __name__ == \"__main__\":\n",
    "        main()\n",
    "```\n",
    "\n",
    "**result:**  \n",
    "\n",
    "```bash\n",
    "    $ python example2.py\n",
    "    \"hello world\"\n",
    " ```\n",
    " \n",
    " ## Interactive using IDLE, ipython or jupyter notebook.\n",
    " \n",
    " Similar to using the command line, interpreters handles python code statement by statment. Allowing you to run python code as such:\n",
    " \n",
    " ```python\n",
    "     >>> text = \"hello world\"\n",
    "     >>> print(text)\n",
    "     hello world\n",
    " ```\n",
    "\n"
   ]
  },
  {
   "cell_type": "markdown",
   "metadata": {},
   "source": [
    "<div style=\"background: #000;\n",
    "            color: #FFF;\n",
    "            margin: 0px;\n",
    "                padding: 10px 0px 20px 0px;\n",
    "            text-align: center; \n",
    "                \">\n",
    "    <h1>Lab</h1>\n",
    "</div>\n"
   ]
  },
  {
   "cell_type": "markdown",
   "metadata": {},
   "source": [
    "\t\n",
    "\n",
    "## Installing Python Environment\n",
    "\n",
    "#### On Windows:\n",
    "1. Download Anaconda from official page [here](https://www.anaconda.com/download/#windows \"https://www.anaconda.com/download/#windows\")\n",
    "2. Install Anaconda using these steps [here](https://docs.anaconda.com/anaconda/install/windows/ \"https://docs.anaconda.com/anaconda/install/windows/\")\n",
    "3. Open \"Jupyer Notebook\" from your command prompt. \n",
    "\n",
    "\n",
    "\n",
    "#### On Mac:\n",
    "Using Homebrew:\n",
    "1. `brew install pyenv`\n",
    "2. `pyenv install -l`\n",
    "3. `pyenv install 3.8.5`\n",
    "4. ``echo 'eval \"$(pyenv init -)\"' >> ~/.bash_profile``\n",
    "5. `pyenv global 3.8.5`\n",
    "6. `brew install jupyter`\n",
    "7. `jupyter notebook`\n",
    "\n",
    "Using Anaconda\n",
    "1. Download Anaconda from official page [here](https://www.anaconda.com/download/#macos \"https://www.anaconda.com/download/#macos\")\n",
    "2. Install Anaconda using these steps [here](https://docs.anaconda.com/anaconda/install/mac-os/ \"https://docs.anaconda.com/anaconda/install/mac-os/\")\n",
    "3. Open \"Jupyer Notebook\" from your terminal. \n",
    "\n",
    "#### On Linux:\n",
    "\n",
    "Using Ubuntu 20.04 or later:\n",
    "1. `sudo apt install python3-notebook jupyter jupyter-core`  \n",
    "\n",
    "Using Ubuntu 18.04-19.10:\n",
    "1. `sudo apt install python3-notebook jupyter jupyter-core python-ipykernel`\n",
    "\n",
    "Using Anaconda:  \n",
    "1. Download Anaconda from official page [here](https://www.anaconda.com/download/#windows \"https://www.anaconda.com/download/#linux\")\n",
    "2. Install Anaconda using these steps [here](https://docs.anaconda.com/anaconda/install/windows/ \"https://docs.anaconda.com/anaconda/install/linux/\")\n",
    "3. Open \"Jupyer Notebook\" from your command prompt. \n",
    "\n",
    "### PIP\n",
    "\n",
    "1. Open `terminal`, `command prompt` or other command line application.\n",
    "\n",
    "2. ```pip install jupyter```\n",
    "\n",
    "3. ```jupyer notebook```"
   ]
  }
 ],
 "metadata": {
  "kernelspec": {
   "display_name": "Python 3",
   "language": "python",
   "name": "python3"
  },
  "language_info": {
   "codemirror_mode": {
    "name": "ipython",
    "version": 3
   },
   "file_extension": ".py",
   "mimetype": "text/x-python",
   "name": "python",
   "nbconvert_exporter": "python",
   "pygments_lexer": "ipython3",
   "version": "3.8.5"
  }
 },
 "nbformat": 4,
 "nbformat_minor": 4
}
