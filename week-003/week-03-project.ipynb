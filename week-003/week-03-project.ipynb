{
 "cells": [
  {
   "cell_type": "markdown",
   "metadata": {},
   "source": [
    "<div style=\"background: #000;\n",
    "            color: #FFF;\n",
    "            margin: 0px;\n",
    "                padding: 10px 0px 20px 0px;\n",
    "            text-align: center; \n",
    "                \">\n",
    "    <h1>Week 3 - Project</h1>\n",
    "</div>  \n",
    "\n",
    "\n",
    "# Cleaning up data.\n",
    "\n",
    "We've got some messy data we need to fix. Using loops and other things we've learned, take the original data and convert it to the format we need. \n",
    "\n",
    "Show all work. Make sure to clean up notebook and `Kernel -> Restart and Clear All Work` before you submit. We should be able to run your notebook from top to bottom and it should give us the expected output. \n",
    "\n",
    "If someone changes the data, it should still return the same sort of output.\n",
    "\n",
    "\n",
    "\n",
    "\n",
    "This is what we have:\n",
    "```python\n",
    "[['Open','High','Low','Volume','Close'],\n",
    "[828.659973,833.450012,828.349976,1247700,831.659973],\n",
    "[823.02002,828.070007,821.655029,1597800,828.070007],\n",
    "[819.929993,824.400024,818.97998,1281700,824.159973],\n",
    "[819.359985,823,818.469971,1304000,818.97998],\n",
    "[819,823,816,1053600,820.450012],\n",
    "[816,820.958984,815.48999,1198100,819.23999],\n",
    "[811.700012,815.25,809.780029,1129100,813.669983],\n",
    "[809.51001,810.659973,804.539978,989700,809.559998],\n",
    "[807,811.840027,803.190002,1155300,808.380005],\n",
    "[803.98999,810.5,801.780029,1235200,806.969971],\n",
    "[799.700012,801.669983,795.25,1174200,801.340027],\n",
    "[802.98999,806,800.369995,1460400,801.48999],\n",
    "[793.799988,802.700012,792,1525800,798.530029],\n",
    "[799.679993,801.190002,791.190002,2023300,795.695007],\n",
    "[796.859985,801.25,790.52002,2143500,],]\n",
    "```\n",
    "\n",
    "And this is what we need:\n",
    "```python\n",
    "{\n",
    "'Open': []\n",
    "'High': []\n",
    "'Low': []\n",
    "'Volume': []\n",
    "'Close': []\n",
    "}\n",
    "```\n"
   ]
  },
  {
   "cell_type": "code",
   "execution_count": 30,
   "metadata": {},
   "outputs": [],
   "source": [
    "# the \\ tells python the line conts. below\n",
    "list_of_data = \\\n",
    "[['Open','High','Low','Volume','Close'],\n",
    "[828.659973,833.450012,828.349976,1247700,831.659973],\n",
    "[823.02002,828.070007,821.655029,1597800,828.070007],\n",
    "[819.929993,824.400024,818.97998,1281700,824.159973],\n",
    "[819.359985,823,818.469971,1304000,818.97998],\n",
    "[819,823,816,1053600,820.450012],\n",
    "[816,820.958984,815.48999,1198100,819.23999],\n",
    "[811.700012,815.25,809.780029,1129100,813.669983],\n",
    "[809.51001,810.659973,804.539978,989700,809.559998],\n",
    "[807,811.840027,803.190002,1155300,808.380005],\n",
    "[803.98999,810.5,801.780029,1235200,806.969971],\n",
    "[799.700012,801.669983,795.25,1174200,801.340027],\n",
    "[802.98999,806,800.369995,1460400,801.48999],\n",
    "[793.799988,802.700012,792,1525800,798.530029],\n",
    "[799.679993,801.190002,791.190002,2023300,795.695007],\n",
    "[796.859985,801.25,790.52002,2143500,],]\n",
    "\n",
    "#import hashlib;print(\"list_of_data is correct\" if hashlib.md5(str(list_of_data).encode()).hexdigest() == '06d2e9f1606fd8f0d79d3c13ccfe948d' else \"list_of_data is incorrect\")"
   ]
  },
  {
   "cell_type": "code",
   "execution_count": null,
   "metadata": {},
   "outputs": [],
   "source": []
  }
 ],
 "metadata": {
  "kernelspec": {
   "display_name": "Python 3",
   "language": "python",
   "name": "python3"
  },
  "language_info": {
   "codemirror_mode": {
    "name": "ipython",
    "version": 3
   },
   "file_extension": ".py",
   "mimetype": "text/x-python",
   "name": "python",
   "nbconvert_exporter": "python",
   "pygments_lexer": "ipython3",
   "version": "3.8.5"
  }
 },
 "nbformat": 4,
 "nbformat_minor": 4
}
