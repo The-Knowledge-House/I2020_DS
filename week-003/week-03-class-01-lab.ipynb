{
 "cells": [
  {
   "cell_type": "markdown",
   "metadata": {},
   "source": [
    "<div style=\"background: #000;\n",
    "            color: #FFF;\n",
    "            margin: 0px;\n",
    "                padding: 10px 0px 20px 0px;\n",
    "            text-align: center; \n",
    "                \">\n",
    "    <h1>Week 3 - Class 1 - Lab</h1>\n",
    "</div>\n"
   ]
  },
  {
   "cell_type": "markdown",
   "metadata": {},
   "source": [
    "# Question 1\n",
    "    \n",
    "Why do we need control structures and conditionals? Name one scenario we've encountered in previous assignments that could have benefitted from the use of these things. How would it have helped?"
   ]
  },
  {
   "cell_type": "markdown",
   "metadata": {},
   "source": [
    "# Exercise 1\n",
    "\n",
    "Given the input variable, write conditional statements to return True if an element:\n",
    "* contains a string longer than 30.\n",
    "* is a number greater than 30.\n",
    "* is a string less than 30 characters containing a number.\n",
    "* otherwise store the value to a list."
   ]
  },
  {
   "cell_type": "code",
   "execution_count": null,
   "metadata": {},
   "outputs": [],
   "source": []
  },
  {
   "cell_type": "markdown",
   "metadata": {},
   "source": [
    "# Exercise 2\n",
    "\n",
    "Create a \"switch\" statement that takes a number and prints \"fizz\" if the number is greater than 0 **and** even, \"buzz\" if greater than 0 and odd, an absolute value of the number if negative, \"ZERO\" if 0 and \"not a number\" otherwise. \n"
   ]
  },
  {
   "cell_type": "code",
   "execution_count": null,
   "metadata": {},
   "outputs": [],
   "source": []
  },
  {
   "cell_type": "markdown",
   "metadata": {},
   "source": [
    "# Exercise 3\n",
    "\n",
    "Using the following code. Write an if statement that takes the `value` returned by the `random_function` and does the following:\n",
    "* print \"true\" if False\n",
    "* print \"false\" if True,\n",
    "* sorts a string and prints it if the string is all lowercase\n",
    "* prints \"one char\" if there's a single uppercase character\n",
    "* prints \"string\" if the other two don't apply (hint: nest)\n",
    "* append the value to a list if a number greater or equal to 0.\n",
    "* add the absolute value of a negative number to a sum\n"
   ]
  },
  {
   "cell_type": "code",
   "execution_count": 394,
   "metadata": {},
   "outputs": [],
   "source": [
    "from random import choice, randint, triangular\n",
    "from string import ascii_letters\n",
    "\n",
    "def random_string():\n",
    "    letters = string.ascii_letters\n",
    "    r = [random.choice(letters) for i in range(4)]\n",
    "    return \"\".join(r)\n",
    "\n",
    "def random_number():\n",
    "    return randint(-1000,1000)\n",
    "\n",
    "def random_bool():\n",
    "    return bool(randint(0,1))\n",
    "    \n",
    "def random_function():\n",
    "    s = {\n",
    "        0: random_string(),\n",
    "        1: random_number(), \n",
    "        2: random_bool(),\n",
    "    }\n",
    "    return s[randint(0, 2)]"
   ]
  },
  {
   "cell_type": "code",
   "execution_count": 397,
   "metadata": {},
   "outputs": [
    {
     "name": "stdout",
     "output_type": "stream",
     "text": [
      "287\n"
     ]
    }
   ],
   "source": [
    "value = random_function()\n",
    "print(value)"
   ]
  },
  {
   "cell_type": "code",
   "execution_count": 400,
   "metadata": {},
   "outputs": [],
   "source": [
    "#put your code here:"
   ]
  }
 ],
 "metadata": {
  "kernelspec": {
   "display_name": "Python 3",
   "language": "python",
   "name": "python3"
  },
  "language_info": {
   "codemirror_mode": {
    "name": "ipython",
    "version": 3
   },
   "file_extension": ".py",
   "mimetype": "text/x-python",
   "name": "python",
   "nbconvert_exporter": "python",
   "pygments_lexer": "ipython3",
   "version": "3.8.5"
  }
 },
 "nbformat": 4,
 "nbformat_minor": 4
}
