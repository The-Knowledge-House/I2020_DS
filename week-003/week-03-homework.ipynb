{
 "cells": [
  {
   "cell_type": "markdown",
   "metadata": {},
   "source": [
    "<div style=\"background: #000;\n",
    "            color: #FFF;\n",
    "            margin: 0px;\n",
    "                padding: 10px 0px 20px 0px;\n",
    "            text-align: center; \n",
    "                \">\n",
    "    <h1>Week 3 - Homework</h1>\n",
    "</div>\n",
    "\n",
    "<hr>\n",
    "\n",
    "Exercise 1 and 2 will be presented Tuesday.  \n",
    "Exercise 3 and 4 will be presented Wednesday. \n",
    "<hr>"
   ]
  },
  {
   "cell_type": "markdown",
   "metadata": {},
   "source": [
    "# Exercise 1\n",
    "\n",
    "Write a for loop that sums the values of the following list and appends the different values to the correct list.\n",
    "\n",
    "Remember what we learned about the value of an `int` and `str`.\n",
    "\n",
    "Hint: try one part before the other."
   ]
  },
  {
   "cell_type": "code",
   "execution_count": null,
   "metadata": {},
   "outputs": [],
   "source": [
    "# list to sum\n",
    "list_vals = [82,True,'d',False,'v',7301,False,1,True,'x','F','w','Q','f',True]\n",
    "#import hashlib;print(\"list_vals is correct\" if hashlib.md5(str(list_vals).encode()).hexdigest() == '867f5d64395c44f016668cc442fb650c' else \"list_vals is incorrect\")"
   ]
  },
  {
   "cell_type": "code",
   "execution_count": null,
   "metadata": {},
   "outputs": [],
   "source": [
    "list_for_bools = []\n",
    "list_for_ints = []\n",
    "list_for_chars = []\n",
    "sum_of_all = 0\n",
    "\n",
    "\n",
    "\n",
    "\n",
    "# use the following to output your results:\n",
    "print(sum_of_all)\n",
    "print(list_for_bools)\n",
    "print(list_for_ints)\n",
    "print(list_for_chars)"
   ]
  },
  {
   "cell_type": "markdown",
   "metadata": {},
   "source": [
    "### Notes: \n",
    "`sum == 8099`  \n",
    "`len(list_for_bools) == 3`  \n",
    "`len(list_for_ints) == 5`   \n",
    "`len(list_for_ints) == 7`   "
   ]
  },
  {
   "cell_type": "markdown",
   "metadata": {},
   "source": [
    "# Exercise 2\n",
    "\n",
    "Given a tuple of strings. Find the following value `x` and print it. The loop should end when `x` is found"
   ]
  },
  {
   "cell_type": "code",
   "execution_count": null,
   "metadata": {},
   "outputs": [],
   "source": [
    "x = '------'\n",
    "\n",
    "tuple_of_strings = ('steel', 'collect', 'capable', '------', 'shelter', 'language', 'mug', 'flowers')\n",
    "\n",
    "# enter your code here:\n"
   ]
  },
  {
   "cell_type": "markdown",
   "metadata": {},
   "source": [
    "# Exercise 3\n",
    "\n",
    "Create a game in python. \n",
    "\n",
    "Rules:  \n",
    "    1. You have 3 tries to guess a secret number.   \n",
    "    2. Each try you are prompted to input a number.  \n",
    "    3. You get a success message if you guess correctly and stop looping, else you subtract a try and go again.\n",
    "    "
   ]
  },
  {
   "cell_type": "code",
   "execution_count": null,
   "metadata": {},
   "outputs": [],
   "source": [
    "##### use secret_number in your code but don't cheat\n",
    "secret_number = random.randint(0,3)\n",
    "\n",
    "    "
   ]
  },
  {
   "cell_type": "code",
   "execution_count": null,
   "metadata": {},
   "outputs": [],
   "source": [
    "\n"
   ]
  },
  {
   "cell_type": "markdown",
   "metadata": {},
   "source": [
    "# Exercise 4\n",
    "\n",
    "a. \n",
    "Create a list comprehension that prints the following.\n",
    "```python\n",
    "[0, '*',2, '*', 4, '*', 6]\n",
    "\n",
    "```\n",
    "\n",
    "Hint: start from the most basic list comprehension  "
   ]
  },
  {
   "cell_type": "code",
   "execution_count": null,
   "metadata": {},
   "outputs": [],
   "source": []
  },
  {
   "cell_type": "markdown",
   "metadata": {},
   "source": [
    "b. Create a dict comprehension that prints the following:\n",
    "```python\n",
    "{'a': ['*', '*'], 'b': ['*', '*'],}\n",
    "\n",
    "```\n"
   ]
  },
  {
   "cell_type": "code",
   "execution_count": null,
   "metadata": {},
   "outputs": [],
   "source": []
  }
 ],
 "metadata": {
  "kernelspec": {
   "display_name": "Python 3",
   "language": "python",
   "name": "python3"
  },
  "language_info": {
   "codemirror_mode": {
    "name": "ipython",
    "version": 3
   },
   "file_extension": ".py",
   "mimetype": "text/x-python",
   "name": "python",
   "nbconvert_exporter": "python",
   "pygments_lexer": "ipython3",
   "version": "3.8.5"
  }
 },
 "nbformat": 4,
 "nbformat_minor": 4
}
