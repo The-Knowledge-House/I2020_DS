{
 "cells": [
  {
   "cell_type": "markdown",
   "id": "received-framework",
   "metadata": {},
   "source": [
    "<div style=\"background: #000;\n",
    "            color: #FFF;\n",
    "            margin: 0px;\n",
    "            margin-bottom: 10px;\n",
    "            padding: 10px 0px 20px 0px;\n",
    "            text-align: center; \n",
    "                \">\n",
    "    <h1>Week 34 Class 1</h1> \n",
    "    <h3>05/24/21</h3>\n",
    "</div>"
   ]
  },
  {
   "cell_type": "markdown",
   "id": "crucial-shell",
   "metadata": {},
   "source": [
    "## Objectives for this week:\n",
    "* Review Week\n",
    "\n",
    "## Todays Agenda\n",
    "* Python\n",
    "\n"
   ]
  },
  {
   "cell_type": "markdown",
   "id": "breeding-supplier",
   "metadata": {},
   "source": [
    "# Interview Questions"
   ]
  },
  {
   "cell_type": "markdown",
   "id": "empty-march",
   "metadata": {},
   "source": [
    "1. What are the differences between supervised and unsupervised learning?"
   ]
  },
  {
   "cell_type": "markdown",
   "id": "maritime-synthesis",
   "metadata": {},
   "source": []
  },
  {
   "cell_type": "markdown",
   "id": "connected-medication",
   "metadata": {},
   "source": [
    "2. What is sampling bias? What might be some ways sampling bias is introduced?"
   ]
  },
  {
   "cell_type": "markdown",
   "id": "early-series",
   "metadata": {},
   "source": []
  },
  {
   "cell_type": "markdown",
   "id": "effective-constant",
   "metadata": {},
   "source": [
    "3. Explain A/B testing. In what circumstances can you use it?"
   ]
  },
  {
   "cell_type": "markdown",
   "id": "compact-warning",
   "metadata": {},
   "source": []
  },
  {
   "cell_type": "markdown",
   "id": "handy-hopkins",
   "metadata": {},
   "source": [
    "4. Explain sensitivity in machine learning models. For some models, such as Logistic Regressions, sensitivity is known as the recall or true positive rate."
   ]
  },
  {
   "cell_type": "markdown",
   "id": "flying-person",
   "metadata": {},
   "source": []
  },
  {
   "cell_type": "markdown",
   "id": "widespread-reminder",
   "metadata": {},
   "source": [
    "5. Explain the difference between overfitting and underfitting."
   ]
  },
  {
   "cell_type": "markdown",
   "id": "rising-ribbon",
   "metadata": {},
   "source": []
  },
  {
   "cell_type": "markdown",
   "id": "threaded-clear",
   "metadata": {},
   "source": [
    "6. Why do we clean data?"
   ]
  },
  {
   "cell_type": "markdown",
   "id": "hindu-light",
   "metadata": {},
   "source": []
  },
  {
   "cell_type": "markdown",
   "id": "fitted-guess",
   "metadata": {},
   "source": [
    "7. What are outliers and what can we do with them?"
   ]
  },
  {
   "cell_type": "markdown",
   "id": "corresponding-measurement",
   "metadata": {},
   "source": []
  },
  {
   "cell_type": "markdown",
   "id": "great-disaster",
   "metadata": {},
   "source": [
    "8. How do you select the number of clusters for a clustering algorithm?"
   ]
  },
  {
   "cell_type": "markdown",
   "id": "innovative-england",
   "metadata": {},
   "source": []
  },
  {
   "cell_type": "markdown",
   "id": "minimal-grant",
   "metadata": {},
   "source": [
    "9. What are the benefits of using python for data science? Explain you answer."
   ]
  },
  {
   "cell_type": "markdown",
   "id": "liable-regulation",
   "metadata": {},
   "source": []
  },
  {
   "cell_type": "markdown",
   "id": "stock-characterization",
   "metadata": {},
   "source": [
    "10. What are hyperparameters? What is hyperparameter tuning?"
   ]
  },
  {
   "cell_type": "markdown",
   "id": "collect-league",
   "metadata": {},
   "source": []
  },
  {
   "cell_type": "markdown",
   "id": "hundred-collaboration",
   "metadata": {},
   "source": [
    "11. Explain what a perceptron is and how it works. "
   ]
  },
  {
   "cell_type": "code",
   "execution_count": null,
   "id": "parallel-joyce",
   "metadata": {},
   "outputs": [],
   "source": []
  },
  {
   "cell_type": "markdown",
   "id": "acquired-appointment",
   "metadata": {},
   "source": [
    "# Assessment Tuesday, June 1st."
   ]
  },
  {
   "cell_type": "markdown",
   "id": "respiratory-rings",
   "metadata": {},
   "source": [
    "<div style=\"background: #000;\n",
    "            color: #FFF;\n",
    "            margin: 0px;\n",
    "            padding: 10px 0px 20px 0px;\n",
    "            text-align: center; \n",
    "                \">\n",
    "    <h1>Phase 3 Assessment Topics</h1>\n",
    "</div>"
   ]
  },
  {
   "cell_type": "markdown",
   "id": "actual-submission",
   "metadata": {},
   "source": [
    "# Topics covered by the assessment.\n",
    "\n",
    "\n",
    "**Please refer to Phase 1 Assessment Review and Phase 2 Assessment Review lessons and videos.**\n",
    "\n",
    "**Bolded** topics should be focused on.\n",
    "\n",
    "Topics from this phase:\n",
    "* **A/B Testing**\n",
    "* **Hypothesis and Statistical Testing**\n",
    "* **Unsupervised Learning**\n",
    "  - **Clustering** (including **K-Means clustering**)\n",
    "  - **Dimensionality Reduction** (including Principal Component Analysis)\n",
    "* **Intro to Neural Networks and Perceptrons**\n",
    "\n",
    "### Python\n",
    "* **All material covered by Phase 1**\n",
    "* **Data Structure/Algorithms**\n",
    "  - Linked Lists (and doubly linked lists)\n",
    "  - Stacks\n",
    "  - **Queues** (and python's deque)\n",
    "  - **Binary Trees** \n",
    "    - insert, find, print, delete\n",
    "    - full, complete, perfect binary tree\n",
    "  - **Binary Search** [week 20] \n",
    "  - Binary (XOR, bin, int('',2),  )\n",
    "* Iterators/Generators (next, iter, yield, `__iter__`, `__next__`) \n",
    "* with contextlib.closing [week 19]\n",
    "* Test Driven Development [week 20]\n",
    "* Unit Testing [week 20]\n",
    "* Dataclasses\n",
    "* Typing\n",
    "* Namedtuples\n",
    "* any other python topics we've covered\n",
    "\n",
    "Full list of python topics in `Week-033`'s lessons.\n",
    "\n",
    "<hr />"
   ]
  },
  {
   "cell_type": "markdown",
   "id": "floral-feeling",
   "metadata": {},
   "source": [
    "### Numpy\n",
    "* **creating numpy arrays**\n",
    "* **methods** (`zeros`, `ones`, `empty`, `arange`, `linspace`, `sort`, `concatenate`, `reshape`, `ravel`, `expand_dims`, `nonzero`, `vstack`, `hstack`, `hsplit`, `view`, `copy`)\n",
    "* **attributes** (`ndim`, `size`, `shape`, `newaxis`)\n",
    "* **indexing/slicing**\n",
    "* **dealing with axes** \n",
    "* **broadcasting**\n",
    "* **descriptive statistics** (`np.array.mean`, `np.array.median`, `np.array.std`)\n",
    "\n",
    "<hr />"
   ]
  },
  {
   "cell_type": "markdown",
   "id": "electrical-heading",
   "metadata": {},
   "source": [
    "### Pandas\n",
    "* **DataFrames**\n",
    "  - **Reading different file types into dataframes**\n",
    "  - **methods** (`describe`, `head`, `tail`, `info`, `dtypes`,  `max`, `loc`, `iloc`, `groupby`, `value_counts`, `count`, `drop_duplicates`, `apply`, `isna`, `isnull`, etc.)  \n",
    "  - **attributes** (`shape`, `columns`) \n",
    "  - **indexing/slicing** (including with conditionals and lists of information).\n",
    "* **Series**\n",
    "  - **Summary statistics** (descriptive statistics) in pandas (max, mean, median, etc) \n",
    "\n",
    "<hr />"
   ]
  },
  {
   "cell_type": "markdown",
   "id": "smaller-flooring",
   "metadata": {},
   "source": [
    "# SQL \n",
    "\n",
    "* sqlite3 in python\n",
    "  - connect\n",
    "  - cursor\n",
    "  - execute\n",
    "* sql data types\n",
    "* **sql important keywords** (`CREATE`, `SELECT`, `INSERT`, `UPDATE`, `DELETE` and `DROP`)\n",
    "* **sql clause keywords** (`FROM`, `WHERE`, `DISTINCT`, `GROUP BY`, `BETWEEN`, `LIKE`, `IN`)\n",
    "* sql operators (=, >, <, >=, `<>`/`!=`, \n",
    "* **functions** (`MAX`, `MIN`, `AVG`)\n",
    "* primary keys\n",
    "* **joins** (**only** `INNER JOIN`)\n",
    "\n",
    "<hr />"
   ]
  },
  {
   "cell_type": "markdown",
   "id": "unlike-estate",
   "metadata": {},
   "source": [
    "### Data Science/Machine Learning\n",
    "* **Statistical Measures** (mean, median, mode, standard deviation, variance)\n",
    "* **Descriptive Statistics** (statistical measures measure previously plus shape, outliers and range)\n",
    "* **What is data narration/storytelling?**\n",
    "* **Types of Data**:\n",
    "    - Ordinal data \n",
    "    - Interval data\n",
    "    - Ratio data\n",
    "    - Discrete\n",
    "    - Continuous\n",
    "    - Cross-sectional\n",
    "    - Time series data\n",
    "* Structured and unstructured data\n",
    "* **Dirty Data** \n",
    "  - Data that is inaccurate, incomplete, inconsistent or in incorrect format\n",
    "  - methods of fixing it\n",
    "* **Data Cleansing** [week 18]\n",
    "  - method of detecting/correcting corrupt or inaccurate data\n",
    "* **Data Wrangling** [week 18]\n",
    "  - method of preparing raw data for analysis\n",
    "* Data Quality [week 18]\n",
    "  - Validity\n",
    "  - Accuracy\n",
    "  - Completeness\n",
    "  - Consistency\n",
    "  - Uniformity\n",
    "* Data Integrity [week 18]\n",
    "* Inferential Statistics \n",
    "  - **What is sampling?**\n",
    "  - Distribution of data \n",
    "    - primarily normal distribution\n",
    "* Data Visualizations\n",
    "  - **Types of charts**\n",
    "    - **line charts**\n",
    "    - **histograms**\n",
    "    - **scatterplots**\n",
    "    - **bar charts**\n",
    "    - **pie charts**\n",
    "    - **box plots**\n",
    "  - Matplotlib\n",
    "    - OO method and pyplot method\n",
    "    - methods (plot, subplot, axis, show, xlabel, ylabel, scatter, title, suptitle, set/setp, grid, text, annotate, xscale/yscale,\n",
    "    - objects (figure, axes)\n",
    "  - Seaborn (heatmap, jointplot) \n",
    "  - Bokeh \n",
    "    - methods\n",
    "    - objects\n",
    "    - creating different types of plots\n",
    "\n",
    "<hr />"
   ]
  },
  {
   "cell_type": "markdown",
   "id": "tough-extra",
   "metadata": {},
   "source": [
    "### Math     \n",
    "* **Probability**\n",
    "  - **Probability**\n",
    "    - **what it is**\n",
    "    - **how to calculate it based on sample size**\n",
    "    - **Range of probability** (`0 <= p(x) <= 1`)\n",
    "  - **Experiment/Trial**\n",
    "  - **Event/Outcome**\n",
    "  - **Sample Space**\n",
    "  - **Factorials**\n",
    "  - **Permutation**\n",
    "  - Combination\n",
    "  - Probability distributions\n",
    "    - Probability Mass Function\n",
    "    - Probability Distribution Function\n",
    "  - **Expected Value**\n",
    "  - Frequentist vs Bayesian perspectives\n",
    "  - Basic Probability problems\n",
    "    - Urn problems. Example: There are 20 balls in an urn (10 white, 5 black, and 5 brown).  If one is chosen at random, what is the probability it is white? [Week 16]\n",
    "  - Conditional Probability\n",
    "* **Linear Algebra**\n",
    "  - Vectors\n",
    "  - **Matrices**\n",
    "    - **adding**\n",
    "    - **subtracting**\n",
    "    - **multiplying/dividing by constant**\n",
    "    - **dot products**\n",
    "    - identity matrices\n",
    "\n",
    "<hr />"
   ]
  },
  {
   "cell_type": "markdown",
   "id": "interim-mercury",
   "metadata": {},
   "source": [
    "### Machine Learning\n",
    "* **Types of machine learning**\n",
    "* **Underfitting/Overfitting**\n",
    "* **Bias vs. Variance**\n",
    "* **Supervised Learning**\n",
    "  - **what it is**\n",
    "  - **labeled data**\n",
    "  - **Regression**\n",
    "    - **Linear Regression**\n",
    "      - **Process**\n",
    "      - **Independent/Dependent variables**\n",
    "      - Variance/Covariance/Correlation of variables\n",
    "      - **Coefficients/Intercept**\n",
    "      - Multiple Linear Regression\n",
    "      - **Making predictions with our linear regression**\n",
    "      - **$R^2$** and error calculations\n",
    "  - **Classification**\n",
    "    - **Logistic Regression**\n",
    "    - Splitting testing/training data\n",
    "* Unsupervised Learning\n",
    "  - Clustering\n",
    "* Semi-supervised Learning\n",
    "* Reinforcement Learning"
   ]
  },
  {
   "cell_type": "code",
   "execution_count": null,
   "id": "solved-demographic",
   "metadata": {},
   "outputs": [],
   "source": []
  },
  {
   "cell_type": "markdown",
   "id": "caroline-baseline",
   "metadata": {},
   "source": [
    "# Python \n",
    "  * urllib/requests\n",
    "  * beautifulsoup4\n",
    "  * reading/writing to files\n",
    "  * `JSON` data in python \n",
    "  * more on beautifulsoup/requests\n",
    "  * databases\n",
    "    - `SQL` and relational databases\n",
    "    - SQLite3\n",
    "    - creating db and tables\n",
    "    - `SELECT`, `UPDATE`, `DELETE`, `JOIN`\n",
    "    - SQLAlchemy\n",
    "    - Flask-SQLAlchemy\n",
    "    - NoSQL vs SQL\n",
    "    - database concepts (ACID, CRUD)\n",
    "  * algorithms\n",
    "    - linked lists\n",
    "    - stacks\n",
    "    - binary trees\n",
    "    - binary search\n",
    "  * binary numbers in python\n",
    "  * unit testing and TDD in python\n",
    "  * python typing\n",
    "    - type systems \n",
    "    - dynamic typing vs. static typing\n",
    "    - strongly and weaked typed\n",
    "    - type annotations in python\n",
    "  * namedtuples in python\n",
    "  * dataclasses in python\n",
    "  * perceptron code example"
   ]
  },
  {
   "cell_type": "code",
   "execution_count": null,
   "id": "architectural-module",
   "metadata": {},
   "outputs": [],
   "source": []
  }
 ],
 "metadata": {
  "kernelspec": {
   "display_name": "Python 3",
   "language": "python",
   "name": "python3"
  },
  "language_info": {
   "codemirror_mode": {
    "name": "ipython",
    "version": 3
   },
   "file_extension": ".py",
   "mimetype": "text/x-python",
   "name": "python",
   "nbconvert_exporter": "python",
   "pygments_lexer": "ipython3",
   "version": "3.9.1"
  }
 },
 "nbformat": 4,
 "nbformat_minor": 5
}
