{
 "cells": [
  {
   "cell_type": "markdown",
   "metadata": {},
   "source": [
    "<div style=\"background: #000;\n",
    "            color: #FFF;\n",
    "            margin: 0px;\n",
    "                padding: 10px 0px 20px 0px;\n",
    "            text-align: center; \n",
    "                \">\n",
    "    <h1>Week 5 - Homework</h1>\n",
    "</div>\n",
    "\n",
    "<hr>\n",
    "<pre style=\"text-align: center;\">\n",
    "Exercise 1 due Monday before class time.\n",
    "Exercise 2 due Tuesday before class time.\n",
    "Exercise 3 due Wednesday before class time.\n",
    "</pre>\n",
    "<hr>\n"
   ]
  },
  {
   "cell_type": "markdown",
   "metadata": {},
   "source": [
    "# Exercise 1\n",
    "\n",
    "Create a function that calculates the double factorial of an odd number. The double factorial of `n` is denoted by `n!!` and is the product of all odd integers up to and including `n`. You can do it using recursion (for bonus points) or any other method you can come up with.\n",
    "\n",
    "e.g. \n",
    "\n",
    "```\n",
    "9!! = 1 x 3 x 5 x 7 x 9 = 945\n",
    "```\n",
    "\n",
    "Output the following once your function works.\n",
    "\n",
    "`double_factorial(13)` "
   ]
  },
  {
   "cell_type": "code",
   "execution_count": 2,
   "metadata": {},
   "outputs": [],
   "source": [
    "def double_factorial(n=13):\n",
    "    pass\n",
    "\n",
    "double_factorial()"
   ]
  },
  {
   "cell_type": "markdown",
   "metadata": {},
   "source": [
    "# Exercise 2\n",
    "\n",
    "Create the decorator function(s) that wraps the `hello` function in the following html tags.\n",
    "\n",
    "hello() -> `<div><p><b>hello</b></p></div>`\n",
    "\n"
   ]
  },
  {
   "cell_type": "code",
   "execution_count": null,
   "metadata": {},
   "outputs": [],
   "source": [
    "def hello():\n",
    "    return \"hello\""
   ]
  },
  {
   "cell_type": "markdown",
   "metadata": {},
   "source": [
    "# Exercise 3\n",
    "\n",
    "If we list all the natural numbers below 10 that are multiples of 3 or 5, we get 3, 5, 6 and 9. The sum of these multiples is 23.\n",
    "\n",
    "Create a function that returns the sum of all the multiples of 3 or 5 below `n` where `n` is the inputted number.\n",
    "\n",
    "e.g. \n",
    "\n",
    "```\n",
    "n=10 -> 23\n",
    "n=25 -> 143\n",
    "n=50 -> 543\n",
    "n=100 -> 2318\n",
    "```"
   ]
  },
  {
   "cell_type": "code",
   "execution_count": 11,
   "metadata": {},
   "outputs": [],
   "source": [
    "def sum_of_threes_and_fives(n=100):\n",
    "    pass\n",
    "\n",
    "sum_of_threes_and_fives() "
   ]
  },
  {
   "cell_type": "code",
   "execution_count": null,
   "metadata": {},
   "outputs": [],
   "source": []
  }
 ],
 "metadata": {
  "kernelspec": {
   "display_name": "Python 3",
   "language": "python",
   "name": "python3"
  },
  "language_info": {
   "codemirror_mode": {
    "name": "ipython",
    "version": 3
   },
   "file_extension": ".py",
   "mimetype": "text/x-python",
   "name": "python",
   "nbconvert_exporter": "python",
   "pygments_lexer": "ipython3",
   "version": "3.8.5"
  }
 },
 "nbformat": 4,
 "nbformat_minor": 4
}
