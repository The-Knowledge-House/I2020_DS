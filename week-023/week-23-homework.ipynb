{
 "cells": [
  {
   "cell_type": "markdown",
   "id": "processed-dressing",
   "metadata": {},
   "source": [
    "<div style=\"background: #000;\n",
    "            color: #FFF;\n",
    "            margin: 0px;\n",
    "            padding: 10px 0px 20px 0px;\n",
    "            text-align: center; \n",
    "                \">\n",
    "    <h1>Week 23 Homework</h1>\n",
    "</div>\n"
   ]
  },
  {
   "cell_type": "markdown",
   "id": "arctic-hotel",
   "metadata": {},
   "source": [
    "# Exercise1\n",
    "\n",
    "You are given two strings `word1` and `word2`. Merge the strings by adding letters in alternating order, starting with `word1`. If a string is longer than the other, append the additional letters onto the end of the merged string.\n",
    "\n",
    "Return the merged string.\n",
    "\n",
    "**Example 1:**  \n",
    "\n",
    "**Input:** `word1 = \"abc\", word2 = \"pqr\"`  \n",
    "**Output:** `\"apbqcr\"`\n",
    "**Explanation:** \n",
    "The merged string will be merged as so:  \n",
    "```\n",
    "word1:    a   b   c  \n",
    "word2:    p   q   r  \n",
    "merged: a p b q c r\n",
    "```\n",
    "\n",
    "**Example 2:**\n",
    "\n",
    "**Input:** `word1 = \"ab\", word2 = \"pqrs\"`  \n",
    "**Output:** `\"apbqrs\"`   \n",
    "**Explanation:** Notice that as `word2` is longer, `\"rs\"` is appended to the end.  \n",
    "```\n",
    "word1:    a   b \n",
    "word2:    p   q   r   s\n",
    "merged: a p b q   r   s\n",
    "```\n",
    "\n",
    "**Example 3:**\n",
    "\n",
    "**Input:** `word1 = \"abcd\", word2 = \"pq\"`  \n",
    "**Output:** `\"apbqcd\"`  \n",
    "**Explanation:**  \n",
    "Notice that as word1 is longer, \"cd\" is appended to the end.  \n",
    "```\n",
    "word1:    a   b   c   d\n",
    "word2:    p   q \n",
    "merged: a p b q c   d\n",
    "```\n",
    "\n",
    "**Constraints:**\n",
    "* `1 <= word1.length, word2.length <= 100`\n",
    "* `word1` and `word2` consist of lowercase English letters.\n"
   ]
  },
  {
   "cell_type": "code",
   "execution_count": null,
   "id": "fewer-danger",
   "metadata": {},
   "outputs": [],
   "source": [
    "def exercise1(word1: str, word2: str) -> str:\n",
    "    pass"
   ]
  },
  {
   "cell_type": "code",
   "execution_count": null,
   "id": "progressive-fraction",
   "metadata": {},
   "outputs": [],
   "source": [
    "import unittest\n",
    "\n",
    "class Exercise3TestCase(unittest.TestCase):\n",
    "    def test(self):\n",
    "        args = (\n",
    "            ([\"abc\",\"pqr\"], \"apbqcr\"),\n",
    "            ([\"ab\",\"pqrs\"], \"apbqrs\"),\n",
    "            ([\"abcd\",\"pq\"], \"apbqcd\"),\n",
    "        )\n",
    "        for arg, ret in args:\n",
    "            with self.subTest(arg=arg, ret=ret):\n",
    "                self.assertEqual(exercise1(*arg), ret)\n",
    "\n",
    "unittest.main(argv=[''], verbosity=0, exit=False)"
   ]
  },
  {
   "cell_type": "markdown",
   "id": "corrected-suicide",
   "metadata": {},
   "source": [
    "# Exercise 2\n",
    "\n",
    "Given the following sql script and using a mixture of python and sql. Complete 3 of 5 of the following:  \n",
    "1. Return the start dates for our consulting contracts.\n",
    "2. Return the companies and CEOs who have not (yet) paid our invoice in full.\n",
    "3. Return the total amount paid during this period.\n",
    "4. Return the number of days we worked for Merck (ticker is MRK).\n",
    "5. Return the total amount outstanding.\n",
    "\n",
    "Notes:\n",
    "* Dollar values are in pennies (using integers is a common technique for dealing with money to avoid fractional cents).\n",
    "* Time is in unix time stamp and in sql can be expressed in human readable format by passing `'unixepoch'` to the `datetime` function (ex. `datetime(1122241400, 'unixepoch')`. Optionally `'localtime'` can be used to convert it into our local timezone."
   ]
  },
  {
   "cell_type": "code",
   "execution_count": null,
   "id": "numerical-playing",
   "metadata": {},
   "outputs": [],
   "source": [
    "# run this cell to set up your sqlite3 db.\n",
    "import sqlite3\n",
    "\n",
    "sql_commands = \\\n",
    "\"\"\"\n",
    "DROP TABLE clients;\n",
    "CREATE TABLE clients (\n",
    " id INTEGER PRIMARY KEY,\n",
    " company TEXT NOT NULL,\n",
    " ceo TEXT NOT NULL,\n",
    " start_date INTEGER NOT NULL,\n",
    " end_date INTEGER NOT NULL,\n",
    " amount INTEGER NOT NULL,\n",
    " paid BOOLEAN NOT NULL,\n",
    " balance INTEGER NOT NULL\n",
    ");\n",
    "\n",
    "INSERT INTO clients \n",
    "(company, ceo, start_date, end_date, amount, paid, balance)\n",
    "VALUES \n",
    "('GME', 'George Sherman', 1609477200, 1611550800, 400000000, 1, 0),\n",
    "('GS', 'David Solomon',  1607576400, 1607922000, 1000000000, 0, 250000000),\n",
    "('MSFT', 'Satya Nadella', 1587370820, 1587457220, 200000000, 1, 0),\n",
    "('TSLA', 'Elon Musk', 1591070400, 1622606400, 150000000, 0, 125000000000),\n",
    "('MRK', 'Kenneth Frazier', 1293858000, 1622520000, 5000000000, 1, 0);\n",
    "\"\"\"\n",
    "\n",
    "db = sqlite3.connect('clients.db')\n",
    "cursor = db.cursor()\n",
    "cursor.executescript(sql_commands)\n",
    "db.commit()\n",
    "db.close()"
   ]
  },
  {
   "cell_type": "code",
   "execution_count": null,
   "id": "tested-spring",
   "metadata": {},
   "outputs": [],
   "source": [
    "# use this function for your answers.\n",
    "def with_conn(statement):\n",
    "    conn = sqlite3.connect('clients.db')\n",
    "    with conn:\n",
    "        cur = conn.cursor()\n",
    "        cur.execute(statement)\n",
    "        result = cur.fetchall()\n",
    "        return result "
   ]
  },
  {
   "cell_type": "code",
   "execution_count": null,
   "id": "further-genesis",
   "metadata": {},
   "outputs": [],
   "source": [
    "# please place exercise number and work in same cell like below"
   ]
  },
  {
   "cell_type": "code",
   "execution_count": null,
   "id": "missing-rebel",
   "metadata": {},
   "outputs": [],
   "source": [
    "# 1\n",
    "\n",
    "with_conn('SELECT * FROM clients')"
   ]
  },
  {
   "cell_type": "markdown",
   "id": "cultural-drive",
   "metadata": {},
   "source": [
    "# Exercise 3"
   ]
  },
  {
   "attachments": {
    "7dad9a8c-31ed-4db5-b8aa-d7ae4d231237.PNG": {
     "image/png": "[encoded data removed]"
    }
   },
   "cell_type": "markdown",
   "id": "measured-fitness",
   "metadata": {},
   "source": [
    "On a $2D$ plane, there are $n$ points with integer coordinates `points[i] = [xi, yi]`. Return the minimum time in seconds to visit all the points in the order given by points.\n",
    "\n",
    "You can move according to these rules:\n",
    "* In 1 second, you can either:\n",
    "  - move vertically by one unit,\n",
    "  - move horizontally by one unit, or\n",
    "  - move diagonally sqrt(2) units (in other words, move one unit vertically then one unit horizontally in 1 second).\n",
    "* You have to visit the points in the same order as they appear in the array.\n",
    "* You are allowed to pass through points that appear later in the order, but these do not count as visits.\n",
    "\n",
    " \n",
    "\n",
    "**Example 1:**\n",
    "\n",
    "![1626_example_1.PNG](attachment:7dad9a8c-31ed-4db5-b8aa-d7ae4d231237.PNG)\n",
    "\n",
    "**Input:** `points = [[1,1],[3,4],[-1,0]]` \n",
    "**Output:** 7  \n",
    "**Explanation:** \n",
    "One optimal path is `[1,1]` -> `[2,2]` -> `[3,3]` -> `[3,4]` -> `[2,3]` -> `[1,2]` -> `[0,1]` -> `[-1,0]`     \n",
    "Time from `[1,1]` to `[3,4]` = 3 seconds    \n",
    "Time from `[3,4]` to `[-1,0]` = 4 seconds  \n",
    "Total time = 7 seconds  \n",
    "\n",
    "**Example 2:**  \n",
    "\n",
    "**Input:** points = `[[3,2],[-2,2]]`  \n",
    "**Output:** 5  \n",
    "\n",
    " \n",
    "\n",
    "**Constraints:**  \n",
    "* `points.length == n`  \n",
    "* `1 <= n <= 100`  \n",
    "* `points[i].length == 2`\n",
    "* `-1000 <= points[i][0], points[i][1] <= 1000`  \n",
    "\n",
    "\n",
    "**Hint:** \n",
    "To get from `[0,0]` to `[3,4]` you must move 3 unit along the x-coordinate and 4 units along the y-coordinate. Remember that, in 1 second, you can move diagonally to 1 unit on the x-coordinate and 1 unit on  the y-coordinate. For `[0,0]` and `[3,4]`, that means in 3 seconds you can get to `[3,3]` but you will have to expend 1 second to get from `[3,3]` to `[3,4]`. Think about this.\n"
   ]
  },
  {
   "cell_type": "code",
   "execution_count": null,
   "id": "requested-major",
   "metadata": {},
   "outputs": [],
   "source": [
    "from typing import List\n",
    "\n",
    "def exercise3(points: List[List[int]]) -> int:\n",
    "    pass   "
   ]
  },
  {
   "cell_type": "code",
   "execution_count": null,
   "id": "present-wales",
   "metadata": {},
   "outputs": [],
   "source": [
    "import unittest\n",
    "\n",
    "class Exercise3TestCase(unittest.TestCase):\n",
    "    def test(self):\n",
    "        args = (\n",
    "            ([[1,1],[3,4],[-1,0]], 7), ([[55,-492],[-801,-52],[-799,-294],[707,-165],[32,-132],[-310,-998],[618,-212],[13,467],[-957,-290],[-6,-411],[821,940],[-193,-391],[-767,492],[337,220],[290,-179],[672,-865],[158,-170],[38,-629],[445,727],[871,363],[115,637],[63,-267],[488,-732],[352,9],[618,79],[-845,-665],[34,-566],[-736,-744],[-159,222],[-368,-290],[-452,-812],[510,-306],[989,925],[-583,524],[285,-337],[-668,782],[-377,-724],[768,20],[256,-997],[-37,-359],[997,-183],[-68,353],[-57,971],[-84,-813],[199,-479],[-869,914],[220,-924],[-926,29],[-377,853],[330,-884],[741,-766],[-9,-951],[419,-413],[-873,336],[760,951]], 51062),\n",
    "            ([[3,2],[-2,2]], 5), ([[559,511],[932,618],[-623,-443],[431,91],[838,-127],[773,-917],[-500,-910],[830,-417],[-870,73],[-864,-600],[450,535],[-479,-370],[856,573],[-549,369],[529,-462],[-839,-856],[-515,-447],[652,197],[-83,345],[-69,423],[310,-737],[78,-201],[443,958],[-311,988],[-477,30],[-376,-153],[-272,451],[322,-125],[-114,-214],[495,33],[371,-533],[-393,-224],[-405,-633],[-693,297],[504,210],[-427,-231],[315,27],[991,322],[811,-746],[252,373],[-737,-867],[-137,130],[507,380],[100,-638],[-296,700],[341,671],[-944,982],[937,-440],[40,-929],[-334,60],[-722,-92],[-35,-852],[25,-495],[185,671],[149,-452]], 49088),\n",
    "        )\n",
    "        for arg, ret in args:\n",
    "            with self.subTest(arg=arg, ret=ret):\n",
    "                self.assertEqual(exercise3(arg), ret)\n",
    "\n",
    "unittest.main(argv=[''], verbosity=0, exit=False)"
   ]
  },
  {
   "cell_type": "code",
   "execution_count": null,
   "id": "structured-checklist",
   "metadata": {},
   "outputs": [],
   "source": []
  }
 ],
 "metadata": {
  "kernelspec": {
   "display_name": "Python 3",
   "language": "python",
   "name": "python3"
  },
  "language_info": {
   "codemirror_mode": {
    "name": "ipython",
    "version": 3
   },
   "file_extension": ".py",
   "mimetype": "text/x-python",
   "name": "python",
   "nbconvert_exporter": "python",
   "pygments_lexer": "ipython3",
   "version": "3.9.1"
  }
 },
 "nbformat": 4,
 "nbformat_minor": 5
}
