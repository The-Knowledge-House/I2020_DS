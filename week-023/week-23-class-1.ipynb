{
 "cells": [
  {
   "cell_type": "markdown",
   "id": "designing-manufacturer",
   "metadata": {},
   "source": [
    "<div style=\"background: #000;\n",
    "            color: #FFF;\n",
    "            margin: 0px;\n",
    "            padding: 10px 0px 20px 0px;\n",
    "            text-align: center; \n",
    "                \">\n",
    "    <h1 >Week 23 Class 3 03/01</h1>\n",
    "</div>\n",
    "\n",
    "## Objectives for this week:\n",
    "* Continuing Machine Learning\n",
    "\n",
    "## Todays Agenda\n",
    "* Clustering Example\n",
    "* Review numpy and pandas\n",
    "* Some helpful videos\n"
   ]
  },
  {
   "cell_type": "markdown",
   "id": "realistic-syracuse",
   "metadata": {},
   "source": [
    "<div style=\"background: #000;\n",
    "            color: #FFF;\n",
    "            margin: 0px;\n",
    "            padding: 10px 0px 20px 0px;\n",
    "            text-align: center; \n",
    "                \">\n",
    "    <h1>Review Day</h1>\n",
    "</div>"
   ]
  },
  {
   "cell_type": "code",
   "execution_count": null,
   "id": "prescription-chance",
   "metadata": {},
   "outputs": [],
   "source": [
    "import numpy as np\n",
    "import pandas as pd\n",
    "import seaborn as sns\n",
    "import matplotlib.pyplot as plt"
   ]
  },
  {
   "cell_type": "markdown",
   "id": "irish-printing",
   "metadata": {},
   "source": [
    "# Numpy"
   ]
  },
  {
   "cell_type": "markdown",
   "id": "wicked-london",
   "metadata": {},
   "source": [
    "### creating numpy arrays"
   ]
  },
  {
   "cell_type": "code",
   "execution_count": null,
   "id": "digital-resolution",
   "metadata": {},
   "outputs": [],
   "source": [
    "one_dimensional_array = np.array([1,2,3,4,5])\n",
    "one_dimensional_array"
   ]
  },
  {
   "cell_type": "code",
   "execution_count": null,
   "id": "varying-liver",
   "metadata": {},
   "outputs": [],
   "source": [
    "one_dimensional_array.shape"
   ]
  },
  {
   "cell_type": "code",
   "execution_count": null,
   "id": "controlling-fleece",
   "metadata": {},
   "outputs": [],
   "source": [
    "array = [[1,2],[3,4,],[5,6]]\n",
    "#array = ((1,2),(3,4,),(5,6))\n",
    "#array = {1:2, 3:4, 5:6}\n",
    "\n",
    "two_dimensional_array = np.array(list(array_dict.items()))\n",
    "two_dimensional_array"
   ]
  },
  {
   "cell_type": "code",
   "execution_count": null,
   "id": "danish-bryan",
   "metadata": {},
   "outputs": [],
   "source": [
    "array = [[[1,2],[3,4]],[[3,4,],[5,6]]]\n",
    "\n",
    "three_dimensional_array = np.array(array)\n",
    "three_dimensional_array"
   ]
  },
  {
   "cell_type": "code",
   "execution_count": null,
   "id": "descending-wrong",
   "metadata": {},
   "outputs": [],
   "source": [
    "three_dimensional_array.shape"
   ]
  },
  {
   "cell_type": "code",
   "execution_count": null,
   "id": "professional-script",
   "metadata": {},
   "outputs": [],
   "source": [
    "two_dimensional_array"
   ]
  },
  {
   "cell_type": "code",
   "execution_count": null,
   "id": "mathematical-blackjack",
   "metadata": {},
   "outputs": [],
   "source": [
    "two_dimensional_array.shape"
   ]
  },
  {
   "cell_type": "markdown",
   "id": "classified-context",
   "metadata": {},
   "source": [
    "# Placeholders"
   ]
  },
  {
   "cell_type": "markdown",
   "id": "little-portuguese",
   "metadata": {},
   "source": [
    "`np.zeros` takes a shape and returns a np array of that shape filled with zeros"
   ]
  },
  {
   "cell_type": "code",
   "execution_count": null,
   "id": "exposed-myanmar",
   "metadata": {},
   "outputs": [],
   "source": [
    "np.zeros((3,6))"
   ]
  },
  {
   "cell_type": "markdown",
   "id": "existing-tablet",
   "metadata": {},
   "source": [
    "`np.ones` takes a shape and returns a `np.array` of that shape filled with ones"
   ]
  },
  {
   "cell_type": "code",
   "execution_count": null,
   "id": "charitable-attention",
   "metadata": {},
   "outputs": [],
   "source": [
    "np.ones((3,4,5))"
   ]
  },
  {
   "cell_type": "markdown",
   "id": "controlling-reservoir",
   "metadata": {},
   "source": [
    "`np.arange` takes python slice format as argument (`start, stop, skip`) and returns a `np.array` of that range and skip.\n",
    "\n",
    "note: stop is still exclusive as always"
   ]
  },
  {
   "cell_type": "code",
   "execution_count": null,
   "id": "considerable-snapshot",
   "metadata": {},
   "outputs": [],
   "source": [
    "np.arange(10,25,5)"
   ]
  },
  {
   "cell_type": "markdown",
   "id": "educational-alexander",
   "metadata": {},
   "source": [
    "`np.linspace` almost takes python slice format as argument as well and returns the range from `start` to `stop` (exclusive) but instead of `skip`, the third argument is the number of evenly spaced elements you need"
   ]
  },
  {
   "cell_type": "code",
   "execution_count": null,
   "id": "senior-syndication",
   "metadata": {},
   "outputs": [],
   "source": [
    "np.linspace(0,10,11)"
   ]
  },
  {
   "cell_type": "markdown",
   "id": "commercial-drain",
   "metadata": {},
   "source": [
    "`np.eye` takes an `int n` as argument and returns a $ n * n $ identity matrix"
   ]
  },
  {
   "cell_type": "code",
   "execution_count": null,
   "id": "terminal-settle",
   "metadata": {},
   "outputs": [],
   "source": [
    "np.eye(10)"
   ]
  },
  {
   "cell_type": "markdown",
   "id": "stock-telescope",
   "metadata": {},
   "source": [
    "# Inspecting your numpy array"
   ]
  },
  {
   "cell_type": "code",
   "execution_count": null,
   "id": "green-valley",
   "metadata": {},
   "outputs": [],
   "source": [
    "a = np.linspace(0,10,11)\n",
    "a"
   ]
  },
  {
   "cell_type": "code",
   "execution_count": null,
   "id": "spiritual-california",
   "metadata": {},
   "outputs": [],
   "source": [
    "a.shape"
   ]
  },
  {
   "cell_type": "code",
   "execution_count": null,
   "id": "happy-brake",
   "metadata": {},
   "outputs": [],
   "source": [
    "len(a)"
   ]
  },
  {
   "cell_type": "code",
   "execution_count": null,
   "id": "neutral-template",
   "metadata": {},
   "outputs": [],
   "source": [
    "a.ndim"
   ]
  },
  {
   "cell_type": "code",
   "execution_count": null,
   "id": "public-wallace",
   "metadata": {},
   "outputs": [],
   "source": [
    "a.size"
   ]
  },
  {
   "cell_type": "code",
   "execution_count": null,
   "id": "radio-twelve",
   "metadata": {},
   "outputs": [],
   "source": [
    "a.dtype"
   ]
  },
  {
   "cell_type": "code",
   "execution_count": null,
   "id": "christian-isolation",
   "metadata": {},
   "outputs": [],
   "source": [
    "a.astype(int)"
   ]
  },
  {
   "cell_type": "markdown",
   "id": "exceptional-chamber",
   "metadata": {},
   "source": [
    "# Broadcasting\n",
    "\n",
    "Instead of looping through a `np.array`, we can simply perform arithmetic operations and each element will be affected"
   ]
  },
  {
   "cell_type": "code",
   "execution_count": null,
   "id": "unlimited-honor",
   "metadata": {},
   "outputs": [],
   "source": [
    "a"
   ]
  },
  {
   "cell_type": "code",
   "execution_count": null,
   "id": "scenic-pattern",
   "metadata": {},
   "outputs": [],
   "source": [
    "a ** 2"
   ]
  },
  {
   "cell_type": "code",
   "execution_count": null,
   "id": "numeric-mechanism",
   "metadata": {},
   "outputs": [],
   "source": [
    "a + 5"
   ]
  },
  {
   "cell_type": "code",
   "execution_count": null,
   "id": "suburban-mistress",
   "metadata": {},
   "outputs": [],
   "source": [
    "a / 10"
   ]
  },
  {
   "cell_type": "code",
   "execution_count": null,
   "id": "ethical-formula",
   "metadata": {},
   "outputs": [],
   "source": [
    "a * 100"
   ]
  },
  {
   "cell_type": "markdown",
   "id": "acknowledged-buying",
   "metadata": {},
   "source": [
    "### Special math functions\n",
    "\n",
    "These aren't broadcasted. Same indexed elements are computed together."
   ]
  },
  {
   "cell_type": "code",
   "execution_count": null,
   "id": "organic-spank",
   "metadata": {},
   "outputs": [],
   "source": [
    "a"
   ]
  },
  {
   "cell_type": "code",
   "execution_count": null,
   "id": "whole-safety",
   "metadata": {},
   "outputs": [],
   "source": [
    "b = np.arange(5,16,1)\n",
    "b"
   ]
  },
  {
   "cell_type": "code",
   "execution_count": null,
   "id": "facial-finnish",
   "metadata": {},
   "outputs": [],
   "source": [
    "np.add(a,b)"
   ]
  },
  {
   "cell_type": "code",
   "execution_count": null,
   "id": "apparent-fraction",
   "metadata": {},
   "outputs": [],
   "source": [
    "np.subtract(a,b)"
   ]
  },
  {
   "cell_type": "code",
   "execution_count": null,
   "id": "similar-evidence",
   "metadata": {},
   "outputs": [],
   "source": [
    "np.divide(a,b)"
   ]
  },
  {
   "cell_type": "code",
   "execution_count": null,
   "id": "assumed-invention",
   "metadata": {},
   "outputs": [],
   "source": [
    "np.multiply(a,b)"
   ]
  },
  {
   "cell_type": "code",
   "execution_count": null,
   "id": "efficient-estonia",
   "metadata": {},
   "outputs": [],
   "source": [
    "np.exp(a)"
   ]
  },
  {
   "cell_type": "code",
   "execution_count": null,
   "id": "atmospheric-literature",
   "metadata": {},
   "outputs": [],
   "source": [
    "np.sqrt(a)"
   ]
  },
  {
   "cell_type": "code",
   "execution_count": null,
   "id": "assisted-forwarding",
   "metadata": {},
   "outputs": [],
   "source": [
    "np.sin(a)"
   ]
  },
  {
   "cell_type": "code",
   "execution_count": null,
   "id": "remarkable-planning",
   "metadata": {},
   "outputs": [],
   "source": [
    "np.cos(b)"
   ]
  },
  {
   "cell_type": "code",
   "execution_count": null,
   "id": "breeding-gibraltar",
   "metadata": {},
   "outputs": [],
   "source": [
    "np.log(b)"
   ]
  },
  {
   "cell_type": "code",
   "execution_count": null,
   "id": "promotional-currency",
   "metadata": {},
   "outputs": [],
   "source": [
    "a = np.array([[1,2],[3,4]])\n",
    "b = np.eye(2)\n",
    "a, b"
   ]
  },
  {
   "cell_type": "code",
   "execution_count": null,
   "id": "marked-stephen",
   "metadata": {},
   "outputs": [],
   "source": [
    "a.dot(b)"
   ]
  },
  {
   "cell_type": "markdown",
   "id": "printable-better",
   "metadata": {},
   "source": [
    "# Comparison"
   ]
  },
  {
   "cell_type": "code",
   "execution_count": null,
   "id": "resistant-complaint",
   "metadata": {},
   "outputs": [],
   "source": [
    "a = np.array([[1,2],[3,4]])\n",
    "b = np.eye(2)\n",
    "a,b"
   ]
  },
  {
   "cell_type": "code",
   "execution_count": null,
   "id": "worthy-companion",
   "metadata": {},
   "outputs": [],
   "source": [
    "a == b"
   ]
  },
  {
   "cell_type": "code",
   "execution_count": null,
   "id": "prerequisite-tracy",
   "metadata": {},
   "outputs": [],
   "source": [
    "a < 2"
   ]
  },
  {
   "cell_type": "code",
   "execution_count": null,
   "id": "coastal-breeding",
   "metadata": {},
   "outputs": [],
   "source": [
    "np.array_equal(a,b)"
   ]
  },
  {
   "cell_type": "markdown",
   "id": "executed-black",
   "metadata": {},
   "source": [
    "# Aggregate Functions"
   ]
  },
  {
   "cell_type": "code",
   "execution_count": null,
   "id": "senior-history",
   "metadata": {},
   "outputs": [],
   "source": [
    "a = np.array([[1,2],[3,4]])\n",
    "a"
   ]
  },
  {
   "cell_type": "code",
   "execution_count": null,
   "id": "antique-assault",
   "metadata": {},
   "outputs": [],
   "source": [
    "a.sum()"
   ]
  },
  {
   "cell_type": "code",
   "execution_count": null,
   "id": "dynamic-republic",
   "metadata": {},
   "outputs": [],
   "source": [
    "a.min()"
   ]
  },
  {
   "cell_type": "code",
   "execution_count": null,
   "id": "unexpected-artwork",
   "metadata": {},
   "outputs": [],
   "source": [
    "a.max(axis=0)"
   ]
  },
  {
   "cell_type": "code",
   "execution_count": null,
   "id": "amazing-holmes",
   "metadata": {},
   "outputs": [],
   "source": [
    "a.max(axis=1)"
   ]
  },
  {
   "cell_type": "code",
   "execution_count": null,
   "id": "purple-unknown",
   "metadata": {},
   "outputs": [],
   "source": [
    "a.cumsum(axis=0)"
   ]
  },
  {
   "cell_type": "code",
   "execution_count": null,
   "id": "characteristic-silly",
   "metadata": {},
   "outputs": [],
   "source": [
    "a.cumsum(axis=1)"
   ]
  },
  {
   "cell_type": "code",
   "execution_count": null,
   "id": "public-creek",
   "metadata": {},
   "outputs": [],
   "source": [
    "a.mean()"
   ]
  },
  {
   "cell_type": "code",
   "execution_count": null,
   "id": "lucky-classics",
   "metadata": {},
   "outputs": [],
   "source": [
    "np.std(a)"
   ]
  },
  {
   "cell_type": "code",
   "execution_count": null,
   "id": "dying-conditions",
   "metadata": {},
   "outputs": [],
   "source": [
    "a.sort()\n",
    "a"
   ]
  },
  {
   "cell_type": "code",
   "execution_count": null,
   "id": "driven-wonder",
   "metadata": {},
   "outputs": [],
   "source": [
    "a = np.array([[1,0,3],[3,1,2]])\n",
    "a.sort(axis=0)\n",
    "a"
   ]
  },
  {
   "cell_type": "code",
   "execution_count": null,
   "id": "seventh-syndication",
   "metadata": {},
   "outputs": [],
   "source": [
    "a.sort(axis=1)\n",
    "a"
   ]
  },
  {
   "cell_type": "markdown",
   "id": "perceived-spirit",
   "metadata": {},
   "source": [
    "### Slicing/Indexing"
   ]
  },
  {
   "cell_type": "code",
   "execution_count": null,
   "id": "interesting-heavy",
   "metadata": {},
   "outputs": [],
   "source": [
    "a = np.array([[1,0,3],[3,1,2]])\n",
    "a"
   ]
  },
  {
   "cell_type": "code",
   "execution_count": null,
   "id": "little-ozone",
   "metadata": {},
   "outputs": [],
   "source": [
    "a[1]"
   ]
  },
  {
   "cell_type": "code",
   "execution_count": null,
   "id": "burning-encoding",
   "metadata": {},
   "outputs": [],
   "source": [
    "a[1][2]"
   ]
  },
  {
   "cell_type": "code",
   "execution_count": null,
   "id": "australian-fiber",
   "metadata": {},
   "outputs": [],
   "source": [
    "a[1,2]"
   ]
  },
  {
   "cell_type": "code",
   "execution_count": null,
   "id": "conventional-violence",
   "metadata": {},
   "outputs": [],
   "source": [
    "a[a<3]"
   ]
  },
  {
   "cell_type": "code",
   "execution_count": null,
   "id": "textile-strap",
   "metadata": {},
   "outputs": [],
   "source": [
    "a[1,1:]"
   ]
  },
  {
   "cell_type": "code",
   "execution_count": null,
   "id": "smoking-friday",
   "metadata": {},
   "outputs": [],
   "source": [
    "a[:,0::2]"
   ]
  },
  {
   "cell_type": "code",
   "execution_count": null,
   "id": "durable-bridges",
   "metadata": {},
   "outputs": [],
   "source": [
    "a[::-1]"
   ]
  },
  {
   "cell_type": "markdown",
   "id": "fundamental-subscription",
   "metadata": {},
   "source": [
    "### Reshaping"
   ]
  },
  {
   "cell_type": "code",
   "execution_count": null,
   "id": "sharp-jewelry",
   "metadata": {},
   "outputs": [],
   "source": [
    "a.T"
   ]
  },
  {
   "cell_type": "code",
   "execution_count": null,
   "id": "light-rolling",
   "metadata": {},
   "outputs": [],
   "source": [
    "a.ravel()"
   ]
  },
  {
   "cell_type": "code",
   "execution_count": null,
   "id": "material-concord",
   "metadata": {},
   "outputs": [],
   "source": [
    "a.reshape(3,2)"
   ]
  },
  {
   "cell_type": "code",
   "execution_count": null,
   "id": "different-merchant",
   "metadata": {},
   "outputs": [],
   "source": [
    "b = np.array([4,5,6])\n",
    "c = np.append(a,b)\n",
    "c"
   ]
  },
  {
   "cell_type": "code",
   "execution_count": null,
   "id": "adapted-independence",
   "metadata": {},
   "outputs": [],
   "source": [
    "np.zeros(10).resize(2,10)"
   ]
  },
  {
   "cell_type": "markdown",
   "id": "preliminary-conditions",
   "metadata": {},
   "source": [
    "# Pandas"
   ]
  },
  {
   "cell_type": "markdown",
   "id": "broadband-economics",
   "metadata": {},
   "source": [
    "### Series\n",
    "\n",
    "A one-dimensional labeled array capable of holding any data type"
   ]
  },
  {
   "cell_type": "code",
   "execution_count": null,
   "id": "turned-irish",
   "metadata": {},
   "outputs": [],
   "source": [
    "s = pd.Series([3, -5, 7, 4],  index=['a',  'b',  'c',  'd'])\n",
    "s"
   ]
  },
  {
   "cell_type": "markdown",
   "id": "hybrid-authority",
   "metadata": {},
   "source": [
    "A two-dimensional labeled data structure with columns of potentially different types"
   ]
  },
  {
   "cell_type": "code",
   "execution_count": null,
   "id": "enhanced-departure",
   "metadata": {},
   "outputs": [],
   "source": [
    "data = {'Country': ['Belgium',  'India',  'Brazil'],\n",
    "        'Capital': ['Brussels',  'New Delhi',  'Brasilia'],\n",
    "        'Population': [11190846, 1303171035, 207847528]\n",
    "}\n",
    "df = pd.DataFrame(data,columns=['Country',  'Capital',  'Population'])\n",
    "df"
   ]
  },
  {
   "cell_type": "markdown",
   "id": "psychological-midnight",
   "metadata": {},
   "source": [
    "Please note that the first column 1,2,3 is the index and Country,Capital,Population are the Columns."
   ]
  },
  {
   "cell_type": "markdown",
   "id": "potential-blocking",
   "metadata": {},
   "source": [
    "Asking For Help"
   ]
  },
  {
   "cell_type": "code",
   "execution_count": null,
   "id": "unable-milwaukee",
   "metadata": {},
   "outputs": [],
   "source": [
    "help(pd.Series.loc)"
   ]
  },
  {
   "cell_type": "markdown",
   "id": "minimal-conspiracy",
   "metadata": {},
   "source": [
    "### I/O\n",
    "Read and Write to CSV"
   ]
  },
  {
   "cell_type": "code",
   "execution_count": null,
   "id": "geological-history",
   "metadata": {},
   "outputs": [],
   "source": [
    "pd.read_csv('file.csv', header=None, nrows=5)\n",
    "df.to_csv('file.csv')"
   ]
  },
  {
   "cell_type": "code",
   "execution_count": null,
   "id": "based-potter",
   "metadata": {},
   "outputs": [],
   "source": [
    "xlsx = pd.ExcelFile('file.xls')\n",
    "df = pd.read_excel(xlsx,  'Sheet1')"
   ]
  },
  {
   "cell_type": "markdown",
   "id": "anonymous-recorder",
   "metadata": {},
   "source": [
    "Read and Write to Excel"
   ]
  },
  {
   "cell_type": "code",
   "execution_count": null,
   "id": "disabled-visit",
   "metadata": {},
   "outputs": [],
   "source": [
    "pd.read_excel('file.xlsx')\n",
    "df.to_excel('file.xlsx',  sheet_name='Sheet1')"
   ]
  },
  {
   "cell_type": "markdown",
   "id": "entire-orleans",
   "metadata": {},
   "source": [
    "Read and Write to SQL Query or Database Table"
   ]
  },
  {
   "cell_type": "markdown",
   "id": "quarterly-mattress",
   "metadata": {},
   "source": [
    "(read_sql()is a convenience wrapper around read_sql_table() and read_sql_query())"
   ]
  },
  {
   "cell_type": "code",
   "execution_count": null,
   "id": "polished-broadcasting",
   "metadata": {},
   "outputs": [],
   "source": [
    "import sqlite3\n",
    "\n",
    "conn = sqlite3.connect('../week-022/students.db')"
   ]
  },
  {
   "cell_type": "code",
   "execution_count": null,
   "id": "suffering-honey",
   "metadata": {},
   "outputs": [],
   "source": [
    "from sqlalchemy import create_engine\n",
    "engine = create_engine('sqlite:///../week-022/students.db')\n",
    "pd.read_sql('SELECT * FROM student;', engine)\n",
    "pd.read_sql_query('SELECT * FROM student;', engine)"
   ]
  },
  {
   "cell_type": "code",
   "execution_count": null,
   "id": "focal-compatibility",
   "metadata": {},
   "outputs": [],
   "source": [
    "df.to_sql('new_table', engine)"
   ]
  },
  {
   "cell_type": "markdown",
   "id": "iraqi-range",
   "metadata": {},
   "source": [
    "### Selection\n",
    "\n",
    "Getting\n",
    "\n",
    "Get one element"
   ]
  },
  {
   "cell_type": "code",
   "execution_count": null,
   "id": "complimentary-matthew",
   "metadata": {},
   "outputs": [],
   "source": [
    "s = pd.Series([3, -5, 7, 4],  index=['a',  'b',  'c',  'd'])\n",
    "s"
   ]
  },
  {
   "cell_type": "code",
   "execution_count": null,
   "id": "planned-anxiety",
   "metadata": {},
   "outputs": [],
   "source": [
    "s['b']"
   ]
  },
  {
   "cell_type": "markdown",
   "id": "proprietary-short",
   "metadata": {},
   "source": [
    "Get subset of a DataFrame"
   ]
  },
  {
   "cell_type": "code",
   "execution_count": null,
   "id": "confirmed-discharge",
   "metadata": {},
   "outputs": [],
   "source": [
    "xlsx = pd.ExcelFile('file.xls')\n",
    "df = pd.read_excel(xlsx,  'Sheet1')\n",
    "df[0:]"
   ]
  },
  {
   "cell_type": "code",
   "execution_count": null,
   "id": "naval-slovak",
   "metadata": {},
   "outputs": [],
   "source": [
    "df.iloc[0:,1:]"
   ]
  },
  {
   "cell_type": "markdown",
   "id": "active-mirror",
   "metadata": {},
   "source": [
    "### Selecting, Boolean Indexing and Setting\n",
    "By Position"
   ]
  },
  {
   "cell_type": "markdown",
   "id": "welcome-guard",
   "metadata": {},
   "source": [
    "Select single value by row and and column"
   ]
  },
  {
   "cell_type": "code",
   "execution_count": null,
   "id": "adolescent-malpractice",
   "metadata": {},
   "outputs": [],
   "source": [
    "data = {'Country': ['Belgium',  'India',  'Brazil'],\n",
    "        'Capital': ['Brussels',  'New Delhi',  'Brasilia'],\n",
    "        'Population': [11190846, 1303171035, 207847528]\n",
    "}\n",
    "df = pd.DataFrame(data,columns=['Country',  'Capital',  'Population'])\n",
    "df.iloc[[0], [0]]"
   ]
  },
  {
   "cell_type": "markdown",
   "id": "dimensional-polls",
   "metadata": {},
   "source": [
    "Getting a specific index"
   ]
  },
  {
   "cell_type": "code",
   "execution_count": null,
   "id": "excited-isolation",
   "metadata": {},
   "outputs": [],
   "source": [
    "df.iat[0, 0]"
   ]
  },
  {
   "cell_type": "markdown",
   "id": "appropriate-sheep",
   "metadata": {},
   "source": [
    "By Label\n",
    "\n",
    "Select single value by row and column labels"
   ]
  },
  {
   "cell_type": "code",
   "execution_count": null,
   "id": "isolated-receiver",
   "metadata": {},
   "outputs": [],
   "source": [
    "df.loc[[0],  ['Country']]"
   ]
  },
  {
   "cell_type": "code",
   "execution_count": null,
   "id": "freelance-estimate",
   "metadata": {},
   "outputs": [],
   "source": [
    "df.at[0,  'Country']"
   ]
  },
  {
   "cell_type": "code",
   "execution_count": null,
   "id": "forced-shape",
   "metadata": {},
   "outputs": [],
   "source": [
    "df.loc[1, :]"
   ]
  },
  {
   "cell_type": "code",
   "execution_count": null,
   "id": "nonprofit-system",
   "metadata": {},
   "outputs": [],
   "source": [
    "df.loc[:, ['Capital']]"
   ]
  },
  {
   "cell_type": "markdown",
   "id": "interested-morrison",
   "metadata": {},
   "source": [
    "Select rows and columns"
   ]
  },
  {
   "cell_type": "code",
   "execution_count": null,
   "id": "missing-method",
   "metadata": {},
   "outputs": [],
   "source": [
    "df.loc[1, 'Capital']"
   ]
  },
  {
   "cell_type": "markdown",
   "id": "martial-concrete",
   "metadata": {},
   "source": [
    "### Boolean Indexing\n",
    "\n",
    "Series s where value is not >1"
   ]
  },
  {
   "cell_type": "code",
   "execution_count": null,
   "id": "municipal-double",
   "metadata": {},
   "outputs": [],
   "source": [
    "s = pd.Series([3, -5, 7, 4],  index=['a',  'b',  'c',  'd'])\n",
    "s[~(s > 1)]"
   ]
  },
  {
   "cell_type": "markdown",
   "id": "fitted-instrumentation",
   "metadata": {},
   "source": [
    "s where value is `s <-1` or `s>2`"
   ]
  },
  {
   "cell_type": "code",
   "execution_count": null,
   "id": "oriented-adoption",
   "metadata": {},
   "outputs": [],
   "source": [
    "s[(s < -1) | (s > 2)]"
   ]
  },
  {
   "cell_type": "markdown",
   "id": "assured-hierarchy",
   "metadata": {},
   "source": [
    "Use filter to adjust DataFrame"
   ]
  },
  {
   "cell_type": "code",
   "execution_count": null,
   "id": "apparent-transition",
   "metadata": {},
   "outputs": [],
   "source": [
    "df[df['Population']>1200000000]"
   ]
  },
  {
   "cell_type": "markdown",
   "id": "combined-rabbit",
   "metadata": {},
   "source": [
    "### Setting\n",
    "\n",
    "Set index a of Series s to 6"
   ]
  },
  {
   "cell_type": "code",
   "execution_count": null,
   "id": "attended-messaging",
   "metadata": {},
   "outputs": [],
   "source": [
    "s['a'] = 6\n",
    "s"
   ]
  },
  {
   "cell_type": "markdown",
   "id": "sacred-uncle",
   "metadata": {},
   "source": [
    "### Dropping\n",
    "\n",
    "Drop values from rows (axis=0)"
   ]
  },
  {
   "cell_type": "code",
   "execution_count": null,
   "id": "alive-honduras",
   "metadata": {},
   "outputs": [],
   "source": [
    "s.drop(['a',  'c'])"
   ]
  },
  {
   "cell_type": "markdown",
   "id": "accepting-hebrew",
   "metadata": {},
   "source": [
    "Drop values from columns(axis=1)"
   ]
  },
  {
   "cell_type": "code",
   "execution_count": null,
   "id": "infrared-canyon",
   "metadata": {},
   "outputs": [],
   "source": [
    "df.drop('Country', axis=1) "
   ]
  },
  {
   "cell_type": "markdown",
   "id": "affecting-attachment",
   "metadata": {},
   "source": [
    "### Sort and Rank\n",
    "\n",
    "Sort by labels along an axis"
   ]
  },
  {
   "cell_type": "code",
   "execution_count": null,
   "id": "solved-venue",
   "metadata": {},
   "outputs": [],
   "source": [
    "df.sort_index()"
   ]
  },
  {
   "cell_type": "markdown",
   "id": "fifteen-cyprus",
   "metadata": {},
   "source": [
    "Sort by the values along an axis"
   ]
  },
  {
   "cell_type": "code",
   "execution_count": null,
   "id": "casual-testament",
   "metadata": {},
   "outputs": [],
   "source": [
    "df.sort_values(by='Country') "
   ]
  },
  {
   "cell_type": "markdown",
   "id": "surgical-motel",
   "metadata": {},
   "source": [
    "### Assign ranks to entries"
   ]
  },
  {
   "cell_type": "code",
   "execution_count": null,
   "id": "defined-sunday",
   "metadata": {},
   "outputs": [],
   "source": [
    "df.rank()"
   ]
  },
  {
   "cell_type": "markdown",
   "id": "assigned-classic",
   "metadata": {},
   "source": [
    "### Retrieving Series/DataFrame Information\n",
    "\n",
    "Basic Information\n",
    "\n",
    "(rows, columns)"
   ]
  },
  {
   "cell_type": "code",
   "execution_count": null,
   "id": "affecting-tonight",
   "metadata": {},
   "outputs": [],
   "source": [
    "df.shape"
   ]
  },
  {
   "cell_type": "markdown",
   "id": "hispanic-volume",
   "metadata": {},
   "source": [
    "Describe index"
   ]
  },
  {
   "cell_type": "code",
   "execution_count": null,
   "id": "suffering-census",
   "metadata": {},
   "outputs": [],
   "source": [
    "df.index"
   ]
  },
  {
   "cell_type": "markdown",
   "id": "great-candy",
   "metadata": {},
   "source": [
    "Describe DataFrame columns"
   ]
  },
  {
   "cell_type": "code",
   "execution_count": null,
   "id": "beautiful-agent",
   "metadata": {},
   "outputs": [],
   "source": [
    "df.columns"
   ]
  },
  {
   "cell_type": "markdown",
   "id": "apparent-armstrong",
   "metadata": {},
   "source": [
    "Info on DataFrame"
   ]
  },
  {
   "cell_type": "code",
   "execution_count": null,
   "id": "female-rehabilitation",
   "metadata": {},
   "outputs": [],
   "source": [
    "df.info()"
   ]
  },
  {
   "cell_type": "code",
   "execution_count": null,
   "id": "backed-feature",
   "metadata": {},
   "outputs": [],
   "source": [
    "Number of non-NA values"
   ]
  },
  {
   "cell_type": "code",
   "execution_count": null,
   "id": "hollow-announcement",
   "metadata": {},
   "outputs": [],
   "source": [
    "df.count()"
   ]
  },
  {
   "cell_type": "code",
   "execution_count": null,
   "id": "phantom-chest",
   "metadata": {},
   "outputs": [],
   "source": [
    "df.notna().sum()"
   ]
  },
  {
   "cell_type": "markdown",
   "id": "bizarre-shaft",
   "metadata": {},
   "source": [
    "### Summary"
   ]
  },
  {
   "cell_type": "markdown",
   "id": "studied-poker",
   "metadata": {},
   "source": [
    "Sum of values"
   ]
  },
  {
   "cell_type": "code",
   "execution_count": null,
   "id": "covered-folder",
   "metadata": {},
   "outputs": [],
   "source": [
    "df.sum()"
   ]
  },
  {
   "cell_type": "markdown",
   "id": "ultimate-mandate",
   "metadata": {},
   "source": [
    "Cumulative sum of values"
   ]
  },
  {
   "cell_type": "code",
   "execution_count": null,
   "id": "aggregate-holiday",
   "metadata": {},
   "outputs": [],
   "source": [
    "df.cumsum()"
   ]
  },
  {
   "cell_type": "markdown",
   "id": "posted-budapest",
   "metadata": {},
   "source": [
    "Minimum/maximum values"
   ]
  },
  {
   "cell_type": "code",
   "execution_count": null,
   "id": "endless-banana",
   "metadata": {},
   "outputs": [],
   "source": [
    "df.min()"
   ]
  },
  {
   "cell_type": "code",
   "execution_count": null,
   "id": "clean-kingston",
   "metadata": {},
   "outputs": [],
   "source": [
    "df.max()"
   ]
  },
  {
   "cell_type": "markdown",
   "id": "unlikely-settle",
   "metadata": {},
   "source": [
    "Minimum/Maximum index value"
   ]
  },
  {
   "cell_type": "code",
   "execution_count": null,
   "id": "necessary-smoke",
   "metadata": {},
   "outputs": [],
   "source": [
    "s = pd.Series([3, -5, 7, 4],  index=['a',  'b',  'c',  'd'])\n",
    "s"
   ]
  },
  {
   "cell_type": "code",
   "execution_count": null,
   "id": "pacific-pharmacology",
   "metadata": {},
   "outputs": [],
   "source": [
    "s.idxmin()"
   ]
  },
  {
   "cell_type": "code",
   "execution_count": null,
   "id": "resident-refund",
   "metadata": {},
   "outputs": [],
   "source": [
    "s.idxmax() "
   ]
  },
  {
   "cell_type": "markdown",
   "id": "bearing-sleeve",
   "metadata": {},
   "source": [
    "Summary statistics"
   ]
  },
  {
   "cell_type": "code",
   "execution_count": null,
   "id": "hairy-excuse",
   "metadata": {},
   "outputs": [],
   "source": [
    "data = {'Country': ['Belgium',  'India',  'Brazil'],\n",
    "        'Capital': ['Brussels',  'New Delhi',  'Brasilia'],\n",
    "        'Population': [11190846, 1303171035, 207847528]\n",
    "}\n",
    "df = pd.DataFrame(data,columns=['Country',  'Capital',  'Population'])\n",
    "df.describe()"
   ]
  },
  {
   "cell_type": "markdown",
   "id": "continuous-heather",
   "metadata": {},
   "source": [
    "Mean of values"
   ]
  },
  {
   "cell_type": "code",
   "execution_count": null,
   "id": "talented-jacob",
   "metadata": {},
   "outputs": [],
   "source": [
    "df.mean()"
   ]
  },
  {
   "cell_type": "markdown",
   "id": "digital-aggregate",
   "metadata": {},
   "source": [
    "Median of values"
   ]
  },
  {
   "cell_type": "code",
   "execution_count": null,
   "id": "moved-shift",
   "metadata": {},
   "outputs": [],
   "source": [
    "df.median()"
   ]
  },
  {
   "cell_type": "code",
   "execution_count": null,
   "id": "mechanical-modification",
   "metadata": {},
   "outputs": [],
   "source": [
    "df = pd.DataFrame([[]])\n",
    "df['Population'].mode()"
   ]
  },
  {
   "cell_type": "markdown",
   "id": "cooperative-white",
   "metadata": {},
   "source": [
    "Applying Functions"
   ]
  },
  {
   "cell_type": "code",
   "execution_count": null,
   "id": "chemical-anatomy",
   "metadata": {},
   "outputs": [],
   "source": [
    "f = lambda x: x*2"
   ]
  },
  {
   "cell_type": "code",
   "execution_count": null,
   "id": "computational-fifteen",
   "metadata": {},
   "outputs": [],
   "source": [
    "frame = pd.DataFrame(np.random.randn(4, 3), columns=list('bde'), index=['Utah', 'Ohio', 'Texas', 'Oregon'])\n",
    "frame"
   ]
  },
  {
   "cell_type": "markdown",
   "id": "environmental-tobago",
   "metadata": {},
   "source": [
    "Apply function\n",
    "\n",
    "`apply` works row/column-wise"
   ]
  },
  {
   "cell_type": "code",
   "execution_count": null,
   "id": "administrative-optimum",
   "metadata": {},
   "outputs": [],
   "source": [
    "frame.apply(f)"
   ]
  },
  {
   "cell_type": "markdown",
   "id": "serial-north",
   "metadata": {},
   "source": [
    "`applymap` works element-wise"
   ]
  },
  {
   "cell_type": "code",
   "execution_count": null,
   "id": "civilian-premiere",
   "metadata": {},
   "outputs": [],
   "source": [
    "frame.applymap(f)"
   ]
  },
  {
   "cell_type": "markdown",
   "id": "ready-howard",
   "metadata": {},
   "source": [
    "`map` works element-wise on a `Series`"
   ]
  },
  {
   "cell_type": "code",
   "execution_count": null,
   "id": "mounted-newcastle",
   "metadata": {},
   "outputs": [],
   "source": [
    "frame['b'].map(f)"
   ]
  },
  {
   "cell_type": "markdown",
   "id": "random-chassis",
   "metadata": {},
   "source": [
    "### Internal Data Alignment\n",
    "\n",
    "NA values are introduced in the indices that don't overlap:"
   ]
  },
  {
   "cell_type": "code",
   "execution_count": null,
   "id": "bridal-schedule",
   "metadata": {},
   "outputs": [],
   "source": [
    "s = pd.Series([3, -5, 7, 4],  index=['a',  'b',  'c',  'd'])\n",
    "s3 = pd.Series([7, -2, 3],  index=['a',  'c',  'd'])\n",
    "s + s3"
   ]
  },
  {
   "cell_type": "markdown",
   "id": "activated-terrace",
   "metadata": {},
   "source": [
    "### Arithmetic Operations with Fill Methods\n",
    "\n",
    "You can also do the internal data alignment yourself with the help of the fill methods:"
   ]
  },
  {
   "cell_type": "code",
   "execution_count": null,
   "id": "wired-desert",
   "metadata": {},
   "outputs": [],
   "source": [
    "s.add(s3, fill_value=0)"
   ]
  },
  {
   "cell_type": "code",
   "execution_count": null,
   "id": "behind-fever",
   "metadata": {},
   "outputs": [],
   "source": [
    "s.sub(s3, fill_value=2)"
   ]
  },
  {
   "cell_type": "code",
   "execution_count": null,
   "id": "illegal-conclusion",
   "metadata": {},
   "outputs": [],
   "source": [
    "s.div(s3, fill_value=4)"
   ]
  },
  {
   "cell_type": "code",
   "execution_count": null,
   "id": "indie-scholar",
   "metadata": {},
   "outputs": [],
   "source": [
    "s.mul(s3, fill_value=3)"
   ]
  },
  {
   "cell_type": "markdown",
   "id": "imposed-maple",
   "metadata": {},
   "source": [
    "# Resources:\n",
    "\n",
    "https://www.kaggle.com/lavanyashukla01/pandas-numpy-python-cheatsheet\n",
    "\n"
   ]
  },
  {
   "cell_type": "markdown",
   "id": "needed-buffalo",
   "metadata": {},
   "source": [
    "<div style=\"background: #000;\n",
    "            color: #FFF;\n",
    "            margin: 0px;\n",
    "            padding: 10px 0px 20px 0px;\n",
    "            text-align: center; \n",
    "                \">\n",
    "    <h1>Clustering Example</h1>\n",
    "</div>\n",
    "\n",
    "https://www.youtube.com/watch?v=4b5d3muPQmA\n",
    "\n",
    "This is the \"Iris\" dataset. Originally published at [UCI Machine Learning Repository: Iris Data Set](https://archive.ics.uci.edu/ml/datasets/Iris), this small dataset from 1936 is often used for testing out machine learning algorithms and visualizations (for example, [Scatter Plot](http://bl.ocks.org/curran/9e04ccfebeb84bcdc76c)). Each row of the table represents an iris flower, including its species and dimensions of its botanical parts, sepal and petal, in centimeters."
   ]
  },
  {
   "cell_type": "code",
   "execution_count": null,
   "id": "lyric-breeding",
   "metadata": {},
   "outputs": [],
   "source": [
    "# Code source: Gaël Varoquaux\n",
    "# Modified for documentation by Jaques Grobler\n",
    "# License: BSD 3 clause\n",
    "\n",
    "import numpy as np\n",
    "import matplotlib.pyplot as plt\n",
    "# Though the following import is not directly being used, it is required\n",
    "# for 3D projection to work\n",
    "from mpl_toolkits.mplot3d import Axes3D\n",
    "\n",
    "# import KMeans from cluster module\n",
    "from sklearn.cluster import KMeans\n",
    "\n",
    "# import datasets included in sklearn\n",
    "from sklearn import datasets\n",
    "\n",
    "# this seeds our PRNG so our random numbers\n",
    "# aren't random\n",
    "np.random.seed(5)\n",
    "\n",
    "# loads the Iris dataset\n",
    "iris = datasets.load_iris()\n",
    "X = iris.data\n",
    "y = iris.target\n",
    "\n",
    "# we're going to run 3 different versions of our KMeans\n",
    "# one with 8 clusters\n",
    "# one with 3 clusters\n",
    "# one with 1 to 3 clusters initialized randomly and \n",
    "# meant to try a few different numbers and pick the best\n",
    "estimators = [('k_means_iris_8', KMeans(n_clusters=8)),\n",
    "              ('k_means_iris_3', KMeans(n_clusters=3)),\n",
    "              ('k_means_iris_bad_init', KMeans(n_clusters=3, n_init=1,\n",
    "                                               init='random'))]\n",
    "\n",
    "# Now we set up a chart for our results\n",
    "# we'll make 3 for each run of our KMeans algorithm\n",
    "fignum = 1\n",
    "titles = ['8 clusters', '3 clusters', '3 clusters, bad initialization']\n",
    "for name, est in estimators:\n",
    "    fig = plt.figure(fignum, figsize=(4, 3))\n",
    "    ax = Axes3D(fig, rect=[0, 0, .95, 1], elev=48, azim=134)\n",
    "    est.fit(X)\n",
    "    labels = est.labels_\n",
    "\n",
    "    ax.scatter(X[:, 3], X[:, 0], X[:, 2],\n",
    "               c=labels.astype(float), edgecolor='k')\n",
    "\n",
    "    ax.w_xaxis.set_ticklabels([])\n",
    "    ax.w_yaxis.set_ticklabels([])\n",
    "    ax.w_zaxis.set_ticklabels([])\n",
    "    ax.set_xlabel('Petal width')\n",
    "    ax.set_ylabel('Sepal length')\n",
    "    ax.set_zlabel('Petal length')\n",
    "    ax.set_title(titles[fignum - 1])\n",
    "    ax.dist = 12\n",
    "    fignum = fignum + 1\n",
    "\n",
    "# Plot the real clustering\n",
    "fig = plt.figure(fignum, figsize=(4, 3))\n",
    "ax = Axes3D(fig, rect=[0, 0, .95, 1], elev=48, azim=134)\n",
    "\n",
    "for name, label in [('Setosa', 0),\n",
    "                    ('Versicolour', 1),\n",
    "                    ('Virginica', 2)]:\n",
    "    ax.text3D(X[y == label, 3].mean(),\n",
    "              X[y == label, 0].mean(),\n",
    "              X[y == label, 2].mean() + 2, name,\n",
    "              horizontalalignment='center',\n",
    "              bbox=dict(alpha=.2, edgecolor='w', facecolor='w'))\n",
    "# Reorder the labels to have colors matching the cluster results\n",
    "y = np.choose(y, [1, 2, 0]).astype(float)\n",
    "ax.scatter(X[:, 3], X[:, 0], X[:, 2], c=y, edgecolor='k')\n",
    "\n",
    "ax.w_xaxis.set_ticklabels([])\n",
    "ax.w_yaxis.set_ticklabels([])\n",
    "ax.w_zaxis.set_ticklabels([])\n",
    "ax.set_xlabel('Petal width')\n",
    "ax.set_ylabel('Sepal length')\n",
    "ax.set_zlabel('Petal length')\n",
    "ax.set_title('Ground Truth')\n",
    "ax.dist = 12\n",
    "\n",
    "fig.show()"
   ]
  },
  {
   "cell_type": "markdown",
   "id": "welsh-pittsburgh",
   "metadata": {},
   "source": [
    "<div style=\"background: #000;\n",
    "            color: #FFF;\n",
    "            margin: 0px;\n",
    "            padding: 10px 0px 20px 0px;\n",
    "            text-align: center; \n",
    "                \">\n",
    "    <h1>Videos</h1>\n",
    "</div>"
   ]
  },
  {
   "cell_type": "markdown",
   "id": "proper-adaptation",
   "metadata": {},
   "source": [
    "Logistic Regression:  \n",
    "https://www.youtube.com/watch?v=yIYKR4sgzI8\n",
    "\n",
    "KMeans Clustering\n",
    "https://www.youtube.com/watch?v=4b5d3muPQmA\n",
    "\n",
    "Cross-Validation:  \n",
    "https://www.youtube.com/watch?v=fSytzGwwBVw\n",
    "\n",
    "The Confusion Matrix:  \n",
    "https://www.youtube.com/watch?v=Kdsp6soqA7o"
   ]
  },
  {
   "cell_type": "code",
   "execution_count": null,
   "id": "distinct-suite",
   "metadata": {},
   "outputs": [],
   "source": []
  }
 ],
 "metadata": {
  "kernelspec": {
   "display_name": "Python 3",
   "language": "python",
   "name": "python3"
  },
  "language_info": {
   "codemirror_mode": {
    "name": "ipython",
    "version": 3
   },
   "file_extension": ".py",
   "mimetype": "text/x-python",
   "name": "python",
   "nbconvert_exporter": "python",
   "pygments_lexer": "ipython3",
   "version": "3.9.1"
  }
 },
 "nbformat": 4,
 "nbformat_minor": 5
}
