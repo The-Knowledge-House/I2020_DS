{
 "cells": [
  {
   "cell_type": "markdown",
   "metadata": {},
   "source": [
    "# Week 11 Lab 1\n"
   ]
  },
  {
   "cell_type": "markdown",
   "metadata": {},
   "source": [
    "# Exercise 1\n",
    "\n",
    "We'd like to create a REST API for our Data Science students.\n",
    "\n",
    "Create a flask application that has three views that each take one of the following methods: 'GET', 'POST', 'DELETE'. Set up a similar REST API, storing your data to an dictionary. Your API should allow `GET` requests that return the dictionary, allow `POST` requests that add students and `DELETE` requests that remove students from the dictionary.\n",
    "\n",
    "Add your code to it's own github repo and submit the link to the repo."
   ]
  },
  {
   "cell_type": "code",
   "execution_count": null,
   "metadata": {},
   "outputs": [],
   "source": []
  },
  {
   "cell_type": "markdown",
   "metadata": {},
   "source": [
    "# Exercise 2\n",
    "\n",
    "Work on your project deliverable due Wednesday. If stuck consider some of these options:  \n",
    "* Social media websites (hackernews, reddit, easier to scrape clones like bibliogram.art and nitter.net)\n",
    "* Data from wikipedia (like we did with the covid data project)\n",
    "* Sports data (basketball-reference.com, baseball-reference.com, pro-football-reference.com)\n",
    "* stock or crypto data (coinmarketcap.com, crypto exchange API's, yahoo finance, nasdaq)"
   ]
  },
  {
   "cell_type": "code",
   "execution_count": null,
   "metadata": {},
   "outputs": [],
   "source": []
  }
 ],
 "metadata": {
  "kernelspec": {
   "display_name": "Python 3",
   "language": "python",
   "name": "python3"
  },
  "language_info": {
   "codemirror_mode": {
    "name": "ipython",
    "version": 3
   },
   "file_extension": ".py",
   "mimetype": "text/x-python",
   "name": "python",
   "nbconvert_exporter": "python",
   "pygments_lexer": "ipython3",
   "version": "3.8.6"
  }
 },
 "nbformat": 4,
 "nbformat_minor": 4
}
