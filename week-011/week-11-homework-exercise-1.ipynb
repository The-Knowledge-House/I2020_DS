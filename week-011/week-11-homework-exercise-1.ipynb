{
 "cells": [
  {
   "cell_type": "markdown",
   "metadata": {},
   "source": [
    "# Week 11 Homework Part 1"
   ]
  },
  {
   "cell_type": "markdown",
   "metadata": {},
   "source": [
    "# Exercise 1\n",
    "\n",
    "Edit the following cell so only unique numbers are stored in variable `s`"
   ]
  },
  {
   "cell_type": "code",
   "execution_count": null,
   "metadata": {},
   "outputs": [],
   "source": [
    "s = [9,4,5,6,3,4,,7,8,10,22,5,6,9,23]\n",
    "\n",
    "s = None # replace the \"None\"\n",
    "\n",
    "assert(s == [3, 4, 5, 6, 7, 8, 9, 10, 22, 23])"
   ]
  },
  {
   "cell_type": "markdown",
   "metadata": {},
   "source": [
    "# Exercise 2\n",
    "\n",
    "Convert the following two lists into a dictionary where the keys are the letters and the values are the corresponding numbers. Assign the dictionary to variable `d`"
   ]
  },
  {
   "cell_type": "code",
   "execution_count": null,
   "metadata": {},
   "outputs": [],
   "source": [
    "import string\n",
    "\n",
    "s = [i for i in string.ascii_letters]\n",
    "j = [i for i in range(1,27)]\n",
    "\n",
    "d = None # replace the \"None\"\n",
    "\n",
    "assert( d == {'a': 1,'b': 2,'c': 3,'d': 4,'e': 5,'f': 6,\n",
    "        'g': 7,'h': 8,'i': 9,'j': 10,'k': 11,'l': 12,\n",
    "        'm': 13,'n': 14,'o': 15,'p': 16,'q': 17,'r': 18,\n",
    "        's': 19,'t': 20,'u': 21,'v': 22,'w': 23,'x': 24,\n",
    "        'y': 25,'z': 26})"
   ]
  },
  {
   "cell_type": "markdown",
   "metadata": {},
   "source": [
    "# Exercise 3\n",
    "\n",
    "Switch the values of the following two variables."
   ]
  },
  {
   "cell_type": "code",
   "execution_count": null,
   "metadata": {},
   "outputs": [],
   "source": [
    "s,t = 0, 1\n",
    "# insert solution below this comment\n",
    "\n",
    "\n",
    "assert(s==1)\n",
    "assert(t==0)"
   ]
  },
  {
   "cell_type": "code",
   "execution_count": null,
   "metadata": {},
   "outputs": [],
   "source": []
  }
 ],
 "metadata": {
  "kernelspec": {
   "display_name": "Python 3",
   "language": "python",
   "name": "python3"
  },
  "language_info": {
   "codemirror_mode": {
    "name": "ipython",
    "version": 3
   },
   "file_extension": ".py",
   "mimetype": "text/x-python",
   "name": "python",
   "nbconvert_exporter": "python",
   "pygments_lexer": "ipython3",
   "version": "3.8.6"
  }
 },
 "nbformat": 4,
 "nbformat_minor": 4
}
