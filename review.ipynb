{
 "cells": [
  {
   "cell_type": "markdown",
   "metadata": {},
   "source": [
    "<div style=\"background: #000;\n",
    "            color: #FFF;\n",
    "            margin: 0px;\n",
    "                padding: 10px 0px 20px 0px;\n",
    "            text-align: center; \n",
    "                \">\n",
    "    <h1>Review</h1>\n",
    "</div>"
   ]
  },
  {
   "cell_type": "code",
   "execution_count": null,
   "metadata": {},
   "outputs": [],
   "source": [
    "import this"
   ]
  },
  {
   "cell_type": "markdown",
   "metadata": {},
   "source": [
    "### Topics for final assessment:\n",
    "\n",
    "### Data Types\n",
    "* Strings\n",
    "* Ints\n",
    "* Floats\n",
    "* Bools\n",
    "\n",
    "To cast between different data types we use:\n",
    "* `int()`\n",
    "* `bool()`\n",
    "* `float()`\n",
    "* `str()`\n",
    "\n"
   ]
  },
  {
   "cell_type": "markdown",
   "metadata": {},
   "source": [
    "### Strings\n",
    "\n",
    "Strings are an immutable data type in python that allow indexing, slicing, len'ing and a set of string methods."
   ]
  },
  {
   "cell_type": "markdown",
   "metadata": {},
   "source": [
    "### Ints \n",
    "\n",
    "Ints are an immutable data type in python that are integers (whole numbers). You can use math operators with them.\n",
    "\n",
    "### Floats \n",
    "\n",
    "Floats are an immuable data type in python that are real numbers (usually containing a decimal and values before/after). You can also use math operators with them.\n",
    "\n",
    "### Bools\n",
    "\n",
    "Bools are a data type in python representing True or False. Usually only True or False but can also be 0 and 1. Python data structures typically evaluate to False when the len of them are 0."
   ]
  },
  {
   "cell_type": "markdown",
   "metadata": {},
   "source": [
    "# Python Collection Data Structures\n",
    "* Lists \n",
    "* Tuples\n",
    "* Sets\n",
    "* Dictionaries\n",
    "\n",
    "### Lists\n",
    "\n",
    "Lists are mutable data structures in python similar to arrays. We can perform a number of operations including adding/removing values (since the structure is mutable). We can `len` a list, index it, slice it and easily cast it to tuples/sets. Casting to a dictionary requires special format (e.g. we turn a list of two-tuples to a dictionary). There are also many list methods we can use to work on a list.\n",
    "\n",
    "### Tuples\n",
    "\n",
    "Tuples are immutable data structures in python. We can perform some operations on them but we cannot add/remove values from a tuple. We can however, pack and unpack tuples in a lot of areas in python (variable packing/unpacking, for loop unpacking, return statements with multiple valuesreturning tuples). We can easily cast tuples to other data structures but again dictionaries require two-tuples.\n",
    "\n",
    "### Dictionaries\n",
    "\n",
    "Dictionaries in python are mutable data structures that act as hash maps (mapping keys to values). Keys must be unique and hashable. There are a number of ways we can cast dictionaries to other data structures in multiple ways but we usually break them up or convert them to do so (e.g. `d.keys()`, `d.values()`, `d.items()`)\n",
    "\n",
    "### Sets\n",
    "\n",
    "Sets in python are mutable data structures that allow list type operations (adding/removing). However each element in a set is similar to keys in a dictionary where they must be unique. We can easily cast sets to lists/tuples but like the others, they require some work to cast as dictionaries"
   ]
  },
  {
   "cell_type": "markdown",
   "metadata": {},
   "source": [
    "### membership operators (`in`, `not in`)"
   ]
  },
  {
   "cell_type": "code",
   "execution_count": null,
   "metadata": {},
   "outputs": [],
   "source": [
    "s = [0, 1, 2, 3, 4]\n",
    "\n",
    "4 in s"
   ]
  },
  {
   "cell_type": "markdown",
   "metadata": {},
   "source": [
    "# built in methods \n",
    "* `abs` - returns absolute value\n",
    "* `all` - returns True if all elems in iterable are True \n",
    "* `any` - returns True if any elem in iterable is True\n",
    "* `dir` - returns list of attributes/methods of object\n",
    "* `format` - formats string\n",
    "* `input` - gets input from stdin\n",
    "* `getattr(obj, attr, default)` - returns `attr` if obj has it else returns default value\n",
    "* `len` - returns length of object\n",
    "* `max` - returns max value of iterable\n",
    "* `min`, - returns min value of iterable \n",
    "* `ord(char)` - returns ordinal value of char \n",
    "* `pow(x,y)` returns x to y power\n",
    "* `print` - prints to stdout\n",
    "* `range` - returns iterator of sequential values from start (inclusive) to stop (exclusive)\n",
    "* `reversed` - reverses object \n",
    "* `round` - rounds value \n",
    "* `setattr(obj, attr, value)` - sets attr of obj to be value\n",
    "* `sum` - returns sum of iterable\n",
    "* `type` - returns type of object\n",
    "\n",
    "### indexing/slicing\n",
    "\n",
    "Objects we can index/slice:\n",
    "* strings\n",
    "* lists\n",
    "* tuples\n",
    "\n",
    "```python\n",
    "s = [0,1,2,3,4,5]\n",
    "s[:] # creates copy of s\n",
    "s[1:] # returns [1,2,3,4,5]\n",
    "s[3:5] # returns [3,4]\n",
    "s[::2] # returns every 2nd value starting with 0\n",
    "s[:-3] # returns [0,1,2]\n",
    "s[0] # returns 0 index\n",
    "s[-1] # returns last index\n",
    "```"
   ]
  },
  {
   "cell_type": "code",
   "execution_count": null,
   "metadata": {},
   "outputs": [],
   "source": [
    "s = [0,1,2,3,4,5]\n",
    "s[3]"
   ]
  },
  {
   "cell_type": "markdown",
   "metadata": {},
   "source": [
    "# Comprehensions\n",
    "\n",
    "Comprehensions are syntactic sugar meant to allow you to be able to create data structures without lines of looping "
   ]
  },
  {
   "cell_type": "code",
   "execution_count": null,
   "metadata": {},
   "outputs": [],
   "source": [
    "# list comprehension\n",
    "\n",
    "s = [i for i in range(10) if i % 2]\n",
    "# is the same as\n",
    "s = []\n",
    "for i in range(10):\n",
    "    if i % 2:\n",
    "        s.append(i)"
   ]
  },
  {
   "cell_type": "code",
   "execution_count": null,
   "metadata": {},
   "outputs": [],
   "source": [
    "# dictionary comprehension\n",
    "\n",
    "s = {k:v for k,v in [(0,'a'), (2,'b')]}\n",
    "# is the same as\n",
    "s = {}\n",
    "for k,v in [(0,'a'), (1, 'b')]:\n",
    "    s[k] = v"
   ]
  },
  {
   "cell_type": "markdown",
   "metadata": {},
   "source": [
    "# python's arithmetic operators \n",
    "`+`, `-`, `*`, `/`, `//`, `%`,`**`"
   ]
  },
  {
   "cell_type": "code",
   "execution_count": null,
   "metadata": {},
   "outputs": [],
   "source": [
    "5 + 2 "
   ]
  },
  {
   "cell_type": "code",
   "execution_count": null,
   "metadata": {},
   "outputs": [],
   "source": [
    "5 - 2"
   ]
  },
  {
   "cell_type": "code",
   "execution_count": null,
   "metadata": {},
   "outputs": [],
   "source": [
    "5 * 1"
   ]
  },
  {
   "cell_type": "code",
   "execution_count": null,
   "metadata": {},
   "outputs": [],
   "source": [
    "5 / 2"
   ]
  },
  {
   "cell_type": "code",
   "execution_count": null,
   "metadata": {},
   "outputs": [],
   "source": [
    "5 // 2"
   ]
  },
  {
   "cell_type": "code",
   "execution_count": null,
   "metadata": {},
   "outputs": [],
   "source": [
    "5 % 2"
   ]
  },
  {
   "cell_type": "code",
   "execution_count": null,
   "metadata": {},
   "outputs": [],
   "source": [
    "5 ** 2"
   ]
  },
  {
   "cell_type": "markdown",
   "metadata": {},
   "source": [
    "# Python's assignment operators\n",
    "`=`, `+=`, `-=`, `/=`, `//=`, etc."
   ]
  },
  {
   "cell_type": "code",
   "execution_count": null,
   "metadata": {},
   "outputs": [],
   "source": [
    "s = 9\n",
    "s += 3\n",
    "s"
   ]
  },
  {
   "cell_type": "code",
   "execution_count": null,
   "metadata": {},
   "outputs": [],
   "source": [
    "s = 9\n",
    "s -= 3\n",
    "s"
   ]
  },
  {
   "cell_type": "code",
   "execution_count": null,
   "metadata": {},
   "outputs": [],
   "source": [
    "s = 9\n",
    "s /= 3\n",
    "s"
   ]
  },
  {
   "cell_type": "code",
   "execution_count": null,
   "metadata": {},
   "outputs": [],
   "source": [
    "s = 9\n",
    "s //= 3\n",
    "s"
   ]
  },
  {
   "cell_type": "markdown",
   "metadata": {},
   "source": [
    "# Python's comparison operator\n",
    "`==`, `!=`, `>`, `<`, `>=`, `<=`"
   ]
  },
  {
   "cell_type": "code",
   "execution_count": null,
   "metadata": {},
   "outputs": [],
   "source": [
    "5 == 3"
   ]
  },
  {
   "cell_type": "code",
   "execution_count": null,
   "metadata": {},
   "outputs": [],
   "source": [
    "5 != 3"
   ]
  },
  {
   "cell_type": "code",
   "execution_count": null,
   "metadata": {},
   "outputs": [],
   "source": [
    "5 > 3"
   ]
  },
  {
   "cell_type": "code",
   "execution_count": null,
   "metadata": {},
   "outputs": [],
   "source": [
    "5 < 3"
   ]
  },
  {
   "cell_type": "code",
   "execution_count": null,
   "metadata": {},
   "outputs": [],
   "source": [
    "5 >= 3"
   ]
  },
  {
   "cell_type": "code",
   "execution_count": null,
   "metadata": {},
   "outputs": [],
   "source": [
    "5 <= 3"
   ]
  },
  {
   "cell_type": "markdown",
   "metadata": {},
   "source": [
    "# Python Control Flow/Structures"
   ]
  },
  {
   "cell_type": "markdown",
   "metadata": {},
   "source": [
    "### `if`/`elif`/`else`\n",
    "\n",
    "If statements allow us to have branch execution based on conditionals (meaning code blocks are executed if the conditional statement is True`"
   ]
  },
  {
   "cell_type": "code",
   "execution_count": null,
   "metadata": {},
   "outputs": [],
   "source": [
    "x = 4\n",
    "if x > 3:\n",
    "    print(\"greater than 3\")\n",
    "elif x < 3:\n",
    "    print(\"less than 3\")\n",
    "else:\n",
    "    print(\"if neither then execute this\")"
   ]
  },
  {
   "cell_type": "markdown",
   "metadata": {},
   "source": [
    "### `for`\n",
    "\n",
    "For loops let use execute a code block for every element in an iterable/iterator"
   ]
  },
  {
   "cell_type": "code",
   "execution_count": null,
   "metadata": {},
   "outputs": [],
   "source": [
    "s = [0,1,2,3,4,5]\n",
    "for i in s:\n",
    "    print(i)\n",
    "else:\n",
    "    print(\"done with loop\")\n",
    "    print(f\"i is now {i}\")"
   ]
  },
  {
   "cell_type": "markdown",
   "metadata": {},
   "source": [
    "### `while`\n",
    "\n",
    "While loops allow us to execute code blocks as long as a condition is met."
   ]
  },
  {
   "cell_type": "code",
   "execution_count": null,
   "metadata": {},
   "outputs": [],
   "source": [
    "s = 0\n",
    "\n",
    "while s < 10:\n",
    "    print(s)\n",
    "    s += 1\n",
    "else:\n",
    "    print(f\"s is now {s}\")"
   ]
  },
  {
   "cell_type": "markdown",
   "metadata": {},
   "source": [
    "### `with`\n",
    "\n",
    "With allows us to execute a code block while we have some particular context"
   ]
  },
  {
   "cell_type": "code",
   "execution_count": null,
   "metadata": {},
   "outputs": [],
   "source": [
    "with open(\"file.txt\", \"w\") as file:\n",
    "    file.write(\"some stuff\")\n",
    "    \n",
    "print(\"done with that context\")"
   ]
  },
  {
   "cell_type": "markdown",
   "metadata": {},
   "source": [
    "### `try`/`except`\n",
    "\n",
    "Try/Except allows us to try a code block and catch an exception if one is thrown"
   ]
  },
  {
   "cell_type": "code",
   "execution_count": null,
   "metadata": {},
   "outputs": [],
   "source": [
    "s = [0]\n",
    "\n",
    "try:\n",
    "    s[2]\n",
    "except Exception as e:\n",
    "    print(e)\n",
    "    print(\"s doesn't have a index of 2\")\n",
    "finally:\n",
    "    print(\"run this after\")"
   ]
  },
  {
   "cell_type": "markdown",
   "metadata": {},
   "source": [
    "### `pass`/`break`/`continue`\n",
    "\n",
    "`pass` allows us to pass on executing a required code block"
   ]
  },
  {
   "cell_type": "code",
   "execution_count": null,
   "metadata": {},
   "outputs": [],
   "source": [
    "def func():\n",
    "    # requires a code block\n",
    "    pass\n",
    "\n",
    "print(\"no error\")"
   ]
  },
  {
   "cell_type": "markdown",
   "metadata": {},
   "source": [
    "`break` allows us to break out of a loop"
   ]
  },
  {
   "cell_type": "code",
   "execution_count": null,
   "metadata": {},
   "outputs": [],
   "source": [
    "for i in range(10):\n",
    "    print(i)\n",
    "    if i > 3:\n",
    "        break"
   ]
  },
  {
   "cell_type": "code",
   "execution_count": null,
   "metadata": {},
   "outputs": [],
   "source": [
    "`continue` allows you to skip a code block and continue looping"
   ]
  },
  {
   "cell_type": "code",
   "execution_count": null,
   "metadata": {},
   "outputs": [],
   "source": [
    "for i in range(10):\n",
    "    if i == 5:\n",
    "        continue\n",
    "    print(i)"
   ]
  },
  {
   "cell_type": "markdown",
   "metadata": {},
   "source": [
    "# And, Or, Not"
   ]
  },
  {
   "cell_type": "markdown",
   "metadata": {},
   "source": [
    "`and` connects two conditionals using traditional logic"
   ]
  },
  {
   "cell_type": "code",
   "execution_count": null,
   "metadata": {},
   "outputs": [],
   "source": [
    "d = 4\n",
    "e = 5\n",
    "\n",
    "d != e and print(\"hello\")"
   ]
  },
  {
   "cell_type": "markdown",
   "metadata": {},
   "source": [
    "`or` connects two conditionals using traditional logic"
   ]
  },
  {
   "cell_type": "code",
   "execution_count": null,
   "metadata": {},
   "outputs": [],
   "source": [
    "d = 4\n",
    "e = 5\n",
    "\n",
    "d == e or print(\"hello\")"
   ]
  },
  {
   "cell_type": "markdown",
   "metadata": {},
   "source": [
    "# Ternary Operators\n",
    "\n",
    "allow us to use if/else in a single statement"
   ]
  },
  {
   "cell_type": "code",
   "execution_count": null,
   "metadata": {},
   "outputs": [],
   "source": [
    "s = True if 5 > 3 else False\n",
    "s"
   ]
  },
  {
   "cell_type": "markdown",
   "metadata": {},
   "source": [
    "# Functions\n",
    "\n",
    "Functions are a way to encapsulate a block of code so that we can reuse them. They are able to connect with other python code through two main ways: arguments and return values. The arguments are inputs that are passed to the function when called to be used within. The return values are values that are, like the name suggests, returned by the function when called. We usually assign the return values to a variable but we can also call functions in place of any code that is expecting a value (e.g. we can call a function within another function call that expects an argument."
   ]
  },
  {
   "cell_type": "markdown",
   "metadata": {},
   "source": [
    "### Function Definition/Declaration and Calling\n",
    "\n",
    "When we define a function:\n",
    "* we need to use the `def` keyword\n",
    "* we need to include a function name (in snake_case aka lowercase with underscores separating words) \n",
    "* we need to include arguments in parenthesis\n",
    "* and then we need a colon to indicate the code following is the function body (and if the function body is multiline, python requires an indented code block) \n",
    "\n",
    "example of a function definition and calling the same function:"
   ]
  },
  {
   "cell_type": "code",
   "execution_count": null,
   "metadata": {},
   "outputs": [],
   "source": [
    "# single line function definition\n",
    "def func(a,b): return a,b\n",
    "\n",
    "# multi-line functions require an indented code block\n",
    "def func(a, b):\n",
    "    return a, b\n",
    "\n",
    "return_values = func(4,5)\n",
    "# getting the value after assigning the return values\n",
    "print(return_values)\n",
    "# passing a function call as an argument to another function\n",
    "print(func(4,5))\n",
    "assert(func(4,5) == return_values)"
   ]
  },
  {
   "cell_type": "markdown",
   "metadata": {},
   "source": [
    "### Scope of Variables Inside Functions\n",
    "\n",
    "Variables created inside of functions only exist within in the function. Python has ways to work around this (that we haven't explicitly covered) but, in general, the only way to access a variable that was created within a function from outside of the function is if the function returned it. This isn't true for variables created outside of a function. If a variable exists in the global scope (outside of a function/class), it can be accessed by a function. To explicitly pass a variable to a function, make it an argument the function requires when called.\n",
    "\n",
    "Example of this:"
   ]
  },
  {
   "cell_type": "code",
   "execution_count": null,
   "metadata": {},
   "outputs": [],
   "source": [
    "global_variable = 5\n",
    "value_we_are_passing = 4\n",
    "\n",
    "def func(a):\n",
    "    b = \"variable that only exists within this function\"\n",
    "    return a + global_variable\n",
    "\n",
    "print(func(value_we_are_passing))\n",
    "\n",
    "try:\n",
    "    print(b)\n",
    "except:\n",
    "    print(\"b doesn't exist in the global scope\")\n",
    "    "
   ]
  },
  {
   "cell_type": "markdown",
   "metadata": {},
   "source": [
    "### Positional Arguments\n",
    "\n",
    "Positional arguments are arguments that have to be passed in a specific order for a function to understand what is being passed. We have seen countless examples of this and it remains the most common way to pass arguments to a function. Python requires every positional argument to be passed in a function call.\n",
    "\n",
    "example of this:"
   ]
  },
  {
   "cell_type": "code",
   "execution_count": null,
   "metadata": {},
   "outputs": [],
   "source": [
    "# function with two positional arguments: a and b\n",
    "\n",
    "def func(a, b):\n",
    "    return f\"a:{a}, b:{b}\"\n",
    "\n",
    "r = func(4,5)\n",
    "q = func(5,4)\n",
    "\n",
    "print(f\"r: {r}\")\n",
    "print(f\"q: {q}\")\n",
    "\n",
    "# as you can see, changing the order of values we pass\n",
    "# results in the values being set to different variables\n",
    "assert(r == \"a:4, b:5\")\n",
    "assert(q == \"a:5, b:4\")"
   ]
  },
  {
   "cell_type": "code",
   "execution_count": null,
   "metadata": {},
   "outputs": [],
   "source": [
    "# calling a function without required positional argument\n",
    "\n",
    "def func(a):\n",
    "    return a\n",
    "\n",
    "func()"
   ]
  },
  {
   "cell_type": "markdown",
   "metadata": {},
   "source": [
    "### Keyword Arguments\n",
    "\n",
    "Keyword arguments are similar to positional arguments except they are given default values so if you call the function without passing that particular argument, it will use the default.\n",
    "\n",
    "example of this:"
   ]
  },
  {
   "cell_type": "code",
   "execution_count": null,
   "metadata": {},
   "outputs": [],
   "source": [
    "def func(a=True):\n",
    "    if a == True:\n",
    "        print(f\"a is {a}\")\n",
    "    else:\n",
    "        print(f\"you changed a to {a}\")\n",
    "        \n",
    "func()\n",
    "func(10)"
   ]
  },
  {
   "cell_type": "code",
   "execution_count": null,
   "metadata": {},
   "outputs": [],
   "source": [
    "def func(a,b,c=10):\n",
    "    print(f\"a: {a} \\t b: {b} \\t c:{c} \\t total:{a + b + c}\")\n",
    "\n",
    "# calling it without keyword argument\n",
    "func(10,10)\n",
    "# calling it with keyword argument as \"positional argument\"\n",
    "func(6,6,6)\n",
    "# calling it with c as a keyword argument\n",
    "func(5,5,c=5)"
   ]
  },
  {
   "cell_type": "markdown",
   "metadata": {},
   "source": [
    "### Ordering of arguments:\n",
    "\n",
    "Python requires that positional arguments come before keyword arguments. Positional arguments require arguments to be passed in a specific order. Keyword arguments can be passed in any other if you provide the keyword. If you do not provide the keyword, the keyword arguments are considered positional arguments and must be passed in the same order as they were defined.\n",
    "\n",
    "example of this:"
   ]
  },
  {
   "cell_type": "code",
   "execution_count": null,
   "metadata": {},
   "outputs": [],
   "source": [
    "def func(a,b,c,d=0,e=1,f=2):\n",
    "    print(f\"a:{a} b:{b} c:{c} d:{d} e:{e} f:{f}\\n\")\n",
    "    \n",
    "print(\"calling without keyword arguments passed:\")\n",
    "\n",
    "func('a', 'b', 'c')\n",
    "\n",
    "print(\"calling with keyword arguments passed\")\n",
    "\n",
    "func('a', 'b', 'c', d='d', e='e', f='f')\n",
    "\n",
    "print(\"calling with keyword args passed as positional args\")\n",
    "\n",
    "func(0,1,2,3,4,5)\n",
    "\n",
    "print(\"calling the function with keyword arguments in different order\")\n",
    "func(0,1,2,f=3,e=4,d=5)\n",
    "\n",
    "print(\"calling the function in the wrong order:\")\n",
    "# uncomment this\n",
    "#func(d=4,a,b,c,f=3)"
   ]
  },
  {
   "cell_type": "markdown",
   "metadata": {},
   "source": [
    "### Arbitrary Arguments (positional)\n",
    "\n",
    "Functions can take an arbitrary number of positional arguments if you pass `*<variable name>`when defining your function. We usually define the argument as `args` (which means we pass `*args` to the function) and then we can access `args` within the function like a tuple.\n",
    "\n",
    "example of this:"
   ]
  },
  {
   "cell_type": "code",
   "execution_count": null,
   "metadata": {},
   "outputs": [],
   "source": [
    "def func(*args):\n",
    "    print(f\"args is a {type(args)}\")\n",
    "    print(f\"number of args: {len(args)}\")\n",
    "    print(f\"first value of args: {args[0]}\")\n",
    "    for i in args:\n",
    "        print(i)\n",
    "    \n",
    "func(3,4,5,6)"
   ]
  },
  {
   "cell_type": "markdown",
   "metadata": {},
   "source": [
    "### Arbitrary Arguments (keyword)\n",
    "\n",
    "Functions can take an arbitrary number of positional arguments if you pass `**<variable name>`when defining your function. We usually define the argument as `kwargs` (which means we pass `**kwargs` to the function) and then we can access `kwargs` within the function like a dictionary. "
   ]
  },
  {
   "cell_type": "code",
   "execution_count": null,
   "metadata": {},
   "outputs": [],
   "source": [
    "def func(**kwargs):\n",
    "    print(f\"kwargs is a {type(kwargs)}\")\n",
    "    print(f\"number of kwargs: {len(kwargs)}\")\n",
    "    print(f\"keywords passed: {kwargs.keys()}\")\n",
    "    print(f\"values passed: {kwargs.values()}\")\n",
    "    print(f\"kwargs passed: {kwargs.items()}\")\n",
    "    for i,j in kwargs.items():\n",
    "        print(i,j)\n",
    "    \n",
    "func(a=3,b=4,c=5,d=6)"
   ]
  },
  {
   "cell_type": "markdown",
   "metadata": {},
   "source": [
    "### Unpacking Arguments (`*` and `**`)\n",
    "\n",
    "When passing values to a function, we can pass a list/tuple or dictionary to be unpacked by the function. Lists/tuples can be unpacked as positional arguments. Dictionaries can be unpacked as keyword arguments. To let python know to unpack the argument being passed, we use`*` for lists/tuples and `**` for dictionaries. One caveat to all of this is that the unpacked values must match the arguments that the function expects (unless the function was defined to accept arbitrary number of arguments).\n",
    "\n",
    "examples:"
   ]
  },
  {
   "cell_type": "code",
   "execution_count": null,
   "metadata": {},
   "outputs": [],
   "source": [
    "# unpacking into positional arguments\n",
    "\n",
    "def func(a,b,c):\n",
    "    print(f\"a: {a} b: {b} c: {c}\\n\")\n",
    "    \n",
    "# unpacking a list\n",
    "func(*[0,1,2])\n",
    "\n",
    "# unpacking a tuple\n",
    "func(*(0,1,2))\n",
    "\n",
    "# this function call with throw an error\n",
    "try:\n",
    "    func(*[0,1,2,3,4])\n",
    "except TypeError as err:\n",
    "    print(\"list we unpacked had more elements than the function accepted:\")\n",
    "    print(f\"error: {err}\")"
   ]
  },
  {
   "cell_type": "code",
   "execution_count": null,
   "metadata": {},
   "outputs": [],
   "source": [
    "# unpacking into keyword arguments:\n",
    "\n",
    "def func(a=0, b=1, c=2):\n",
    "    print(f\"a: {a} b: {b} c: {c}\\n\")\n",
    "    \n",
    "# unpacking a dictionary\n",
    "func(**{'a': 5, 'b': 6, 'c':7})\n",
    "\n",
    "# this function call with throw an error\n",
    "try:\n",
    "    func(**{'a':3, 'b':4, 'c':5, 'd':6})\n",
    "except TypeError as err:\n",
    "    print(\"dict we unpacked had more items than the function accepted:\")\n",
    "    print(f\"error: {err}\")"
   ]
  },
  {
   "cell_type": "markdown",
   "metadata": {},
   "source": [
    "### Lambda Functions\n",
    "\n",
    "Lambda functions are \"anonymous\" functions that can be used to create a function on the fly without defining it elsewhere (like when we use `map` or any other method expecting a function). Keep in mind that lambda functions are typically one liners and cannot include python keywords like `return`, `pass`, `assert`, etc. \n",
    "\n",
    "example of a lambda"
   ]
  },
  {
   "cell_type": "code",
   "execution_count": null,
   "metadata": {},
   "outputs": [],
   "source": [
    "# to let python know we are creating a lambda\n",
    "# we write `lambda` and then the variables it accepts\n",
    "# then a colon and then the python statement to be\n",
    "# executed when called\n",
    "square = lambda x: x**2\n",
    "\n",
    "square(4)"
   ]
  },
  {
   "cell_type": "code",
   "execution_count": null,
   "metadata": {},
   "outputs": [],
   "source": [
    "# while lambdas are useful, above is similar to this:\n",
    "def square(x): return x**2\n",
    "\n",
    "# and work/run the same (try using the dis module to disassemble)"
   ]
  },
  {
   "cell_type": "code",
   "execution_count": null,
   "metadata": {},
   "outputs": [],
   "source": [
    "# usually we use lambdas in situations like this:\n",
    "\n",
    "list(map(lambda x: x**2, [1,2,3,4,5]))"
   ]
  },
  {
   "cell_type": "code",
   "execution_count": null,
   "metadata": {},
   "outputs": [],
   "source": [
    "#bonus: you can create a lambda and then immediately run it\n",
    "\n",
    "(lambda x: x**2)(5)"
   ]
  },
  {
   "cell_type": "markdown",
   "metadata": {},
   "source": [
    "### Currying Functions\n",
    "\n",
    "Currying functions is a functional programming concept that basically boils down to creating functions composed of other functions in order to create \"meta\" code that can perform higher level functionality. Curried functions are also known as closures or higher order functions.\n",
    "\n",
    "examples of this:"
   ]
  },
  {
   "cell_type": "code",
   "execution_count": null,
   "metadata": {},
   "outputs": [],
   "source": [
    "# f(x)\n",
    "def add_five(x): return x + 5\n",
    "# g(x)\n",
    "def square_it(x): return x ** 2\n",
    "\n",
    "# f(g(x))\n",
    "def square_and_add_it(x):\n",
    "    return add_five(square_it(x))\n",
    "\n",
    "s = 5\n",
    "square_and_add_it(s)"
   ]
  },
  {
   "cell_type": "code",
   "execution_count": null,
   "metadata": {},
   "outputs": [],
   "source": [
    "# which is the same as:\n",
    "s = 5\n",
    "# sets g(s) to t\n",
    "t = square_it(5)\n",
    "# calls f(t)\n",
    "add_five(t)"
   ]
  },
  {
   "cell_type": "code",
   "execution_count": null,
   "metadata": {},
   "outputs": [],
   "source": [
    "# we've also seen currying like this\n",
    "# this shows how functions can return functions:\n",
    "\n",
    "def mult_func(x):\n",
    "    return lambda a: a * x\n",
    "\n",
    "# we can use the above to do the following:\n",
    "\n",
    "doubler_func = mult_func(2)\n",
    "\n",
    "doubler_func(10)"
   ]
  },
  {
   "cell_type": "markdown",
   "metadata": {},
   "source": [
    "### Decorator Functions\n",
    "\n",
    "Decorator functions are also higher order functions that take a function and extends it without explicitly modifying it. This allows us to \"decorate\" another function we define with functionality set up elsewhere. We've seen an example of this with our flask applications where we decorate our view functions so we can map them to a specific url route."
   ]
  },
  {
   "cell_type": "code",
   "execution_count": null,
   "metadata": {},
   "outputs": [],
   "source": [
    "def decorator_function(func):\n",
    "    def wrapper():\n",
    "        print(\"before function call\")\n",
    "        func()\n",
    "        print(\"after function call\")\n",
    "    return wrapper\n",
    "\n",
    "@decorator_function\n",
    "def hello_world():\n",
    "    print(\"hello world\")\n",
    "    \n",
    "hello_world()"
   ]
  },
  {
   "cell_type": "markdown",
   "metadata": {},
   "source": [
    "### Recursion\n",
    "\n",
    "Recursive functions are functions that reach their result by recursively calling itself. In this sense, it's a function that will \"loop\" (by calling itself instead of a traditional loop we've seen with python control structures). Since that can lead to an endless loop, we must include an exit condition that will break out of the repeated function calls. Similarly to while loops, as we loop, our code must somehow move towards reaching that exit condition or else we'll hit python's limit on recursion and an error will be thrown.\n",
    "\n",
    "example of this:\n",
    "\n",
    "Say we had a factorial equation that was the following:\n",
    "\n",
    "$$ 0! = 1 $$\n",
    "$$ n! = n*(n-1)!$$\n",
    "\n",
    "We see that the factorial of `n` is equal to `n` times the factorial of `n-1`. Usually that's an indication that we might need recursion because to get the result of `n!`, we must do `n-1!` and to get `n-1!` we must do `n-2! ` and so on. We also see that `0!` is `1` which gives us a condition we can exit our recursive looping with. We can also see that if `n` is a number greater than `0`, subtracting `1` from it will get us closer to `0`. So we know if we calculate `n!`, `n-1!`, `n-2!` and so on, eventually we'll get to a value to calculate that is `0`.\n",
    "\n",
    "This means we can create a recursive function calculating this:\n"
   ]
  },
  {
   "cell_type": "code",
   "execution_count": null,
   "metadata": {},
   "outputs": [],
   "source": [
    "from functools import reduce\n",
    "\n",
    "def factorial(n):\n",
    "    if n == 0:\n",
    "        return 1\n",
    "    else:\n",
    "        return n * factorial(n-1)\n",
    "\n",
    "print(factorial(6))\n",
    "assert(factorial(6) == 720)"
   ]
  },
  {
   "cell_type": "markdown",
   "metadata": {},
   "source": [
    "### iterators/generators (`yield`, `next`, `iter`)"
   ]
  },
  {
   "cell_type": "markdown",
   "metadata": {},
   "source": [
    "### functional programming built ins (`map`, `filter`, `zip`)"
   ]
  },
  {
   "cell_type": "markdown",
   "metadata": {},
   "source": [
    "# Classes"
   ]
  },
  {
   "cell_type": "markdown",
   "metadata": {},
   "source": [
    "## Understanding Classes vs Objects vs Instances\n",
    "\n",
    "The following is taken from: https://www.codecademy.com/forum_questions/558cd3fc76b8fe06280002ce\n",
    "\n",
    "\"This course is gliding by some really fundamental concepts in Object Oriented Programming (OOP) that students really need to understand in order to grok how classes work within the larger framework of how OPP works.\n",
    "\n",
    "The truth is that object oriented programming often creates confusion by creating a disconnect between the philosophical side of development and the actual mechanical workings of the computer. I’ll try to contrast the two for you:\n",
    "\n",
    "The basic concept of OOP is this: Class >> Object >> Instance.\n",
    "\n",
    "The class = the blue print. The Object is an actual thing that is built based on the ‘blue print’ (like the house). An instance is a virtual copy (but not a real copy) of the object.\n",
    "\n",
    "So when the course inexplicably and without much contextual definition says things like\n",
    "\n",
    "    The first argument init() gets is used to refer to the instance object,\n",
    "\n",
    "It gets confusing because terminology is being mixed up and combined in unintuitive ways. It helps to think of it like this:\n",
    "\n",
    "A blueprint for a house design is like a class description. All the houses built from that blueprint are objects of that class. A given house is an instance.\n",
    "\n",
    "Finally, keeping in mind the following may help with grasping the concept:\n",
    "\n",
    "The key difference between a function and a class method: A function is floating free, unencumbered. A class (instance) method has to be aware of it’s parent (and parent properties) so you need to pass the method a reference to the parent class (as self). It’s just one less implicit rule that you have to internalize before understanding OOP. Other languages choose syntactic sugar over semantic simplicity, python isn’t other languages.\"\n"
   ]
  },
  {
   "cell_type": "markdown",
   "metadata": {},
   "source": [
    "### Defining classes\n",
    "\n",
    "When defining classes: \n",
    "* we use the `class` keyword to let python know we're defining a class\n",
    "* we include a name for our class (in CamelCase aka words with no separate but each first letter capitalized)\n",
    "* (optionally) a parenthesis with base/parent classes\n",
    "* a colon to indicate the indented code block below the definition is the class body\n",
    "\n",
    "some examples of this:"
   ]
  },
  {
   "cell_type": "code",
   "execution_count": null,
   "metadata": {},
   "outputs": [],
   "source": [
    "class Calculator:\n",
    "    @staticmethod\n",
    "    def add(x,y):\n",
    "        return x + y\n",
    "    \n",
    "    @staticmethod\n",
    "    def multiply(x,y):\n",
    "        return x * y\n",
    "    \n",
    "    @staticmethod\n",
    "    def div(x,y):\n",
    "        if y != 0:\n",
    "            return x / y\n",
    "        \n",
    "c = Calculator\n",
    "c.add(3,5)"
   ]
  },
  {
   "cell_type": "code",
   "execution_count": null,
   "metadata": {},
   "outputs": [],
   "source": [
    "import requests\n",
    "from bs4 import BeautifulSoup as bs\n",
    "\n",
    "class Scraper:\n",
    "    def __init__(self, url):\n",
    "        self.url = url\n",
    "        self.get_resp()\n",
    "        self.make_soup()\n",
    "        \n",
    "    def get_resp(self):\n",
    "        try:\n",
    "            self.resp = requests.get(self.url)\n",
    "        except:\n",
    "            self.resp = None\n",
    "        \n",
    "    def make_soup(self):\n",
    "        if self.resp:\n",
    "            self.soup = bs(self.resp.text)\n",
    "    \n",
    "    def print(self):\n",
    "        print(self.url)\n",
    "        print(self.resp.status_code)\n",
    "        print(self.soup.find('title').text)\n",
    "            \n",
    "s = Scraper(\"https://www.bloomberg.com\")\n",
    "s.print()"
   ]
  },
  {
   "cell_type": "markdown",
   "metadata": {},
   "source": [
    "### Instance Objects\n",
    "\n",
    "Instance objects are created using function notation and look like a function call. You put the class name and then arguments into the parenthesis after the class name. Those arguments are passed to the class's `__init__` method. Class methods (that are not decorated with `staticmethod`) all take an argument called `self` which refers in the instance (not the class) and will affect instances of the class created. Meaning that attributes and methods dealing with `self` will only be available to instances created using that function notation.\n",
    "\n",
    "example of this:"
   ]
  },
  {
   "cell_type": "code",
   "execution_count": null,
   "metadata": {},
   "outputs": [],
   "source": [
    "class Person:\n",
    "    def __init__(self, name, age):\n",
    "        self.name = name\n",
    "        self.age = age\n",
    "        \n",
    "    def print_name(self):\n",
    "        print(self.name)\n",
    "\n",
    "joe_biden = Person(\"Joe Biden\", 78)\n",
    "joe_biden.name\n",
    "\n",
    "Person.name"
   ]
  },
  {
   "cell_type": "markdown",
   "metadata": {},
   "source": [
    "### Difference between class/instance attributes\n",
    "\n",
    "Classes can have class attributes that are defined outside of the `__init__` method and are not stored as attributes of `self`. Instance attributes are set within `__init__` or any method taking `self` as an argument. Instance attributes only exist within the scope of that particular instance and aren't available to other class instances. Class attributes are available to all instances."
   ]
  },
  {
   "cell_type": "code",
   "execution_count": null,
   "metadata": {},
   "outputs": [],
   "source": [
    "class Example:\n",
    "    class_attribute = \"available to all instances\"\n",
    "    \n",
    "    def __init__(self, val):\n",
    "        self.instance_attribute = val\n",
    "        \n",
    "#print(Example.class_attribute)\n",
    "#print(Example.instance_attribute)\n",
    "\n",
    "s = Example(\"available only in this instance\")\n",
    "print(s.class_attribute)\n",
    "print(s.instance_attribute)"
   ]
  },
  {
   "cell_type": "markdown",
   "metadata": {},
   "source": [
    "### Instance Methods\n",
    "\n",
    "Instance methods are methods that are part of the class definition. Instance methods take self as the first argument. In fact, python passes `self` aka the instance to all class methods that do not have the decorator `staticmethod` even if you do not put `self` as the first argument. Methods that take `self` as the first argument have access to any attribute/method that is part of that class instance. \n",
    "\n",
    "example of this:"
   ]
  },
  {
   "cell_type": "code",
   "execution_count": null,
   "metadata": {},
   "outputs": [],
   "source": [
    "class Example:\n",
    "    def __init__(self, val):\n",
    "        self.val = val\n",
    "        \n",
    "    @staticmethod\n",
    "    def not_an_instance_method(arg):\n",
    "        print(\"running not_an_instance_method\")\n",
    "        print(arg)\n",
    "        \n",
    "    def instance_method(self, arg):\n",
    "        print(\"\\nrunning instance_method\")\n",
    "        print(self.val)\n",
    "        print(arg)\n",
    "        \n",
    "e = Example(46)\n",
    "e.not_an_instance_method(\"this arg isn't considered self\")\n",
    "e.instance_method(\"this is arg\")\n",
    "\n"
   ]
  },
  {
   "cell_type": "markdown",
   "metadata": {},
   "source": [
    "### Inheritance\n",
    "\n",
    "Object inheritance allows us to create classes that are based off already existing classes. This means we don't have to rewrite a lot of code if it already exists. If there's a class we'd like to extend, we can create a new class that inherits from it and all of the functionality provided by the base class is available to our new class.\n",
    "\n",
    "Because of inheritance, we can usually create generic classes that provide general functionality and then use that as a base class to create more specific classes that use functionality from the generic base class and extends it in ways that apply to that specific class. An example of this would be a `Shape` class. We can define attributes and methods that apply to all shapes. Then we can create specific classes like `Rectangle` and `Circle` that inherit the attributes/methods from `Shape` but extends the functionality to apply to those specific shapes. In this way, you can think of a sub class (a class inheriting from a base class) as a more specific version of the base class. \n",
    "\n",
    "examples of inheritance:"
   ]
  },
  {
   "cell_type": "code",
   "execution_count": null,
   "metadata": {},
   "outputs": [],
   "source": [
    "class Example(object):\n",
    "    def __init__(self, val):\n",
    "        self.val = val\n",
    "        \n",
    "e = Example(718)\n",
    "e.val"
   ]
  },
  {
   "cell_type": "markdown",
   "metadata": {},
   "source": [
    "Wait... you might be asking what's `object`? `object` is the base class for all classes created in python. `object` is the class that has the dunder methods and other class functionality that we take for granted when creating classes. In that sense, all classes in python are inherited classes. Because all classes in python inherit from `object`, we do NOT need to inherit it explicitly, python will always inherit from `object` when you create a class."
   ]
  },
  {
   "cell_type": "code",
   "execution_count": null,
   "metadata": {},
   "outputs": [],
   "source": [
    "dir(object)"
   ]
  },
  {
   "cell_type": "code",
   "execution_count": null,
   "metadata": {},
   "outputs": [],
   "source": [
    "class BaseClass: # low key inheriting from object\n",
    "    def __init__(self, val):\n",
    "        self.val = val\n",
    "        \n",
    "    def __repr__(self):\n",
    "        return f\"<BaseClass {self.val}>\"\n",
    "    \n",
    "    \n",
    "class InheritedClass(BaseClass):\n",
    "    pass\n",
    "    \n",
    "f = InheritedClass(\"718\")\n",
    "f"
   ]
  },
  {
   "cell_type": "code",
   "execution_count": null,
   "metadata": {},
   "outputs": [],
   "source": [
    "class Animal:\n",
    "    sound = None\n",
    "    type_of_animal = None\n",
    "    def make_sound(self):\n",
    "        print(f\"a {self.type_of_animal} {self.sound}s\")\n",
    "    \n",
    "class Dog(Animal):\n",
    "    type_of_animal = \"dog\"\n",
    "    sound = \"bark\"\n",
    "    \n",
    "class Cat(Animal):\n",
    "    type_of_animal = \"cat\"\n",
    "    sound = \"meow\"\n",
    "    \n",
    "d = Dog()\n",
    "d.make_sound()\n",
    "\n",
    "c = Cat()\n",
    "c.make_sound()"
   ]
  },
  {
   "cell_type": "code",
   "execution_count": null,
   "metadata": {},
   "outputs": [],
   "source": [
    "class Person:\n",
    "    def __init__(self, name, age):\n",
    "        self.name = name\n",
    "        self.age = age\n",
    "        \n",
    "    def __repr__(self):\n",
    "        return f\"<name: {self.name} age:{self.age}>\"\n",
    "    \n",
    "class Student(Person):\n",
    "    def __init__(self, name, age):\n",
    "        Person.__init__(self, name, age)\n",
    "        self.grades = []\n",
    "    \n",
    "    def set_grade(self,*grades):\n",
    "        for grade in grades:\n",
    "            self.grades.append(grade)\n",
    "            \n",
    "    def calc_avg(self):\n",
    "        return sum(self.grades)/len(self.grades)\n",
    "        \n",
    "s = Student(\"A\", 20)\n",
    "s.set_grade(100, 80, 30)\n",
    "print(s.calc_avg())\n",
    "print(s)\n",
    "s.name, s.age, s.grades"
   ]
  },
  {
   "cell_type": "markdown",
   "metadata": {},
   "source": [
    "### `super`\n",
    "__this section isn't review but it's helpful to know__\n",
    "\n",
    "`super` is a python keyword that lets us avoid having to reference the name of the baseclass. Then we don't need to pass `self`.\n",
    "\n",
    "we use it as follows:"
   ]
  },
  {
   "cell_type": "code",
   "execution_count": null,
   "metadata": {},
   "outputs": [],
   "source": [
    "class Person:\n",
    "    def __init__(self, name, age):\n",
    "        self.name = name\n",
    "        self.age = age\n",
    "        \n",
    "    def __repr__(self):\n",
    "        return f\"<name: {self.name} age:{self.age}>\"\n",
    "    \n",
    "class Student(Person):\n",
    "    def __init__(self, name, age):\n",
    "        super().__init__(name, age)\n",
    "        self.grades = []\n",
    "    \n",
    "    def set_grade(self,grade):\n",
    "        self.grades.append(grade)\n",
    "        \n",
    "s = Student(\"A\", 20)\n",
    "s.name, s.age, s.grades"
   ]
  },
  {
   "cell_type": "markdown",
   "metadata": {},
   "source": [
    "### Multiple Inheritance\n",
    "\n",
    "We can also inherit from multiple base classes. This allows us to create classes that are based off of two different base classes."
   ]
  },
  {
   "cell_type": "code",
   "execution_count": null,
   "metadata": {},
   "outputs": [],
   "source": [
    "class Home:\n",
    "    def __init__(self, num_of_beds):\n",
    "        self.num_of_beds = num_of_beds\n",
    "        \n",
    "    def describe_home(self):\n",
    "        print(f\"this home has  {self.num_of_beds}\")\n",
    "        \n",
    "class Vehicle:\n",
    "    def __init__(self, num_of_wheels):\n",
    "        self.num_of_wheels = num_of_wheels\n",
    "        \n",
    "    def describe_vehicle(self):\n",
    "        print(f\"this vehicle has {self.num_of_wheels} wheels\")\n",
    "\n",
    "class RV(Home, Vehicle):\n",
    "    def __init__(self, num_of_beds, num_of_wheels):\n",
    "        Home.__init__(self, num_of_beds)\n",
    "        Vehicle.__init__(self, num_of_wheels)\n",
    "    \n",
    "r = RV(2,4)\n",
    "\n",
    "r.describe_home()\n",
    "r.describe_vehicle()"
   ]
  },
  {
   "cell_type": "markdown",
   "metadata": {},
   "source": [
    "### Method Overloading\n",
    "\n",
    "A class that inherits from a base class can override the base class's method the same way a subclass can override a base class's attributes.\n"
   ]
  },
  {
   "cell_type": "code",
   "execution_count": null,
   "metadata": {},
   "outputs": [],
   "source": [
    "class Example:\n",
    "    def __init__(self,val):\n",
    "        self.val = val\n",
    "        \n",
    "e = Example(46)"
   ]
  },
  {
   "cell_type": "code",
   "execution_count": null,
   "metadata": {},
   "outputs": [],
   "source": [
    "class Shape:\n",
    "    def __init__(self, color):\n",
    "        self.color = color\n",
    "        \n",
    "    def print_color(self):\n",
    "        print(self.color)\n",
    "        \n",
    "    def area(self):\n",
    "        return \"not defined\"\n",
    "    \n",
    "class Rectangle(Shape):\n",
    "    def __init__(self, color, height, width):\n",
    "        super().__init__(color)\n",
    "        self.height = height\n",
    "        self.width = width\n",
    "    \n",
    "    def area(self):\n",
    "        return self.height * self.width\n",
    "    \n",
    "class Square(Rectangle):\n",
    "    def __init__(self, color, length):\n",
    "        self.length = length\n",
    "        super().__init__(color, self.length, self.length)\n",
    "    \n",
    "s = Square(\"black\", 5)\n",
    "f\"color: {s.color}, length: {s.length}, height: {s.height}, width: {s.width}, area: {s.area()}\""
   ]
  },
  {
   "cell_type": "markdown",
   "metadata": {},
   "source": [
    "### Operator Overloading\n",
    "\n",
    "Operator overloading is similar to method overloading except the methods we are overloading are actually the python programming language's operators that all objects have dunder methods for. This allows us to use those operators with our newly created objects with the same functionality you would expect.\n",
    "\n",
    "Some examples are:\n",
    "\n",
    "`==`  `__eq__`  \n",
    "`+` `__add__`  \n",
    "`-` `__sub__`    \n",
    "`*` `__mul__`  \n",
    "`/` `__truediv__`  \n",
    "`//` `__floordiv__`  \n",
    "`%` `__mod__`  \n",
    "`**` `__pow__`  \n",
    "`<`  `__lt__`   \n",
    "`>`  `__gt__`  \n",
    "`<=` `__le__`  \n",
    "`>=` `__ge__`  \n",
    "`!=` `__ne__`\n"
   ]
  },
  {
   "cell_type": "code",
   "execution_count": null,
   "metadata": {},
   "outputs": [],
   "source": [
    "class Point:\n",
    "    def __init__(self, x=0, y=0):\n",
    "        self.x = x\n",
    "        self.y = y\n",
    "    \n",
    "    def __eq__(self, other):\n",
    "        return self.x == other.x and self.y == other.y\n",
    "    \n",
    "p1 = Point(2,4)\n",
    "p2 = Point(3,6)\n",
    "p3 = Point(2,4)\n",
    "\n",
    "p1 == p3, p2 == p3"
   ]
  },
  {
   "cell_type": "markdown",
   "metadata": {},
   "source": []
  },
  {
   "cell_type": "markdown",
   "metadata": {},
   "source": [
    "### Decorators (`classmethod`, `staticmethod`, `property`)\n",
    "\n",
    "#### `@staticmethod`\n",
    "\n",
    "Instance methods take self as an argument since we need to pass the instance the method is operating on. Which means there's a serious limitation. In order to use an instance method, we have to create an instance and then we're able to call that method. "
   ]
  },
  {
   "cell_type": "code",
   "execution_count": null,
   "metadata": {},
   "outputs": [],
   "source": [
    "class Example:\n",
    "    def __init__(self, val):\n",
    "        self.val = val\n",
    "        \n",
    "    def say_hello(self):\n",
    "        print(\"hello\")\n",
    "        \n",
    "e = Example\n",
    "e.say_hello() # works because we created an instance of Example\n",
    "Example.say_hello() # doesn't work since there's no instance"
   ]
  },
  {
   "cell_type": "markdown",
   "metadata": {},
   "source": [
    "`@staticmethod` is used when you want to add a method to a class that doesn't take `self` as an argument. By default, python passes `self` as the argument for any method but you may not want a method of the class to take that as an argument. \n",
    "\n",
    "example of this:"
   ]
  },
  {
   "cell_type": "code",
   "execution_count": null,
   "metadata": {},
   "outputs": [],
   "source": [
    "import datetime\n",
    "import time\n",
    "\n",
    "class Book:\n",
    "    def __init__(self, entries=[]):\n",
    "        self.entries = entries\n",
    "        \n",
    "    def add_entry(self,text):\n",
    "        self.entries.append([text, self.time()])\n",
    "        \n",
    "    @staticmethod\n",
    "    def time():\n",
    "        t = datetime.datetime.now()\n",
    "        return t.strftime(\"%m/%d/%Y, %H:%M:%S\")\n",
    "    \n",
    "b = Book()\n",
    "b.add_entry(\"first entry\")\n",
    "time.sleep(1)\n",
    "b.add_entry(\"second entry\")\n",
    "time.sleep(1)\n",
    "b.add_entry(\"third entry\")\n",
    "b.entries"
   ]
  },
  {
   "cell_type": "markdown",
   "metadata": {},
   "source": [
    "The above example uses the `time` method as part of the instance but we can use a `staticmethod` without creating an instance. This allows us to use the same method in other python code without explicitly declaring any instance."
   ]
  },
  {
   "cell_type": "code",
   "execution_count": null,
   "metadata": {},
   "outputs": [],
   "source": [
    "Book.time()  "
   ]
  },
  {
   "cell_type": "markdown",
   "metadata": {},
   "source": [
    "So any `staticmethod` can be used in both an instance and a class."
   ]
  },
  {
   "cell_type": "code",
   "execution_count": null,
   "metadata": {},
   "outputs": [],
   "source": [
    "Book().time(), Book.time()"
   ]
  },
  {
   "cell_type": "markdown",
   "metadata": {},
   "source": [
    "#### `@classmethod`\n",
    "\n",
    "Classes allow instance methods which rely on an instance of the class being created, staticmethods which don't rely on an instance \n",
    "\n",
    "`@classmethod` is used when instead of taking `self` which is the instance as an argument, we want the method to take the `class` itself as an argument. We can use these `classmethod`s to do interesting things like create instances since they don't rely on any particular instance. You can think of a `classmethod` as doing an operation on a class while an instance method does an operation specifically on an instance.\n",
    "\n",
    "example of this:"
   ]
  },
  {
   "cell_type": "code",
   "execution_count": null,
   "metadata": {},
   "outputs": [],
   "source": [
    "import datetime\n",
    "\n",
    "class Person:\n",
    "    def __init__(self, name, age):\n",
    "        self.name = name\n",
    "        self.age = age\n",
    "        \n",
    "    @classmethod\n",
    "    def from_birth_year(cls, name, birth_year):\n",
    "        return cls(name, datetime.date.today().year - birth_year)\n",
    "        \n",
    "    def __repr__(self):\n",
    "        return f\"Person(name='{self.name}', age={self.age})\"\n",
    "        \n",
    "person1 = Person(\"person1\", 20)\n",
    "person2 = Person.from_birth_year(\"person2\", 2000)\n",
    "person1, person2"
   ]
  },
  {
   "cell_type": "markdown",
   "metadata": {},
   "source": [
    "#### `@property`\n",
    "\n",
    "Say we had a class called `Person` that is initialized with `first_name` and `last_name`. And we want to use that to set `full_name`. We can do it like so:"
   ]
  },
  {
   "cell_type": "code",
   "execution_count": null,
   "metadata": {},
   "outputs": [],
   "source": [
    "class Person:\n",
    "    def __init__(self, first_name, last_name):\n",
    "        self.first_name = first_name\n",
    "        self.last_name = last_name\n",
    "        self.full_name = f\"{self.first_name} {self.last_name}\""
   ]
  },
  {
   "cell_type": "markdown",
   "metadata": {},
   "source": [
    "Now we can use the `full_name` attribute. But note what happens if we want to set a full name using that attribute."
   ]
  },
  {
   "cell_type": "code",
   "execution_count": null,
   "metadata": {},
   "outputs": [],
   "source": [
    "p = Person(\"first\", \"last\")\n",
    "print(p.full_name)"
   ]
  },
  {
   "cell_type": "code",
   "execution_count": null,
   "metadata": {},
   "outputs": [],
   "source": [
    "p.full_name = \"new name\"\n",
    "p.first_name, p.last_name # not updated"
   ]
  },
  {
   "cell_type": "markdown",
   "metadata": {},
   "source": [
    "We want to be able to do two things:\n",
    "1. Be able to access the attribute `full_name`\n",
    "2. Be able to change `full_name` and have it change `first_name` and `last_name`\n",
    "\n",
    "@property let's us do this. First we need to make `full_name` a property and move the creation of `full_name` into a function and decorate it with `@property` which allows us to still access it as an attribute even though a method creates it. This is considered a `getter` in python."
   ]
  },
  {
   "cell_type": "code",
   "execution_count": null,
   "metadata": {},
   "outputs": [],
   "source": [
    "class Person:\n",
    "    def __init__(self, first_name, last_name):\n",
    "        self.first_name = first_name\n",
    "        self.last_name = last_name\n",
    "        \n",
    "    @property\n",
    "    def full_name(self):\n",
    "        return f\"{self.first_name} {self.last_name}\"\n",
    "    \n",
    "p = Person(\"first\", \"last\")\n",
    "p.full_name"
   ]
  },
  {
   "cell_type": "markdown",
   "metadata": {},
   "source": [
    "Since `full_name` is decorated with `property`, we can use `full_name` to create a `setter`"
   ]
  },
  {
   "cell_type": "code",
   "execution_count": null,
   "metadata": {},
   "outputs": [],
   "source": [
    "class Person:\n",
    "    def __init__(self, first_name, last_name):\n",
    "        self.first_name = first_name\n",
    "        self.last_name = last_name\n",
    "        \n",
    "    @property\n",
    "    def full_name(self):\n",
    "        return f\"{self.first_name} {self.last_name}\"\n",
    "    \n",
    "    @full_name.setter\n",
    "    def full_name(self, full_name):\n",
    "        self.first_name, self.last_name = full_name.split(' ')\n",
    "    \n",
    "p = Person(\"first\", \"last\")\n",
    "print(f\"first: {p.first_name}, last: {p.last_name}, full: {p.full_name}\")\n",
    "p.full_name = 'new name'\n",
    "print(f\"first: {p.first_name}, last: {p.last_name}, full: {p.full_name}\")"
   ]
  },
  {
   "cell_type": "markdown",
   "metadata": {},
   "source": [
    "# Algorithms and Data Structures"
   ]
  },
  {
   "cell_type": "markdown",
   "metadata": {},
   "source": [
    "### Singularly Linked List\n",
    "\n",
    "A linked list is a data structure in python that adds `Node` objects that are linked to each other with pointers. When you add to a linked list, you usually add to the back of the list. \n",
    "\n",
    "To implement a linked list, you need the following methods:\n",
    "* append - a method that appends to the back of the list\n",
    "* print - a method that outputs the elements of the list "
   ]
  },
  {
   "cell_type": "code",
   "execution_count": null,
   "metadata": {},
   "outputs": [],
   "source": [
    "class Node:\n",
    "    def __init__(self, data=None):\n",
    "        self.data = data\n",
    "        self.next = None\n",
    "        \n",
    "class LinkedList:\n",
    "    def __init__(self):\n",
    "        self.tail = None\n",
    "        self.head = None\n",
    "        self.count = 0\n",
    "        \n",
    "    def iterate_items(self):\n",
    "        current_item = self.head\n",
    "        while current_item:\n",
    "            val = current_item.data\n",
    "            current_item = current_item.next\n",
    "            yield val\n",
    "            \n",
    "    def append(self, data=None):\n",
    "        node = Node(data)\n",
    "        if self.tail:\n",
    "            self.tail.next = node\n",
    "            self.tail = node\n",
    "        else:\n",
    "            self.tail = node\n",
    "            self.head = node\n",
    "        self.count += 1\n",
    "        \n",
    "items = LinkedList()\n",
    "items.append('HTML')\n",
    "items.append('CSS')\n",
    "items.append('Javascript')\n",
    "items.append('Python')\n",
    "items.count\n",
    "items"
   ]
  },
  {
   "cell_type": "markdown",
   "metadata": {},
   "source": [
    "### Queues\n",
    "\n",
    "A queue is a CS data structure that operates under FIFO (first-in, first out). Entries are added to the back of the queue but they leave from the front. Similar to a line in a grocery store. \n",
    "\n",
    "To implement a queue, you need the following:\n",
    "* `add` - a method to add to the back of the queue\n",
    "* `remove` - a method to remove from the front of the queue\n",
    "* `print` - a method to output the full queue from front to back\n",
    "\n",
    "Optional methods:\n",
    "* `peek` - a method to show what's at the front of the queue without removal\n",
    "\n",
    "In python the code is as follows:"
   ]
  },
  {
   "cell_type": "code",
   "execution_count": null,
   "metadata": {},
   "outputs": [],
   "source": [
    "class Queue:\n",
    "    def __init__(self):\n",
    "        self.queue = []\n",
    "        \n",
    "    def add(self, val):\n",
    "        self.queue.append(val)\n",
    "        \n",
    "    def remove(self):\n",
    "        return self.queue.pop(0)\n",
    "    \n",
    "    def print(self):\n",
    "        print(self.queue)\n",
    "        \n",
    "    def peek(self):\n",
    "        return self.queue[0]\n",
    "    \n",
    "q = Queue()\n",
    "q.add(1)\n",
    "q.add(2)\n",
    "q.add(3)\n",
    "q.add(4)\n",
    "q.print()\n",
    "print(f\"removed: {q.remove()}\")\n",
    "print(f\"front: {q.peek()}\")\n",
    "q.print()"
   ]
  },
  {
   "cell_type": "markdown",
   "metadata": {},
   "source": [
    "### A queue implemented with a linked list:"
   ]
  },
  {
   "cell_type": "code",
   "execution_count": null,
   "metadata": {},
   "outputs": [],
   "source": [
    "class Node:\n",
    "    def __init__(self, data=None):\n",
    "        self.data = data\n",
    "        self.next = None\n",
    "        self.previous = None\n",
    "    \n",
    "    def __repr__(self):\n",
    "        return f\"<node - {self.data}>\"\n",
    "        \n",
    "class Queue:\n",
    "    def __init__(self):\n",
    "        self.tail = None\n",
    "        self.head = None\n",
    "        self.count = 0\n",
    "        \n",
    "    def iterate_items(self):\n",
    "        current_item = self.head\n",
    "        while current_item:\n",
    "            val = current_item.data\n",
    "            current_item = current_item.next\n",
    "            yield val\n",
    "            \n",
    "    def append(self, data=None):\n",
    "        node = Node(data)\n",
    "        if self.tail:\n",
    "            tail = self.tail\n",
    "            tail.next = node\n",
    "            self.tail = node\n",
    "            self.tail.previous = tail\n",
    "        else:\n",
    "            self.tail = node\n",
    "            self.head = node\n",
    "        self.count += 1\n",
    "        \n",
    "    def pop(self):\n",
    "        if self.head:\n",
    "            old_head = self.head\n",
    "            new_head = self.head.next\n",
    "            old_head.next = None\n",
    "            new_head.previous = None\n",
    "            self.head = new_head\n",
    "        return old_head\n",
    "        \n",
    "line = Queue()\n",
    "line.append('Person1')\n",
    "line.append('Person2')\n",
    "line.append('Person3')\n",
    "line.append('Person4')\n",
    "line.count\n",
    "print(\"listing all:\")\n",
    "print(list(line.iterate_items()))\n",
    "print(\"popping first:\")\n",
    "print(line.pop())\n",
    "print(\"listing remaining:\")\n",
    "print(list(line.iterate_items()))\n",
    "line.head"
   ]
  },
  {
   "cell_type": "markdown",
   "metadata": {},
   "source": [
    "### Stacks\n",
    "\n",
    "A stack in CS is a data structure that operates under LIFO. Entries are added to the top of the stack and then removed from the top of the stack. \n",
    "\n",
    "To implement a stack, you need the following methods:\n",
    "* `add` - a method to add to the top of the stack \n",
    "* `remove` - a method to remove from the top of the stack\n",
    "* `print` - a method to print the stack from bottom to top.\n",
    "\n",
    "Option methods:\n",
    "* `peek` - a method to see the top of the stack without removal"
   ]
  },
  {
   "cell_type": "code",
   "execution_count": null,
   "metadata": {},
   "outputs": [],
   "source": [
    "class Stack:\n",
    "    def __init__(self):\n",
    "        self.stack = []\n",
    "        \n",
    "    def add(self, val):\n",
    "        self.stack.append(val)\n",
    "        \n",
    "    def remove(self):\n",
    "        return self.stack.pop()\n",
    "    \n",
    "    def print(self):\n",
    "        print(self.stack)\n",
    "        \n",
    "    def peek(self):\n",
    "        return self.stack[-1]\n",
    "    \n",
    "s = Stack()\n",
    "s.add(1)\n",
    "s.add(2)\n",
    "s.add(3)\n",
    "s.add(4)\n",
    "s.print()\n",
    "print(f\"removed: {s.remove()}\")\n",
    "print(f\"top: {s.peek()}\")\n",
    "s.print()"
   ]
  },
  {
   "cell_type": "markdown",
   "metadata": {},
   "source": [
    "### Try creating a stack using a linked list "
   ]
  },
  {
   "cell_type": "markdown",
   "metadata": {},
   "source": [
    "### Big O Notation\n",
    "\n",
    "Big O notation is used to describe the time complexity of an algorithm in computer science. It describes the complexity in terms of limits tending towards infinity. In this sense, you can think of it as considering the complexity as the number inputs into the algorithm get very large. Under these conditions, minor steps of a function get dominated by the more major steps. This is why we only want to consider things like the loops as more of a factor than a step that takes constant time.\n",
    "\n",
    "e.g.\n",
    "```\n",
    "O(n + 1) -> O(n)\n",
    "O(n^2 + n) -> O(n^2)\n",
    "```\n",
    "\n",
    "When analyzing the time complexity of an algorithm, we want to think of how increasing the number of inputs affect the run-time of our algorithms.\n",
    "\n",
    "Some examples:"
   ]
  },
  {
   "cell_type": "markdown",
   "metadata": {},
   "source": [
    "Constant time or O(1):"
   ]
  },
  {
   "cell_type": "code",
   "execution_count": null,
   "metadata": {},
   "outputs": [],
   "source": [
    "def print_hello_world():\n",
    "    print(\"hello world\")"
   ]
  },
  {
   "cell_type": "markdown",
   "metadata": {},
   "source": [
    "Linear time or O(n)"
   ]
  },
  {
   "cell_type": "code",
   "execution_count": null,
   "metadata": {},
   "outputs": [],
   "source": [
    "def linear_time(*args):\n",
    "    for i in args:\n",
    "        print(i)"
   ]
  },
  {
   "cell_type": "code",
   "execution_count": null,
   "metadata": {},
   "outputs": [],
   "source": [
    "Quadratic time or O(n**2)"
   ]
  },
  {
   "cell_type": "code",
   "execution_count": null,
   "metadata": {},
   "outputs": [],
   "source": [
    "def quadratic_time(*args):\n",
    "    for i in args:\n",
    "        for j in args:\n",
    "            print(i,j)"
   ]
  },
  {
   "cell_type": "markdown",
   "metadata": {},
   "source": [
    "Remember, we only really care about the most complex part and we drop off constants and more minor steps. \n",
    "\n",
    "The following is O(n^2 + n) -> O(n^2) "
   ]
  },
  {
   "cell_type": "code",
   "execution_count": null,
   "metadata": {},
   "outputs": [],
   "source": [
    "def example(*args):\n",
    "    for i in args:\n",
    "        print(i)\n",
    "        \n",
    "    for i in args:\n",
    "        for j in args:\n",
    "            print(i,j)"
   ]
  },
  {
   "cell_type": "markdown",
   "metadata": {},
   "source": [
    "# Other Topics:"
   ]
  },
  {
   "cell_type": "markdown",
   "metadata": {},
   "source": [
    "## Errors \n",
    "\n",
    "Errors in python are thrown in situations where the interpreter cannot continue because of some issue with the code.\n",
    "\n",
    "Some common errors in python:\n",
    "\n",
    "`AssertionError` - raised when an assertion fails.  \n",
    "`KeyError` - raised when a key isn't found in a dictionary.  \n",
    "`IndexError` - raised when an index isn't found in a list/tuple.  \n",
    "`TypeError` - raised when an operation is applied to the wrong type.  \n",
    "`ValueError` - raised when an argument passed to a function is correct by the value is wrong.  \n"
   ]
  },
  {
   "cell_type": "markdown",
   "metadata": {},
   "source": [
    "### Handling with `try`/`except` \n",
    "\n",
    "In python, we can use the `try`/`except` (always together) control structure to attempt execution of a code block and if erroneous, catch the error and execute a different code block. This allows us to catch errors that would otherwise stop our code execution and run a different code block that will handle those situations. Note: the only error we CANNOT catch is a syntax error as those are thrown before code is attempted to be executed."
   ]
  },
  {
   "cell_type": "code",
   "execution_count": null,
   "metadata": {},
   "outputs": [],
   "source": [
    "s = [0,1,2,3,4]\n",
    "\n",
    "def func(s):\n",
    "    try:\n",
    "        tenth_element = s[10]\n",
    "    # catching a generic error\n",
    "    except Exception:\n",
    "        print(\"error caught\")\n",
    "        \n",
    "func(s)"
   ]
  },
  {
   "cell_type": "code",
   "execution_count": null,
   "metadata": {},
   "outputs": [],
   "source": [
    "s = [0,1,2,3,4]\n",
    "\n",
    "def func(s):\n",
    "    try:\n",
    "        tenth_element = s[10]\n",
    "    # catching a specific error\n",
    "    except IndexError:\n",
    "        print(\"error caught\")\n",
    "        \n",
    "func(s)"
   ]
  },
  {
   "cell_type": "code",
   "execution_count": null,
   "metadata": {},
   "outputs": [],
   "source": [
    "s = [0,1,2,3,4]\n",
    "\n",
    "def func(s):\n",
    "    try:\n",
    "        tenth_element = s[10]\n",
    "    # catching a generic error and passing the error to the control block\n",
    "    except IndexError as e:\n",
    "        print(f\"error caught: {e}\")\n",
    "        \n",
    "func(s)"
   ]
  },
  {
   "cell_type": "markdown",
   "metadata": {},
   "source": [
    "### Raising errors with `raise`\n",
    "\n",
    "We can always raise an error so python stops code execution in specific situations using the `raise` keyword."
   ]
  },
  {
   "cell_type": "code",
   "execution_count": null,
   "metadata": {},
   "outputs": [],
   "source": [
    "def func(i):\n",
    "    if not type(i) == str:\n",
    "        raise ValueError(\"Input must be a string\")\n",
    "    else:\n",
    "        print(i.lower())\n",
    "        \n",
    "func(46)"
   ]
  },
  {
   "cell_type": "markdown",
   "metadata": {},
   "source": [
    "### Reading and Writing files\n",
    "\n",
    "We can open files for reading or writing using the `open` built in function.\n",
    "\n",
    "We pass the filename to open and a character to signify what mode we're opening the file in.\n",
    "\n",
    "modes:\n",
    "```\n",
    "\"r\" - open file for reading\n",
    "\"w\" - open file for writing\n",
    "\"a\" - open file for appending\n",
    "\"x\" - creates a file, throws error if file exists\n",
    "\"rw\"\n",
    "\n",
    "```"
   ]
  },
  {
   "cell_type": "code",
   "execution_count": null,
   "metadata": {},
   "outputs": [],
   "source": [
    "f = open(\"filename.txt\", \"w\") \n",
    "f.write(\"hello world\")\n",
    "f.close() # we must always close a file that we open"
   ]
  },
  {
   "cell_type": "markdown",
   "metadata": {},
   "source": [
    "`With` statement\n",
    "\n",
    "In python `with` is a control structure that allows us to perform an operation with some sort of context. Python objects such as `open` have special hooks for the `with` statement so that when out of context, some sort of \"teardown\" is executed. For `open`, that \"teardown\" involves closing the file."
   ]
  },
  {
   "cell_type": "code",
   "execution_count": null,
   "metadata": {},
   "outputs": [],
   "source": [
    "with open(\"filename.txt\", \"r\") as file:\n",
    "    s = file.read()\n",
    "\n",
    "print(s)"
   ]
  },
  {
   "cell_type": "code",
   "execution_count": null,
   "metadata": {},
   "outputs": [],
   "source": []
  }
 ],
 "metadata": {
  "kernelspec": {
   "display_name": "Python 3",
   "language": "python",
   "name": "python3"
  },
  "language_info": {
   "codemirror_mode": {
    "name": "ipython",
    "version": 3
   },
   "file_extension": ".py",
   "mimetype": "text/x-python",
   "name": "python",
   "nbconvert_exporter": "python",
   "pygments_lexer": "ipython3",
   "version": "3.9.0"
  }
 },
 "nbformat": 4,
 "nbformat_minor": 4
}
