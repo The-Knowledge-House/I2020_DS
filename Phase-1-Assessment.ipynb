{
 "cells": [
  {
   "cell_type": "markdown",
   "metadata": {},
   "source": [
    "<div style=\"background: #000;\n",
    "            color: #FFF;\n",
    "            margin: 0px;\n",
    "            padding: 20px 0px 0px 0px;\">\n",
    "    <h1><center>Phase 1 Assessment</center></h1>\n",
    "</div>\n",
    "\n",
    "### Instructions:\n",
    "1. Rename this notebook to include your name __(files submitted without names will be docked 20 points)__.\n",
    "2. Do NOT commit your solutions to github. Submit this file to google classroom __(automatic failure if you push this to github)__.\n",
    "3. Do NOT plagerize. Submit your own work (partial credit will be generous) __(automatic failure if caught)__.\n",
    "4. Please private message any questions to either members of staff so that any vagueness/uncertainty can be addressed.\n"
   ]
  },
  {
   "cell_type": "markdown",
   "metadata": {},
   "source": [
    "### Exercise 1\n",
    "\n",
    "Create a function that takes two arguments (both arguments being lists) and uses them to create a dictionary. The first argument should be used for the keys and the second argument should be used as the values. Each element should match up (meaning the first element of the first argument/list should be the key while the first element of the second argument/list should be the value). If either list is missing an element that the other has, skip it.\n",
    "\n",
    "Examples\n",
    "```\n",
    "ex1([],[]) -> {}\n",
    "ex1([0,1,2],[]) -> {}\n",
    "ex1(['a', 'b', 'c'], [1,2,3]) -> {'a':1, 'b':2, 'c':3}\n",
    "\n",
    "\n",
    "```"
   ]
  },
  {
   "cell_type": "code",
   "execution_count": null,
   "metadata": {},
   "outputs": [],
   "source": [
    "def exercise_1(lst1, lst2):\n",
    "    pass\n",
    "\n",
    "try:\n",
    "    assert(exercise_1([],[]) == {})\n",
    "    assert(exercise_1([0,1,2],[]) == {})\n",
    "    assert(exercise_1([0,1],[0]) == {0: 0})\n",
    "    assert(exercise_1(['a', 'b', 'c'],[1,2,3]) == {'a': 1, 'b': 2, 'c': 3})\n",
    "    print(\"solution is correct\")\n",
    "except AssertionError:\n",
    "    print(\"solution is incorrect\")"
   ]
  },
  {
   "cell_type": "markdown",
   "metadata": {},
   "source": [
    "### Exercise 2\n",
    "\n",
    "Create a function that outputs a list of all the even numbers from 1 to 500 that are also divisible by 3, 5 AND 7."
   ]
  },
  {
   "cell_type": "code",
   "execution_count": null,
   "metadata": {},
   "outputs": [],
   "source": [
    "from hashlib import sha256\n",
    "\n",
    "def exercise_2():\n",
    "    pass\n",
    "\n",
    "try:\n",
    "    assert(sha256(str(exercise_2()).encode('utf-8')).hexdigest() == \"b7e8451a417e44cd5335477fdb1d333005a24471781ff5e74f937996f933e50f\" )\n",
    "    print(\"solution is correct\")\n",
    "except AssertionError:\n",
    "    print(\"solution is incorrect\")"
   ]
  },
  {
   "cell_type": "markdown",
   "metadata": {},
   "source": [
    "### Exercise 3\n",
    "\n",
    "Fix the following code:"
   ]
  },
  {
   "cell_type": "code",
   "execution_count": null,
   "metadata": {},
   "outputs": [],
   "source": [
    "class Node:\n",
    "    def __init__(self, data=None):\n",
    "        self.data = data\n",
    "        self.previous = None\n",
    "    \n",
    "    def __repr__(self):\n",
    "        return f\"<node - {self.data}>\"\n",
    "        \n",
    "class Stack:\n",
    "    def __init__(self):\n",
    "        self.top = None\n",
    "        self.bottom = None\n",
    "        self.count = 0\n",
    "        \n",
    "    def print_items(self):\n",
    "        current_item = self.top\n",
    "        while current_item:\n",
    "            val = current_item.data\n",
    "            print(current_item)\n",
    "            current_item = current_item.previous\n",
    "            \n",
    "    def add(self, data=None):\n",
    "        node = Node(data)\n",
    "        if self.top:\n",
    "            ##################\n",
    "            # fix this part: #\n",
    "            ##################\n",
    "            \n",
    "            pass\n",
    "            \n",
    "            ##################\n",
    "            #   end of part  #\n",
    "            ##################\n",
    "        else:\n",
    "            self.top = node\n",
    "            self.bottom = node\n",
    "        self.count += 1\n",
    "        \n",
    "    def pop(self):\n",
    "        if self.top:\n",
    "            old_top = self.top\n",
    "            self.top = old_top.previous\n",
    "            return old_top\n",
    "        else:\n",
    "            return \"empty stack\"\n",
    "\n",
    "        \n",
    "stack = Stack()\n",
    "stack.add('book1')\n",
    "stack.add('book2')\n",
    "stack.add('book3')\n",
    "stack.add('book4')\n",
    "print(\"printing count:\")\n",
    "print(stack.count)\n",
    "print(\"\\nlisting stack:\")\n",
    "stack.print_items()\n",
    "print(\"\\npopping from top of stack:\")\n",
    "print(stack.pop())\n",
    "print(\"\\nlisting remaining:\")\n",
    "stack.print_items()\n",
    "print(\"\\nprinting top of stack:\")\n",
    "print(stack.bottom)"
   ]
  },
  {
   "cell_type": "markdown",
   "metadata": {},
   "source": [
    "### Exercise 4\n",
    "\n",
    "Given the following two sets, assign to variable `exercise_4` a set that contains the elements of `m` and  the elements of `n`."
   ]
  },
  {
   "cell_type": "code",
   "execution_count": null,
   "metadata": {},
   "outputs": [],
   "source": [
    "m = {1,2,3,4,5}\n",
    "n = {4,5,6,7,8}\n",
    "\n",
    "exercise_4 = None\n",
    "\n",
    "try:\n",
    "    assert(exercise_4 == {1, 2, 3, 4, 5, 6, 7, 8})\n",
    "    print(\"solution is correct\")\n",
    "except AssertionError:\n",
    "    print(\"solution is incorrect\")"
   ]
  },
  {
   "cell_type": "markdown",
   "metadata": {},
   "source": [
    "### Exercise 5\n",
    "\n",
    "Create a class called `Circle` that extends the class `Shape`. `Circle` should be initialized with the same arguments as `Shape` but also take a new argument called `radius`. Override the area method so that it calculates the area of a circle using that `radius`.\n",
    "\n",
    "The area of a circle is calculated using the following formula:\n",
    "\n",
    "$$ A = \\pi r^2$$"
   ]
  },
  {
   "cell_type": "code",
   "execution_count": null,
   "metadata": {},
   "outputs": [],
   "source": [
    "class Shape:\n",
    "    def __init__(self, color):\n",
    "        self.color = color\n",
    "        \n",
    "    def area(self):\n",
    "        pass\n",
    "    \n",
    "class Circle(Shape):\n",
    "    pass\n",
    "\n",
    "try:\n",
    "    c = Circle(\"red\", 10)\n",
    "    assert(c.area() == round(314))\n",
    "    print(\"solution is correct\")\n",
    "except AssertionError:\n",
    "    print(\"solution is incorrect\")"
   ]
  },
  {
   "cell_type": "markdown",
   "metadata": {},
   "source": [
    "### Exercise 6\n",
    "\n",
    "Create a class called `Vector` that takes two integer arguments (`x` and `y`) and sets them as instance attributes. Then create a function that overloads the addition and equality operators so you can add the Vectors together and then check if two `Vector` instances are equal.\n",
    "\n",
    "Vectors are equal if they corresponding `x` and `y` values are equal:\n",
    "```\n",
    ">>> u = Vector(4,5)\n",
    ">>> v = Vector(4,5)\n",
    ">>> z = Vector(4,6)\n",
    ">>> u == v\n",
    "True\n",
    ">>> u.x == v.x\n",
    "True\n",
    ">>> u == z\n",
    "False\n",
    ">>> u.y == z.y\n",
    "False\n",
    "\n",
    "```\n",
    "\n",
    "Vector addition should work as follows:\n",
    "```\n",
    ">>> u = Vector(4,5)\n",
    ">>> v = Vector(5,7)\n",
    ">>> u + v\n",
    "Vector(9, 12)\n",
    "\n",
    ">>> u = Vector(4, -5)\n",
    ">>> v = Vector(4, 5)\n",
    ">>> u + v\n",
    "Vector(8, 0)\n",
    "```\n",
    "\n",
    "\n"
   ]
  },
  {
   "cell_type": "code",
   "execution_count": null,
   "metadata": {},
   "outputs": [],
   "source": [
    "class Vector:\n",
    "    pass\n",
    "\n",
    "try:\n",
    "    u = Vector(4,5)\n",
    "    v = Vector(4,5)\n",
    "    assert(u.x == 4 and u.y == 5)\n",
    "    print(\"solution creating Vector class correct\")\n",
    "    assert(u == v)\n",
    "    print(\"solution to equality operator overloading correct\")\n",
    "    z = Vector(4,-5)\n",
    "    assert(v + z == Vector(8,0))\n",
    "    print(\"solution to addition operator overloading correct\")\n",
    "except AssertionError:\n",
    "    print(\"solution incorrect\")"
   ]
  },
  {
   "cell_type": "markdown",
   "metadata": {},
   "source": [
    "### Exercise 7\n",
    "\n",
    "Create a function `exercise_7` that takes a list `lst` and a value `elem` and loops through `lst` looking for `elem`. If `elem` is found, return the index it's at. If not found, return `-1`."
   ]
  },
  {
   "cell_type": "code",
   "execution_count": null,
   "metadata": {},
   "outputs": [],
   "source": [
    "def exercise_7(lst, elem):\n",
    "    pass\n",
    "    \n",
    "try:\n",
    "    assert(exercise_7([], 'a') == -1)\n",
    "    assert(exercise_7(['0'], '0') == 0)\n",
    "    assert(exercise_7([1,2,3,4,5,6,7,8,9], 9) == 8)\n",
    "    print(\"solution is correct\")\n",
    "except AssertionError:\n",
    "    print(\"solution is incorrect\")"
   ]
  },
  {
   "cell_type": "markdown",
   "metadata": {},
   "source": [
    "### Exercise 8\n",
    "\n",
    "Create a function `exercise_8` that takes an integer between 0 and 100. Any input of another type passed to the function should return `None`. Any other number that is not an integer in that range should return `-1`. Passing an integer under 50 should return `0`. Passing an integer greater than 50 should return `100`."
   ]
  },
  {
   "cell_type": "code",
   "execution_count": null,
   "metadata": {},
   "outputs": [],
   "source": [
    "def exercise_8(n):\n",
    "    pass\n",
    "    \n",
    "try:\n",
    "    assert(exercise_8(\"0\") == None)\n",
    "    assert(exercise_8(-10) == -1)\n",
    "    assert(exercise_8(40) == 0)\n",
    "    assert(exercise_8(60) == 100)\n",
    "    print(\"solution is correct\")\n",
    "except AssertionError:\n",
    "    print(\"solution is incorrect\")"
   ]
  },
  {
   "cell_type": "markdown",
   "metadata": {},
   "source": [
    "### Exercise 9\n",
    "\n",
    "Create a decorator function that wraps the following function so that when you call `exercise_9`, the following is printed:\n",
    "\n",
    "```\n",
    "###############\n",
    "# hello world #\n",
    "###############\n",
    "\n",
    "```"
   ]
  },
  {
   "cell_type": "code",
   "execution_count": null,
   "metadata": {},
   "outputs": [],
   "source": [
    "\n",
    "\n",
    "def exercise_9():\n",
    "    return \"hello world\"\n",
    "\n",
    "exercise_9()"
   ]
  },
  {
   "cell_type": "markdown",
   "metadata": {},
   "source": [
    "### Exercise 10\n",
    "\n",
    "Using list comprehension, create a list with the following output:\n",
    "\n",
    "```\n",
    "[1, 4, 9, 16, 25, 36, 49, 64, 81]\n",
    "```\n",
    "\n",
    "Assign it to `exercise_10`"
   ]
  },
  {
   "cell_type": "code",
   "execution_count": null,
   "metadata": {},
   "outputs": [],
   "source": [
    "exercise_10 = None\n",
    "\n",
    "try:\n",
    "    assert(exercise_10 == [1, 4, 9, 16, 25, 36, 49, 64, 81])\n",
    "    print(\"solution is correct\")\n",
    "except AssertionError:\n",
    "    print(\"solution is incorrect\")"
   ]
  },
  {
   "cell_type": "markdown",
   "metadata": {},
   "source": [
    "### Exercise 11\n",
    "\n",
    "Create a dictionary comprehension that generates the following dictionary:\n",
    "```\n",
    "{0:'a', 1:'b', 2:'c', 3:'d', 4:'e'}\n",
    "```\n",
    "\n",
    "Assign the dictionary to `exercise_11`."
   ]
  },
  {
   "cell_type": "code",
   "execution_count": null,
   "metadata": {},
   "outputs": [],
   "source": [
    "exercise_11 = None\n",
    "\n",
    "try:\n",
    "    assert(exercise_11 == {0:'a', 1:'b', 2:'c', 3:'d', 4:'e'})\n",
    "    print(\"solution is correct\")\n",
    "except AssertionError:\n",
    "    print(\"solution is incorrect\")"
   ]
  },
  {
   "cell_type": "markdown",
   "metadata": {},
   "source": [
    "### Exercise 12\n",
    "\n",
    "Create a lambda expression that takes `a`, `b`, `c` and `x` and calculates the following: \n",
    "\n",
    "$$  ax^2 + bx + c $$"
   ]
  },
  {
   "cell_type": "code",
   "execution_count": null,
   "metadata": {},
   "outputs": [],
   "source": [
    "f = None\n",
    "\n",
    "try:\n",
    "    assert(f(0,0,0,0) == 0)\n",
    "    assert(f(0,0,0,2) == 0)\n",
    "    assert(f(0,1,0,0) == 0)\n",
    "    assert(f(3,0,0,0) == 0)\n",
    "    assert(f(0,5,0,0) == 0)\n",
    "    assert(f(2,1,0,2) == 10)\n",
    "    assert(f(5,0,0,2) == 20)\n",
    "    assert(f(5,3,4,2) == 30)\n",
    "    print(\"solution is correct\")\n",
    "except:\n",
    "    print(\"solution is incorrect\")"
   ]
  },
  {
   "cell_type": "markdown",
   "metadata": {},
   "source": [
    "### Exercise 13\n",
    "\n",
    "Using the lambda function from the previous exercise. Create a ternary operatory that sets `solution_possible` to `True` when the result of that lambda function is equal to zero. Otherwise, `solution_possible` should be `False`."
   ]
  },
  {
   "cell_type": "code",
   "execution_count": null,
   "metadata": {},
   "outputs": [],
   "source": [
    "# try the following to check your solution\n",
    "\n",
    "# using these values for f(a,b,c,x) == 0\n",
    "# a = 6\n",
    "# b = 2\n",
    "# c = -20\n",
    "# x = -2\n",
    "\n",
    "# using these values for f(a,b,c,x) != 0\n",
    "# a = 2\n",
    "# b = 1\n",
    "# c = 0 \n",
    "# d = 2\n",
    "\n",
    "# print(f(a,b,c,x))\n",
    "\n",
    "solution_possible = None\n",
    "\n",
    "print(solution_possible)"
   ]
  },
  {
   "cell_type": "markdown",
   "metadata": {},
   "source": [
    "### Exercise 14\n",
    "\n",
    "The Towers of Hanoi is a mathematical puzzle whose solution can be found using recursion. There are three pegs which can hold stacks of disks of different diameters. A larger disk may never be stacked on top of a smaller. Starting with n disks on one peg, they must be moved to another peg one at a time.\n",
    "\n",
    "Write a function that calculates the smallest number of steps to move the stack.\n",
    "\n",
    "\n",
    "\n",
    "To calculate this, use the following function:\n",
    "\n",
    "\n",
    "$$ \\begin{equation*}\n",
    "\\text{hanoi}(n) = \\left\\{\n",
    "        \\begin{array}{ll}\n",
    "            1 & \\quad \\text{if} \\, n = 1 \\\\\n",
    "            2 * \\text{hanoi}(n-1) + 1 & \\quad \\text{if} \\, n > 1\n",
    "        \\end{array}\n",
    "    \\right.\n",
    "\\end{equation*} $$"
   ]
  },
  {
   "cell_type": "code",
   "execution_count": null,
   "metadata": {},
   "outputs": [],
   "source": [
    "def hanoi(n):\n",
    "    pass\n",
    "    \n",
    "try:\n",
    "    assert(hanoi(1) == 1)\n",
    "    assert(hanoi(4) == 15)\n",
    "    assert(hanoi(15) == 32767)\n",
    "    print(\"solution is correct\")\n",
    "except AssertionError:\n",
    "    print(\"solution is incorrect\")"
   ]
  },
  {
   "cell_type": "markdown",
   "metadata": {},
   "source": [
    "#### Exercise 15\n",
    "\n",
    "Write a function that creates a domain name given a `subdomain`, a `domain`, a `tld` and a boolean for `secure`.\n",
    "\n",
    "Use the following arguments:\n",
    "\n",
    "```\n",
    "domain - a string given as input\n",
    "subdomain - either a string given as input or \"www\" by default\n",
    "tld - either a  string given as input or \"com\" (as in .com) by default\n",
    "secure - boolean argument that sets \"https\" if 'secure' is true otherwise use \"http\"\n",
    "```\n",
    "examples:\n",
    "```\n",
    "make_url(\"google\") -> \"https://www.google.com\"\n",
    "make_url(\"example\", subdomain=None, tld=\"com\", secure=False) -> \"http://example.com\"\n",
    "make_url(\"theknowledgehouse\", tld=\"org\", secure=True) -> \"https://www.theknowledgehouse.org\"\n",
    "```\n",
    "\n",
    "Note: A subdomain is optional but providing one means you need to add a period between the subdomain and the domain. So if a subdomain is `None`, you do NOT want to add a period after it. If one is provided, you DO."
   ]
  },
  {
   "cell_type": "code",
   "execution_count": null,
   "metadata": {},
   "outputs": [],
   "source": [
    "def make_url():\n",
    "    pass\n",
    "\n",
    "try:\n",
    "    assert(make_url(\"google\") == \"https://www.google.com\")\n",
    "    assert(make_url(\"example\", subdomain=None, tld=\"com\", secure=False) == \"http://example.com\")\n",
    "    assert(make_url(\"theknowledgehouse\", tld=\"org\", secure=True) == \"https://www.theknowledgehouse.org\")\n",
    "    print(\"solution is correct\")\n",
    "except AssertionError:\n",
    "    print(\"solution is incorrect\")"
   ]
  },
  {
   "cell_type": "markdown",
   "metadata": {},
   "source": [
    "### Exercise 16\n",
    "\n",
    "Create a function that creates a `n` by `n` matrix (`n` rows and `n` columns) filled with zeros."
   ]
  },
  {
   "cell_type": "code",
   "execution_count": null,
   "metadata": {},
   "outputs": [],
   "source": [
    "def exercise_16(n):\n",
    "    pass\n",
    "\n",
    "try:\n",
    "    assert(exercise_16(1) == [[0]])\n",
    "    assert(exercise_16(2) == [[0, 0], [0, 0]])\n",
    "    assert(exercise_16(3) == [[0, 0, 0], [0, 0, 0], [0, 0, 0]])\n",
    "    assert(exercise_16(4) == [[0, 0, 0, 0], [0, 0, 0, 0], [0, 0, 0, 0], [0, 0, 0, 0]])\n",
    "    print(\"solution is correct\")\n",
    "except AssertionError:\n",
    "    print(\"solution is incorrect\")"
   ]
  },
  {
   "cell_type": "markdown",
   "metadata": {},
   "source": [
    "### Exercise 17\n",
    "\n",
    "Create a function that takes an arbitrary number of keyword arguments and returns list of two-tuples containing their key-value pairs."
   ]
  },
  {
   "cell_type": "code",
   "execution_count": null,
   "metadata": {},
   "outputs": [],
   "source": [
    "def exercise_17(**kwargs):\n",
    "    pass\n",
    "\n",
    "try:\n",
    "    assert(exercise_17(a=0) == [('a', 0)])\n",
    "    assert(exercise_17(a=0, b=1) == [('a', 0), ('b', 1)])\n",
    "    assert(exercise_17(a=0, b=1, c=2) == [('a', 0), ('b', 1), ('c', 2)])\n",
    "    print(\"solution is correct\")\n",
    "except AssertionError:\n",
    "    print(\"solution is incorrect\")"
   ]
  },
  {
   "cell_type": "markdown",
   "metadata": {},
   "source": [
    "### Exercise 18\n",
    "\n",
    "Given the following list, use slicing to output the second half backwards. Assign it to `exercise_18`.\n",
    "\n",
    "Hint: start by outputting the list backwards."
   ]
  },
  {
   "cell_type": "code",
   "execution_count": null,
   "metadata": {},
   "outputs": [],
   "source": [
    "lst = [\"a\", \"b\", \"c\", 1, 2, 3]\n",
    "\n",
    "exercise_18 = lst\n",
    "\n",
    "\n",
    "try:\n",
    "    assert(exercise_18 == [3, 2, 1])\n",
    "    print(\"solution is correct\")\n",
    "except AssertionError:\n",
    "    print(\"solution is incorrect\")"
   ]
  },
  {
   "cell_type": "markdown",
   "metadata": {},
   "source": [
    "### Exercise 19\n",
    "\n",
    "Add a method called `from_full_name` to the following function so that we are able to create an instance of the class by passing the a full name (string of first and last name separated by a space). Do not remove anything that already exists. Then create an instance using that method."
   ]
  },
  {
   "cell_type": "code",
   "execution_count": null,
   "metadata": {},
   "outputs": [],
   "source": [
    "import inspect # this is necessary for checking your answer - ignore\n",
    "\n",
    "class Person:\n",
    "    pass\n",
    "\n",
    "try:\n",
    "    p = Person.from_full_name(\"A P\")\n",
    "    assert(getattr(p, 'first_name', None) == \"A\")\n",
    "    assert(getattr(p, 'last_name', None) == \"P\")\n",
    "    assert(inspect.ismethod(Person.from_full_name) and Person.from_full_name.__self__ is Person)\n",
    "    print(\"solution should probably be correct (not guaranteed)\")\n",
    "except AssertionError:\n",
    "    print(\"solution is incorrect\")  "
   ]
  },
  {
   "cell_type": "markdown",
   "metadata": {},
   "source": [
    "### Exercise 20\n",
    "\n",
    "Create a function that at worst executes in constant time."
   ]
  },
  {
   "cell_type": "code",
   "execution_count": null,
   "metadata": {},
   "outputs": [],
   "source": []
  }
 ],
 "metadata": {
  "kernelspec": {
   "display_name": "Python 3",
   "language": "python",
   "name": "python3"
  },
  "language_info": {
   "codemirror_mode": {
    "name": "ipython",
    "version": 3
   },
   "file_extension": ".py",
   "mimetype": "text/x-python",
   "name": "python",
   "nbconvert_exporter": "python",
   "pygments_lexer": "ipython3",
   "version": "3.9.0"
  }
 },
 "nbformat": 4,
 "nbformat_minor": 4
}
