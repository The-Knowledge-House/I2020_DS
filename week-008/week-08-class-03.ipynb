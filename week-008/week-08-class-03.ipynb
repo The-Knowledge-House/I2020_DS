{
 "cells": [
  {
   "cell_type": "markdown",
   "metadata": {},
   "source": [
    "<div style=\"background: #000;\n",
    "            color: #FFF;\n",
    "            margin: 0px;\n",
    "                padding: 10px 0px 20px 0px;\n",
    "            text-align: center; \n",
    "                \">\n",
    "    <h1>Week 8 - Class 3 - 11/04</h1>\n",
    "</div>\n",
    "\n",
    "## Objectives for this week:\n",
    "* HTML/CSS Review\n",
    "* RLLib3/BS4\n",
    "* Web Crawling\n",
    "* JSON data in Python\n",
    "* Reading/Writing to Files\n",
    "\n",
    "## Today's Agenda\n",
    "* JSON data in Python\n",
    "* Reading/Writing to Files"
   ]
  },
  {
   "cell_type": "markdown",
   "metadata": {},
   "source": [
    "# Homework Presentations"
   ]
  },
  {
   "cell_type": "markdown",
   "metadata": {},
   "source": [
    "# Exercise 3"
   ]
  },
  {
   "cell_type": "markdown",
   "metadata": {},
   "source": [
    "Create a script that will do the following:\n",
    "\n",
    "if you ran the script with an arbitrary amount of strings:\n",
    "```bash\n",
    "$ python your-name-ex3-script.py word1 word2 word3\n",
    "\n",
    "```\n",
    "\n",
    "the script would produce a file in the same directory called `output.html` with the following text:\n",
    "\n",
    "```\n",
    "<body>\n",
    "word1 word2 word3\n",
    "</body>\n",
    "\n",
    "```\n",
    "\n",
    "Submit your script. Not necessary to submit `output.html` file."
   ]
  },
  {
   "cell_type": "code",
   "execution_count": null,
   "metadata": {},
   "outputs": [],
   "source": []
  },
  {
   "cell_type": "markdown",
   "metadata": {},
   "source": [
    "# Walrus operators\n",
    "\n",
    "python 3.8 or above only\n",
    "check with:\n",
    "\n"
   ]
  },
  {
   "cell_type": "code",
   "execution_count": null,
   "metadata": {},
   "outputs": [],
   "source": [
    "!python --version"
   ]
  },
  {
   "cell_type": "code",
   "execution_count": null,
   "metadata": {},
   "outputs": [],
   "source": [
    "s = \"4\"\n",
    "\n",
    "# without walrus example\n",
    "int_s = int(s)\n",
    "if int_s < 10:\n",
    "    print(int_s + 5)\n",
    "\n",
    "# walrus example\n",
    "if (int_s := int(s)) < 10:\n",
    "    print(int_s + 5)"
   ]
  },
  {
   "cell_type": "markdown",
   "metadata": {},
   "source": [
    "# JSON Data in python\n",
    "\n",
    "python has a standard library module for json"
   ]
  },
  {
   "cell_type": "code",
   "execution_count": 2,
   "metadata": {},
   "outputs": [],
   "source": [
    "import json"
   ]
  },
  {
   "cell_type": "markdown",
   "metadata": {},
   "source": [
    "#### `json.dump(data, file)`"
   ]
  },
  {
   "cell_type": "code",
   "execution_count": null,
   "metadata": {},
   "outputs": [],
   "source": [
    "data = {\n",
    "    \"this\": [0,1,2,3],\n",
    "    \"is\" : True,\n",
    "    \"our\" : 10,\n",
    "    \"data\": \"string\"\n",
    "}\n",
    "\n",
    "with open(\"data_file.json\", \"w\") as file:\n",
    "    json.dump(data, file, indent=4)"
   ]
  },
  {
   "cell_type": "markdown",
   "metadata": {},
   "source": [
    "#### `json.loads(json_string)`"
   ]
  },
  {
   "cell_type": "code",
   "execution_count": null,
   "metadata": {},
   "outputs": [],
   "source": [
    "json_string = \"\"\"\n",
    "{\n",
    "    \"researcher\": {\n",
    "        \"name\": \"Ford Prefect\",\n",
    "        \"species\": \"Betelgeusian\",\n",
    "        \"relatives\": [\n",
    "            {\n",
    "                \"name\": \"Zaphod Beeblebrox\",\n",
    "                \"species\": \"Betelgeusian\"\n",
    "            }\n",
    "        ]\n",
    "    }\n",
    "}\n",
    "\"\"\"\n",
    "\n",
    "data = json.loads(json_string)\n",
    "data"
   ]
  },
  {
   "cell_type": "code",
   "execution_count": null,
   "metadata": {},
   "outputs": [],
   "source": [
    "s = None\n",
    "\n",
    "with open(\"data_file.json\", \"r\") as file:\n",
    "    s = json.load(file)\n",
    "\n",
    "print(s)\n",
    "print(type(s))"
   ]
  },
  {
   "cell_type": "markdown",
   "metadata": {},
   "source": [
    "#### using it with request"
   ]
  },
  {
   "cell_type": "code",
   "execution_count": null,
   "metadata": {
    "scrolled": true
   },
   "outputs": [],
   "source": [
    "import requests\n",
    "\n",
    "response = requests.get(\"https://jsonplaceholder.typicode.com/todos\")\n",
    "todos = json.loads(response.text)\n",
    "todos"
   ]
  },
  {
   "cell_type": "code",
   "execution_count": null,
   "metadata": {},
   "outputs": [],
   "source": [
    "# "
   ]
  },
  {
   "cell_type": "code",
   "execution_count": null,
   "metadata": {},
   "outputs": [],
   "source": [
    "li[]"
   ]
  },
  {
   "cell_type": "code",
   "execution_count": null,
   "metadata": {},
   "outputs": [],
   "source": [
    "url = \"https://www.theknowledgehouse.org\""
   ]
  },
  {
   "cell_type": "code",
   "execution_count": null,
   "metadata": {},
   "outputs": [],
   "source": [
    "import requests\n",
    "from bs4 import BeautifulSoup"
   ]
  },
  {
   "cell_type": "code",
   "execution_count": null,
   "metadata": {},
   "outputs": [],
   "source": [
    "r = requests.get(url)\n",
    "soup = BeautifulSoup(r.text)"
   ]
  },
  {
   "cell_type": "code",
   "execution_count": null,
   "metadata": {
    "scrolled": true
   },
   "outputs": [],
   "source": [
    "a_tags = soup.find_all('a')\n",
    "a_tags"
   ]
  },
  {
   "cell_type": "code",
   "execution_count": null,
   "metadata": {},
   "outputs": [],
   "source": [
    "# filter a tags\n",
    "links = []\n",
    "for anchor in a_tags:\n",
    "    try:\n",
    "        if (link := anchor['href']).startswith('http'):\n",
    "            links.append(link)\n",
    "        else:\n",
    "            links.append(url + link)\n",
    "    except KeyError:\n",
    "        continue\n",
    "\n",
    "for link in links:\n",
    "    print(link)"
   ]
  },
  {
   "cell_type": "code",
   "execution_count": null,
   "metadata": {},
   "outputs": [],
   "source": [
    "# create functions\n",
    "\n",
    "from bs4 import BeautifulSoup\n",
    "import requests\n",
    "\n",
    "def get_links(url):\n",
    "    resp = requests.get(url)\n",
    "    soup = BeautifulSoup(resp.text)\n",
    "    a_tags = soup.find_all('a')\n",
    "    links = []\n",
    "    for anchor in a_tags:\n",
    "        try:\n",
    "            if (link := anchor['href']).startswith('http'):\n",
    "                links.append(link)\n",
    "            else:\n",
    "                links.append(url + link)\n",
    "        except KeyError:\n",
    "            continue\n",
    "    return links\n",
    "\n",
    "get_links('http://www.google.com')"
   ]
  },
  {
   "cell_type": "code",
   "execution_count": null,
   "metadata": {},
   "outputs": [],
   "source": [
    "from bs4 import BeautifulSoup\n",
    "import requests\n",
    "\n",
    "class Crawler:\n",
    "    def __init__(self, url):\n",
    "        self.url = url\n",
    "        self.link_set = {url}\n",
    "        self.links = [url]\n",
    "        \n",
    "    def start(self):\n",
    "        print(\"starting crawler\")\n",
    "        self.soup = self.url_to_soup()\n",
    "        self.links += self.find_links()\n",
    "        self.handle_links()\n",
    "    \n",
    "    def handle_links(self):\n",
    "        print(\"handling links\")\n",
    "        for link in self.links:\n",
    "            print(f\"processing {link}\")\n",
    "            if not link in self.link_set:\n",
    "                self.url = link\n",
    "                self.soup = self.url_to_soup()\n",
    "                self.links += self.find_links()\n",
    "                self.link_set.add(self.url)      \n",
    "\n",
    "    def url_to_soup(self, type_='GET'):\n",
    "        if type_ == 'GET':\n",
    "            resp = requests.get(self.url)\n",
    "        else:\n",
    "            resp = requests.Response()\n",
    "        return BeautifulSoup(resp.text)\n",
    "\n",
    "    def find_links(self):\n",
    "        a_tags = self.soup.find_all('a')\n",
    "        links = []\n",
    "        for anchor in a_tags:\n",
    "            try:\n",
    "                if (link := anchor['href']).startswith('http'):\n",
    "                    links.append(link)\n",
    "            except KeyError:\n",
    "                continue\n",
    "        return links\n",
    "\n",
    "spidey = Crawler('https://www.theknowledgehouse.org')\n",
    "print(spidey.links)\n",
    "spidey.start()"
   ]
  },
  {
   "cell_type": "markdown",
   "metadata": {},
   "source": [
    "#### Notes:\n",
    "\n",
    "This is the logic behind the crawler"
   ]
  },
  {
   "cell_type": "code",
   "execution_count": null,
   "metadata": {},
   "outputs": [],
   "source": [
    "import time\n",
    "\n",
    "s = [0]\n",
    "for i in s:\n",
    "    print(i)\n",
    "    s.append(i+1)\n",
    "    time.sleep(1)"
   ]
  },
  {
   "cell_type": "code",
   "execution_count": null,
   "metadata": {},
   "outputs": [],
   "source": [
    "# More on Web Scraping\n",
    "\n",
    "html = \\\n",
    "\"\"\"\n",
    "<body>\n",
    "  <h1>hello world</h1>\n",
    "  <ul>\n",
    "    <li><a class=\"nav-link\" href='#1'>link 1</a></li>\n",
    "    <li><a class=\"nav-link\" href='#2'>link 2</a></li>\n",
    "    <li><a class=\"nav-link\" href='#3'>link 3</a></li>\n",
    "  </ul>\n",
    "  <p>some text</p>\n",
    "</body>\n",
    "\"\"\""
   ]
  },
  {
   "cell_type": "code",
   "execution_count": null,
   "metadata": {},
   "outputs": [],
   "source": []
  },
  {
   "cell_type": "code",
   "execution_count": null,
   "metadata": {},
   "outputs": [],
   "source": [
    "# Web Scraping Code Along"
   ]
  },
  {
   "cell_type": "code",
   "execution_count": null,
   "metadata": {},
   "outputs": [],
   "source": [
    "import requests\n",
    "from bs4 import BeautifulSoup"
   ]
  },
  {
   "cell_type": "code",
   "execution_count": null,
   "metadata": {},
   "outputs": [],
   "source": []
  },
  {
   "cell_type": "markdown",
   "metadata": {},
   "source": [
    "# Required reading for next week:\n",
    "\n",
    "Pep 8 Style Guide  \n",
    "https://pep8.org/  \n",
    "https://www.python.org/dev/peps/pep-0008/  \n",
    "\n",
    "Web Applications & Frameworks from 'The Hitchhiker's Guide to Python'  \n",
    "https://docs.python-guide.org/scenarios/web/  \n",
    "https://docs.python-guide.org/ (web version is free)  "
   ]
  },
  {
   "cell_type": "markdown",
   "metadata": {},
   "source": [
    "<div style=\"background: #000;\n",
    "            color: #FFF;\n",
    "            margin: 0px;\n",
    "                padding: 10px 0px 20px 0px;\n",
    "            text-align: center; \n",
    "                \">\n",
    "    <h1>Lab</h1>\n",
    "</div>\n"
   ]
  },
  {
   "cell_type": "markdown",
   "metadata": {},
   "source": [
    "# Exercise 1\n",
    "\n",
    "Complete the following code to print the tag: \n",
    "\n",
    "`<a href=\"https:///www.duckduckgo\">duckduckgo</a>`"
   ]
  },
  {
   "cell_type": "code",
   "execution_count": null,
   "metadata": {},
   "outputs": [],
   "source": [
    "html = \\\n",
    "\"\"\"\n",
    "<body>\n",
    "  <h1>hello world</h1>\n",
    "  <ul>\n",
    "    <li><a href=\"#link1\">link 1</a></li>\n",
    "    <li><a href=\"#link2\">link 2</a></li>\n",
    "    <li><a href=\"#link3\">link 3</a></li>\n",
    "    <li><a href=\"#link4\">link 4</a></li>\n",
    "    <li><a href=\"#link5\">link 5</a></li>\n",
    "  </ul>\n",
    "  <p>some text</p>\n",
    "  <div>\n",
    "    <p>links\n",
    "      <a href=\"https:///www.duckduckgo\">duckduckgo</a>\n",
    "    </p>\n",
    "  </div>\n",
    "</body>\n",
    "\n",
    "\"\"\"\n",
    "### enter your code below"
   ]
  },
  {
   "cell_type": "code",
   "execution_count": null,
   "metadata": {},
   "outputs": [],
   "source": [
    "# Exercise 2\n",
    "\n"
   ]
  }
 ],
 "metadata": {
  "kernelspec": {
   "display_name": "Python 3",
   "language": "python",
   "name": "python3"
  },
  "language_info": {
   "codemirror_mode": {
    "name": "ipython",
    "version": 3
   },
   "file_extension": ".py",
   "mimetype": "text/x-python",
   "name": "python",
   "nbconvert_exporter": "python",
   "pygments_lexer": "ipython3",
   "version": "3.8.6"
  }
 },
 "nbformat": 4,
 "nbformat_minor": 4
}
