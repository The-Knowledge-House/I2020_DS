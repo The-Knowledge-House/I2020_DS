{
 "cells": [
  {
   "cell_type": "markdown",
   "metadata": {},
   "source": [
    "<div style=\"background: #000;\n",
    "            color: #FFF;\n",
    "            margin: 0px;\n",
    "                padding: 10px 0px 20px 0px;\n",
    "            text-align: center; \n",
    "                \">\n",
    "    <h1>Week 8 Homework</h1>\n",
    "</div>"
   ]
  },
  {
   "cell_type": "markdown",
   "metadata": {},
   "source": [
    "# Exercise 1:\n",
    "\n",
    "Fix the following code:"
   ]
  },
  {
   "cell_type": "code",
   "execution_count": null,
   "metadata": {},
   "outputs": [],
   "source": [
    "import requests\n",
    "from bs4 import BeautifulSoup                                              \n",
    "\n",
    "class Scraper:\n",
    "    def __init__(self, url):\n",
    "        self.url = url\n",
    "        \n",
    "    def do_request(self):\n",
    "        r = requests.get(self.url)\n",
    "        self.headers = r.headers\n",
    "        self.text = r.text\n",
    "    \n",
    "    def set_soup(self):\n",
    "        self.soup = BeautifulSoup(self.text)\n",
    "        \n",
    "    def scrape(self):\n",
    "        self.do_request()\n",
    "        self.set_soup()\n",
    "\n",
    "    def title(self):\n",
    "        \"\"\"\n",
    "        this function is meant to:\n",
    "          - return the title of the \n",
    "            page (without the tags)\n",
    "        \"\"\"\n",
    "        pass\n",
    "    \n",
    "    def header(self):\n",
    "        \"\"\"\n",
    "        this function is meant to:\n",
    "          - access the header of the page\n",
    "          - print the headers in a human\n",
    "            readable format\n",
    "        \"\"\"\n",
    "        pass\n",
    "\n",
    "# DO NOT change the following code.\n",
    "# Your changes to the code above should allow\n",
    "# the code below to work without error.\n",
    "# hint: @\n",
    "s = Scraper('http://www.theknowledgehouse.org')\n",
    "print(s.title)\n",
    "print(s.header)"
   ]
  }
 ],
 "metadata": {
  "kernelspec": {
   "display_name": "Python 3",
   "language": "python",
   "name": "python3"
  },
  "language_info": {
   "codemirror_mode": {
    "name": "ipython",
    "version": 3
   },
   "file_extension": ".py",
   "mimetype": "text/x-python",
   "name": "python",
   "nbconvert_exporter": "python",
   "pygments_lexer": "ipython3",
   "version": "3.8.6"
  }
 },
 "nbformat": 4,
 "nbformat_minor": 4
}
