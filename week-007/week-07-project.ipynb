{
 "cells": [
  {
   "cell_type": "markdown",
   "metadata": {},
   "source": [
    "# Week 6 + 7 Project\n",
    "\n",
    "#### See Week 6 project for more information."
   ]
  },
  {
   "cell_type": "markdown",
   "metadata": {},
   "source": [
    "Take your class from Week 6 project and create a command line script that runs your rock-paper-scissor game.\n",
    "\n",
    "Fix the following code and put it into your script."
   ]
  },
  {
   "cell_type": "code",
   "execution_count": null,
   "metadata": {},
   "outputs": [],
   "source": [
    "class RockPaperScissor:\n",
    "    def __init__(self, rounds=3):\n",
    "        self.rounds = rounds\n",
    "    \n",
    "    def computers_turn(self):\n",
    "        choices = {\n",
    "            0: 'rock',\n",
    "            1: 'paper',\n",
    "            2: 'scissor'\n",
    "        }\n",
    "        turn = random.randint(0,2)\n",
    "        return (turn, choices[turn])\n",
    "    \n",
    "    def your_turn(self):\n",
    "        pass\n",
    "    \n",
    "    def compare_turns(self):\n",
    "        pass\n",
    "    \n",
    "    def won_round(self):\n",
    "        pass\n",
    "    \n",
    "    def run(self):\n",
    "        print('running RPS:')\n",
    "        pass\n",
    "    \n",
    "if __name__ == '__main__':\n",
    "    rps = RockPaperScissor()\n",
    "    rps.run()"
   ]
  },
  {
   "cell_type": "markdown",
   "metadata": {},
   "source": [
    "**hint:** Consider the following cells"
   ]
  },
  {
   "cell_type": "code",
   "execution_count": null,
   "metadata": {},
   "outputs": [],
   "source": [
    "rock = 0\n",
    "paper = 1\n",
    "scissor = 2\n",
    "\n",
    "print(\"same values are ties: \")\n",
    "# if the values are the same, it's a tie\n",
    "print(rock == rock)\n",
    "print(paper == paper)\n",
    "print(scissor == scissor)\n",
    "\n",
    "print(\"situations where you lose:\")\n",
    "# if you choose rock and the computer chooses paper\n",
    "print(rock + 1 == paper)\n",
    "# if you choose paper and the computer chooses scissors\n",
    "print(paper + 1 == scissor)\n",
    "# if you choose scissors and the computer chooses rock\n",
    "print(scissor + 1 == rock) # wait, this is False though!\n",
    "\n",
    "# if your opponents choice is not one above yours\n",
    "# or if not the same as yours, the only other option\n",
    "# is the losing option:\n",
    "\n",
    "print(\"the three outcomes for any particular choice\")\n",
    "your_choice = paper # you choose paper\n",
    "print(your_choice == paper) # paper ties with paper\n",
    "print(your_choice + 1 == scissor) # paper loses to scissors\n",
    "# the only other choice option is rock\n",
    "# (remember: your \"opponent\" is a computer that can\n",
    "# only choose from 0,1, and 2)"
   ]
  },
  {
   "cell_type": "markdown",
   "metadata": {},
   "source": [
    "If you notice in the past cell, we have a problem:\n",
    "\n",
    "`scissors + 1 == rock` checks \"2 + 1 == 0\" which is \"3 == 0\" or `False`.\n",
    "\n",
    "But technically 0 is correct. Rock beats scissors. So we need a way that adds 1 to scissors (2) but within our cycle of 0-1-2 so instead of getting 3 which is not in our range, it cycles back around to 0. Then if we added 1 to scissors, we would get 0 (rock).\n",
    "\n",
    "Consider modulos. Try running the following cell.\n",
    "\n"
   ]
  },
  {
   "cell_type": "code",
   "execution_count": null,
   "metadata": {},
   "outputs": [],
   "source": [
    "nums = list(range(3))\n",
    "\n",
    "print(nums[0] + 1) \n",
    "print(nums[1] + 1)\n",
    "print(nums[2] + 1)\n",
    "print('\\n')\n",
    "print((nums[0]+1) % 3)\n",
    "print((nums[1]+1) % 3)\n",
    "print((nums[2]+1) % 3)"
   ]
  },
  {
   "cell_type": "code",
   "execution_count": null,
   "metadata": {},
   "outputs": [],
   "source": []
  }
 ],
 "metadata": {
  "kernelspec": {
   "display_name": "Python 3",
   "language": "python",
   "name": "python3"
  },
  "language_info": {
   "codemirror_mode": {
    "name": "ipython",
    "version": 3
   },
   "file_extension": ".py",
   "mimetype": "text/x-python",
   "name": "python",
   "nbconvert_exporter": "python",
   "pygments_lexer": "ipython3",
   "version": "3.8.6"
  }
 },
 "nbformat": 4,
 "nbformat_minor": 4
}
