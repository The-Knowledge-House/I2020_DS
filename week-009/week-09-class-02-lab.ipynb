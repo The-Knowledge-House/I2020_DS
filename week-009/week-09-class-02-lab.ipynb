{
 "cells": [
  {
   "cell_type": "markdown",
   "metadata": {},
   "source": [
    "<div style=\"background: #000;\n",
    "            color: #FFF;\n",
    "            margin: 0px;\n",
    "                padding: 10px 0px 20px 0px;\n",
    "            text-align: center; \n",
    "                \">\n",
    "    <h1>Week 9 - Class 2 - Lab</h1>\n",
    "</div>\n"
   ]
  },
  {
   "cell_type": "markdown",
   "metadata": {},
   "source": [
    "# Exercise 1\n",
    "\n",
    "#### Creating a git repo\n",
    "\n",
    "Set up git and a github account and then do the following:\n",
    "\n",
    "Create the folder for your repo. Change directories into the repo and use the command `git init`. This will initialize the new repo. Add the files from above and get your code to work. Then add each file using `git add`, try viewing the files changed using `git status`. If you're happy with the files added, create a commit using `git -m \"first commit: set up flask project\"`. Set up an empty github repo and then use the commands listed on the repo's page to add the remote `origin` so when you push your changes, it's pushed to the `origin`'s master branch. "
   ]
  },
  {
   "cell_type": "markdown",
   "metadata": {},
   "source": [
    "# Exercise 2\n",
    "\n",
    "Create a route that uses request to get some sort of data (think about what data you mentioned in `week-09-class-01-lab.ipynb`. Then using that same route, create the html to display the data on the frontend. When you're done, add those files you changed (you can see which files were changed using `git diff`) and then commit your changes to your repo. When finished, push your changes to the github repo using `git push origin master`.\n"
   ]
  },
  {
   "cell_type": "markdown",
   "metadata": {},
   "source": [
    "# Exercise 3\n",
    "\n",
    "Now that you're comfortable working with git. Customize the html/css for your page. Create the home page based on what you would like. This will eventually become your portfolio page so consider what you'll want to present to the world.\n",
    "\n",
    "When you're done, commit your work to your github repo and submit your link as your submission on google classroom."
   ]
  },
  {
   "cell_type": "code",
   "execution_count": null,
   "metadata": {},
   "outputs": [],
   "source": []
  }
 ],
 "metadata": {
  "kernelspec": {
   "display_name": "Python 3",
   "language": "python",
   "name": "python3"
  },
  "language_info": {
   "codemirror_mode": {
    "name": "ipython",
    "version": 3
   },
   "file_extension": ".py",
   "mimetype": "text/x-python",
   "name": "python",
   "nbconvert_exporter": "python",
   "pygments_lexer": "ipython3",
   "version": "3.8.6"
  }
 },
 "nbformat": 4,
 "nbformat_minor": 4
}
