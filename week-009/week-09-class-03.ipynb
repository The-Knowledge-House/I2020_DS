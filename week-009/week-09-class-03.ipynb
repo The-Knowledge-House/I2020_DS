{
 "cells": [
  {
   "cell_type": "markdown",
   "metadata": {},
   "source": [
    "<div style=\"background: #000;\n",
    "            color: #FFF;\n",
    "            margin: 0px;\n",
    "                padding: 10px 0px 20px 0px;\n",
    "            text-align: center; \n",
    "                \">\n",
    "    <h1>Week 9 - Class 3 - 11/11</h1>\n",
    "</div>\n",
    "\n",
    "## Today's agenda:\n",
    "* Serving HTML with Flask"
   ]
  },
  {
   "cell_type": "markdown",
   "metadata": {},
   "source": [
    "<div style=\"background: #000;\n",
    "            color: #FFF;\n",
    "            margin: 0px;\n",
    "                padding: 10px 0px 20px 0px;\n",
    "            text-align: center; \n",
    "                \">\n",
    "    <h1>Week 8 Homework</h1>\n",
    "</div>"
   ]
  },
  {
   "cell_type": "markdown",
   "metadata": {},
   "source": [
    "# Exercise 3:\n",
    "\n",
    "Given a string s containing just the characters `'('`, `')'`, `'{'`, `'}'`, `'['` and `']'`, determine if the input string is valid.\n",
    "\n",
    "An input string is valid if:\n",
    "* Open brackets must be closed by the same type of brackets.\n",
    "* Open brackets must be closed in the correct order.\n",
    "\n",
    "test cases:\n",
    "```\n",
    "Input: s = \"()\"\n",
    "Output: True\n",
    "\n",
    "Input: s = \"()[]{}\"\n",
    "Output: True\n",
    "\n",
    "Input: s = \"(]\"\n",
    "Output: False\n",
    "\n",
    "# bonus\n",
    "\n",
    "Input: s = \"([)]\"\n",
    "Output: False\n",
    "\n",
    "Input: s = \"{[]}\"\n",
    "Output: True\n",
    "```"
   ]
  },
  {
   "cell_type": "markdown",
   "metadata": {},
   "source": [
    "# Handling errors with flask\n",
    "\n",
    "`@app.errorhandler` decorator or `app.register_error_handler`\n",
    "\n",
    "\n",
    "example:\n",
    "    \n",
    "```python\n",
    "from flask import Flask, render_template, request\n",
    "\n",
    "app = Flask(__name__)\n",
    "\n",
    "@app.errorhandler(404)\n",
    "def not_found(e):\n",
    "    return render_template(\"404.html\", error=e)\n",
    "    \n",
    "    \n",
    "\n",
    "```\n",
    "\n",
    "example 2:\n",
    "```python\n",
    "from flask import Flask, render_template, request\n",
    "\n",
    "app = Flask(__name__)\n",
    "\n",
    "def not_found(e):\n",
    "    return render_template(\"404.html\", error=e)\n",
    "    \n",
    "app.register_error_handler(404, not_found)\n",
    "\n",
    "```"
   ]
  },
  {
   "cell_type": "markdown",
   "metadata": {},
   "source": [
    "# Flask `request` object:\n",
    "\n",
    "When a user sends a request to your flask application, the request information is accessible for your route.\n",
    "\n",
    "```python\n",
    "from flask import Flask, render_template, request\n",
    "\n",
    "app = Flask(__name__)\n",
    "\n",
    "@app.route('/form', methods=[\"GET\", \"POST\"])\n",
    "def login():\n",
    "    if request.method == 'POST':\n",
    "        form_data = request.form\n",
    "        # handle form data to login\n",
    "        if user.logged_in:\n",
    "            return render_template(\"user.html\", user=user)\n",
    "    else:\n",
    "        return render_template(\"login.html\")\n",
    "    \n",
    "    \n",
    "\n",
    "```"
   ]
  },
  {
   "cell_type": "markdown",
   "metadata": {},
   "source": [
    "# Flask Resources:\n",
    "\n",
    "Flask Docs Tutorial:\n",
    "https://flask.palletsprojects.com/en/1.1.x/tutorial/\n",
    "\n",
    "Flask Basic Routes:\n",
    "https://riptutorial.com/flask/example/7981/basic-routes\n",
    "\n",
    "Flask Jinja Templating:\n",
    "https://www.tutorialspoint.com/flask/flask_templates.htm"
   ]
  },
  {
   "cell_type": "markdown",
   "metadata": {},
   "source": [
    "# More on Git\n",
    "\n",
    "[Git book](https://git-scm.com/book/en/v2)\n",
    "\n",
    "Git branching and merging:\n",
    "\n",
    "Try going over this and we'll see a real example in class on Monday.\n",
    "    \n",
    "https://git-scm.com/book/en/v2/Git-Branching-Basic-Branching-and-Merging"
   ]
  },
  {
   "cell_type": "code",
   "execution_count": null,
   "metadata": {},
   "outputs": [],
   "source": []
  }
 ],
 "metadata": {
  "kernelspec": {
   "display_name": "Python 3",
   "language": "python",
   "name": "python3"
  },
  "language_info": {
   "codemirror_mode": {
    "name": "ipython",
    "version": 3
   },
   "file_extension": ".py",
   "mimetype": "text/x-python",
   "name": "python",
   "nbconvert_exporter": "python",
   "pygments_lexer": "ipython3",
   "version": "3.8.6"
  }
 },
 "nbformat": 4,
 "nbformat_minor": 4
}
