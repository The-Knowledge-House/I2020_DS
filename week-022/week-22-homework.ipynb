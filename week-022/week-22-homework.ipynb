{
 "cells": [
  {
   "cell_type": "markdown",
   "metadata": {},
   "source": [
    "<div style=\"background: #000;\n",
    "            color: #FFF;\n",
    "            margin: 0px;\n",
    "            padding: 10px 0px 20px 0px;\n",
    "            text-align: center; \n",
    "                \">\n",
    "    <h1 >Week 22 Homework</h1>\n",
    "</div>"
   ]
  },
  {
   "cell_type": "code",
   "execution_count": null,
   "metadata": {},
   "outputs": [],
   "source": [
    "import numpy as np\n",
    "import pandas as pd\n",
    "import matplotlib.pyplot as plt\n",
    "import seaborn as sns"
   ]
  },
  {
   "cell_type": "markdown",
   "metadata": {},
   "source": [
    "# Exercise 1\n",
    "\n",
    "Given the following code and SQL table:"
   ]
  },
  {
   "cell_type": "code",
   "execution_count": null,
   "metadata": {},
   "outputs": [],
   "source": [
    "import sqlite3\n",
    "\n",
    "students = (\n",
    "    ('R', 100), ('E', 95), ('C', 97), \n",
    "    ('B', 100), ('A', 90), ('D', 30),\n",
    "    ('Z', 60), ('Q', 20), ('I', 70)\n",
    ")\n",
    "\n",
    "conn = sqlite3.connect('students.db')\n",
    "\n",
    "def with_conn(statement):\n",
    "    with conn:\n",
    "        cur = conn.cursor()\n",
    "        cur.execute(statement)\n",
    "        result = cur.fetchall()\n",
    "        if result:\n",
    "            print(result)"
   ]
  },
  {
   "cell_type": "markdown",
   "metadata": {},
   "source": [
    "a) Write the SQL statement that returns the name of students whose grade is higher than 85."
   ]
  },
  {
   "cell_type": "code",
   "execution_count": null,
   "metadata": {},
   "outputs": [],
   "source": [
    "with_conn('enter your SQL here')"
   ]
  },
  {
   "cell_type": "markdown",
   "metadata": {},
   "source": [
    "b) Write the SQL statement that returns the name of  students whose grade is lower than 70."
   ]
  },
  {
   "cell_type": "code",
   "execution_count": null,
   "metadata": {},
   "outputs": [],
   "source": [
    "with_conn('enter your SQL here')"
   ]
  },
  {
   "cell_type": "markdown",
   "metadata": {},
   "source": [
    "c) Write the SQL statement that returns the students whose grades were between 70 and 85. "
   ]
  },
  {
   "cell_type": "code",
   "execution_count": null,
   "metadata": {},
   "outputs": [],
   "source": [
    "with_conn('enter your SQL here')"
   ]
  },
  {
   "cell_type": "markdown",
   "metadata": {},
   "source": [
    "d) Write the SQL statement that returns the average grade of all students."
   ]
  },
  {
   "cell_type": "code",
   "execution_count": null,
   "metadata": {},
   "outputs": [],
   "source": [
    "with_conn('enter your SQL here')"
   ]
  },
  {
   "attachments": {
    "be49933c-8dac-4a3c-a8c8-772186a935c5.png": {
     "image/png": "[encoded data removed]"
    }
   },
   "cell_type": "markdown",
   "metadata": {},
   "source": [
    "# Exercise 2\n",
    "\n",
    "Given a square matrix `mat`, return the sum of the matrix diagonals.\n",
    "\n",
    "Only include the sum of all the elements on the primary diagonal and all the elements on the secondary diagonal that are not part of the primary diagonal.\n",
    "\n",
    "### **Example 1**:\n",
    "\n",
    "![image.png](attachment:be49933c-8dac-4a3c-a8c8-772186a935c5.png)\n",
    "\n",
    "**Input**: \n",
    "```\n",
    "mat = [[1,2,3],\n",
    "       [4,5,6],\n",
    "       [7,8,9]]\n",
    "```\n",
    "\n",
    "**Output**: 25  \n",
    "**Explanation**: Diagonals sum: 1 + 5 + 9 + 3 + 7 = 25  \n",
    "Notice that element mat[1][1] = 5 is counted only once.\n",
    "\n",
    "### **Example 2**:  \n",
    "\n",
    "**Input**:   \n",
    "```\n",
    "mat = [[1,1,1,1],\n",
    "       [1,1,1,1],\n",
    "       [1,1,1,1],\n",
    "       [1,1,1,1]]\n",
    "```\n",
    "**Output**: 8  \n",
    "\n",
    "### **Example 3**:\n",
    "\n",
    "**Input**: mat = [[5]]  \n",
    "**Output**: 5\n",
    "\n",
    " \n",
    "\n",
    "**Constraints**:  \n",
    "`n == mat.length == mat[i].length`  \n",
    "`1 <= n <= 100`  \n",
    "`1 <= mat[i][j] <= 100`  \n"
   ]
  },
  {
   "cell_type": "code",
   "execution_count": null,
   "metadata": {},
   "outputs": [],
   "source": [
    "from typing import List\n",
    "\n",
    "example_matrix: List[List[int]] = [[1,2,3],[4,5,6],[7,8,9]]\n",
    "\n",
    "def exercise1(mat: List[List[int]] = example_matrix) -> int:\n",
    "    pass"
   ]
  },
  {
   "cell_type": "code",
   "execution_count": null,
   "metadata": {},
   "outputs": [],
   "source": [
    "exercise1()"
   ]
  },
  {
   "cell_type": "code",
   "execution_count": null,
   "metadata": {},
   "outputs": [],
   "source": [
    "import unittest\n",
    "\n",
    "class Test(unittest.TestCase):\n",
    "    def test(self):\n",
    "        args = (\n",
    "            ([[5]], 5), ([[1,2,3],[4,5,6],[7,8,9]], 25), ([[1,1,1,1],[1,1,1,1],[1,1,1,1],[1,1,1,1]], 8), ([[7,3,1,9],[3,4,6,9],[6,9,6,6],[9,5,8,5]], 55), ([[2,10,5,10],[1,7,1,4],[2,6,5,3],[2,5,7,8]], 41),\n",
    "            ([[6,3,1,10,7,4],[4,10,1,9,5,10],[5,5,7,3,8,5],[2,7,6,4,7,6],[7,9,6,1,8,5],[1,7,9,5,8,4]], 67), ([[4,6,7],[2,9,4],[5,5,5]], 30), ([[7,9,8,6,3],[3,9,4,5,2],[8,1,10,4,10],[9,5,10,9,6],[7,2,4,10,8]], 63),\n",
    "            ([[10,16,1,7,20,5,2,15],[10,4,14,4,1,1,15,9],[5,14,14,13,1,8,14,2],[12,1,10,12,8,16,2,14],[1,10,9,15,19,10,8,1],[20,19,13,16,5,5,15,16],[17,15,9,10,10,14,4,1],[7,16,14,2,3,1,5,18]], 182),\n",
    "            ([[8,15,17,8,20,7],[5,11,16,14,14,19],[13,2,13,18,2,11],[20,3,1,5,2,1],[3,11,11,4,2,3],[11,17,14,8,2,4]], 105),\n",
    "        )\n",
    "        for arg, ret in args:\n",
    "            with self.subTest(arg=arg, ret=ret):\n",
    "                self.assertEqual(exercise1(arg), ret)\n",
    "\n",
    "unittest.main(argv=[''], verbosity=0, exit=False)"
   ]
  },
  {
   "cell_type": "markdown",
   "metadata": {},
   "source": [
    "# Exercise 3\n",
    "\n",
    "The probability of an event occuring is calculated as follows:\n",
    "\n",
    "$$P(\\texttt{event}) = \\frac{\\texttt{number of outcomes where event occurs}}{\\texttt{total number of outcomes}}$$\n",
    "\n",
    "We'd like to use this formula to calculate the probability of flipping a coin. We know when we flip a coin, there are exactly two possible outcomes. Getting a particular outcome (heads or tails) occurs with exactly 1 event (i.e. to get heads you must flip heads).\n",
    "\n",
    "Write a generalized probability function called `probability` that takes two inputs (`num_of_event_outcomes` and `num_of_total_outcomes`) and calculates the probability.\n",
    "\n",
    "Then use it to create a function called `probability_of_coin_flip` that calculates the probability of a coin flip reaching a particular outcome. (hint: consider currying)\n",
    "\n",
    "We'd like to find out what is the probability of flipping 10 **heads** from 12 total coin flips. To calculate this we must use the binomial distribution. The binomial distribution with parameters $k$, $n$ and $p$ is the discrete probability distribution of **the number of $k$ successes in a sequence of $n$ independent experiments with probability $p$**\n",
    "\n",
    "It's calculated using the following formula:\n",
    "\n",
    "$$ P(k;n,p) = P(X=k) = {n \\choose k} p^k(1-p)^{n-k} $$\n",
    "\n",
    "where: \n",
    "$$ k = \\texttt{number of successful events}$$\n",
    "$$ n = \\texttt{number of trials}$$\n",
    "$$ p = \\texttt{probability of event}$$\n",
    "\n",
    "We know the number of successful events are `10`, the number of trials is `12`, and the probability is given to us by `probability_of_coin_flip()`.\n",
    "\n",
    "We also know that $ {n \\choose k} $ is the choose function that's calculated using the following function:\n",
    "$${n \\choose k} = \\frac{n!}{(n-k)!} $$\n",
    "\n",
    "Write the code for the functions mentioned and use them to calculate the probability of getting exactly 10 heads from 12 coin flips. Show your answer in percent.\n",
    "\n",
    "hint: the `choose` or \"combination\" function is both part of the python standard library (`math.comb`) and the numpy library (`np.choose`)"
   ]
  },
  {
   "cell_type": "code",
   "execution_count": null,
   "metadata": {},
   "outputs": [],
   "source": [
    "import math \n",
    "\n",
    "def probability(num_of_event_outcomes, num_of_total_outcomes):\n",
    "    pass\n",
    "\n",
    "def probability_of_coin_flip():\n",
    "    pass\n",
    "\n",
    "def binomial_probability(k,n,p):\n",
    "    pass"
   ]
  },
  {
   "cell_type": "code",
   "execution_count": null,
   "metadata": {},
   "outputs": [],
   "source": [
    "probability_of_coin_flip()"
   ]
  },
  {
   "cell_type": "code",
   "execution_count": null,
   "metadata": {},
   "outputs": [],
   "source": [
    "binomial_probability(10,12,probability_of_coin_flip())"
   ]
  }
 ],
 "metadata": {
  "kernelspec": {
   "display_name": "Python 3",
   "language": "python",
   "name": "python3"
  },
  "language_info": {
   "codemirror_mode": {
    "name": "ipython",
    "version": 3
   },
   "file_extension": ".py",
   "mimetype": "text/x-python",
   "name": "python",
   "nbconvert_exporter": "python",
   "pygments_lexer": "ipython3",
   "version": "3.9.0"
  }
 },
 "nbformat": 4,
 "nbformat_minor": 5
}
